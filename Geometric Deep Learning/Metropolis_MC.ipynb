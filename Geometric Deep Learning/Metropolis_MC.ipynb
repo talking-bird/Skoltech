{
  "cells": [
    {
      "cell_type": "markdown",
      "source": [
        ""
      ],
      "metadata": {
        "id": "U_GqhOMhxkqi"
      },
      "id": "U_GqhOMhxkqi"
    },
    {
      "cell_type": "markdown",
      "source": [
        "## Import libraries"
      ],
      "metadata": {
        "id": "9WUW0UYS9hOb"
      },
      "id": "9WUW0UYS9hOb"
    },
    {
      "cell_type": "code",
      "source": [
        "!pip install numba-progress"
      ],
      "metadata": {
        "id": "z64ezAI5t25r",
        "colab": {
          "base_uri": "https://localhost:8080/"
        },
        "outputId": "abbfef2e-f543-4cdf-a5b1-62c184590a8f"
      },
      "id": "z64ezAI5t25r",
      "execution_count": 237,
      "outputs": [
        {
          "output_type": "stream",
          "name": "stdout",
          "text": [
            "Looking in indexes: https://pypi.org/simple, https://us-python.pkg.dev/colab-wheels/public/simple/\n",
            "Requirement already satisfied: numba-progress in /usr/local/lib/python3.7/dist-packages (0.0.3)\n",
            "Requirement already satisfied: tqdm in /usr/local/lib/python3.7/dist-packages (from numba-progress) (4.64.0)\n",
            "Requirement already satisfied: numpy in /usr/local/lib/python3.7/dist-packages (from numba-progress) (1.21.6)\n",
            "Requirement already satisfied: numba>=0.52 in /usr/local/lib/python3.7/dist-packages (from numba-progress) (0.55.2)\n",
            "Requirement already satisfied: llvmlite<0.39,>=0.38.0rc1 in /usr/local/lib/python3.7/dist-packages (from numba>=0.52->numba-progress) (0.38.1)\n",
            "Requirement already satisfied: setuptools in /usr/local/lib/python3.7/dist-packages (from numba>=0.52->numba-progress) (57.4.0)\n"
          ]
        }
      ]
    },
    {
      "cell_type": "code",
      "execution_count": 238,
      "metadata": {
        "id": "ad8b9ff7-dae8-4822-a396-35a68f2a3b66"
      },
      "outputs": [],
      "source": [
        "import numpy as np\n",
        "import matplotlib.pyplot as plt\n",
        "import numba as nb\n",
        "from numba import njit\n",
        "from tqdm import trange, tqdm\n",
        "from numba.typed import List\n",
        "\n",
        "import networkx as nx"
      ],
      "id": "ad8b9ff7-dae8-4822-a396-35a68f2a3b66"
    },
    {
      "cell_type": "markdown",
      "source": [
        "## Initialization and supplementary functions"
      ],
      "metadata": {
        "id": "9f1CqrFp9rHh"
      },
      "id": "9f1CqrFp9rHh"
    },
    {
      "cell_type": "code",
      "source": [
        "T = 300 # K\n",
        "def get_graph(file: str):\n",
        "    #read graph from file\n",
        "    G = nx.Graph()\n",
        "    with open(file) as f:\n",
        "        n, N = f.readline().split(' ') # n edges, N nodes\n",
        "        n, N = int(n), int(N)\n",
        "        G.add_nodes_from(np.arange(1,n+1))\n",
        "        for row in f:\n",
        "            node1, node2, weight = row.split(' ')\n",
        "            node1, node2, weight = int(node1), int(node2), float(weight)\n",
        "            G.add_weighted_edges_from([(node1, node2, weight)])\n",
        "        \n",
        "        assert nx.number_of_nodes(G) == n\n",
        "        assert nx.number_of_edges(G) == N\n",
        "    return G"
      ],
      "metadata": {
        "id": "O3_caNzTwAsA"
      },
      "id": "O3_caNzTwAsA",
      "execution_count": 239,
      "outputs": []
    },
    {
      "cell_type": "code",
      "source": [
        "def adj_matrix(G):\n",
        "    '''\n",
        "    adj: 2D adjacency matrix of a weighted graph\n",
        "    neighbors: list of lists of neighbors indexes from 0 to N-1\n",
        "    '''\n",
        "    adj = adj_matrix = nx.to_numpy_array(G)\n",
        "\n",
        "    neighbors = List()\n",
        "    for i in range(1, nx.number_of_nodes(G)+1):\n",
        "        neighbors_ = List([neighbor-1 for neighbor in nx.neighbors(G, i)])\n",
        "        # for numba to interpret the type of empty list\n",
        "        if len(neighbors_) == 0:\n",
        "            neighbors_ = List.empty_list(nb.int64)\n",
        "        neighbors.append(neighbors_)\n",
        "    return adj, neighbors"
      ],
      "metadata": {
        "id": "E9jPdbGWFG6l"
      },
      "id": "E9jPdbGWFG6l",
      "execution_count": 240,
      "outputs": []
    },
    {
      "cell_type": "code",
      "source": [
        "# example\n",
        "with open('test.txt', 'w') as f:\n",
        "    f.write('5 5\\n')\n",
        "    f.write('1 2 1\\n')\n",
        "    f.write('1 3 2\\n')\n",
        "    f.write('1 4 3\\n')\n",
        "    f.write('2 4 4.\\n')\n",
        "    f.write('3 4 6.\\n')\n",
        "G = get_graph('test.txt')\n",
        "\n",
        "adj, neighbors = adj_matrix(G)\n",
        "print('adjacency matrix')\n",
        "print(adj)\n",
        "print('neigbors')\n",
        "print(neighbors)"
      ],
      "metadata": {
        "colab": {
          "base_uri": "https://localhost:8080/"
        },
        "id": "rollaBODASnw",
        "outputId": "8d3c24e9-0e99-4dab-9f19-3154df28795e"
      },
      "id": "rollaBODASnw",
      "execution_count": 241,
      "outputs": [
        {
          "output_type": "stream",
          "name": "stdout",
          "text": [
            "adjacency matrix\n",
            "[[0. 1. 2. 3. 0.]\n",
            " [1. 0. 0. 4. 0.]\n",
            " [2. 0. 0. 6. 0.]\n",
            " [3. 4. 6. 0. 0.]\n",
            " [0. 0. 0. 0. 0.]]\n",
            "neigbors\n",
            "[[1, 2, 3, ...], [0, 3, ...], [0, 3, ...], [0, 1, 2, ...], [, ...], ...]\n"
          ]
        }
      ]
    },
    {
      "cell_type": "code",
      "execution_count": 242,
      "metadata": {
        "id": "3380855e-26c8-459a-b71f-5eb36cea80a5"
      },
      "outputs": [],
      "source": [
        "def system_initialization(file: str):\n",
        "    '''\n",
        "    N_particles: number of particles\\sensors\n",
        "    particles: ndarray of particles' indexes \n",
        "    is_particle: ndarray stating wether a node has a particle or it's vacant\n",
        "    '''\n",
        "    G = get_graph(file)\n",
        "    n = nx.number_of_edges(G)\n",
        "    N = nx.number_of_nodes(G)\n",
        "\n",
        "    adj, neighbors = adj_matrix(G)\n",
        "    particles = np.arange(0,N_particles)\n",
        "    \n",
        "    # particles initial distribution\n",
        "    is_particle = np.zeros(N, dtype=bool)\n",
        "    is_particle[:N_particles] = 1\n",
        "\n",
        "    return G, adj, neighbors, particles, is_particle\n",
        "\n",
        "@njit\n",
        "def one_particle_energy(particle_number, particles, is_particle, neighbors, adj, eps, sigma):\n",
        "    E = 0\n",
        "    node_number = particles[particle_number]\n",
        "    # determine neighbors\n",
        "    for i in range(len(neighbors[node_number])):\n",
        "        neighbor = neighbors[node_number][i]\n",
        "        # add energy for every neighbor\n",
        "        if is_particle[neighbor]:\n",
        "            weight = adj[node_number, neighbor]\n",
        "            E += 4*eps*((sigma/weight)**12-(sigma/weight)**6)\n",
        "    return E\n",
        "\n",
        "@njit\n",
        "def total_energy(particles, is_particle, neighbors, adj, eps, sigma):\n",
        "    E_tot = 0\n",
        "    for i in range(N_particles):\n",
        "        E_tot += one_particle_energy(i, particles, is_particle, neighbors, adj, eps, sigma)\n",
        "    return E_tot/2"
      ],
      "id": "3380855e-26c8-459a-b71f-5eb36cea80a5"
    },
    {
      "cell_type": "markdown",
      "metadata": {
        "id": "RJTo7eVslAhF"
      },
      "source": [
        "## Metropolis algorithm"
      ],
      "id": "RJTo7eVslAhF"
    },
    {
      "cell_type": "code",
      "execution_count": 243,
      "metadata": {
        "id": "wsPR1cWvlAhL"
      },
      "outputs": [],
      "source": [
        "@njit\n",
        "def step(particles, is_particle, E_tot, Statistic, neighbors, adj, eps, sigma):\n",
        "    '''\n",
        "    one step of a cycle:\n",
        "    main part of the metropois algorithm, consists of\n",
        "    1. shifting one random particle to the neigboring node\n",
        "    2. calculating the difference in energy\n",
        "    3. accepting\\rejecting new location of the particle\n",
        "    '''\n",
        "\n",
        "    #calculate new coordinates\n",
        "    choice = np.random.choice\n",
        "    old_particle_number = choice(np.arange(N_particles))\n",
        "    old_node_number = particles[old_particle_number]\n",
        "\n",
        "    if len(neighbors[old_node_number]) == 0:\n",
        "        # no neighbors\n",
        "        Statistic[0] +=1 \n",
        "        return particles, is_particle, E_tot, Statistic\n",
        "\n",
        "    num_of_neighbors = len(neighbors[old_node_number])\n",
        "    neighboring_loc = choice(np.arange(num_of_neighbors))\n",
        "    new_node_number = neighbors[old_node_number][neighboring_loc]\n",
        "\n",
        "    if is_particle[new_node_number]:\n",
        "        # chosen new location is occupied\n",
        "        Statistic[1] +=1\n",
        "        return particles, is_particle, E_tot, Statistic\n",
        "\n",
        "    #shift the particle\n",
        "    is_particle[old_node_number] = 0\n",
        "    is_particle[new_node_number] = 1\n",
        "    particles_new = np.delete(particles, old_particle_number) \n",
        "    particles_new = np.append(particles_new, new_node_number)\n",
        "    # new energy\n",
        "    E_new = total_energy(particles_new, is_particle, neighbors, adj, eps, sigma)\n",
        "    dE = E_new - E_tot\n",
        "    # accept/reject\n",
        "    dp = np.exp(-dE/T)\n",
        "    if dp > np.random.random():\n",
        "        # accept\n",
        "        E_tot = E_new\n",
        "        Statistic[2] +=1\n",
        "        return particles_new, is_particle, E_tot, Statistic\n",
        "    else:\n",
        "        # reject\n",
        "        #return the particle back\n",
        "        Statistic[3] +=1\n",
        "        is_particle[old_node_number] = 1\n",
        "        is_particle[new_node_number] = 0\n",
        "        return particles, is_particle, E_tot, Statistic"
      ],
      "id": "wsPR1cWvlAhL"
    },
    {
      "cell_type": "code",
      "execution_count": 244,
      "metadata": {
        "id": "5rOlhYOtlAhX"
      },
      "outputs": [],
      "source": [
        "@njit\n",
        "def cycle(particles, is_particle, E_tot, neighbors, adj, steps, eps, sigma):\n",
        "    '''\n",
        "    cycle of metropolis algorithm's steps\n",
        "    stores information about energy levels during the simulation\n",
        "    '''\n",
        "    Statistics = [0., # 'no_neighbors'\n",
        "                  0., # 'occupied'\n",
        "                  0., # 'accepted'\n",
        "                  0.] # 'rejected'\n",
        "    E_arr = []\n",
        "    time_arr = []\n",
        "\n",
        "    best_particle_loc = particles.copy()\n",
        "    E_min = E_tot\n",
        "    best_step = 0\n",
        "\n",
        "    for i in np.arange(1,steps+1):\n",
        "        particles, is_particle, E_tot, Statistics = step(particles, is_particle, E_tot, \n",
        "                                                        Statistics, neighbors, adj, eps, sigma)\n",
        "        if E_tot < E_min:\n",
        "            best_particle_loc = particles.copy()\n",
        "            E_min = E_tot\n",
        "            best_step = i\n",
        "\n",
        "        if steps<10**4 or i%(steps//10**4) == 0:\n",
        "            E_arr.append(E_tot)\n",
        "            time_arr.append(i)\n",
        "    for i in range(4):\n",
        "        Statistics[i] /= steps\n",
        "    return particles, is_particle, E_arr, E_tot, time_arr, Statistics,\\\n",
        "        best_particle_loc, E_min, best_step"
      ],
      "id": "5rOlhYOtlAhX"
    },
    {
      "cell_type": "code",
      "execution_count": 245,
      "metadata": {
        "tags": [],
        "id": "TWD4gEzklAhd"
      },
      "outputs": [],
      "source": [
        "def simulation(eps, sigma, adj, neighbors, particles, is_particle, steps=10**5):\n",
        "    '''\n",
        "    does the simulation and returns numerical results\n",
        "    '''\n",
        "    E_tot = total_energy(particles, is_particle, neighbors, adj, eps, sigma)\n",
        "    particles, is_particle, E_arr, E_tot, time_arr, Statistics, best_particle_loc, E_min, best_step =\\\n",
        "        cycle(particles, is_particle, E_tot, neighbors, adj, steps, eps, sigma)\n",
        "\n",
        "    # verification\n",
        "    E_fin = total_energy(particles, is_particle, neighbors, adj, eps, sigma)\n",
        "    assert np.isclose(E_fin, E_tot), f'E_fin={E_fin}, E_tot={E_tot}'\n",
        "\n",
        "    return particles, is_particle, E_arr, time_arr, Statistics, best_particle_loc, E_min, best_step"
      ],
      "id": "TWD4gEzklAhd"
    },
    {
      "cell_type": "code",
      "source": [
        "def show_and_save_results(eps, sigma,E_arr, time_arr, Statistics, steps):\n",
        "    '''\n",
        "    visualizes the numerical data\n",
        "    '''\n",
        "    # plot graphs\n",
        "    value = E_arr\n",
        "    values_name = r'$E$'\n",
        "    fig, ax = plt.subplots(nrows=1,ncols=1,figsize=(8,5))\n",
        "    fig.suptitle(r\"steps = {:<2.0e},$\\varepsilon=${:2.2f}, $\\sigma=${:2.3f}, success rate  = {:<1.3f}, rejection rate  = {:<1.3f}, node was occupied: {:<1.3f}, no neighbours:{:<1.2e}\".format(\n",
        "        steps, eps, sigma, Statistics[2],Statistics[3],Statistics[1],Statistics[0]), fontsize=20)\n",
        "    ax.plot(time_arr, value)\n",
        "    ax.set_ylabel(values_name,fontsize=16)\n",
        "    ax.set_xlabel('steps',fontsize=16)\n",
        "    plt.show()\n",
        "    # save results\n",
        "\n",
        "    # with open('steps_{:1.0e}.npy'.format(steps), 'wb') as f:\n",
        "    #     np.save(f, particles)\n",
        "    #     np.save(f, is_particle)\n",
        "    #     np.save(f, E_arr)\n",
        "    #     np.save(f, time_arr)\n",
        "    #     np.save(f, np.array([steps, succ_rate]))"
      ],
      "metadata": {
        "id": "xVimPx9hgNEG"
      },
      "id": "xVimPx9hgNEG",
      "execution_count": 263,
      "outputs": []
    },
    {
      "cell_type": "code",
      "source": [
        "T = 1 # K\n",
        "N_particles = 2\n",
        "sigma, eps = 1, 100\n",
        "steps=10**3\n",
        "file = 'test.txt'\n",
        "G, adj, neighbors, particles, is_particle = system_initialization(file)\n",
        "particles, is_particle, E_arr, time_arr, Statistics, best_particle_loc, E_min, best_step =\\\n",
        "    simulation(eps, sigma, adj, neighbors, particles, is_particle, steps)"
      ],
      "metadata": {
        "id": "7xWgt1wQQs-e"
      },
      "id": "7xWgt1wQQs-e",
      "execution_count": 264,
      "outputs": []
    },
    {
      "cell_type": "code",
      "source": [
        "show_and_save_results(eps, sigma,E_arr, time_arr, Statistics, steps)"
      ],
      "metadata": {
        "colab": {
          "base_uri": "https://localhost:8080/",
          "height": 395
        },
        "id": "vEVrQIKzdTD2",
        "outputId": "01f31716-efcd-4eac-bd2c-8424f7c757e0"
      },
      "id": "vEVrQIKzdTD2",
      "execution_count": 265,
      "outputs": [
        {
          "output_type": "display_data",
          "data": {
            "text/plain": [
              "<Figure size 576x360 with 1 Axes>"
            ],
            "image/png": "[encoded data removed]"
          },
          "metadata": {
            "needs_background": "light"
          }
        }
      ]
    },
    {
      "cell_type": "code",
      "source": [
        "print('lowest energy {} was reached at time step №{} with such particle placement: {}'.format(E_min, best_step, best_particle_loc))"
      ],
      "metadata": {
        "id": "YL30cNM3s8me",
        "outputId": "298d9349-f6b9-45ad-f829-7c8ce34e491b",
        "colab": {
          "base_uri": "https://localhost:8080/"
        }
      },
      "id": "YL30cNM3s8me",
      "execution_count": 266,
      "outputs": [
        {
          "output_type": "stream",
          "name": "stdout",
          "text": [
            "lowest energy -6.15234375 was reached at time step №23 with such particle placement: [0 2]\n"
          ]
        }
      ]
    }
  ],
  "metadata": {
    "kernelspec": {
      "display_name": "Python 3 (ipykernel)",
      "language": "python",
      "name": "python3"
    },
    "language_info": {
      "codemirror_mode": {
        "name": "ipython",
        "version": 3
      },
      "file_extension": ".py",
      "mimetype": "text/x-python",
      "name": "python",
      "nbconvert_exporter": "python",
      "pygments_lexer": "ipython3",
      "version": "3.9.12"
    },
    "colab": {
      "name": "thermo_project.ipynb",
      "provenance": [],
      "collapsed_sections": [
        "9f1CqrFp9rHh"
      ]
    }
  },
  "nbformat": 4,
  "nbformat_minor": 5
}