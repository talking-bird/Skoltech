{
  "cells": [
    {
      "cell_type": "markdown",
      "metadata": {
        "id": "view-in-github",
        "colab_type": "text"
      },
      "source": [
        "<a href=\"https://colab.research.google.com/github/talking-bird/Skoltech/blob/main/Geometric%20Deep%20Learning/Metropolis_MC.ipynb\" target=\"_parent\"><img src=\"https://colab.research.google.com/assets/colab-badge.svg\" alt=\"Open In Colab\"/></a>"
      ]
    },
    {
      "cell_type": "markdown",
      "source": [
        ""
      ],
      "metadata": {
        "id": "U_GqhOMhxkqi"
      },
      "id": "U_GqhOMhxkqi"
    },
    {
      "cell_type": "markdown",
      "source": [
        "## Import libraries"
      ],
      "metadata": {
        "id": "9WUW0UYS9hOb"
      },
      "id": "9WUW0UYS9hOb"
    },
    {
      "cell_type": "code",
      "execution_count": 95,
      "metadata": {
        "id": "ad8b9ff7-dae8-4822-a396-35a68f2a3b66"
      },
      "outputs": [],
      "source": [
        "import numpy as np\n",
        "import matplotlib.pyplot as plt\n",
        "from tqdm import trange, tqdm\n",
        "from tqdm import tqdm, trange\n",
        "\n",
        "import networkx as nx"
      ],
      "id": "ad8b9ff7-dae8-4822-a396-35a68f2a3b66"
    },
    {
      "cell_type": "markdown",
      "source": [
        "## Initialization and supplementary functions"
      ],
      "metadata": {
        "id": "9f1CqrFp9rHh"
      },
      "id": "9f1CqrFp9rHh"
    },
    {
      "cell_type": "code",
      "source": [
        "def get_graph(file: str):\n",
        "    '''\n",
        "    reads graph from file\n",
        "    ''' \n",
        "    G = nx.Graph()\n",
        "    with open(file) as f:\n",
        "        n, N = f.readline().split(' ') # n edges, N nodes\n",
        "        n, N = int(n), int(N)\n",
        "        G.add_nodes_from(np.arange(1,N+1))\n",
        "        for row in f:\n",
        "            node1, node2 = row.split(' ')\n",
        "            node1, node2 = int(node1), int(node2)\n",
        "            G.add_edge(node1, node2)\n",
        "        \n",
        "        assert nx.number_of_nodes(G) == N,\\\n",
        "            f'graph has {nx.number_of_nodes(G)} nodes, expected to have {N} nodes'\n",
        "        assert nx.number_of_edges(G) == n,\\\n",
        "            f'graph has {nx.number_of_edges(G)} edges, expected to have {n} edges'\n",
        "\n",
        "    return G"
      ],
      "metadata": {
        "id": "O3_caNzTwAsA"
      },
      "id": "O3_caNzTwAsA",
      "execution_count": 96,
      "outputs": []
    },
    {
      "cell_type": "code",
      "source": [
        "def adj_matrix(G):\n",
        "    '''\n",
        "    creates adj and neigbors:\n",
        "    adj: 2D adjacency matrix of a graph\n",
        "    neighbors: list of lists of neighbors (indexes from 0 to N-1, where N is a number of nodes)\n",
        "    '''\n",
        "    adj = adj_matrix = nx.to_numpy_array(G)\n",
        "\n",
        "    neighbors = []\n",
        "    for i in range(1, nx.number_of_nodes(G)+1):\n",
        "        neighbors_ = [neighbor-1 for neighbor in nx.neighbors(G, i)]\n",
        "        neighbors.append(neighbors_)\n",
        "    return adj, neighbors"
      ],
      "metadata": {
        "id": "E9jPdbGWFG6l"
      },
      "id": "E9jPdbGWFG6l",
      "execution_count": 97,
      "outputs": []
    },
    {
      "cell_type": "code",
      "source": [
        "# example of the file with graph data:\n",
        "with open('test.txt', 'w') as f:\n",
        "    f.write('6 5\\n')\n",
        "    f.write('1 2\\n')\n",
        "    f.write('1 3\\n')\n",
        "    f.write('1 4\\n')\n",
        "    f.write('2 4\\n')\n",
        "    f.write('3 4\\n')\n",
        "    f.write('2 3\\n')\n",
        "\n",
        "G = get_graph('test.txt')\n",
        "\n",
        "adj, neighbors = adj_matrix(G)\n",
        "print('adjacency matrix')\n",
        "print(adj)\n",
        "print('neigbors')\n",
        "print(neighbors)\n",
        "nx.draw_networkx(G, with_labels=True, font_color='white')"
      ],
      "metadata": {
        "colab": {
          "base_uri": "https://localhost:8080/",
          "height": 391
        },
        "id": "rollaBODASnw",
        "outputId": "3a232e08-7e13-4df6-a4d8-8ef2b0d37e08"
      },
      "id": "rollaBODASnw",
      "execution_count": 98,
      "outputs": [
        {
          "output_type": "stream",
          "name": "stdout",
          "text": [
            "adjacency matrix\n",
            "[[0. 1. 1. 1. 0.]\n",
            " [1. 0. 1. 1. 0.]\n",
            " [1. 1. 0. 1. 0.]\n",
            " [1. 1. 1. 0. 0.]\n",
            " [0. 0. 0. 0. 0.]]\n",
            "neigbors\n",
            "[[1, 2, 3], [0, 3, 2], [0, 3, 1], [0, 1, 2], []]\n"
          ]
        },
        {
          "output_type": "display_data",
          "data": {
            "text/plain": [
              "<Figure size 432x288 with 1 Axes>"
            ],
            "image/png": "[encoded data removed]"
          },
          "metadata": {}
        }
      ]
    },
    {
      "cell_type": "code",
      "execution_count": 99,
      "metadata": {
        "id": "3380855e-26c8-459a-b71f-5eb36cea80a5"
      },
      "outputs": [],
      "source": [
        "def system_initialization(file: str):\n",
        "    '''\n",
        "    - Uses previously stated functions get_graph and adj_matrix to initialize \n",
        "    all needed information about graph\n",
        "    - Initializes sensors positions\n",
        "    ----------------------------------\n",
        "    G: graph\n",
        "    adj: adjacency matrix\n",
        "    N_sensors: number of sensors\n",
        "    sensors: ndarray of sensors' indexes \n",
        "    is_sensor: ndarray stating wether a node has a sensor or it's vacant\n",
        "    '''\n",
        "    G = get_graph(file)\n",
        "    n = nx.number_of_edges(G)\n",
        "    N_nodes = nx.number_of_nodes(G)\n",
        "\n",
        "    adj, neighbors = adj_matrix(G)\n",
        "    sensors = np.arange(0,N_sensors)\n",
        "    \n",
        "    # sensors initial distribution\n",
        "    is_sensor = np.zeros(N_nodes, dtype=bool)\n",
        "    is_sensor[:N_sensors] = 1\n",
        "\n",
        "    return G, adj, neighbors, sensors, is_sensor"
      ],
      "id": "3380855e-26c8-459a-b71f-5eb36cea80a5"
    },
    {
      "cell_type": "code",
      "source": [
        "def one_sensor_energy(sensor_number, sensors, is_sensor, neighbors, adj):\n",
        "    '''\n",
        "    calculates energy for 1 sensor\n",
        "    '''\n",
        "    E = 0\n",
        "    node_number = sensors[sensor_number]\n",
        "    # determine neighbors\n",
        "    for i in range(len(neighbors[node_number])):\n",
        "        neighbor = neighbors[node_number][i]\n",
        "        # add energy for every neighbor\n",
        "        if is_sensor[neighbor]:\n",
        "            weight = adj[node_number, neighbor]\n",
        "            E += 4*eps*((sigma/weight)**12-(sigma/weight)**6)\n",
        "    return E\n",
        "\n",
        "\n",
        "def total_energy(sensors, is_sensor, neighbors, adj):\n",
        "    '''\n",
        "    calculates energy for all sensors ( total energy )\n",
        "    '''\n",
        "    E_tot = 0\n",
        "    for i in range(N_sensors):\n",
        "        E_tot += one_sensor_energy(i, sensors, is_sensor, neighbors, adj)\n",
        "    return E_tot/2"
      ],
      "metadata": {
        "id": "1V7dy9jQOZEV"
      },
      "id": "1V7dy9jQOZEV",
      "execution_count": 100,
      "outputs": []
    },
    {
      "cell_type": "markdown",
      "metadata": {
        "id": "RJTo7eVslAhF"
      },
      "source": [
        "## Metropolis algorithm"
      ],
      "id": "RJTo7eVslAhF"
    },
    {
      "cell_type": "code",
      "execution_count": 101,
      "metadata": {
        "id": "wsPR1cWvlAhL"
      },
      "outputs": [],
      "source": [
        "def step(sensors, is_sensor, E_tot, Statistics, neighbors, adj):\n",
        "    '''\n",
        "    one step of a Metropolis algorithm cycle:\n",
        "\n",
        "    1. shifts one random sensor to the neigboring node\n",
        "    2. calculates the difference in energy\n",
        "    3. accepts\\rejects new location of the sensor\n",
        "    '''\n",
        "\n",
        "    # choose the random sensor\n",
        "    choice = np.random.choice\n",
        "    old_sensor_number = choice(np.arange(N_sensors))\n",
        "    old_node_number = sensors[old_sensor_number]\n",
        "\n",
        "    # skip to the next step if there are no neighbors\n",
        "    if len(neighbors[old_node_number]) == 0:\n",
        "        # no neighbors\n",
        "        Statistics[0] +=1 \n",
        "        return sensors, is_sensor, E_tot, Statistics\n",
        "\n",
        "    # choose the random neighboring node of the chosen one\n",
        "    num_of_neighbors = len(neighbors[old_node_number])\n",
        "    neighboring_loc = choice(np.arange(num_of_neighbors))\n",
        "    new_node_number = neighbors[old_node_number][neighboring_loc]\n",
        "\n",
        "    # skip to the next step if the chosen node is occupied\n",
        "    if is_sensor[new_node_number]:\n",
        "        Statistics[1] +=1\n",
        "        return sensors, is_sensor, E_tot, Statistics\n",
        "\n",
        "    #shift the sensor\n",
        "    is_sensor[old_node_number] = 0\n",
        "    is_sensor[new_node_number] = 1\n",
        "    sensors_new = np.delete(sensors, old_sensor_number) \n",
        "    sensors_new = np.append(sensors_new, new_node_number)\n",
        "\n",
        "    # calculate the difference in energy\n",
        "    E_new = total_energy(sensors_new, is_sensor, neighbors, adj)\n",
        "    dE = E_new - E_tot\n",
        "    # accept/reject\n",
        "    dp = np.exp(-dE/T)\n",
        "    if dp > np.random.random():\n",
        "        # accept\n",
        "        E_tot = E_new\n",
        "        Statistics[2] +=1\n",
        "        return sensors_new, is_sensor, E_tot, Statistics\n",
        "    else:\n",
        "        # reject\n",
        "        #return the sensor back\n",
        "        Statistics[3] +=1\n",
        "        is_sensor[old_node_number] = 1\n",
        "        is_sensor[new_node_number] = 0\n",
        "        return sensors, is_sensor, E_tot, Statistics"
      ],
      "id": "wsPR1cWvlAhL"
    },
    {
      "cell_type": "code",
      "execution_count": 102,
      "metadata": {
        "id": "5rOlhYOtlAhX"
      },
      "outputs": [],
      "source": [
        "def cycle(sensors, is_sensor, E_tot, neighbors, adj, steps, save_every_n_steps, save_file=None):\n",
        "    '''\n",
        "    cycle of metropolis algorithm's steps\n",
        "    stores information about energy levels during the simulation\n",
        "    '''\n",
        "    if save_file is None:\n",
        "        Statistics = np.array([0.,  # 'no_neighbors'\n",
        "                            0.,  # 'occupied'\n",
        "                            0.,  # 'accepted'\n",
        "                            0.]) # 'rejected'\n",
        "        E_arr = []\n",
        "        time_arr = []\n",
        "\n",
        "        best_sensor_loc = sensors.copy()\n",
        "        E_min = E_tot\n",
        "        best_step = 0\n",
        "\n",
        "        start = 1\n",
        "    else:\n",
        "        npzfile = np.load(save_file)\n",
        "        sensors = npzfile['sensors']\n",
        "        is_sensor = npzfile['is_sensor']\n",
        "        E_arr = list(npzfile['E_arr'])\n",
        "        time_arr = list(npzfile['time_arr'])\n",
        "        Statistics = npzfile['Statistics']\n",
        "        best_sensor_loc = npzfile['best_sensor_loc']\n",
        "        E_min = float(npzfile['E_min'])\n",
        "        steps_, save_every_n_steps_, best_step, i = npzfile['ints']\n",
        "        assert steps_ == steps and save_every_n_steps_ == save_every_n_steps\n",
        "\n",
        "        start = i+1\n",
        "        print(f'Starting from {start} step')\n",
        "\n",
        "\n",
        "    for i in trange(start,steps+1):\n",
        "        sensors, is_sensor, E_tot, Statistics = step(sensors, is_sensor, E_tot, \n",
        "                                                     Statistics, neighbors, adj)\n",
        "        E_arr.append(E_tot)\n",
        "        time_arr.append(i)\n",
        "\n",
        "        if E_tot < E_min:\n",
        "            best_sensor_loc = sensors.copy()\n",
        "            E_min = E_tot\n",
        "            best_step = i\n",
        "        \n",
        "        if i % save_every_n_steps == 0:\n",
        "            with open('savefile_{}.npz'.format(i), 'wb') as f:\n",
        "                np.savez(f, sensors=sensors,\n",
        "                            is_sensor=is_sensor,\n",
        "                            E_arr=E_arr,\n",
        "                            time_arr=time_arr,\n",
        "                            Statistics=Statistics,\n",
        "                            best_sensor_loc=best_sensor_loc,\n",
        "                            E_min=np.array(E_min),\n",
        "                            ints=np.array([steps, save_every_n_steps, best_step, i], dtype=np.int32)\n",
        "                            )\n",
        "    Statistics /= steps\n",
        "    return sensors, is_sensor, E_arr, E_tot, time_arr, Statistics,\\\n",
        "           best_sensor_loc, E_min, best_step"
      ],
      "id": "5rOlhYOtlAhX"
    },
    {
      "cell_type": "code",
      "execution_count": 103,
      "metadata": {
        "tags": [],
        "id": "TWD4gEzklAhd"
      },
      "outputs": [],
      "source": [
        "def simulation(adj, neighbors, sensors, is_sensor, steps, save_every_n_steps, save_file=None):\n",
        "    '''\n",
        "    does the simulation and returns numerical results\n",
        "    '''\n",
        "    E_tot = total_energy(sensors, is_sensor, neighbors, adj)\n",
        "    sensors, is_sensor, E_arr, E_tot, time_arr, Statistics, best_sensor_loc, E_min, best_step =\\\n",
        "        cycle(sensors, is_sensor, E_tot, neighbors, adj, steps, save_every_n_steps, save_file)\n",
        "\n",
        "    # verification of right energy calculation\n",
        "    E_fin = total_energy(sensors, is_sensor, neighbors, adj)\n",
        "    assert np.isclose(E_fin, E_tot), f'E_fin={E_fin}, E_tot={E_tot}'\n",
        "\n",
        "    return sensors, is_sensor, E_arr, time_arr, Statistics, \\\n",
        "           best_sensor_loc, E_min, best_step"
      ],
      "id": "TWD4gEzklAhd"
    },
    {
      "cell_type": "code",
      "source": [
        "def show_results(E_arr, time_arr, Statistics, steps):\n",
        "    '''\n",
        "    visualizes the numerical data\n",
        "    '''\n",
        "    # plot graphs\n",
        "    value = E_arr\n",
        "    values_name = r'$E$'\n",
        "    fig, ax = plt.subplots(nrows=1,ncols=1,figsize=(8,5))\n",
        "    fig.suptitle(r\"steps = {:<2.0e}, success rate  = {:<1.3f}, rejection rate  = {:<1.3f}, node was occupied: {:<1.3f}, no neighbours:{:<1.2e}\".format(\n",
        "        steps, Statistics[2],Statistics[3],Statistics[1],Statistics[0]), fontsize=20)\n",
        "    ax.plot(time_arr, value)\n",
        "    ax.set_ylabel(values_name,fontsize=16)\n",
        "    ax.set_xlabel('steps',fontsize=16)\n",
        "    plt.show()\n",
        "    # save results"
      ],
      "metadata": {
        "id": "xVimPx9hgNEG"
      },
      "id": "xVimPx9hgNEG",
      "execution_count": 104,
      "outputs": []
    },
    {
      "cell_type": "code",
      "source": [
        "T = 1 # K\n",
        "N_sensors = 2\n",
        "sigma, eps = 1, 100\n",
        "steps = 10**3\n",
        "save_every_n_steps = 100\n",
        "file = 'test.txt'\n",
        "G, adj, neighbors, sensors, is_sensor = system_initialization(file)\n",
        "sensors, is_sensor, E_arr, time_arr, Statistics, best_sensor_loc, E_min, best_step =\\\n",
        "    simulation(adj, neighbors, sensors, is_sensor, steps, save_every_n_steps)"
      ],
      "metadata": {
        "id": "7xWgt1wQQs-e",
        "colab": {
          "base_uri": "https://localhost:8080/"
        },
        "outputId": "7982f6c9-7cdf-4aee-ea67-5b54a966566d"
      },
      "id": "7xWgt1wQQs-e",
      "execution_count": 105,
      "outputs": [
        {
          "output_type": "stream",
          "name": "stderr",
          "text": [
            "100%|██████████| 1000/1000 [00:00<00:00, 12731.77it/s]\n"
          ]
        }
      ]
    },
    {
      "cell_type": "code",
      "source": [
        "T = 1 # K\n",
        "N_sensors = 2\n",
        "sigma, eps = 1, 100\n",
        "steps = 10**3\n",
        "save_every_n_steps = 100\n",
        "file = 'test.txt'\n",
        "G, adj, neighbors, sensors, is_sensor = system_initialization(file)\n",
        "sensors, is_sensor, E_arr, time_arr, Statistics, best_sensor_loc, E_min, best_step =\\\n",
        "    simulation(adj, neighbors, sensors, is_sensor, steps, save_every_n_steps, save_file='savefile_100.npz')"
      ],
      "metadata": {
        "id": "jaAIKtx4kPa_",
        "outputId": "e3269673-fad4-4989-b939-a40398f66c30",
        "colab": {
          "base_uri": "https://localhost:8080/"
        }
      },
      "id": "jaAIKtx4kPa_",
      "execution_count": 106,
      "outputs": [
        {
          "output_type": "stream",
          "name": "stdout",
          "text": [
            "Starting from 101 step\n"
          ]
        },
        {
          "output_type": "stream",
          "name": "stderr",
          "text": [
            "100%|██████████| 900/900 [00:00<00:00, 12640.05it/s]\n"
          ]
        }
      ]
    },
    {
      "cell_type": "code",
      "source": [
        "# without weights this example will not show anything great \n",
        "\n",
        "show_results(E_arr, time_arr, Statistics, steps)\n",
        "print('lowest energy {} was reached at time step №{} with such sensor placement: {}'.format(E_min, best_step, best_sensor_loc))"
      ],
      "metadata": {
        "colab": {
          "base_uri": "https://localhost:8080/",
          "height": 320
        },
        "id": "vEVrQIKzdTD2",
        "outputId": "9d1c7b51-80cf-4127-900e-7b74058ce589"
      },
      "id": "vEVrQIKzdTD2",
      "execution_count": 107,
      "outputs": [
        {
          "output_type": "display_data",
          "data": {
            "text/plain": [
              "<Figure size 576x360 with 1 Axes>"
            ],
            "image/png": "[encoded data removed]"
          },
          "metadata": {
            "needs_background": "light"
          }
        },
        {
          "output_type": "stream",
          "name": "stdout",
          "text": [
            "lowest energy 0.0 was reached at time step №0 with such sensor placement: [0 1]\n"
          ]
        }
      ]
    }
  ],
  "metadata": {
    "kernelspec": {
      "display_name": "Python 3 (ipykernel)",
      "language": "python",
      "name": "python3"
    },
    "language_info": {
      "codemirror_mode": {
        "name": "ipython",
        "version": 3
      },
      "file_extension": ".py",
      "mimetype": "text/x-python",
      "name": "python",
      "nbconvert_exporter": "python",
      "pygments_lexer": "ipython3",
      "version": "3.9.12"
    },
    "colab": {
      "name": "thermo_project.ipynb",
      "provenance": [],
      "collapsed_sections": [
        "9f1CqrFp9rHh"
      ],
      "include_colab_link": true
    }
  },
  "nbformat": 4,
  "nbformat_minor": 5
}