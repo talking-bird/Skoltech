{
 "cells": [
  {
   "cell_type": "markdown",
   "id": "c2b00699-8471-4ecc-81dd-0cf0c16e4629",
   "metadata": {},
   "source": [
    "# Max cut problem"
   ]
  },
  {
   "cell_type": "markdown",
   "id": "465cadde-8ffc-4cc2-bee5-afc8c4c071b4",
   "metadata": {},
   "source": [
    "Given a graph $G=(V, E)$, which has $|V|=n$ vertices and $|E|=m$ edges, introduce variable $y_{i}$ for every vertex $i \\in[n]$. Say, $y_{i}=1$ if the vertex is assigned to $S_{1}$ and $y_{i}=-1$ if it is assigned to $S_{2}$. Then the task is to maximize the number of edges between $S_{1}$ and $S_{2}$.\n",
    "\n",
    "If the edge $i, j$ is part of the cut (between $S_{1}$ and $\\left.S_{2}\\right), y_{i} y_{j}=-1$ otherwise it is $+1$. Then $\\sum_{(i, j) \\in E} \\dfrac{1-y_{i} y_{j}}{2}$ counts the number of edges in the cut. Hence, the following integer program gives us the maximum cut.\n",
    "$$\n",
    "\\begin{aligned}\n",
    "& \\max \\sum_{(i, j) \\in E} \\dfrac{1-y_{i} y_{j}}{2} \\\\\n",
    "\\text { s.t. } \\quad & y_{i} \\in\\{-1,1\\} \\quad \\forall i\n",
    "\\end{aligned}\n",
    "$$"
   ]
  },
  {
   "cell_type": "markdown",
   "id": "6c2468c7-7020-4840-b4f5-8a925a8ae87c",
   "metadata": {},
   "source": [
    "The integer programming formulation was taken from [Lecture 10: Approximation Algorithm for Max Cut](https://www.cse.iitk.ac.in/users/rmittal/prev_course/s18/reports/10gw.pdf), section 1.1\n",
    "\n",
    "Graph samples G1-G5 with edge weights equal to 1 were taken from http://web.stanford.edu/~yyye/yyye/Gset/\n",
    "\n",
    "Reference result values were taken from the article \"Breakout Local Search for the Max-Cut problem\", table 2 "
   ]
  },
  {
   "cell_type": "code",
   "execution_count": 17,
   "id": "b554cd86-faf9-40c9-834a-f67fdafcec53",
   "metadata": {},
   "outputs": [],
   "source": [
    "from gurobipy import Model, GRB, quicksum\n",
    "import gurobipy as gp\n",
    "import pandas as pd\n",
    "import urllib\n",
    "import os"
   ]
  },
  {
   "cell_type": "code",
   "execution_count": 18,
   "id": "b3576423-95fc-41f3-85fc-e022dfda81a6",
   "metadata": {},
   "outputs": [],
   "source": [
    "# change directory to working directory\n",
    "os.chdir(\"/Users/bacla/gurobi max_cut/\")\n",
    "\n",
    "# download graph samples\n",
    "url = 'http://web.stanford.edu/~yyye/yyye/Gset/'\n",
    "for i in range(1,6):\n",
    "    url1 = url+'G'+f'{i}'\n",
    "    urllib.request.urlretrieve(url1,f'G{i}.txt')"
   ]
  },
  {
   "cell_type": "code",
   "execution_count": 19,
   "id": "20346668-79bc-499f-a533-3e9d2b9618a0",
   "metadata": {
    "tags": []
   },
   "outputs": [],
   "source": [
    "results = {}\n",
    "results['sample'] = []\n",
    "results['objval'] = []\n",
    "models = {}\n",
    "\n",
    "for i in range(1,6):\n",
    "    sample = f'G{i}.txt'\n",
    "    #retrieve number of nodes n and edges m\n",
    "    with open(sample) as file:\n",
    "        n, m = file.readline().split()\n",
    "        n, m = int(n), int(m)\n",
    "\n",
    "    df = pd.read_csv(sample, sep=' ', header=None, \n",
    "                     names=['1st vertice', '2nd vertice', 'weight'], skiprows=1)\n",
    "\n",
    "    V = [i for i in range(1, n+1)]  # vertices\n",
    "    E = [(i, j) for i, j in zip(df['1st vertice'], df['2nd vertice'])]  # edges\n",
    "\n",
    "    model = Model('maxcut')\n",
    "\n",
    "    y = model.addVars(V,\n",
    "                      lb=-1, ub=1,\n",
    "                      vtype=GRB.INTEGER,\n",
    "                      name='y')\n",
    "\n",
    "    model.addConstrs(y[i]**2 == 1 for i in range(1, 801))  # y = -1 or 1\n",
    "    model.update()\n",
    "\n",
    "    model.modelSense = GRB.MAXIMIZE\n",
    "    model.setObjective(quicksum(1-y[i]*y[j] for i, j in E)/2)\n",
    "\n",
    "    model.setParam('OutputFlag', False)\n",
    "\n",
    "    model.Params.MIPGap = 0.1\n",
    "    model.Params.TimeLimit = 60\n",
    "\n",
    "    model.optimize()\n",
    "\n",
    "    results['sample'].append(f'G{i}')\n",
    "    results['objval'].append(model.objVal)\n",
    "\n",
    "    models[f'G{i}'] = model"
   ]
  },
  {
   "cell_type": "markdown",
   "id": "a98975fe-ecbf-433b-af1f-e2b45342739d",
   "metadata": {},
   "source": [
    "The results of the optimization are close or equal to best-known results reported in the literature and the most contribution in optimization was made by **gurobi presolve**"
   ]
  },
  {
   "cell_type": "code",
   "execution_count": 20,
   "id": "7dfd3920-bc23-48fb-a43c-067d01891c4a",
   "metadata": {
    "tags": []
   },
   "outputs": [
    {
     "data": {
      "text/html": [
       "<div>\n",
       "<style scoped>\n",
       "    .dataframe tbody tr th:only-of-type {\n",
       "        vertical-align: middle;\n",
       "    }\n",
       "\n",
       "    .dataframe tbody tr th {\n",
       "        vertical-align: top;\n",
       "    }\n",
       "\n",
       "    .dataframe thead th {\n",
       "        text-align: right;\n",
       "    }\n",
       "</style>\n",
       "<table border=\"1\" class=\"dataframe\">\n",
       "  <thead>\n",
       "    <tr style=\"text-align: right;\">\n",
       "      <th></th>\n",
       "      <th>sample</th>\n",
       "      <th>objval</th>\n",
       "      <th>results from article</th>\n",
       "      <th>$\\delta$</th>\n",
       "    </tr>\n",
       "  </thead>\n",
       "  <tbody>\n",
       "    <tr>\n",
       "      <th>0</th>\n",
       "      <td>G1</td>\n",
       "      <td>11624.0</td>\n",
       "      <td>11624</td>\n",
       "      <td>0.0</td>\n",
       "    </tr>\n",
       "    <tr>\n",
       "      <th>1</th>\n",
       "      <td>G2</td>\n",
       "      <td>11620.0</td>\n",
       "      <td>11620</td>\n",
       "      <td>0.0</td>\n",
       "    </tr>\n",
       "    <tr>\n",
       "      <th>2</th>\n",
       "      <td>G3</td>\n",
       "      <td>11612.0</td>\n",
       "      <td>11622</td>\n",
       "      <td>10.0</td>\n",
       "    </tr>\n",
       "    <tr>\n",
       "      <th>3</th>\n",
       "      <td>G4</td>\n",
       "      <td>11641.0</td>\n",
       "      <td>11646</td>\n",
       "      <td>5.0</td>\n",
       "    </tr>\n",
       "    <tr>\n",
       "      <th>4</th>\n",
       "      <td>G5</td>\n",
       "      <td>11631.0</td>\n",
       "      <td>11631</td>\n",
       "      <td>0.0</td>\n",
       "    </tr>\n",
       "  </tbody>\n",
       "</table>\n",
       "</div>"
      ],
      "text/plain": [
       "  sample   objval  results from article  $\\delta$\n",
       "0     G1  11624.0                 11624       0.0\n",
       "1     G2  11620.0                 11620       0.0\n",
       "2     G3  11612.0                 11622      10.0\n",
       "3     G4  11641.0                 11646       5.0\n",
       "4     G5  11631.0                 11631       0.0"
      ]
     },
     "execution_count": 20,
     "metadata": {},
     "output_type": "execute_result"
    }
   ],
   "source": [
    "results_df = pd.DataFrame.from_dict(results)\n",
    "\n",
    "results_df['results from article'] = [11624,11620,11622,11646,11631]\n",
    "results_df[r'$\\delta$'] = results_df['results from article']-results_df['objval']\n",
    "results_df"
   ]
  },
  {
   "cell_type": "markdown",
   "id": "7ec9cdfe-bac4-4c55-8903-83e92516600f",
   "metadata": {},
   "source": [
    "Next, I tried to implement SDP relaxation and rounding from section 2 of [Lecture 10: Approximation Algorithm for Max Cut](https://www.cse.iitk.ac.in/users/rmittal/prev_course/s18/reports/10gw.pdf) and failed due to lack of memory"
   ]
  },
  {
   "cell_type": "code",
   "execution_count": 13,
   "id": "1eeaa826-3498-4640-81c9-4a2a870a0071",
   "metadata": {},
   "outputs": [],
   "source": [
    "sample = 'G1.txt'\n",
    "with open(sample) as file:\n",
    "    n, m = file.readline().split()\n",
    "    n, m = int(n), int(m)\n",
    "\n",
    "df = pd.read_csv(sample, sep=' ', header=None, names=['1st vertice', '2nd vertice', 'weight'], skiprows=1)\n",
    "\n",
    "V = [i for i in range(1, n+1)]  # vertices\n",
    "E = [(i, j) for i, j in zip(df['1st vertice'], df['2nd vertice'])] # edges\n",
    "\n",
    "model = Model('maxcut')\n",
    "y = model.addMVar(shape=(n, n),\n",
    "                  lb=-1, ub=1,\n",
    "                  vtype=GRB.CONTINUOUS)\n",
    "norm = model.addVar(lb=1,\n",
    "                    ub=1,\n",
    "                    vtype=GRB.INTEGER)\n",
    "model.addConstrs((norm == gp.norm(y[i], 2)) for i in range(n))  # ||y_i|| = 1\n",
    "model.update()\n",
    "\n",
    "model.modelSense = GRB.MAXIMIZE\n",
    "model.setObjective(quicksum(\n",
    "    1-quicksum(y[i-1, k]*y[j-1, k] for k in range(n))\n",
    "    for i, j in E)/2)"
   ]
  },
  {
   "cell_type": "code",
   "execution_count": 15,
   "id": "4c92a99e-db91-4c78-ad78-05256327e7c7",
   "metadata": {},
   "outputs": [
    {
     "name": "stdout",
     "output_type": "stream",
     "text": [
      "Set parameter NonConvex to value 2\n",
      "Gurobi Optimizer version 9.5.1 build v9.5.1rc2 (win64)\n",
      "Thread count: 4 physical cores, 8 logical processors, using up to 8 threads\n",
      "Optimize a model with 0 rows, 640001 columns and 0 nonzeros\n",
      "Model fingerprint: 0x8ad6337e\n",
      "Model has 15340800 quadratic objective terms\n",
      "Model has 800 general constraints\n",
      "Variable types: 640000 continuous, 1 integer (0 binary)\n",
      "Coefficient statistics:\n",
      "  Matrix range     [0e+00, 0e+00]\n",
      "  Objective range  [0e+00, 0e+00]\n",
      "  QObjective range [1e+00, 1e+00]\n",
      "  Bounds range     [1e+00, 1e+00]\n",
      "  RHS range        [0e+00, 0e+00]\n",
      "Presolve removed 0 rows and 1 columns (presolve time = 73s) ...\n",
      "Presolve removed 0 rows and 1 columns\n",
      "Presolve time: 72.83s\n",
      "Presolved: 32602401 rows, 16620801 columns, 111225601 nonzeros\n",
      "Presolved model has 15980800 bilinear constraint(s)\n",
      "Variable types: 16620801 continuous, 0 integer (0 binary)\n",
      "\n",
      "Explored 0 nodes (0 simplex iterations) in 199.24 seconds (17.28 work units)\n",
      "Thread count was 1 (of 8 available processors)\n",
      "\n",
      "Solution count 0\n",
      "\n",
      "Solve interrupted (error code 10001)\n",
      "Best objective -, best bound -, gap -\n"
     ]
    },
    {
     "ename": "GurobiError",
     "evalue": "Out of memory",
     "output_type": "error",
     "traceback": [
      "\u001b[1;31m---------------------------------------------------------------------------\u001b[0m",
      "\u001b[1;31mGurobiError\u001b[0m                               Traceback (most recent call last)",
      "\u001b[1;32m~\\AppData\\Local\\Temp/ipykernel_6304/2657725004.py\u001b[0m in \u001b[0;36m<module>\u001b[1;34m\u001b[0m\n\u001b[0;32m      4\u001b[0m \u001b[0mmodel\u001b[0m\u001b[1;33m.\u001b[0m\u001b[0mParams\u001b[0m\u001b[1;33m.\u001b[0m\u001b[0mTimeLimit\u001b[0m \u001b[1;33m=\u001b[0m \u001b[1;36m600\u001b[0m\u001b[1;33m\u001b[0m\u001b[1;33m\u001b[0m\u001b[0m\n\u001b[0;32m      5\u001b[0m \u001b[1;33m\u001b[0m\u001b[0m\n\u001b[1;32m----> 6\u001b[1;33m \u001b[0mmodel\u001b[0m\u001b[1;33m.\u001b[0m\u001b[0moptimize\u001b[0m\u001b[1;33m(\u001b[0m\u001b[1;33m)\u001b[0m\u001b[1;33m\u001b[0m\u001b[1;33m\u001b[0m\u001b[0m\n\u001b[0m",
      "\u001b[1;32msrc\\gurobipy\\model.pxi\u001b[0m in \u001b[0;36mgurobipy.Model.optimize\u001b[1;34m()\u001b[0m\n",
      "\u001b[1;31mGurobiError\u001b[0m: Out of memory"
     ]
    }
   ],
   "source": [
    "model.setParam('OutputFlag', True)\n",
    "model.Params.NonConvex = 2\n",
    "model.Params.MIPGap = 0.05\n",
    "model.Params.TimeLimit = 600\n",
    "\n",
    "model.optimize()"
   ]
  },
  {
   "cell_type": "code",
   "execution_count": 40,
   "id": "efc72f3d-f592-460e-be34-1e07780cdff0",
   "metadata": {},
   "outputs": [
    {
     "name": "stdout",
     "output_type": "stream",
     "text": [
      "Do you want to remove sample files?\n",
      "yes/[no]\n"
     ]
    },
    {
     "name": "stdin",
     "output_type": "stream",
     "text": [
      " \n"
     ]
    }
   ],
   "source": [
    "#remove graph samples from local machine\n",
    "print('Do you want to remove sample files?')\n",
    "print('yes/[no]')\n",
    "do_remove = input()\n",
    "if do_remove == 'yes':\n",
    "    for i in range(1,6):\n",
    "        os.remove(f'G{i}.txt')\n",
    "        print(f'G{i}.txt removed')\n",
    "    print('All samples removed')"
   ]
  }
 ],
 "metadata": {
  "kernelspec": {
   "display_name": "Python 3 (ipykernel)",
   "language": "python",
   "name": "python3"
  },
  "language_info": {
   "codemirror_mode": {
    "name": "ipython",
    "version": 3
   },
   "file_extension": ".py",
   "mimetype": "text/x-python",
   "name": "python",
   "nbconvert_exporter": "python",
   "pygments_lexer": "ipython3",
   "version": "3.9.7"
  }
 },
 "nbformat": 4,
 "nbformat_minor": 5
}
