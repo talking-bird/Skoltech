{
  "nbformat": 4,
  "nbformat_minor": 0,
  "metadata": {
    "colab": {
      "name": "Vsevolod_Avilkin_2_2021.ipynb",
      "provenance": []
    },
    "kernelspec": {
      "display_name": "Python 3",
      "language": "python",
      "name": "python3"
    },
    "language_info": {
      "codemirror_mode": {
        "name": "ipython",
        "version": 3
      },
      "file_extension": ".py",
      "mimetype": "text/x-python",
      "name": "python",
      "nbconvert_exporter": "python",
      "pygments_lexer": "ipython3",
      "version": "3.7.4"
    }
  },
  "cells": [
    {
      "cell_type": "markdown",
      "metadata": {
        "id": "mgbs2-pntGA-"
      },
      "source": [
        "## Skoltech\n",
        "## Intro to data science, fall 2021\n",
        "## Assigment 2\n",
        "\n",
        "### Goals\n",
        "- Make exploratory data analysis\n",
        "- Apply feature engineering and feature selection\n",
        "- Try to solve classification tasks and use classification performance metrics\n",
        "\n",
        "\n",
        "# Submiting the answers\n",
        "\n",
        "Google form to submit your answers: https://docs.google.com/forms/d/e/1FAIpQLSfAQzhQGmdCYLtaeeaAn2mgNut5HO4U6l3G1KUbBO0qDtA7FA/viewform\n",
        "\n",
        "Use your **skoltech email**. For Name, Surname use **exactly the same spelling** as in canvas system.\n",
        "\n",
        "---\n",
        "\n",
        "If your answer is a ``float number``, then you must round it up to **3 decimals after the floating point**, e.g. 3.142 for pi or 9.78 for 9.780023\n",
        "\n",
        "---\n",
        "\n",
        "If your answer is a ``list of float or integer numbers``, then they should be reported in descending order, divided by a comma, e.g.:\n",
        "\n",
        "10.453,9.112,5.001,5.000,1.02\n",
        "\n",
        "If your answer is a ``list of str or letters``, then they should be in alphabetical order , e.g.:\n",
        "\n",
        "charlie,foxtrot,kilo,uniform\n",
        "\n",
        "a,c,f\n",
        "\n",
        "---\n",
        "\n",
        "The last part (Q5) does not have corresponding fields in the google form. It is **not optional** and it will be graded manually from your .ipynb file.\n",
        "\n",
        "---\n",
        "\n",
        "If you have any questions regarding this Home Assignment, you can ask them on piazza:https://piazza.com/class/ku068l4dg0068n"
      ]
    },
    {
      "cell_type": "markdown",
      "metadata": {
        "id": "SqrQOgHmtGBF"
      },
      "source": [
        "## Dataset\n",
        "Customer Personality Analysis is a detailed analysis of a company’s ideal customers. It helps a business to better understand its customers and makes it easier for them to modify products according to the specific needs, behaviors and concerns of different types of customers.\n",
        "\n",
        "#### Attributes\n",
        "\n",
        "**People**\n",
        "\n",
        "-   ID: Customer's unique identifier\n",
        "-   Year_Birth: Customer's birth year\n",
        "-   Education: Customer's education level\n",
        "-   Marital_Status: Customer's marital status\n",
        "-   Kidhome: Number of children in customer's household\n",
        "-   Teenhome: Number of teenagers in customer's household\n",
        "-   Dt_Customer: Date of customer's enrollment with the company\n",
        "-   Recency: Number of days since customer's last purchase\n",
        "-   Complain: 1 if customer complained in the last 2 years, 0 otherwise\n",
        "\n",
        "\n",
        "**Products**\n",
        "\n",
        "-   MntWines: Amount spent on wine in last 2 years\n",
        "-   MntFruits: Amount spent on fruits in last 2 years\n",
        "-   MntMeatProducts: Amount spent on meat in last 2 years\n",
        "-   MntFishProducts: Amount spent on fish in last 2 years\n",
        "-   MntSweetProducts: Amount spent on sweets in last 2 years\n",
        "-   MntGoldProds: Amount spent on gold in last 2 years\n",
        "\n",
        "**Promotion**\n",
        "\n",
        "-   NumDealsPurchases: Number of purchases made with a discount\n",
        "-   AcceptedCmp: 1 if customer accepted the offer in the last campaign, 0 otherwise\n",
        "\n",
        "**Behavior**\n",
        "\n",
        "-   NumWebPurchases: Number of purchases made through the company’s web site\n",
        "-   NumCatalogPurchases: Number of purchases made using a catalogue\n",
        "-   NumStorePurchases: Number of purchases made directly in stores\n",
        "-   NumWebVisitsMonth: Number of visits to company’s web site in the last month\n",
        "-   NumDealsPurchases: Number of purchases made with a discount\n"
      ]
    },
    {
      "cell_type": "markdown",
      "metadata": {
        "tags": [],
        "id": "8HnjOQ0NtGBH"
      },
      "source": [
        "#### Import basic libraries"
      ]
    },
    {
      "cell_type": "code",
      "metadata": {
        "id": "IxQ5oO5xbtyW"
      },
      "source": [
        "import pandas as pd\n",
        "import numpy as np\n",
        "import matplotlib.pyplot as plt\n",
        "%matplotlib inline\n",
        "import seaborn as sns\n",
        "sns.set()"
      ],
      "execution_count": 1,
      "outputs": []
    },
    {
      "cell_type": "markdown",
      "metadata": {
        "id": "FKML5V8ZtGBL"
      },
      "source": [
        "#### Read the data"
      ]
    },
    {
      "cell_type": "code",
      "metadata": {
        "colab": {
          "resources": {
            "http://localhost:8080/nbextensions/google.colab/files.js": {
              "data": "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",
              "ok": true,
              "headers": [
                [
                  "content-type",
                  "application/javascript"
                ]
              ],
              "status": 200,
              "status_text": "OK"
            }
          },
          "base_uri": "https://localhost:8080/",
          "height": 107
        },
        "id": "NC83rBlSSj6k",
        "outputId": "d1266eee-8e33-4138-8b78-e3e2b8d31242"
      },
      "source": [
        "COLAB_P = True\n",
        "if COLAB_P:\n",
        "  print(\"Upload your file, then read it with pd.read_csv()\")\n",
        "  from google.colab import files\n",
        "  uploaded = files.upload()\n",
        "  fn = list(uploaded.keys())[0]\n",
        "  print(\"File is uploaded to \", fn)\n",
        "else:\n",
        "  print(\"Place your file to the same directory as the notebook, then read your file with pd.read_csv()\")"
      ],
      "execution_count": 2,
      "outputs": [
        {
          "output_type": "stream",
          "name": "stdout",
          "text": [
            "Upload your file, then read it with pd.read_csv()\n"
          ]
        },
        {
          "output_type": "display_data",
          "data": {
            "text/html": [
              "\n",
              "     <input type=\"file\" id=\"files-22409327-71c6-4914-b230-4d4a41abc18b\" name=\"files[]\" multiple disabled\n",
              "        style=\"border:none\" />\n",
              "     <output id=\"result-22409327-71c6-4914-b230-4d4a41abc18b\">\n",
              "      Upload widget is only available when the cell has been executed in the\n",
              "      current browser session. Please rerun this cell to enable.\n",
              "      </output>\n",
              "      <script src=\"/nbextensions/google.colab/files.js\"></script> "
            ],
            "text/plain": [
              "<IPython.core.display.HTML object>"
            ]
          },
          "metadata": {}
        },
        {
          "output_type": "stream",
          "name": "stdout",
          "text": [
            "Saving marketing_campaign.csv to marketing_campaign.csv\n",
            "File is uploaded to  marketing_campaign.csv\n"
          ]
        }
      ]
    },
    {
      "cell_type": "code",
      "metadata": {
        "id": "mBWPB2ajcTnj"
      },
      "source": [
        "df = pd.read_csv('marketing_campaign.csv', sep='\\t', index_col='ID')"
      ],
      "execution_count": 3,
      "outputs": []
    },
    {
      "cell_type": "markdown",
      "metadata": {
        "tags": [],
        "id": "DrwSLam9tGBN"
      },
      "source": [
        "## 1. Data exploration\n",
        "\n",
        "Let's take a closer look at the data."
      ]
    },
    {
      "cell_type": "markdown",
      "metadata": {
        "id": "yLuSErXOtGBN"
      },
      "source": [
        "### Q1.1\n",
        "\n",
        "#### How many columns in the dataset?"
      ]
    },
    {
      "cell_type": "code",
      "metadata": {
        "colab": {
          "base_uri": "https://localhost:8080/"
        },
        "id": "fEns-M-YtWFa",
        "outputId": "30a2578a-db35-4c45-bd36-882e9184fbda"
      },
      "source": [
        "df.shape[1]"
      ],
      "execution_count": 4,
      "outputs": [
        {
          "output_type": "execute_result",
          "data": {
            "text/plain": [
              "22"
            ]
          },
          "metadata": {},
          "execution_count": 4
        }
      ]
    },
    {
      "cell_type": "markdown",
      "metadata": {
        "id": "WvKtEj6HtGBO"
      },
      "source": [
        "### Q1.2\n",
        "\n",
        "#### How many unique marital statuses are there?"
      ]
    },
    {
      "cell_type": "code",
      "metadata": {
        "colab": {
          "base_uri": "https://localhost:8080/"
        },
        "id": "g2ntz_FCvNib",
        "outputId": "0ef4189e-d5a5-47fb-d343-84b36d7955b7"
      },
      "source": [
        "df.Marital_Status.describe() #8\n",
        "#df.Marital_Status.value_counts()"
      ],
      "execution_count": 5,
      "outputs": [
        {
          "output_type": "execute_result",
          "data": {
            "text/plain": [
              "count        2240\n",
              "unique          8\n",
              "top       Married\n",
              "freq          864\n",
              "Name: Marital_Status, dtype: object"
            ]
          },
          "metadata": {},
          "execution_count": 5
        }
      ]
    },
    {
      "cell_type": "markdown",
      "metadata": {
        "tags": [],
        "id": "oMbSxv-DtGBP"
      },
      "source": [
        "### Q1.3\n",
        "#### What is the average age, if we assume now it is 2021? E.g. if we would have two people born in 2001 and 1999, the average age would be 21. Please answer with an integer."
      ]
    },
    {
      "cell_type": "code",
      "metadata": {
        "colab": {
          "base_uri": "https://localhost:8080/"
        },
        "id": "6egnfEGPys4F",
        "outputId": "37e5cc05-345e-4483-fc5a-780c8a4e4474"
      },
      "source": [
        "2021 - df.Year_Birth.mean()"
      ],
      "execution_count": 6,
      "outputs": [
        {
          "output_type": "execute_result",
          "data": {
            "text/plain": [
              "46.19419642857133"
            ]
          },
          "metadata": {},
          "execution_count": 6
        }
      ]
    },
    {
      "cell_type": "markdown",
      "metadata": {
        "id": "jTJ2XdYxtGBQ"
      },
      "source": [
        "### Q1.4\n",
        "#### There are some columns related to spendings by category, they are starting with 'Mnt': MntWines, MntFruits, etc. In which category people spent the most on average?"
      ]
    },
    {
      "cell_type": "code",
      "metadata": {
        "colab": {
          "base_uri": "https://localhost:8080/"
        },
        "id": "aUOvP3lX0s8D",
        "outputId": "6bfd3b19-7214-4fc0-c383-3ed103e207c5"
      },
      "source": [
        "Mnt =[]\n",
        "for text in df.columns:\n",
        "  if 'Mnt' in text:\n",
        "    Mnt.append(text)\n",
        "print(Mnt)"
      ],
      "execution_count": 7,
      "outputs": [
        {
          "output_type": "stream",
          "name": "stdout",
          "text": [
            "['MntWines', 'MntFruits', 'MntMeatProducts', 'MntFishProducts', 'MntSweetProducts', 'MntGoldProds']\n"
          ]
        }
      ]
    },
    {
      "cell_type": "code",
      "metadata": {
        "colab": {
          "base_uri": "https://localhost:8080/"
        },
        "id": "soW_Z-_Ey-PJ",
        "outputId": "6bc21c7b-dbd1-4340-b2d1-9f7a2f43a1ab"
      },
      "source": [
        "N = np.argmax(df[Mnt[i]].mean() for i in range (len(Mnt)))\n",
        "print(Mnt[N])"
      ],
      "execution_count": 8,
      "outputs": [
        {
          "output_type": "stream",
          "name": "stdout",
          "text": [
            "MntWines\n"
          ]
        }
      ]
    },
    {
      "cell_type": "markdown",
      "metadata": {
        "id": "5dV0wY1LtGBR"
      },
      "source": [
        "### Q1.5\n",
        "\n",
        "There are columns describing how customers make their orders, these columns start with num, e.g. 'NumDealsPurchases',\n",
        " or 'NumWebPurchases'. Build a histogram for the number of web visits (NumWebVisitsMonth). What is the 'most popular' number of visits, i.e. what number of visits encounters most often in the column?"
      ]
    },
    {
      "cell_type": "code",
      "metadata": {
        "colab": {
          "base_uri": "https://localhost:8080/",
          "height": 268
        },
        "id": "7VU8ideP2nKE",
        "outputId": "5a47dec4-4b21-4a0b-ec03-1ba5fa530fda"
      },
      "source": [
        "plt.hist(df.NumWebVisitsMonth);"
      ],
      "execution_count": 9,
      "outputs": [
        {
          "output_type": "display_data",
          "data": {
            "image/png": "[encoded data removed]",
            "text/plain": [
              "<Figure size 432x288 with 1 Axes>"
            ]
          },
          "metadata": {
            "needs_background": "light"
          }
        }
      ]
    },
    {
      "cell_type": "code",
      "metadata": {
        "colab": {
          "base_uri": "https://localhost:8080/"
        },
        "id": "15ePPd0DvWBI",
        "outputId": "7b61c6ff-fdaf-49a9-e4a8-80129905a962"
      },
      "source": [
        "df.NumWebVisitsMonth.value_counts()"
      ],
      "execution_count": 10,
      "outputs": [
        {
          "output_type": "execute_result",
          "data": {
            "text/plain": [
              "7     393\n",
              "8     342\n",
              "6     340\n",
              "5     281\n",
              "4     218\n",
              "3     205\n",
              "2     202\n",
              "1     153\n",
              "9      83\n",
              "0      11\n",
              "20      3\n",
              "10      3\n",
              "19      2\n",
              "14      2\n",
              "17      1\n",
              "13      1\n",
              "Name: NumWebVisitsMonth, dtype: int64"
            ]
          },
          "metadata": {},
          "execution_count": 10
        }
      ]
    },
    {
      "cell_type": "markdown",
      "metadata": {
        "id": "bGl_nE8ktGBR"
      },
      "source": [
        "### Q1.6 \n",
        "\n",
        "Let's try to analyze different features together. Build a [pairplot](https://seaborn.pydata.org/generated/seaborn.pairplot.html) for all the 'Num..' columns with 'AcceptedCmp' as a 'hue' argument. The hue argument adds a color marker to the plots and it will allow us to analyze how customers with different behavior patterns react to the marketing proposals. Note, to use the column as hue, it should be passed with the rest of the columns; also you can pass `kind='scatter', plot_kws=dict(alpha=0.2)` arguments to make the dots semi-transparent.\n",
        "\n",
        "Which of the statements are true, if judged from the plot?\n",
        "- (a) The people, who don't visit web site don't buy with a discount\n",
        "- (b) All the people who often visit the website buy a lot online\n",
        "- (c) People, who buy with a discount, much more often accept marketing campaign\n",
        "- (d) There is not any clear dependency between web visits and the number of catalog purchases"
      ]
    },
    {
      "cell_type": "code",
      "metadata": {
        "colab": {
          "base_uri": "https://localhost:8080/"
        },
        "id": "sHgJe01p8KnD",
        "outputId": "4b1df9b0-ab26-4066-b675-5e369e8b631d"
      },
      "source": [
        "Num =[]\n",
        "for text in df.columns:\n",
        "  if 'Num' in text:\n",
        "    Num.append(text)\n",
        "print(Num)\n",
        "Num.append('AcceptedCmp')"
      ],
      "execution_count": 11,
      "outputs": [
        {
          "output_type": "stream",
          "name": "stdout",
          "text": [
            "['NumDealsPurchases', 'NumWebPurchases', 'NumCatalogPurchases', 'NumStorePurchases', 'NumWebVisitsMonth']\n"
          ]
        }
      ]
    },
    {
      "cell_type": "code",
      "metadata": {
        "colab": {
          "base_uri": "https://localhost:8080/",
          "height": 810
        },
        "id": "9PhfxtZw95xc",
        "outputId": "221ed543-13a5-4b88-8f59-bfcd1af1e144"
      },
      "source": [
        "NumCol = df[Num]\n",
        "sns.pairplot(NumCol, hue = 'AcceptedCmp', kind='scatter', plot_kws=dict(alpha=0.2));"
      ],
      "execution_count": 12,
      "outputs": [
        {
          "output_type": "display_data",
          "data": {
            "image/png": "[encoded data removed]",
            "text/plain": [
              "<Figure size 992.3x900 with 30 Axes>"
            ]
          },
          "metadata": {
            "needs_background": "light"
          }
        }
      ]
    },
    {
      "cell_type": "markdown",
      "metadata": {
        "id": "HSXIgfHzITM3"
      },
      "source": [
        "- (a) The people, who don't visit web site don't buy with a discount: false\n",
        "- (b) All the people who often visit the website buy a lot online: false\n",
        "- (c) People, who buy with a discount, much more often accept marketing campaign: false\n",
        "- (d) There is not any clear dependency between web visits and the number of catalog purchases: true"
      ]
    },
    {
      "cell_type": "markdown",
      "metadata": {
        "id": "2W44HI-mtGBR"
      },
      "source": [
        "### Q1.7\n",
        "\n",
        "Build a [crosstab](https://pandas.pydata.org/docs/reference/api/pandas.crosstab.html) for teen at home ('Teenhome') and kids at home ('Kidhome'). How many customers have 2 kids and a single teenager?"
      ]
    },
    {
      "cell_type": "code",
      "metadata": {
        "colab": {
          "base_uri": "https://localhost:8080/",
          "height": 175
        },
        "id": "JJthBxLAKLKc",
        "outputId": "4db4be13-92dd-4882-924d-1e7c1a87dc0e"
      },
      "source": [
        "pd.crosstab(df.Teenhome,df.Kidhome)"
      ],
      "execution_count": 13,
      "outputs": [
        {
          "output_type": "execute_result",
          "data": {
            "text/html": [
              "<div>\n",
              "<style scoped>\n",
              "    .dataframe tbody tr th:only-of-type {\n",
              "        vertical-align: middle;\n",
              "    }\n",
              "\n",
              "    .dataframe tbody tr th {\n",
              "        vertical-align: top;\n",
              "    }\n",
              "\n",
              "    .dataframe thead th {\n",
              "        text-align: right;\n",
              "    }\n",
              "</style>\n",
              "<table border=\"1\" class=\"dataframe\">\n",
              "  <thead>\n",
              "    <tr style=\"text-align: right;\">\n",
              "      <th>Kidhome</th>\n",
              "      <th>0</th>\n",
              "      <th>1</th>\n",
              "      <th>2</th>\n",
              "    </tr>\n",
              "    <tr>\n",
              "      <th>Teenhome</th>\n",
              "      <th></th>\n",
              "      <th></th>\n",
              "      <th></th>\n",
              "    </tr>\n",
              "  </thead>\n",
              "  <tbody>\n",
              "    <tr>\n",
              "      <th>0</th>\n",
              "      <td>638</td>\n",
              "      <td>503</td>\n",
              "      <td>17</td>\n",
              "    </tr>\n",
              "    <tr>\n",
              "      <th>1</th>\n",
              "      <td>625</td>\n",
              "      <td>374</td>\n",
              "      <td>31</td>\n",
              "    </tr>\n",
              "    <tr>\n",
              "      <th>2</th>\n",
              "      <td>30</td>\n",
              "      <td>22</td>\n",
              "      <td>0</td>\n",
              "    </tr>\n",
              "  </tbody>\n",
              "</table>\n",
              "</div>"
            ],
            "text/plain": [
              "Kidhome     0    1   2\n",
              "Teenhome              \n",
              "0         638  503  17\n",
              "1         625  374  31\n",
              "2          30   22   0"
            ]
          },
          "metadata": {},
          "execution_count": 13
        }
      ]
    },
    {
      "cell_type": "markdown",
      "metadata": {
        "id": "J4iM7ErKNEuP"
      },
      "source": [
        "31"
      ]
    },
    {
      "cell_type": "markdown",
      "metadata": {
        "id": "fV0j4_7JtGBR"
      },
      "source": [
        "### Q1.8\n",
        "There is a 'Dt_Customer' column with a customer registration date. In which month there were a maximum number of registrations? Answer with the name, i.e. 'January'. Hint: you probably want to convert the column to datetime from string."
      ]
    },
    {
      "cell_type": "code",
      "metadata": {
        "colab": {
          "base_uri": "https://localhost:8080/"
        },
        "id": "g1sVdiuMNLQT",
        "outputId": "1f9eda86-1b45-49ef-d615-b7355c1c66ce"
      },
      "source": [
        "from datetime import datetime\n",
        "dates = pd.to_datetime(df.Dt_Customer)\n",
        "df['Month'] = dates.dt.month_name()\n",
        "df.Month.value_counts()"
      ],
      "execution_count": 14,
      "outputs": [
        {
          "output_type": "execute_result",
          "data": {
            "text/plain": [
              "August       211\n",
              "October      209\n",
              "March        202\n",
              "December     202\n",
              "May          192\n",
              "January      191\n",
              "February     187\n",
              "November     185\n",
              "April        184\n",
              "June         170\n",
              "September    166\n",
              "July         141\n",
              "Name: Month, dtype: int64"
            ]
          },
          "metadata": {},
          "execution_count": 14
        }
      ]
    },
    {
      "cell_type": "markdown",
      "metadata": {
        "id": "1blJ7ygKOimu"
      },
      "source": [
        "August"
      ]
    },
    {
      "cell_type": "code",
      "metadata": {
        "id": "cGI0zNOEtBNY"
      },
      "source": [
        "df.drop(columns=['Month'],inplace=True)"
      ],
      "execution_count": 15,
      "outputs": []
    },
    {
      "cell_type": "markdown",
      "metadata": {
        "id": "4rRJDB7CtGBS"
      },
      "source": [
        "## 2. Preprocessing\n",
        "The goal of the segment is to prepare data for further work"
      ]
    },
    {
      "cell_type": "markdown",
      "metadata": {
        "id": "Tp0VUYk7tGBS"
      },
      "source": [
        "### Q2.1\n",
        "There are two columns, that has the same value for all the people and they don't have a description in the sections above. Let's drop them. As an answer, write the names of these columns divided by a comma."
      ]
    },
    {
      "cell_type": "code",
      "metadata": {
        "colab": {
          "base_uri": "https://localhost:8080/",
          "height": 257
        },
        "id": "cEVO76QwSRZP",
        "outputId": "a579c505-8486-47a4-c653-f5450f0bc813"
      },
      "source": [
        "df.head()"
      ],
      "execution_count": 16,
      "outputs": [
        {
          "output_type": "execute_result",
          "data": {
            "text/html": [
              "<div>\n",
              "<style scoped>\n",
              "    .dataframe tbody tr th:only-of-type {\n",
              "        vertical-align: middle;\n",
              "    }\n",
              "\n",
              "    .dataframe tbody tr th {\n",
              "        vertical-align: top;\n",
              "    }\n",
              "\n",
              "    .dataframe thead th {\n",
              "        text-align: right;\n",
              "    }\n",
              "</style>\n",
              "<table border=\"1\" class=\"dataframe\">\n",
              "  <thead>\n",
              "    <tr style=\"text-align: right;\">\n",
              "      <th></th>\n",
              "      <th>Year_Birth</th>\n",
              "      <th>Education</th>\n",
              "      <th>Marital_Status</th>\n",
              "      <th>Kidhome</th>\n",
              "      <th>Teenhome</th>\n",
              "      <th>Dt_Customer</th>\n",
              "      <th>Recency</th>\n",
              "      <th>MntWines</th>\n",
              "      <th>MntFruits</th>\n",
              "      <th>MntMeatProducts</th>\n",
              "      <th>MntFishProducts</th>\n",
              "      <th>MntSweetProducts</th>\n",
              "      <th>MntGoldProds</th>\n",
              "      <th>NumDealsPurchases</th>\n",
              "      <th>NumWebPurchases</th>\n",
              "      <th>NumCatalogPurchases</th>\n",
              "      <th>NumStorePurchases</th>\n",
              "      <th>NumWebVisitsMonth</th>\n",
              "      <th>Complain</th>\n",
              "      <th>Z_CostContact</th>\n",
              "      <th>Z_Revenue</th>\n",
              "      <th>AcceptedCmp</th>\n",
              "    </tr>\n",
              "    <tr>\n",
              "      <th>ID</th>\n",
              "      <th></th>\n",
              "      <th></th>\n",
              "      <th></th>\n",
              "      <th></th>\n",
              "      <th></th>\n",
              "      <th></th>\n",
              "      <th></th>\n",
              "      <th></th>\n",
              "      <th></th>\n",
              "      <th></th>\n",
              "      <th></th>\n",
              "      <th></th>\n",
              "      <th></th>\n",
              "      <th></th>\n",
              "      <th></th>\n",
              "      <th></th>\n",
              "      <th></th>\n",
              "      <th></th>\n",
              "      <th></th>\n",
              "      <th></th>\n",
              "      <th></th>\n",
              "      <th></th>\n",
              "    </tr>\n",
              "  </thead>\n",
              "  <tbody>\n",
              "    <tr>\n",
              "      <th>5524</th>\n",
              "      <td>1963</td>\n",
              "      <td>Graduation</td>\n",
              "      <td>Single</td>\n",
              "      <td>0</td>\n",
              "      <td>0</td>\n",
              "      <td>2018-04-09</td>\n",
              "      <td>58</td>\n",
              "      <td>635</td>\n",
              "      <td>88</td>\n",
              "      <td>546</td>\n",
              "      <td>172</td>\n",
              "      <td>88</td>\n",
              "      <td>88</td>\n",
              "      <td>3</td>\n",
              "      <td>8</td>\n",
              "      <td>10</td>\n",
              "      <td>4</td>\n",
              "      <td>7</td>\n",
              "      <td>0</td>\n",
              "      <td>3</td>\n",
              "      <td>11</td>\n",
              "      <td>1</td>\n",
              "    </tr>\n",
              "    <tr>\n",
              "      <th>2174</th>\n",
              "      <td>1960</td>\n",
              "      <td>Graduation</td>\n",
              "      <td>Single</td>\n",
              "      <td>1</td>\n",
              "      <td>1</td>\n",
              "      <td>2020-08-03</td>\n",
              "      <td>38</td>\n",
              "      <td>11</td>\n",
              "      <td>1</td>\n",
              "      <td>6</td>\n",
              "      <td>2</td>\n",
              "      <td>1</td>\n",
              "      <td>6</td>\n",
              "      <td>2</td>\n",
              "      <td>1</td>\n",
              "      <td>1</td>\n",
              "      <td>2</td>\n",
              "      <td>5</td>\n",
              "      <td>0</td>\n",
              "      <td>3</td>\n",
              "      <td>11</td>\n",
              "      <td>0</td>\n",
              "    </tr>\n",
              "    <tr>\n",
              "      <th>4141</th>\n",
              "      <td>1971</td>\n",
              "      <td>Graduation</td>\n",
              "      <td>Together</td>\n",
              "      <td>0</td>\n",
              "      <td>0</td>\n",
              "      <td>2019-08-21</td>\n",
              "      <td>26</td>\n",
              "      <td>426</td>\n",
              "      <td>49</td>\n",
              "      <td>127</td>\n",
              "      <td>111</td>\n",
              "      <td>21</td>\n",
              "      <td>42</td>\n",
              "      <td>1</td>\n",
              "      <td>8</td>\n",
              "      <td>2</td>\n",
              "      <td>10</td>\n",
              "      <td>4</td>\n",
              "      <td>0</td>\n",
              "      <td>3</td>\n",
              "      <td>11</td>\n",
              "      <td>0</td>\n",
              "    </tr>\n",
              "    <tr>\n",
              "      <th>6182</th>\n",
              "      <td>1990</td>\n",
              "      <td>Graduation</td>\n",
              "      <td>Together</td>\n",
              "      <td>1</td>\n",
              "      <td>0</td>\n",
              "      <td>2020-10-02</td>\n",
              "      <td>26</td>\n",
              "      <td>11</td>\n",
              "      <td>4</td>\n",
              "      <td>20</td>\n",
              "      <td>10</td>\n",
              "      <td>3</td>\n",
              "      <td>5</td>\n",
              "      <td>2</td>\n",
              "      <td>2</td>\n",
              "      <td>0</td>\n",
              "      <td>4</td>\n",
              "      <td>6</td>\n",
              "      <td>0</td>\n",
              "      <td>3</td>\n",
              "      <td>11</td>\n",
              "      <td>0</td>\n",
              "    </tr>\n",
              "    <tr>\n",
              "      <th>5324</th>\n",
              "      <td>1987</td>\n",
              "      <td>PhD</td>\n",
              "      <td>Married</td>\n",
              "      <td>1</td>\n",
              "      <td>0</td>\n",
              "      <td>2020-01-19</td>\n",
              "      <td>94</td>\n",
              "      <td>173</td>\n",
              "      <td>43</td>\n",
              "      <td>118</td>\n",
              "      <td>46</td>\n",
              "      <td>27</td>\n",
              "      <td>15</td>\n",
              "      <td>5</td>\n",
              "      <td>5</td>\n",
              "      <td>3</td>\n",
              "      <td>6</td>\n",
              "      <td>5</td>\n",
              "      <td>0</td>\n",
              "      <td>3</td>\n",
              "      <td>11</td>\n",
              "      <td>0</td>\n",
              "    </tr>\n",
              "  </tbody>\n",
              "</table>\n",
              "</div>"
            ],
            "text/plain": [
              "      Year_Birth   Education  ... Z_Revenue  AcceptedCmp\n",
              "ID                            ...                       \n",
              "5524        1963  Graduation  ...        11            1\n",
              "2174        1960  Graduation  ...        11            0\n",
              "4141        1971  Graduation  ...        11            0\n",
              "6182        1990  Graduation  ...        11            0\n",
              "5324        1987         PhD  ...        11            0\n",
              "\n",
              "[5 rows x 22 columns]"
            ]
          },
          "metadata": {},
          "execution_count": 16
        }
      ]
    },
    {
      "cell_type": "code",
      "metadata": {
        "colab": {
          "base_uri": "https://localhost:8080/"
        },
        "id": "ZRlLVj1eTPTD",
        "outputId": "080e86e3-a96f-486e-92f7-60ec887959d5"
      },
      "source": [
        "df.Z_CostContact.value_counts()"
      ],
      "execution_count": 17,
      "outputs": [
        {
          "output_type": "execute_result",
          "data": {
            "text/plain": [
              "3    2240\n",
              "Name: Z_CostContact, dtype: int64"
            ]
          },
          "metadata": {},
          "execution_count": 17
        }
      ]
    },
    {
      "cell_type": "code",
      "metadata": {
        "colab": {
          "base_uri": "https://localhost:8080/"
        },
        "id": "YNsuGhffTWCn",
        "outputId": "fb4d7a74-1dcc-4d48-e75f-648eab77993a"
      },
      "source": [
        "df.Z_Revenue.value_counts()"
      ],
      "execution_count": 18,
      "outputs": [
        {
          "output_type": "execute_result",
          "data": {
            "text/plain": [
              "11    2240\n",
              "Name: Z_Revenue, dtype: int64"
            ]
          },
          "metadata": {},
          "execution_count": 18
        }
      ]
    },
    {
      "cell_type": "code",
      "metadata": {
        "id": "o2qA7W44TfaT"
      },
      "source": [
        "df = df.drop(columns=['Z_CostContact','Z_Revenue'])"
      ],
      "execution_count": 19,
      "outputs": []
    },
    {
      "cell_type": "markdown",
      "metadata": {
        "id": "qzfaTRThtGBS"
      },
      "source": [
        "### Q2.2\n",
        "As we could see before, there are some strange rare marital statuses. We going to leave only three options - 'Married', 'Together' and 'Single'. All other options should be changed to 'Single'. How many people are now in this category?"
      ]
    },
    {
      "cell_type": "code",
      "metadata": {
        "colab": {
          "base_uri": "https://localhost:8080/"
        },
        "id": "6_yJFrPaUmHn",
        "outputId": "1da485de-2a59-4a4f-93fd-6ae40a6688c7"
      },
      "source": [
        "df.Marital_Status.value_counts()"
      ],
      "execution_count": 20,
      "outputs": [
        {
          "output_type": "execute_result",
          "data": {
            "text/plain": [
              "Married     864\n",
              "Together    580\n",
              "Single      480\n",
              "Divorced    232\n",
              "Widow        77\n",
              "Alone         3\n",
              "Absurd        2\n",
              "YOLO          2\n",
              "Name: Marital_Status, dtype: int64"
            ]
          },
          "metadata": {},
          "execution_count": 20
        }
      ]
    },
    {
      "cell_type": "code",
      "metadata": {
        "id": "jzTXQ-kBXIYn"
      },
      "source": [
        "df.loc[(df.Marital_Status != 'Married')& (df.Marital_Status != 'Together')&(df.Marital_Status!='Single'),'Marital_Status'] = 'Single'\n"
      ],
      "execution_count": 21,
      "outputs": []
    },
    {
      "cell_type": "code",
      "metadata": {
        "colab": {
          "base_uri": "https://localhost:8080/"
        },
        "id": "CEci_NpaZps6",
        "outputId": "3acf97b2-8b94-475b-c740-74405b09b9de"
      },
      "source": [
        "df.Marital_Status.value_counts()"
      ],
      "execution_count": 22,
      "outputs": [
        {
          "output_type": "execute_result",
          "data": {
            "text/plain": [
              "Married     864\n",
              "Single      796\n",
              "Together    580\n",
              "Name: Marital_Status, dtype: int64"
            ]
          },
          "metadata": {},
          "execution_count": 22
        }
      ]
    },
    {
      "cell_type": "markdown",
      "metadata": {
        "id": "vX8kjrSLbMxd"
      },
      "source": [
        "796"
      ]
    },
    {
      "cell_type": "markdown",
      "metadata": {
        "id": "Ext2ny9UtGBT"
      },
      "source": [
        "### Q2.3\n",
        "\n",
        "Now it's time to talk about the task for today. Our big retail company \"Y6\" want to launch a marketing campaign, but we want to make the marketing proposal only to people, who would accept it with the high probability. So we need to build a model that would predict it.\n",
        "\n",
        "Let's divide the dataset into a target (the 'AcceptedCmp' column) and data (the rest of the columns). How many positive labels are there in target?\n"
      ]
    },
    {
      "cell_type": "code",
      "metadata": {
        "id": "JwZ1kAYhbQYX"
      },
      "source": [
        "y = df['AcceptedCmp']\n",
        "X = df.drop(columns=['AcceptedCmp'])"
      ],
      "execution_count": 23,
      "outputs": []
    },
    {
      "cell_type": "code",
      "metadata": {
        "colab": {
          "base_uri": "https://localhost:8080/"
        },
        "id": "oXnRpoEBcDwd",
        "outputId": "ab5ce348-5caa-40ac-ee01-2fbd6beb8fbc"
      },
      "source": [
        "y.value_counts()"
      ],
      "execution_count": 24,
      "outputs": [
        {
          "output_type": "execute_result",
          "data": {
            "text/plain": [
              "0    1906\n",
              "1     334\n",
              "Name: AcceptedCmp, dtype: int64"
            ]
          },
          "metadata": {},
          "execution_count": 24
        }
      ]
    },
    {
      "cell_type": "markdown",
      "metadata": {
        "id": "CB_cktZEchfG"
      },
      "source": [
        "334"
      ]
    },
    {
      "cell_type": "markdown",
      "metadata": {
        "id": "GoFpr5YKtGBT"
      },
      "source": [
        "### Q2.4\n",
        "\n",
        "To honestly estimate the performance of the model, we need to split the dataset into train and test parts. In reality, a test could be millions of customers and a train could be a small playground to estimate the campaign. Our current dataset is not that big, so let's say the test would be just 30% of the dataset. Use `train_test_split` to make a split. Please set the `random_state` argument to 42 and don't forget to shuffle and stratify.\n",
        "How many positive labels do you have in test targets?"
      ]
    },
    {
      "cell_type": "code",
      "metadata": {
        "id": "wBfLfi40cqb7"
      },
      "source": [
        "from sklearn.model_selection import train_test_split\n",
        "X_train, X_test, y_train, y_test = train_test_split(X,y, test_size=0.3, random_state=42, shuffle=True,stratify=y)"
      ],
      "execution_count": 25,
      "outputs": []
    },
    {
      "cell_type": "code",
      "metadata": {
        "colab": {
          "base_uri": "https://localhost:8080/"
        },
        "id": "GKpE5Lcw0Lxu",
        "outputId": "0ec706a5-6abd-4ca3-82af-27fe022bfb00"
      },
      "source": [
        "y_test.value_counts()"
      ],
      "execution_count": 26,
      "outputs": [
        {
          "output_type": "execute_result",
          "data": {
            "text/plain": [
              "0    572\n",
              "1    100\n",
              "Name: AcceptedCmp, dtype: int64"
            ]
          },
          "metadata": {},
          "execution_count": 26
        }
      ]
    },
    {
      "cell_type": "markdown",
      "metadata": {
        "id": "kZgo7nFD0aap"
      },
      "source": [
        "100"
      ]
    },
    {
      "cell_type": "markdown",
      "metadata": {
        "tags": [],
        "id": "Byw1s5QbtGBU"
      },
      "source": [
        "## 3. Basic models\n",
        "\n",
        "Let's start with the most basic models. We going to use logistic regression, and classifier, and random forest without any modification or param tuning. This way we could be sure our future modification would indeed make the model stronger.\n",
        "\n",
        "Some of the features are not usable in the current form, e.g. `Dt_Customer` as a date or `Education` as categorical, so let's make a copy of x with the following columns for the section:\n",
        "\n",
        "'Year_Birth', 'Kidhome',\n",
        "'Teenhome',  'Recency', 'MntWines', 'MntFruits',\n",
        "'MntMeatProducts', 'MntFishProducts', 'MntSweetProducts',\n",
        "'MntGoldProds', 'NumDealsPurchases', 'NumWebPurchases',\n",
        "'NumCatalogPurchases', 'NumStorePurchases', 'NumWebVisitsMonth', 'Complain'"
      ]
    },
    {
      "cell_type": "code",
      "metadata": {
        "id": "Rvl5qeRL1YLi"
      },
      "source": [
        "Xcopy = df[['Year_Birth', 'Kidhome', 'Teenhome', 'Recency', 'MntWines', 'MntFruits', 'MntMeatProducts', 'MntFishProducts', 'MntSweetProducts', 'MntGoldProds', 'NumDealsPurchases', 'NumWebPurchases', 'NumCatalogPurchases', 'NumStorePurchases', 'NumWebVisitsMonth', 'Complain']].copy()\n",
        "Xcopy_train, Xcopy_test, y_train, y_test = train_test_split(Xcopy,y, test_size=0.3, random_state=42, shuffle=True,stratify=y)\n",
        "from sklearn.metrics import f1_score"
      ],
      "execution_count": 29,
      "outputs": []
    },
    {
      "cell_type": "code",
      "metadata": {
        "id": "otJYSwsEP1kc",
        "colab": {
          "base_uri": "https://localhost:8080/"
        },
        "outputId": "1deb350e-8248-45e4-b0d8-d6e5ff7ccadb"
      },
      "source": [
        "df.isnull().sum() #check for missing values"
      ],
      "execution_count": 30,
      "outputs": [
        {
          "output_type": "execute_result",
          "data": {
            "text/plain": [
              "Year_Birth             0\n",
              "Education              0\n",
              "Marital_Status         0\n",
              "Kidhome                0\n",
              "Teenhome               0\n",
              "Dt_Customer            0\n",
              "Recency                0\n",
              "MntWines               0\n",
              "MntFruits              0\n",
              "MntMeatProducts        0\n",
              "MntFishProducts        0\n",
              "MntSweetProducts       0\n",
              "MntGoldProds           0\n",
              "NumDealsPurchases      0\n",
              "NumWebPurchases        0\n",
              "NumCatalogPurchases    0\n",
              "NumStorePurchases      0\n",
              "NumWebVisitsMonth      0\n",
              "Complain               0\n",
              "AcceptedCmp            0\n",
              "dtype: int64"
            ]
          },
          "metadata": {},
          "execution_count": 30
        }
      ]
    },
    {
      "cell_type": "markdown",
      "metadata": {
        "id": "uaFi8AmStGBU"
      },
      "source": [
        "### Q3.1\n",
        "\n",
        "Build a logistic regression model. Set max_iter parameter to 5000. What is the f1_score for the model?\n"
      ]
    },
    {
      "cell_type": "code",
      "metadata": {
        "id": "VddfHNBX2rZ7"
      },
      "source": [
        "from sklearn.linear_model import LogisticRegression"
      ],
      "execution_count": 31,
      "outputs": []
    },
    {
      "cell_type": "code",
      "metadata": {
        "colab": {
          "base_uri": "https://localhost:8080/"
        },
        "id": "Hv6nu9JnJQcz",
        "outputId": "580c9818-6ed6-4f9c-8454-2c048498639b"
      },
      "source": [
        "clf = LogisticRegression(max_iter = 5000)\n",
        "clf.fit(Xcopy_train,y_train)\n",
        "y_pred = clf.predict(Xcopy_test)\n",
        "print('f1_score = ',f1_score(y_test,y_pred))"
      ],
      "execution_count": 32,
      "outputs": [
        {
          "output_type": "stream",
          "name": "stdout",
          "text": [
            "f1_score =  0.27067669172932335\n"
          ]
        }
      ]
    },
    {
      "cell_type": "markdown",
      "metadata": {
        "id": "9WTYSh68tGBU"
      },
      "source": [
        "### Q3.2\n",
        "\n",
        "Build a k-neighbors classifier. What is the f1_score for the model?"
      ]
    },
    {
      "cell_type": "code",
      "metadata": {
        "id": "rDxeL0obRiFX"
      },
      "source": [
        "from sklearn.neighbors import KNeighborsClassifier"
      ],
      "execution_count": 33,
      "outputs": []
    },
    {
      "cell_type": "code",
      "metadata": {
        "colab": {
          "base_uri": "https://localhost:8080/"
        },
        "id": "CcUlff1JSB4E",
        "outputId": "a4f39efb-e298-4640-b187-3ed45af17956"
      },
      "source": [
        "clf = KNeighborsClassifier()\n",
        "clf.fit(Xcopy_train,y_train)\n",
        "\n",
        "y_pred = clf.predict(Xcopy_test)\n",
        "print('f1_score = ',f1_score(y_test,y_pred))"
      ],
      "execution_count": 142,
      "outputs": [
        {
          "output_type": "stream",
          "name": "stdout",
          "text": [
            "f1_score =  0.2647058823529412\n"
          ]
        }
      ]
    },
    {
      "cell_type": "markdown",
      "metadata": {
        "id": "bz__J1i9tGBU"
      },
      "source": [
        "### Q3.3\n",
        "\n",
        "Build a random forest classifier. What is the f1_score for the model?"
      ]
    },
    {
      "cell_type": "code",
      "metadata": {
        "id": "lI1EES1FocEK"
      },
      "source": [
        "from sklearn.ensemble import RandomForestClassifier"
      ],
      "execution_count": 35,
      "outputs": []
    },
    {
      "cell_type": "code",
      "metadata": {
        "colab": {
          "base_uri": "https://localhost:8080/"
        },
        "id": "LZ-MzI6ExCtU",
        "outputId": "07e67066-b90f-430b-d312-8db3a3c815cf"
      },
      "source": [
        "model = RandomForestClassifier()\n",
        "\n",
        "model.fit(Xcopy_train,y_train)\n",
        "y_pred = model.predict(Xcopy_test)\n",
        "\n",
        "print('f1_score = ',f1_score(y_test,y_pred))"
      ],
      "execution_count": 140,
      "outputs": [
        {
          "output_type": "stream",
          "name": "stdout",
          "text": [
            "f1_score =  0.373134328358209\n"
          ]
        }
      ]
    },
    {
      "cell_type": "markdown",
      "metadata": {
        "id": "gs0q9p7rtGBV"
      },
      "source": [
        "### Q3.4\n",
        "\n",
        "The models without fine-tuning are not as effective. First, let's try to regularize the regression with the L2 norm. Use 5-split cross-validation grid search to find the optimal C. What is the f1 score for the model trained on the full train dataset with this regularization?"
      ]
    },
    {
      "cell_type": "code",
      "metadata": {
        "id": "M82crn2f1Wxy"
      },
      "source": [
        "from sklearn.model_selection import StratifiedKFold\n",
        "from sklearn.model_selection import GridSearchCV\n",
        "from scipy import stats"
      ],
      "execution_count": 37,
      "outputs": []
    },
    {
      "cell_type": "code",
      "metadata": {
        "colab": {
          "base_uri": "https://localhost:8080/"
        },
        "id": "wDBVgHUozcvn",
        "outputId": "2f2193da-fc20-4cd5-a0fc-7717acc0c43b"
      },
      "source": [
        "cv = StratifiedKFold(shuffle = True,random_state=42)\n",
        "clf = LogisticRegression(penalty='l2',max_iter = 5000)\n",
        "\n",
        "grid = {\n",
        "    'C': np.logspace(-1,1,50)\n",
        "}\n",
        "gs = GridSearchCV(clf, param_grid=grid,scoring='f1',cv=cv,n_jobs=-1)\n",
        "gs.fit(Xcopy_train,y_train)"
      ],
      "execution_count": 38,
      "outputs": [
        {
          "output_type": "execute_result",
          "data": {
            "text/plain": [
              "GridSearchCV(cv=StratifiedKFold(n_splits=5, random_state=42, shuffle=True),\n",
              "             error_score=nan,\n",
              "             estimator=LogisticRegression(C=1.0, class_weight=None, dual=False,\n",
              "                                          fit_intercept=True,\n",
              "                                          intercept_scaling=1, l1_ratio=None,\n",
              "                                          max_iter=5000, multi_class='auto',\n",
              "                                          n_jobs=None, penalty='l2',\n",
              "                                          random_state=None, solver='lbfgs',\n",
              "                                          tol=0.0001, verbose=0,\n",
              "                                          warm_start=False),\n",
              "             iid='deprecate...\n",
              "        1.04811313,  1.1513954 ,  1.26485522,  1.38949549,  1.52641797,\n",
              "        1.67683294,  1.84206997,  2.02358965,  2.22299648,  2.44205309,\n",
              "        2.6826958 ,  2.9470517 ,  3.23745754,  3.55648031,  3.90693994,\n",
              "        4.29193426,  4.71486636,  5.17947468,  5.68986603,  6.25055193,\n",
              "        6.86648845,  7.54312006,  8.28642773,  9.10298178, 10.        ])},\n",
              "             pre_dispatch='2*n_jobs', refit=True, return_train_score=False,\n",
              "             scoring='f1', verbose=0)"
            ]
          },
          "metadata": {},
          "execution_count": 38
        }
      ]
    },
    {
      "cell_type": "code",
      "metadata": {
        "colab": {
          "base_uri": "https://localhost:8080/"
        },
        "id": "sdo0snK86Ag9",
        "outputId": "e08f1732-cc90-44f6-e218-87d74025f96c"
      },
      "source": [
        "gs.best_estimator_"
      ],
      "execution_count": 39,
      "outputs": [
        {
          "output_type": "execute_result",
          "data": {
            "text/plain": [
              "LogisticRegression(C=4.714866363457392, class_weight=None, dual=False,\n",
              "                   fit_intercept=True, intercept_scaling=1, l1_ratio=None,\n",
              "                   max_iter=5000, multi_class='auto', n_jobs=None, penalty='l2',\n",
              "                   random_state=None, solver='lbfgs', tol=0.0001, verbose=0,\n",
              "                   warm_start=False)"
            ]
          },
          "metadata": {},
          "execution_count": 39
        }
      ]
    },
    {
      "cell_type": "code",
      "metadata": {
        "colab": {
          "base_uri": "https://localhost:8080/"
        },
        "id": "KBjYTqlBBScZ",
        "outputId": "aa6b0c3a-8aa1-4a56-acd1-df437f1adf4d"
      },
      "source": [
        "gs.best_score_"
      ],
      "execution_count": 40,
      "outputs": [
        {
          "output_type": "execute_result",
          "data": {
            "text/plain": [
              "0.3138965412607754"
            ]
          },
          "metadata": {},
          "execution_count": 40
        }
      ]
    },
    {
      "cell_type": "code",
      "metadata": {
        "colab": {
          "base_uri": "https://localhost:8080/"
        },
        "id": "Bnv61KZjprX6",
        "outputId": "7a1b42a1-55e7-4889-8ffb-21e5d187bff1"
      },
      "source": [
        "clf = gs.best_estimator_\n",
        "clf.fit(Xcopy_train,y_train)\n",
        "y_pred = clf.predict(Xcopy_test)\n",
        "f1_score(y_test,y_pred)"
      ],
      "execution_count": 41,
      "outputs": [
        {
          "output_type": "execute_result",
          "data": {
            "text/plain": [
              "0.27067669172932335"
            ]
          },
          "metadata": {},
          "execution_count": 41
        }
      ]
    },
    {
      "cell_type": "markdown",
      "metadata": {
        "id": "Np-SkvXIJEN_"
      },
      "source": [
        "C = 4.715"
      ]
    },
    {
      "cell_type": "markdown",
      "metadata": {
        "id": "-Wiji9uMtGBV"
      },
      "source": [
        "### Q3.5\n",
        "\n",
        "Fine-tune a k-NN classifier, try to find an optimal number of neighbors, weights, and p with a 5-split cross-validation. What is the f1 score for a model trained on a full train dataset with these parameters?"
      ]
    },
    {
      "cell_type": "code",
      "metadata": {
        "id": "atEPpomUcRW1"
      },
      "source": [
        "from sklearn.model_selection import RandomizedSearchCV\n",
        "from scipy import stats"
      ],
      "execution_count": 42,
      "outputs": []
    },
    {
      "cell_type": "code",
      "metadata": {
        "id": "u2EW_iVYBaDO",
        "colab": {
          "base_uri": "https://localhost:8080/"
        },
        "outputId": "2808619a-7aac-4cf0-d6cb-01643c77f8ad"
      },
      "source": [
        "clf = KNeighborsClassifier()\n",
        "\n",
        "params = {\n",
        "    'n_neighbors': stats.randint(2,70),\n",
        "    'weights': ['uniform','distance'],\n",
        "    'p': stats.randint(1,10),\n",
        "}\n",
        "rs = RandomizedSearchCV(estimator=clf,param_distributions=params,n_iter=100,scoring='f1')\n",
        "rs.fit(Xcopy_train,y_train)"
      ],
      "execution_count": 43,
      "outputs": [
        {
          "output_type": "execute_result",
          "data": {
            "text/plain": [
              "RandomizedSearchCV(cv=None, error_score=nan,\n",
              "                   estimator=KNeighborsClassifier(algorithm='auto',\n",
              "                                                  leaf_size=30,\n",
              "                                                  metric='minkowski',\n",
              "                                                  metric_params=None,\n",
              "                                                  n_jobs=None, n_neighbors=5,\n",
              "                                                  p=2, weights='uniform'),\n",
              "                   iid='deprecated', n_iter=100, n_jobs=None,\n",
              "                   param_distributions={'n_neighbors': <scipy.stats._distn_infrastructure.rv_frozen object at 0x7f7aa8efcc50>,\n",
              "                                        'p': <scipy.stats._distn_infrastructure.rv_frozen object at 0x7f7aa8efc250>,\n",
              "                                        'weights': ['uniform', 'distance']},\n",
              "                   pre_dispatch='2*n_jobs', random_state=None, refit=True,\n",
              "                   return_train_score=False, scoring='f1', verbose=0)"
            ]
          },
          "metadata": {},
          "execution_count": 43
        }
      ]
    },
    {
      "cell_type": "code",
      "metadata": {
        "colab": {
          "base_uri": "https://localhost:8080/"
        },
        "id": "k8BVTIP0ffs6",
        "outputId": "dd2208fd-10bc-410d-d456-8bb67efbc22b"
      },
      "source": [
        "rs.best_estimator_"
      ],
      "execution_count": 44,
      "outputs": [
        {
          "output_type": "execute_result",
          "data": {
            "text/plain": [
              "KNeighborsClassifier(algorithm='auto', leaf_size=30, metric='minkowski',\n",
              "                     metric_params=None, n_jobs=None, n_neighbors=3, p=2,\n",
              "                     weights='distance')"
            ]
          },
          "metadata": {},
          "execution_count": 44
        }
      ]
    },
    {
      "cell_type": "code",
      "metadata": {
        "colab": {
          "base_uri": "https://localhost:8080/"
        },
        "id": "SkZOJYqYfiI7",
        "outputId": "2cfd4ce3-03a1-4e80-d4bf-354f150ac365"
      },
      "source": [
        "rs.best_score_"
      ],
      "execution_count": 45,
      "outputs": [
        {
          "output_type": "execute_result",
          "data": {
            "text/plain": [
              "0.2913028936519109"
            ]
          },
          "metadata": {},
          "execution_count": 45
        }
      ]
    },
    {
      "cell_type": "code",
      "metadata": {
        "colab": {
          "base_uri": "https://localhost:8080/"
        },
        "id": "ts0zDJpGwans",
        "outputId": "bd83e425-7f2c-4f34-ea50-c5b36811036e"
      },
      "source": [
        "clf = rs.best_estimator_\n",
        "clf.fit(Xcopy_train,y_train)\n",
        "\n",
        "y_pred = clf.predict(Xcopy_test)\n",
        "f1_score(y_test, y_pred) "
      ],
      "execution_count": 46,
      "outputs": [
        {
          "output_type": "execute_result",
          "data": {
            "text/plain": [
              "0.39490445859872614"
            ]
          },
          "metadata": {},
          "execution_count": 46
        }
      ]
    },
    {
      "cell_type": "markdown",
      "metadata": {
        "id": "309dAlL_JQ8s"
      },
      "source": [
        "n_neighbors=3, p=2, weights='distance'"
      ]
    },
    {
      "cell_type": "markdown",
      "metadata": {
        "id": "T2HUWthQtGBV"
      },
      "source": [
        "### Q3.6\n",
        "\n",
        "Use the 5-split CV to find the optimal number of estimators and max_features for the random forest. What is the f1 score for random forest trained on a full train dataset with these parameters?"
      ]
    },
    {
      "cell_type": "code",
      "metadata": {
        "colab": {
          "base_uri": "https://localhost:8080/"
        },
        "id": "Lb8okNrWiWSu",
        "outputId": "f7d91f42-fd09-4f3f-f7f3-4382eb8c5fef"
      },
      "source": [
        "len(Xcopy_train.columns)"
      ],
      "execution_count": 47,
      "outputs": [
        {
          "output_type": "execute_result",
          "data": {
            "text/plain": [
              "16"
            ]
          },
          "metadata": {},
          "execution_count": 47
        }
      ]
    },
    {
      "cell_type": "code",
      "metadata": {
        "colab": {
          "base_uri": "https://localhost:8080/"
        },
        "id": "uPWrew_XgtWy",
        "outputId": "4ce8b8bc-2a0c-498e-dc92-bb4bf3094e8c"
      },
      "source": [
        "clf = RandomForestClassifier()\n",
        "params = {\n",
        "    'n_estimators': stats.randint(1,100),\n",
        "    'max_features': stats.randint(1,16),\n",
        "}\n",
        "rs = RandomizedSearchCV(estimator=clf,param_distributions=params,n_iter=100,scoring='f1')\n",
        "rs.fit(Xcopy_train,y_train)"
      ],
      "execution_count": 48,
      "outputs": [
        {
          "output_type": "execute_result",
          "data": {
            "text/plain": [
              "RandomizedSearchCV(cv=None, error_score=nan,\n",
              "                   estimator=RandomForestClassifier(bootstrap=True,\n",
              "                                                    ccp_alpha=0.0,\n",
              "                                                    class_weight=None,\n",
              "                                                    criterion='gini',\n",
              "                                                    max_depth=None,\n",
              "                                                    max_features='auto',\n",
              "                                                    max_leaf_nodes=None,\n",
              "                                                    max_samples=None,\n",
              "                                                    min_impurity_decrease=0.0,\n",
              "                                                    min_impurity_split=None,\n",
              "                                                    min_samples_leaf=1,\n",
              "                                                    min_samples_split=2,\n",
              "                                                    min_weight_fraction_leaf=0.0,\n",
              "                                                    n_estimators=100,\n",
              "                                                    n_j...\n",
              "                                                    verbose=0,\n",
              "                                                    warm_start=False),\n",
              "                   iid='deprecated', n_iter=100, n_jobs=None,\n",
              "                   param_distributions={'max_features': <scipy.stats._distn_infrastructure.rv_frozen object at 0x7f7aa8ea9310>,\n",
              "                                        'n_estimators': <scipy.stats._distn_infrastructure.rv_frozen object at 0x7f7aa8ea9350>},\n",
              "                   pre_dispatch='2*n_jobs', random_state=None, refit=True,\n",
              "                   return_train_score=False, scoring='f1', verbose=0)"
            ]
          },
          "metadata": {},
          "execution_count": 48
        }
      ]
    },
    {
      "cell_type": "code",
      "metadata": {
        "colab": {
          "base_uri": "https://localhost:8080/"
        },
        "id": "dr_UWiH6jU57",
        "outputId": "5aee35dd-aa70-4aa4-f225-86c3b198b95d"
      },
      "source": [
        "rs.best_estimator_"
      ],
      "execution_count": 49,
      "outputs": [
        {
          "output_type": "execute_result",
          "data": {
            "text/plain": [
              "RandomForestClassifier(bootstrap=True, ccp_alpha=0.0, class_weight=None,\n",
              "                       criterion='gini', max_depth=None, max_features=11,\n",
              "                       max_leaf_nodes=None, max_samples=None,\n",
              "                       min_impurity_decrease=0.0, min_impurity_split=None,\n",
              "                       min_samples_leaf=1, min_samples_split=2,\n",
              "                       min_weight_fraction_leaf=0.0, n_estimators=33,\n",
              "                       n_jobs=None, oob_score=False, random_state=None,\n",
              "                       verbose=0, warm_start=False)"
            ]
          },
          "metadata": {},
          "execution_count": 49
        }
      ]
    },
    {
      "cell_type": "code",
      "metadata": {
        "colab": {
          "base_uri": "https://localhost:8080/"
        },
        "id": "bVagEZtAwx9L",
        "outputId": "7febec10-3a89-44c7-c799-389e3e18dc68"
      },
      "source": [
        "model = rs.best_estimator_\n",
        "\n",
        "model.fit(Xcopy_train,y_train)\n",
        "y_pred = model.predict(Xcopy_test)\n",
        "\n",
        "f1_score(y_test,y_pred)"
      ],
      "execution_count": 50,
      "outputs": [
        {
          "output_type": "execute_result",
          "data": {
            "text/plain": [
              "0.45454545454545453"
            ]
          },
          "metadata": {},
          "execution_count": 50
        }
      ]
    },
    {
      "cell_type": "code",
      "metadata": {
        "id": "kx03VWV0Jb0x"
      },
      "source": [
        "n_estimators=33, max_features=11"
      ],
      "execution_count": null,
      "outputs": []
    },
    {
      "cell_type": "markdown",
      "metadata": {
        "id": "Uw7qa4wntGBV"
      },
      "source": [
        "## 4. Working with features\n",
        "\n",
        "Machine learning is sometimes called data science because everything depends on data. In this section, we'll apply some of the most popular modifications for data. IMPORTANT: In the previous section we took a subset of the columns; now it's time to work with all of them."
      ]
    },
    {
      "cell_type": "markdown",
      "metadata": {
        "id": "Jj1hPipPtGBW"
      },
      "source": [
        "### Q4.1\n",
        "\n",
        "One of the standard procedures is data standardizations - it strongly influences the results of k-NN and make the convergence of other algorithms (i.e. logreg and neural nets) much faster. Let's apply `StandardScaler` for all the numerical columns - 'Recency', 'Year_Birth', 'MntWines', 'MntFruits', 'MntMeatProducts', 'MntFishProducts', 'MntSweetProducts', 'MntGoldProds', 'NumDealsPurchases', 'NumWebPurchases', 'NumCatalogPurchases', 'NumStorePurchases', 'NumWebVisitsMonth'. \n",
        "\n",
        "What is the maximum value of MntWines now in the test set?"
      ]
    },
    {
      "cell_type": "code",
      "metadata": {
        "id": "WcS2L5V-r8Ao"
      },
      "source": [
        "from sklearn.preprocessing import StandardScaler"
      ],
      "execution_count": 51,
      "outputs": []
    },
    {
      "cell_type": "code",
      "metadata": {
        "colab": {
          "base_uri": "https://localhost:8080/"
        },
        "id": "N0COQfNfsmL8",
        "outputId": "c1ffd560-30b2-4622-c154-ec46826a64c8"
      },
      "source": [
        "num_features = ['Recency', 'Year_Birth', 'MntWines', 'MntFruits', 'MntMeatProducts', 'MntFishProducts', 'MntSweetProducts', 'MntGoldProds', 'NumDealsPurchases', 'NumWebPurchases', 'NumCatalogPurchases', 'NumStorePurchases', 'NumWebVisitsMonth']\n",
        "scaler = StandardScaler()\n",
        "scaler.fit(X_train[num_features])"
      ],
      "execution_count": 52,
      "outputs": [
        {
          "output_type": "execute_result",
          "data": {
            "text/plain": [
              "StandardScaler(copy=True, with_mean=True, with_std=True)"
            ]
          },
          "metadata": {},
          "execution_count": 52
        }
      ]
    },
    {
      "cell_type": "code",
      "metadata": {
        "colab": {
          "base_uri": "https://localhost:8080/"
        },
        "id": "BooBpGIcuD4i",
        "outputId": "16a108c4-074d-4686-f634-a6eda29429bf"
      },
      "source": [
        "X_train[num_features] = scaler.transform(X_train[num_features])\n",
        "X_test[num_features] = scaler.transform(X_test[num_features])"
      ],
      "execution_count": 53,
      "outputs": [
        {
          "output_type": "stream",
          "name": "stderr",
          "text": [
            "/usr/local/lib/python3.7/dist-packages/ipykernel_launcher.py:1: SettingWithCopyWarning: \n",
            "A value is trying to be set on a copy of a slice from a DataFrame.\n",
            "Try using .loc[row_indexer,col_indexer] = value instead\n",
            "\n",
            "See the caveats in the documentation: https://pandas.pydata.org/pandas-docs/stable/user_guide/indexing.html#returning-a-view-versus-a-copy\n",
            "  \"\"\"Entry point for launching an IPython kernel.\n",
            "/usr/local/lib/python3.7/dist-packages/pandas/core/indexing.py:1734: SettingWithCopyWarning: \n",
            "A value is trying to be set on a copy of a slice from a DataFrame.\n",
            "Try using .loc[row_indexer,col_indexer] = value instead\n",
            "\n",
            "See the caveats in the documentation: https://pandas.pydata.org/pandas-docs/stable/user_guide/indexing.html#returning-a-view-versus-a-copy\n",
            "  isetter(loc, value[:, i].tolist())\n",
            "/usr/local/lib/python3.7/dist-packages/ipykernel_launcher.py:2: SettingWithCopyWarning: \n",
            "A value is trying to be set on a copy of a slice from a DataFrame.\n",
            "Try using .loc[row_indexer,col_indexer] = value instead\n",
            "\n",
            "See the caveats in the documentation: https://pandas.pydata.org/pandas-docs/stable/user_guide/indexing.html#returning-a-view-versus-a-copy\n",
            "  \n",
            "/usr/local/lib/python3.7/dist-packages/pandas/core/indexing.py:1734: SettingWithCopyWarning: \n",
            "A value is trying to be set on a copy of a slice from a DataFrame.\n",
            "Try using .loc[row_indexer,col_indexer] = value instead\n",
            "\n",
            "See the caveats in the documentation: https://pandas.pydata.org/pandas-docs/stable/user_guide/indexing.html#returning-a-view-versus-a-copy\n",
            "  isetter(loc, value[:, i].tolist())\n"
          ]
        }
      ]
    },
    {
      "cell_type": "code",
      "metadata": {
        "colab": {
          "base_uri": "https://localhost:8080/"
        },
        "id": "szOSE8huuo9k",
        "outputId": "085b0ff8-4c95-43da-f0ea-a1e85999ba46"
      },
      "source": [
        "X_test.MntWines.max()"
      ],
      "execution_count": 54,
      "outputs": [
        {
          "output_type": "execute_result",
          "data": {
            "text/plain": [
              "3.4452353571219576"
            ]
          },
          "metadata": {},
          "execution_count": 54
        }
      ]
    },
    {
      "cell_type": "markdown",
      "metadata": {
        "id": "jP80jSBytGBW"
      },
      "source": [
        "### Q4.2\n",
        "We have two categorical columns - education and marital status. We can't use them directly with our models, so let's use one-hot encoding - create a separate binary column for each possible value and drop the original 'Education' and 'Marital_Status' columns.\n",
        "\n",
        "How many columns do we have now?"
      ]
    },
    {
      "cell_type": "code",
      "metadata": {
        "colab": {
          "base_uri": "https://localhost:8080/"
        },
        "id": "M6nzUB-kx0Yh",
        "outputId": "620255f0-808d-42ea-ae7d-5f7246607186"
      },
      "source": [
        "from sklearn.preprocessing import OneHotEncoder\n",
        "ohe = OneHotEncoder(sparse=False)\n",
        "ohe.fit(X_train[['Education','Marital_Status']])\n",
        "encoded_features_test = pd.DataFrame(ohe.transform(X_test[['Education','Marital_Status']]))\n",
        "encoded_features_train = pd.DataFrame(ohe.transform(X_train[['Education','Marital_Status']]))\n",
        "ohe.categories_"
      ],
      "execution_count": 55,
      "outputs": [
        {
          "output_type": "execute_result",
          "data": {
            "text/plain": [
              "[array(['2n Cycle', 'Basic', 'Graduation', 'Master', 'PhD'], dtype=object),\n",
              " array(['Married', 'Single', 'Together'], dtype=object)]"
            ]
          },
          "metadata": {},
          "execution_count": 55
        }
      ]
    },
    {
      "cell_type": "code",
      "metadata": {
        "id": "PppHIt3H4g4T"
      },
      "source": [
        "Education_cols = [f'Edu_{col}' for col in ohe.categories_[0]]\n",
        "Marital_Status_cols = [f'Marital_St_{col}' for col in ohe.categories_[1]]\n",
        "dummy_col_names= [*Education_cols,*Marital_Status_cols]\n",
        "encoded_features_test.columns = dummy_col_names\n",
        "encoded_features_train.columns = dummy_col_names\n",
        "encoded_features_test.index = X_test.index\n",
        "encoded_features_train.index = X_train.index"
      ],
      "execution_count": 56,
      "outputs": []
    },
    {
      "cell_type": "code",
      "metadata": {
        "colab": {
          "base_uri": "https://localhost:8080/"
        },
        "id": "wZ4EFzcG5Qmf",
        "outputId": "15773596-44eb-4d7c-8cda-da8473f32c98"
      },
      "source": [
        "X_train.drop(columns = ['Education','Marital_Status'],inplace=True)\n",
        "X_test.drop(columns = ['Education','Marital_Status'],inplace=True)"
      ],
      "execution_count": 57,
      "outputs": [
        {
          "output_type": "stream",
          "name": "stderr",
          "text": [
            "/usr/local/lib/python3.7/dist-packages/pandas/core/frame.py:4174: SettingWithCopyWarning: \n",
            "A value is trying to be set on a copy of a slice from a DataFrame\n",
            "\n",
            "See the caveats in the documentation: https://pandas.pydata.org/pandas-docs/stable/user_guide/indexing.html#returning-a-view-versus-a-copy\n",
            "  errors=errors,\n"
          ]
        }
      ]
    },
    {
      "cell_type": "code",
      "metadata": {
        "id": "7eQAR56A9gpm"
      },
      "source": [
        "X_train = pd.concat([X_train,encoded_features_train],axis = 1)\n",
        "X_test = pd.concat([X_test,encoded_features_test],axis = 1)"
      ],
      "execution_count": 58,
      "outputs": []
    },
    {
      "cell_type": "code",
      "metadata": {
        "colab": {
          "base_uri": "https://localhost:8080/"
        },
        "id": "1lUVdblW_90m",
        "outputId": "f49d959b-15a3-41ac-e425-6ce2a9b56569"
      },
      "source": [
        "len(X_test.columns)"
      ],
      "execution_count": 59,
      "outputs": [
        {
          "output_type": "execute_result",
          "data": {
            "text/plain": [
              "25"
            ]
          },
          "metadata": {},
          "execution_count": 59
        }
      ]
    },
    {
      "cell_type": "markdown",
      "metadata": {
        "id": "oEfBKmQQtGBW"
      },
      "source": [
        "### Q4.3 \n",
        "We have a datetime column - customer registration date `Dt_Customer`. We can't use it directly, but we could use some derivative features. Let's create new columns 'recent_customer' with value `1` if a user was registered after `01/06/2020` and `0` otherways. The original `Dt_Customer` column should be dropped. How many recent customers do we have in the train set?\n",
        "\n",
        "Hints: you can use `pd.to_datetime` for the column and `datetime.datetime` to create a new date."
      ]
    },
    {
      "cell_type": "code",
      "metadata": {
        "id": "r-4SN5_6Ck9e"
      },
      "source": [
        "from datetime import datetime\n",
        "\n",
        "dates = pd.to_datetime(df.Dt_Customer)\n",
        "\n",
        "X_train['Customer_Month'] = dates.dt.month\n",
        "X_train['Customer_Day'] = dates.dt.day\n",
        "X_train['Customer_Year'] = dates.dt.year\n",
        "\n",
        "X_test['Customer_Month'] = dates.dt.month\n",
        "X_test['Customer_Day'] = dates.dt.day\n",
        "X_test['Customer_Year'] = dates.dt.year"
      ],
      "execution_count": 60,
      "outputs": []
    },
    {
      "cell_type": "code",
      "metadata": {
        "id": "ZzAoj3XzAfFM"
      },
      "source": [
        "def RecentCustomer(X):\n",
        "  if X[2]==2020 and X[1]==6 and X[0]>1:\n",
        "    return 1\n",
        "  elif X[2]==2020 and X[1]>6:\n",
        "    return 1\n",
        "  elif X[2]>2020:\n",
        "    return 1\n",
        "  else:\n",
        "    return 0  "
      ],
      "execution_count": 61,
      "outputs": []
    },
    {
      "cell_type": "code",
      "metadata": {
        "id": "9oHfXYvLOozW"
      },
      "source": [
        "X_train['recent_customer']=X_train[['Customer_Day','Customer_Month','Customer_Year']].apply(lambda x:RecentCustomer(x), axis=1)\n",
        "X_test['recent_customer']=X_test[['Customer_Day','Customer_Month','Customer_Year']].apply(lambda x:RecentCustomer(x), axis=1)"
      ],
      "execution_count": 62,
      "outputs": []
    },
    {
      "cell_type": "code",
      "metadata": {
        "id": "csuVzVbVFuFG"
      },
      "source": [
        "X_train.drop(columns=['Customer_Day','Customer_Month','Customer_Year','Dt_Customer'],inplace=True)\n",
        "X_test.drop(columns=['Customer_Day','Customer_Month','Customer_Year','Dt_Customer'],inplace=True)"
      ],
      "execution_count": 63,
      "outputs": []
    },
    {
      "cell_type": "code",
      "metadata": {
        "colab": {
          "base_uri": "https://localhost:8080/"
        },
        "id": "LcZTETwPPGwZ",
        "outputId": "9e4f70de-641f-41f0-be8b-4e635b328454"
      },
      "source": [
        "X_train.recent_customer.value_counts()"
      ],
      "execution_count": 64,
      "outputs": [
        {
          "output_type": "execute_result",
          "data": {
            "text/plain": [
              "0    1456\n",
              "1     112\n",
              "Name: recent_customer, dtype: int64"
            ]
          },
          "metadata": {},
          "execution_count": 64
        }
      ]
    },
    {
      "cell_type": "markdown",
      "metadata": {
        "id": "e1ti1xYVPe0X"
      },
      "source": [
        "112"
      ]
    },
    {
      "cell_type": "markdown",
      "metadata": {
        "id": "QA8kH-tJtGBX"
      },
      "source": [
        "### Q4.4\n",
        "\n",
        "To check the effects of the modification, train the logistic regression with an optimal C. What is the f1 score now?"
      ]
    },
    {
      "cell_type": "code",
      "metadata": {
        "colab": {
          "base_uri": "https://localhost:8080/"
        },
        "id": "TTe5Qd11a9aG",
        "outputId": "f8d6d5e0-466a-48e1-f266-87db16e2ae67"
      },
      "source": [
        "clf = LogisticRegression(max_iter = 5000, C=4.715)\n",
        "clf.fit(X_train,y_train)\n",
        "y_pred = clf.predict(X_test)\n",
        "print('f1_score = ',f1_score(y_test,y_pred))"
      ],
      "execution_count": 65,
      "outputs": [
        {
          "output_type": "stream",
          "name": "stdout",
          "text": [
            "f1_score =  0.380952380952381\n"
          ]
        }
      ]
    },
    {
      "cell_type": "markdown",
      "metadata": {
        "id": "5PbvURF1tGBX"
      },
      "source": [
        "### Q4.5\n",
        "\n",
        "Another popular metric for unbalanced classification tasks is the ROC curve. Train a k-NN and random forest with optimal params and build a roc-curve for both of them on the sample plot. What is the difference between them on FPR 0.7 (approximately)?"
      ]
    },
    {
      "cell_type": "code",
      "metadata": {
        "id": "l4ts-0CAnkQD"
      },
      "source": [
        "import sklearn.metrics as metrics\n",
        "import matplotlib.pyplot as plt"
      ],
      "execution_count": 66,
      "outputs": []
    },
    {
      "cell_type": "code",
      "metadata": {
        "id": "6Olani39joip"
      },
      "source": [
        "RF = RandomForestClassifier(max_features=11,n_estimators=33)\n",
        "RF.fit(X_train,y_train)\n",
        "y_pred = RF.predict(X_test)"
      ],
      "execution_count": 67,
      "outputs": []
    },
    {
      "cell_type": "code",
      "metadata": {
        "id": "KzkVvZDzmzvy"
      },
      "source": [
        "KNN = KNeighborsClassifier(n_neighbors=3, p=2, weights='distance')\n",
        "KNN.fit(X_train,y_train)\n",
        "\n",
        "y_pred = KNN.predict(X_test)"
      ],
      "execution_count": 68,
      "outputs": []
    },
    {
      "cell_type": "code",
      "metadata": {
        "id": "n174G_mQB1km"
      },
      "source": [
        "# calculate the fpr and tpr for all thresholds of the classification\n",
        "probs_RF = RF.predict_proba(X_test)\n",
        "preds_RF = probs_RF[:,1]\n",
        "fpr_RF, tpr_RF, threshold_RF = metrics.roc_curve(y_test, preds_RF)\n",
        "roc_auc = metrics.auc(fpr_RF, tpr_RF)\n",
        "\n",
        "probs_KNN = KNN.predict_proba(X_test)\n",
        "preds_KNN = probs_KNN[:,1]\n",
        "fpr_KNN, tpr_KNN, threshold_KNN = metrics.roc_curve(y_test, preds_KNN)\n",
        "roc_auc = metrics.auc(fpr_KNN, tpr_KNN)"
      ],
      "execution_count": 69,
      "outputs": []
    },
    {
      "cell_type": "code",
      "metadata": {
        "colab": {
          "base_uri": "https://localhost:8080/",
          "height": 301
        },
        "id": "lI9JyipXC8r4",
        "outputId": "01ec5648-d1fc-4127-e767-0b257b885694"
      },
      "source": [
        "plt.title('Receiver Operating Characteristic')\n",
        "plt.plot(fpr_RF, tpr_RF, label = 'Random Forest')\n",
        "plt.plot(fpr_KNN, tpr_KNN, label = 'Knn')\n",
        "plt.legend(loc = 'lower right')\n",
        "plt.plot([0, 1], [0, 1],'r--')\n",
        "plt.plot([0.7, 0.7], [0, 1],'g--')\n",
        "plt.xlim([-0.01, 1.01])\n",
        "plt.ylim([-0.01, 1.01])\n",
        "plt.ylabel('True Positive Rate')\n",
        "plt.xlabel('False Positive Rate')\n",
        "plt.show()"
      ],
      "execution_count": 143,
      "outputs": [
        {
          "output_type": "display_data",
          "data": {
            "image/png": "[encoded data removed]",
            "text/plain": [
              "<Figure size 432x288 with 1 Axes>"
            ]
          },
          "metadata": {
            "needs_background": "light"
          }
        }
      ]
    },
    {
      "cell_type": "code",
      "metadata": {
        "colab": {
          "base_uri": "https://localhost:8080/"
        },
        "id": "cONhFVEXKx92",
        "outputId": "a94e4c36-8ed5-40a1-e162-1113dd25e4e6"
      },
      "source": [
        "fpr_KNN"
      ],
      "execution_count": 77,
      "outputs": [
        {
          "output_type": "execute_result",
          "data": {
            "text/plain": [
              "array([0.        , 0.00699301, 0.01048951, 0.01048951, 0.01573427,\n",
              "       0.01573427, 0.02097902, 0.02097902, 0.02622378, 0.02622378,\n",
              "       0.02797203, 0.02797203, 0.03146853, 0.03146853, 0.03671329,\n",
              "       0.03671329, 0.03846154, 0.03846154, 0.04020979, 0.04020979,\n",
              "       0.04370629, 0.04545455, 0.0472028 , 0.0472028 , 0.05244755,\n",
              "       0.05244755, 0.05594406, 0.05594406, 0.06468531, 0.06468531,\n",
              "       0.06818182, 0.06818182, 0.07167832, 0.07167832, 0.08041958,\n",
              "       0.08041958, 0.08391608, 0.08741259, 0.08916084, 0.08916084,\n",
              "       0.09265734, 0.09440559, 0.09440559, 0.09615385, 0.09615385,\n",
              "       0.09965035, 0.09965035, 0.10839161, 0.10839161, 0.11888112,\n",
              "       0.11888112, 0.13636364, 0.13636364, 0.14160839, 0.14160839,\n",
              "       0.1486014 , 0.1486014 , 0.15384615, 0.15384615, 0.15559441,\n",
              "       0.15559441, 0.15909091, 0.15909091, 0.16258741, 0.16258741,\n",
              "       0.16958042, 0.16958042, 0.17307692, 0.17307692, 0.18356643,\n",
              "       0.18356643, 0.18706294, 0.1993007 , 0.1993007 , 0.2027972 ,\n",
              "       0.2027972 , 0.21853147, 1.        ])"
            ]
          },
          "metadata": {},
          "execution_count": 77
        }
      ]
    },
    {
      "cell_type": "code",
      "metadata": {
        "colab": {
          "base_uri": "https://localhost:8080/"
        },
        "id": "30Z5l-56LJVr",
        "outputId": "c9630a53-c733-405b-e450-47c9177c83fb"
      },
      "source": [
        "fpr_KNN[[-2,-1]] #0.7 lies between these two points"
      ],
      "execution_count": 81,
      "outputs": [
        {
          "output_type": "execute_result",
          "data": {
            "text/plain": [
              "array([0.21853147, 1.        ])"
            ]
          },
          "metadata": {},
          "execution_count": 81
        }
      ]
    },
    {
      "cell_type": "code",
      "metadata": {
        "colab": {
          "base_uri": "https://localhost:8080/"
        },
        "id": "jeheGkp_LExw",
        "outputId": "e762fe35-005f-4dad-909a-947c1103666e"
      },
      "source": [
        "fpr_RF"
      ],
      "execution_count": 76,
      "outputs": [
        {
          "output_type": "execute_result",
          "data": {
            "text/plain": [
              "array([0.        , 0.        , 0.        , 0.00174825, 0.0034965 ,\n",
              "       0.0034965 , 0.00524476, 0.00524476, 0.00874126, 0.00874126,\n",
              "       0.01048951, 0.01048951, 0.01398601, 0.01398601, 0.01923077,\n",
              "       0.02097902, 0.02622378, 0.02622378, 0.03321678, 0.03321678,\n",
              "       0.04020979, 0.04020979, 0.04195804, 0.04370629, 0.04545455,\n",
              "       0.04545455, 0.05769231, 0.06118881, 0.06118881, 0.06993007,\n",
              "       0.07342657, 0.07342657, 0.07517483, 0.08916084, 0.09090909,\n",
              "       0.09090909, 0.09265734, 0.11363636, 0.11363636, 0.11538462,\n",
              "       0.11713287, 0.12762238, 0.13111888, 0.15384615, 0.15734266,\n",
              "       0.1958042 , 0.1993007 , 0.23426573, 0.23601399, 0.28146853,\n",
              "       0.28496503, 0.28846154, 0.34090909, 0.34265734, 0.34965035,\n",
              "       0.3513986 , 0.44755245, 0.45629371, 0.45804196, 0.46153846,\n",
              "       0.5506993 , 0.5541958 , 0.72902098, 0.73076923, 0.73426573,\n",
              "       0.73601399, 1.        ])"
            ]
          },
          "metadata": {},
          "execution_count": 76
        }
      ]
    },
    {
      "cell_type": "code",
      "metadata": {
        "colab": {
          "base_uri": "https://localhost:8080/"
        },
        "id": "pi0aEr7PLWaT",
        "outputId": "c9cf061b-c86e-4fcd-86d9-8e969f93190d"
      },
      "source": [
        "fpr_RF[[-6,-5]] #0.7 lies between these two points"
      ],
      "execution_count": 82,
      "outputs": [
        {
          "output_type": "execute_result",
          "data": {
            "text/plain": [
              "array([0.5541958 , 0.72902098])"
            ]
          },
          "metadata": {},
          "execution_count": 82
        }
      ]
    },
    {
      "cell_type": "code",
      "metadata": {
        "colab": {
          "base_uri": "https://localhost:8080/"
        },
        "id": "HvaD3aitR0c6",
        "outputId": "8d80e345-c296-4edb-ab1b-9ab0ceb65fcc"
      },
      "source": [
        "tpr_KNN_07 = (tpr_KNN[-1]-tpr_KNN[-2])/(fpr_KNN[-1]-fpr_KNN[-2])*(0.7-fpr_KNN[-2])+tpr_KNN[-2]\n",
        "tpr_RF_07 = (tpr_RF[-5]-tpr_RF[-6])/(fpr_RF[-5]-fpr_RF[-6])*(0.7-fpr_RF[-6])+tpr_RF[-6]\n",
        "print('difference between classificators on FPR 0.7 = ',tpr_RF_07-tpr_KNN_07)"
      ],
      "execution_count": 83,
      "outputs": [
        {
          "output_type": "stream",
          "name": "stdout",
          "text": [
            "difference between classificators on FPR 0.7 =  0.1374359731543624\n"
          ]
        }
      ]
    },
    {
      "cell_type": "markdown",
      "metadata": {
        "id": "M21E7H-R-BDv"
      },
      "source": [
        "##5"
      ]
    },
    {
      "cell_type": "markdown",
      "metadata": {
        "id": "yBGV9TWAtGBX"
      },
      "source": [
        "### Q5.1 (2 points)\n",
        "\n",
        "Propose two derivative features and retrain one of the models with them. What is the performance?"
      ]
    },
    {
      "cell_type": "code",
      "metadata": {
        "colab": {
          "base_uri": "https://localhost:8080/"
        },
        "id": "ofnhBx71rrGj",
        "outputId": "e0527c22-499b-437f-f41f-b3ac52a0b135"
      },
      "source": [
        "X_train.columns"
      ],
      "execution_count": 120,
      "outputs": [
        {
          "output_type": "execute_result",
          "data": {
            "text/plain": [
              "Index(['Year_Birth', 'Kidhome', 'Teenhome', 'Recency', 'MntWines', 'MntFruits',\n",
              "       'MntMeatProducts', 'MntFishProducts', 'MntSweetProducts',\n",
              "       'MntGoldProds', 'NumDealsPurchases', 'NumWebPurchases',\n",
              "       'NumCatalogPurchases', 'NumStorePurchases', 'NumWebVisitsMonth',\n",
              "       'Complain', 'Edu_2n Cycle', 'Edu_Basic', 'Edu_Graduation', 'Edu_Master',\n",
              "       'Edu_PhD', 'Marital_St_Married', 'Marital_St_Single',\n",
              "       'Marital_St_Together', 'recent_customer'],\n",
              "      dtype='object')"
            ]
          },
          "metadata": {},
          "execution_count": 120
        }
      ]
    },
    {
      "cell_type": "code",
      "metadata": {
        "id": "jDN9piMHEuPc"
      },
      "source": [
        "Xcopy2_train = X_train.copy()\n",
        "Xcopy2_test = X_test.copy()\n",
        "f1score=np.zeros(5)"
      ],
      "execution_count": 121,
      "outputs": []
    },
    {
      "cell_type": "code",
      "metadata": {
        "colab": {
          "base_uri": "https://localhost:8080/"
        },
        "id": "lHX0H99aEuj7",
        "outputId": "4cc871db-c39c-466d-8993-7b4a727ee9ee"
      },
      "source": [
        "KNN = KNeighborsClassifier(n_neighbors=3, p=2, weights='distance')\n",
        "KNN.fit(Xcopy2_train,y_train)\n",
        "y_pred = KNN.predict(Xcopy2_test)\n",
        "f1score[0]=f1_score(y_test,y_pred)\n",
        "print('initial f1_score_1 = ',f1score[0])"
      ],
      "execution_count": 122,
      "outputs": [
        {
          "output_type": "stream",
          "name": "stdout",
          "text": [
            "initial f1_score_1 =  0.3108108108108108\n"
          ]
        }
      ]
    },
    {
      "cell_type": "code",
      "metadata": {
        "id": "IgQp2odFrzQ0"
      },
      "source": [
        "Xcopy2_train['MntTotal'] = Xcopy2_train[['MntWines', 'MntFruits', 'MntMeatProducts',\n",
        "                                         'MntFishProducts', 'MntSweetProducts',\n",
        "                                         'MntGoldProds']].apply(lambda x: sum(x),axis = 1)\n",
        "Xcopy2_test ['MntTotal'] = Xcopy2_test [['MntWines', 'MntFruits', 'MntMeatProducts',\n",
        "                                         'MntFishProducts', 'MntSweetProducts',\n",
        "                                         'MntGoldProds']].apply(lambda x: sum(x),axis = 1)"
      ],
      "execution_count": 123,
      "outputs": []
    },
    {
      "cell_type": "code",
      "metadata": {
        "colab": {
          "base_uri": "https://localhost:8080/"
        },
        "id": "O0zrKHWTFC6U",
        "outputId": "0d8b7e8f-e62f-47cb-ee59-f277cf98fcec"
      },
      "source": [
        "KNN.fit(Xcopy2_train,y_train)\n",
        "y_pred = KNN.predict(Xcopy2_test)\n",
        "f1score[1]=f1_score(y_test,y_pred)\n",
        "print('after adding \"MntTotal\" column: f1_score  = ',f1score[1])"
      ],
      "execution_count": 124,
      "outputs": [
        {
          "output_type": "stream",
          "name": "stdout",
          "text": [
            "after adding \"MntTotal\" column: f1_score  =  0.3178807947019867\n"
          ]
        }
      ]
    },
    {
      "cell_type": "code",
      "metadata": {
        "id": "nsjLdzqT1E0E"
      },
      "source": [
        "Xcopy2_train.drop(columns=['MntWines', 'MntFruits', 'MntMeatProducts', \n",
        "                           'MntFishProducts', 'MntSweetProducts',\n",
        "                           'MntGoldProds'],inplace=True)\n",
        "Xcopy2_test.drop(columns=['MntWines', 'MntFruits', 'MntMeatProducts', \n",
        "                          'MntFishProducts', 'MntSweetProducts', \n",
        "                          'MntGoldProds'],inplace=True)"
      ],
      "execution_count": 125,
      "outputs": []
    },
    {
      "cell_type": "code",
      "metadata": {
        "colab": {
          "base_uri": "https://localhost:8080/"
        },
        "id": "M-XUOrs8HJEo",
        "outputId": "645d1869-76b2-43d6-a893-2b7dafad3fd2"
      },
      "source": [
        "KNN.fit(Xcopy2_train,y_train)\n",
        "y_pred = KNN.predict(Xcopy2_test)\n",
        "f1score[2]=f1_score(y_test,y_pred)\n",
        "print('after deleting Mnt- columns: f1_score  = ',f1score[2])"
      ],
      "execution_count": 126,
      "outputs": [
        {
          "output_type": "stream",
          "name": "stdout",
          "text": [
            "after deleting Mnt- columns: f1_score  =  0.2929936305732484\n"
          ]
        }
      ]
    },
    {
      "cell_type": "code",
      "metadata": {
        "id": "7UJR4V3dDuHv"
      },
      "source": [
        "Xcopy2_train['Kids+Teens'] = Xcopy2_train[['Kidhome', 'Teenhome']].apply(lambda x: sum(x),axis = 1)\n",
        "Xcopy2_test ['Kid+Teens'] = Xcopy2_test[['Kidhome', 'Teenhome']].apply(lambda x: sum(x),axis = 1)"
      ],
      "execution_count": 127,
      "outputs": []
    },
    {
      "cell_type": "code",
      "metadata": {
        "colab": {
          "base_uri": "https://localhost:8080/"
        },
        "id": "ufBzuQJgINcj",
        "outputId": "c6b92eaf-d13e-401e-d2ad-649961d5cbaa"
      },
      "source": [
        "KNN.fit(Xcopy2_train,y_train)\n",
        "y_pred = KNN.predict(Xcopy2_test)\n",
        "f1score[3]=f1_score(y_test,y_pred)\n",
        "print('after adding \"Kids+Teens\" column: f1_score  = ',f1score[3])"
      ],
      "execution_count": 128,
      "outputs": [
        {
          "output_type": "stream",
          "name": "stdout",
          "text": [
            "after adding \"Kids+Teens\" column: f1_score  =  0.3057324840764331\n"
          ]
        }
      ]
    },
    {
      "cell_type": "code",
      "metadata": {
        "id": "u6XZcUcIDVnt"
      },
      "source": [
        "Xcopy2_train.drop(columns=['Kidhome', 'Teenhome'],inplace=True)\n",
        "Xcopy2_test.drop(columns=['Kidhome', 'Teenhome'],inplace=True)"
      ],
      "execution_count": 129,
      "outputs": []
    },
    {
      "cell_type": "code",
      "metadata": {
        "colab": {
          "base_uri": "https://localhost:8080/"
        },
        "id": "q_px_zRvIX4B",
        "outputId": "13b494a3-b675-4d5a-cf34-9d3b240cfc7b"
      },
      "source": [
        "KNN.fit(Xcopy2_train,y_train)\n",
        "y_pred = KNN.predict(Xcopy2_test)\n",
        "f1score[4]=f1_score(y_test,y_pred)\n",
        "print('after deleting  \"Kidhome\", \"Teenhome\" columns: f1_score  = ',f1score[4])"
      ],
      "execution_count": 130,
      "outputs": [
        {
          "output_type": "stream",
          "name": "stdout",
          "text": [
            "after deleting  \"Kidhome\", \"Teenhome\" columns: f1_score  =  0.2948717948717949\n"
          ]
        }
      ]
    },
    {
      "cell_type": "code",
      "metadata": {
        "colab": {
          "base_uri": "https://localhost:8080/"
        },
        "id": "I7R5VhXgIzE6",
        "outputId": "845e245c-321b-4cb8-d127-1fbd1da70a20"
      },
      "source": [
        "print('All f1_scores:',f1score)"
      ],
      "execution_count": 131,
      "outputs": [
        {
          "output_type": "stream",
          "name": "stdout",
          "text": [
            "All f1_scores: [0.31081081 0.31788079 0.29299363 0.30573248 0.29487179]\n"
          ]
        }
      ]
    },
    {
      "cell_type": "markdown",
      "metadata": {
        "id": "GzHSbd5GNaX6"
      },
      "source": [
        "So, we should not delete any columns. Then:"
      ]
    },
    {
      "cell_type": "code",
      "metadata": {
        "id": "zcGHerLjNoG8"
      },
      "source": [
        "Xcopy2_train = X_train.copy()\n",
        "Xcopy2_test = X_test.copy()\n",
        "f1score=np.zeros(3)"
      ],
      "execution_count": 132,
      "outputs": []
    },
    {
      "cell_type": "code",
      "metadata": {
        "colab": {
          "base_uri": "https://localhost:8080/"
        },
        "id": "mceJcA1INoG-",
        "outputId": "37f00f28-452c-4ca8-8da3-5c1c4a10815b"
      },
      "source": [
        "KNN = KNeighborsClassifier(n_neighbors=3, p=2, weights='distance')\n",
        "KNN.fit(Xcopy2_train,y_train)\n",
        "y_pred = KNN.predict(Xcopy2_test)\n",
        "f1score[0]=f1_score(y_test,y_pred)\n",
        "print('initial f1_score_1 = ',f1score[0])"
      ],
      "execution_count": 133,
      "outputs": [
        {
          "output_type": "stream",
          "name": "stdout",
          "text": [
            "initial f1_score_1 =  0.3108108108108108\n"
          ]
        }
      ]
    },
    {
      "cell_type": "code",
      "metadata": {
        "id": "TgdwigIMNoG_"
      },
      "source": [
        "Xcopy2_train['MntTotal'] = Xcopy2_train[['MntWines', 'MntFruits', 'MntMeatProducts',\n",
        "                                         'MntFishProducts', 'MntSweetProducts',\n",
        "                                         'MntGoldProds']].apply(lambda x: sum(x),axis = 1)\n",
        "Xcopy2_test ['MntTotal'] = Xcopy2_test [['MntWines', 'MntFruits', 'MntMeatProducts',\n",
        "                                         'MntFishProducts', 'MntSweetProducts',\n",
        "                                         'MntGoldProds']].apply(lambda x: sum(x),axis = 1)"
      ],
      "execution_count": 134,
      "outputs": []
    },
    {
      "cell_type": "code",
      "metadata": {
        "colab": {
          "base_uri": "https://localhost:8080/"
        },
        "id": "P90oIPSPNoHA",
        "outputId": "cfc872af-609b-435a-946c-2be7f2683cfb"
      },
      "source": [
        "KNN.fit(Xcopy2_train,y_train)\n",
        "y_pred = KNN.predict(Xcopy2_test)\n",
        "f1score[1]=f1_score(y_test,y_pred)\n",
        "print('after adding \"MntTotal\" column: f1_score  = ',f1score[1])"
      ],
      "execution_count": 135,
      "outputs": [
        {
          "output_type": "stream",
          "name": "stdout",
          "text": [
            "after adding \"MntTotal\" column: f1_score  =  0.3178807947019867\n"
          ]
        }
      ]
    },
    {
      "cell_type": "code",
      "metadata": {
        "id": "AmiDfW-NNoHE"
      },
      "source": [
        "Xcopy2_train['Kids+Teens'] = Xcopy2_train[['Kidhome', 'Teenhome']].apply(lambda x: sum(x),axis = 1)\n",
        "Xcopy2_test ['Kid+Teens'] = Xcopy2_test[['Kidhome', 'Teenhome']].apply(lambda x: sum(x),axis = 1)"
      ],
      "execution_count": 136,
      "outputs": []
    },
    {
      "cell_type": "code",
      "metadata": {
        "colab": {
          "base_uri": "https://localhost:8080/"
        },
        "id": "O_pyKJ1cNoHE",
        "outputId": "56949aa7-8fc0-4113-94e3-f4a314d18df1"
      },
      "source": [
        "KNN.fit(Xcopy2_train,y_train)\n",
        "y_pred = KNN.predict(Xcopy2_test)\n",
        "f1score[2]=f1_score(y_test,y_pred)\n",
        "print('after adding \"Kids+Teens\" column: f1_score  = ',f1score[2])"
      ],
      "execution_count": 137,
      "outputs": [
        {
          "output_type": "stream",
          "name": "stdout",
          "text": [
            "after adding \"Kids+Teens\" column: f1_score  =  0.33548387096774196\n"
          ]
        }
      ]
    },
    {
      "cell_type": "code",
      "metadata": {
        "colab": {
          "base_uri": "https://localhost:8080/"
        },
        "id": "mZXZdrdUNoHH",
        "outputId": "2f73c1ee-8426-4c3b-d632-4735a6968713"
      },
      "source": [
        "print('All f1_scores:',f1score)"
      ],
      "execution_count": 138,
      "outputs": [
        {
          "output_type": "stream",
          "name": "stdout",
          "text": [
            "All f1_scores: [0.31081081 0.31788079 0.33548387]\n"
          ]
        }
      ]
    },
    {
      "cell_type": "markdown",
      "metadata": {
        "id": "GM0VK3Z9OOec"
      },
      "source": [
        "So, in the end, additional columns \"MntTotal\" and \"Kids+Teens\" increased f1_score from 0.311 to 0.335 "
      ]
    },
    {
      "cell_type": "markdown",
      "metadata": {
        "tags": [],
        "id": "3C5_u2LHtGBX"
      },
      "source": [
        "### Q5.2\n",
        "\n",
        "Train an xgboost model with f1 score 0.47+"
      ]
    },
    {
      "cell_type": "code",
      "metadata": {
        "id": "nbOjgWp6TJ2j"
      },
      "source": [
        "import xgboost as xgb\n",
        "\n",
        "dmat_train = xgb.DMatrix(X_train, y_train)\n",
        "dmat_test = xgb.DMatrix(X_test, y_test)\n",
        "booster = xgb.train({'max_depth': 3, 'eta': 1, 'objective': 'binary:logistic'},\n",
        "                    dmat_train\n",
        "                    # ,evals=[(dmat_train, \"train\"), (dmat_test, \"test\")]\n",
        "                    )"
      ],
      "execution_count": null,
      "outputs": []
    },
    {
      "cell_type": "code",
      "metadata": {
        "colab": {
          "base_uri": "https://localhost:8080/"
        },
        "id": "SsWAb6afWUsN",
        "outputId": "478b4d08-87d4-4d45-9c09-d866d6a5e038"
      },
      "source": [
        "y_pred_proba = booster.predict(dmat_test)\n",
        "y_pred = (y_pred_proba*10)//5\n",
        "print('f1_score = ',f1_score(y_test,y_pred))"
      ],
      "execution_count": null,
      "outputs": [
        {
          "output_type": "stream",
          "name": "stdout",
          "text": [
            "f1_score =  0.5088757396449703\n"
          ]
        }
      ]
    }
  ]
}