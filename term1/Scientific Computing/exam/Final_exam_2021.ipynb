{
 "cells": [
  {
   "cell_type": "markdown",
   "metadata": {
    "id": "KTIHY5qblrx0"
   },
   "source": [
    "## Scientific Computing 2021: Final exam \n",
    "Friday October 29, 2021, 16:00 - 19:00\n",
    "\n",
    "This exam includes **5 tasks** based on the lecture materials and **7 problems** based on the materials of exercise sessions and homeworks. Each fully solved task or problem gives you 2 points. To obtain the full grade  you need to achieve the total score of 20 points."
   ]
  },
  {
   "cell_type": "markdown",
   "metadata": {
    "id": "MH3nLEVWsUeN"
   },
   "source": [
    "### Task 1 (2 points)\n",
    "1. Traditional scientific and engineering approach includes only theory and experiment. List at least three disadvantages/limitations of such approach, which could be managed by adding the computational simulations. (1 point) \n",
    "2. List at least three applications of scientific computing. Justify your answer with explanation why computer simulations or/and mathematical modelling methods are important in those areas. (1 point) "
   ]
  },
  {
   "cell_type": "markdown",
   "metadata": {
    "id": "5ia_JQzWsmlv"
   },
   "source": [
    "### Task 2 (2 points)\n",
    "1. Explain the overheads of Parallelism. (1 point) \n",
    "2. Give the definition of OpenMP and MPI. Explain difference between them. Write down pros and cons of both. (1 point)"
   ]
  },
  {
   "cell_type": "markdown",
   "metadata": {
    "id": "AloBEt3Fs0Gv"
   },
   "source": [
    "### Task 3 (2 points)\n",
    "1. What is the Cauchy problem for an ODE? Give the general form and an example. Under which condition a Cauchy problem has the unique solution? (1 point) \n",
    "2. Describe the idea of the Molecular dynamics method. (1 point)"
   ]
  },
  {
   "cell_type": "markdown",
   "metadata": {
    "id": "mQPy1Xwps3Rh"
   },
   "source": [
    "### Task 4 (2 points)\n",
    "1. Why do we need to study wavelets? Which advantages the wavelets transform has in comparison with Fourier Transform? (1 point) \n",
    "2. Write the general form of the Integral Equation. Describe its parts and provide the classification of integral equations with respect to those parts. (1 point) "
   ]
  },
  {
   "cell_type": "markdown",
   "metadata": {
    "id": "fKRf8Alxs4Gb"
   },
   "source": [
    "### Task 5 (2 points)\n",
    "1.  Provide the definitions of well-posed and ill-posed problems. Explain those two kinds of problems in terms of the operator in general form  $A\\mathbf{x} = \\mathbf{b}$. (1 point)\n",
    "2. What is the convolution theorem? Describe why this property is useful. Justify your answer with examples. (1 point)"
   ]
  },
  {
   "cell_type": "markdown",
   "metadata": {
    "id": "mkVoJdfWlrx5"
   },
   "source": [
    "### Problem 1 (2 points)\n",
    "\n",
    "Assume that, as in Amdahl's law, a program has a sequential, non-parallelizable part, and the remaining part is ideally parallelizable. Suppose that the efficiency of parallelizing the program to $n_1=5$ processes is $a_1=0.5$.  Find the efficiency of parallelizing the program to $n_2=2$ processes.  "
   ]
  },
  {
   "cell_type": "markdown",
   "metadata": {
    "id": "j9XEfwgklrx8"
   },
   "source": [
    "### Problem 2 (2 points)\n",
    "Write an MPI program computing the maximum of an array. The array must be randomly generated in the root process, then divided in chunks and distributed to all processes. Each process must compute the maximum in its chunk, and then the results must be reduced at the root process. "
   ]
  },
  {
   "cell_type": "markdown",
   "metadata": {
    "id": "cQM4IP5alryA"
   },
   "source": [
    "### Problem 3 (2 points)\n",
    "\n",
    "We are solving the linear system $A\\mathbf x=\\mathbf b$ with $A=\\begin{pmatrix}0 & 10^{-2}\\\\ 10^{-2} & 10^3\\end{pmatrix}$ and some $\\mathbf b$. Suppose that we know $\\mathbf b$ with the relative error $\\epsilon_{\\mathbf b}=10^{-15}$. Give an upper bound for the relative error of $\\mathbf x$.\n"
   ]
  },
  {
   "cell_type": "markdown",
   "metadata": {
    "id": "GItY4rmzlryE"
   },
   "source": [
    "### Problem 4 (2 points)\n",
    "Consider the problem https://www.spoj.com/problems/ADASTRNG/. Explain how the problem can be solved by an algorithm of complexity $O(N\\log^c N),$ where $N$ is the length of the input string, and $c$ is some constant. Specify a particular $c$. (**Remark:** you don't need to write the program, it is sufficient to explain the logic of the algorithm). "
   ]
  },
  {
   "cell_type": "markdown",
   "metadata": {
    "id": "lDi6wSRwlryH"
   },
   "source": [
    "### Problem 5 (2 points)\n",
    "\n",
    "For which sequences $f=(f[0], f[1], \\ldots, f[N-1])$ is their Discrete Fourier Transform $\\widehat f$ **purely imaginary**?\n"
   ]
  },
  {
   "cell_type": "markdown",
   "metadata": {
    "id": "A6ueKCLrlryI"
   },
   "source": [
    "### Problem 6 (2 points)\n",
    "\n",
    "Suppose that we are solving the ODE $\\tfrac{d}{dt} x=-x$ iteratively, using the centered approximation for the derivative:\n",
    "\n",
    "$$\\frac{\\tilde x_{n+1}-\\tilde x_{n-1}}{2\\Delta t}=-\\tilde x_n.$$\n",
    "\n",
    "Determine theoretically for which $\\Delta t$ the numerical solution does not diverge, i.e. $\\sup_n \\tilde x_n^2 <\\infty$."
   ]
  },
  {
   "cell_type": "markdown",
   "metadata": {
    "id": "iKK5B88ZlryJ"
   },
   "source": [
    "### Problem 7 (2 points)\n",
    "\n",
    "Recall that the Radon transform is defined by \n",
    "\n",
    "$$Rf(\\alpha, s) =  \\int_{-\\infty}^\\infty f(z\\sin\\alpha+s\\cos\\alpha, -z\\cos\\alpha+s\\sin\\alpha) dz.$$ \n",
    "\n",
    "Suppose that $f$ is an indicator function of some set $A\\subset \\mathbb R^2$, i.e. $f(x,y)=\\begin{cases}1,& (x,y)\\in A\\\\ 0,&(x,y)\\notin A\\end{cases}$. Suppose that $Rf(\\alpha, s)=0$ for all $\\alpha, s$ such that $|s-\\cos \\alpha|>1$. What is the largest possible area of $A$? Describe this $A$."
   ]
  }
 ],
 "metadata": {
  "colab": {
   "collapsed_sections": [],
   "name": "Final_exam_2021.ipynb",
   "provenance": []
  },
  "kernelspec": {
   "display_name": "Python 3",
   "language": "python",
   "name": "python3"
  },
  "language_info": {
   "codemirror_mode": {
    "name": "ipython",
    "version": 3
   },
   "file_extension": ".py",
   "mimetype": "text/x-python",
   "name": "python",
   "nbconvert_exporter": "python",
   "pygments_lexer": "ipython3",
   "version": "3.7.6"
  }
 },
 "nbformat": 4,
 "nbformat_minor": 1
}
