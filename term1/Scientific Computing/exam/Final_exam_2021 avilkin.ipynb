{
  "nbformat": 4,
  "nbformat_minor": 0,
  "metadata": {
    "colab": {
      "name": "Final_exam_2021.ipynb",
      "provenance": [],
      "collapsed_sections": []
    },
    "kernelspec": {
      "display_name": "Python 3",
      "language": "python",
      "name": "python3"
    },
    "language_info": {
      "codemirror_mode": {
        "name": "ipython",
        "version": 3
      },
      "file_extension": ".py",
      "mimetype": "text/x-python",
      "name": "python",
      "nbconvert_exporter": "python",
      "pygments_lexer": "ipython3",
      "version": "3.7.6"
    }
  },
  "cells": [
    {
      "cell_type": "markdown",
      "metadata": {
        "id": "KTIHY5qblrx0"
      },
      "source": [
        "## Scientific Computing 2021: Final exam \n",
        "Friday October 29, 2021, 16:00 - 19:00\n",
        "\n",
        "This exam includes **5 tasks** based on the lecture materials and **7 problems** based on the materials of exercise sessions and homeworks. Each fully solved task or problem gives you 2 points. To obtain the full grade  you need to achieve the total score of 20 points."
      ]
    },
    {
      "cell_type": "markdown",
      "metadata": {
        "id": "MH3nLEVWsUeN"
      },
      "source": [
        "### Task 1 (2 points)\n",
        "1. Traditional scientific and engineering approach includes only theory and experiment. List at least three disadvantages/limitations of such approach, which could be managed by adding the computational simulations. (1 point) \n",
        "2. List at least three applications of scientific computing. Justify your answer with explanation why computer simulations or/and mathematical modelling methods are important in those areas. (1 point) "
      ]
    },
    {
      "cell_type": "markdown",
      "metadata": {
        "id": "XbhYZg0zLsgq"
      },
      "source": [
        "1. List at least three disadvantages/limitations of such approach, which could be managed by adding the computational simulations. \n",
        "- experiments which are difficult to conduct: building large wind tunnels to test aerodynamics of the planes\n",
        "- unrepeatable experiments: continuous enlargement of the universe, explosions of the supernovas...\n",
        "- dangerous experiments: test of the nuclear weapons\n",
        "2. List at least three applications of scientific computing. Justify your answer with explanation why computer simulations or/and mathematical modelling methods are important in those areas. \n",
        "- Weather forecast(needs high speed of continuous simulation to keep up with real time)\n",
        "- Particle physics(computations with high amount of particles are very time-consuming and contain a lot of data)\n",
        "- Bioinformatics(protein folding, DNA searching)"
      ]
    },
    {
      "cell_type": "markdown",
      "metadata": {
        "id": "5ia_JQzWsmlv"
      },
      "source": [
        "### Task 2 (2 points)\n",
        "1. Explain the overheads of Parallelism. (1 point) \n",
        "2. Give the definition of OpenMP and MPI. Explain difference between them. Write down pros and cons of both. (1 point)"
      ]
    },
    {
      "cell_type": "markdown",
      "metadata": {
        "id": "AloBEt3Fs0Gv"
      },
      "source": [
        "### Task 3 (2 points)\n",
        "1. What is the Cauchy problem for an ODE? Give the general form and an example. Under which condition a Cauchy problem has the unique solution? (1 point) \n",
        "2. Describe the idea of the Molecular dynamics method. (1 point)"
      ]
    },
    {
      "cell_type": "markdown",
      "metadata": {
        "id": "2aTHAdtcN2QM"
      },
      "source": [
        "1. Cauchy problem for ODE is a problem which asks for solution of ODE satisfying boundary and ininitial conditions set on the boundary surface for variable value and values of variable derivatives.\n",
        "2. Molecular dynamics method is a computer simulation method for analyzing the physical movements of atoms and molecules.\\\n",
        "The molecular dynamics method is applicable if the De Broglie wavelength of an atom (or particle) is much smaller than the interatomic distance.\n",
        "- Motion of particles is described through calssical mechanics\n",
        "- Forces between particles are potential forces described through gradient of potential energy of the system\n",
        "- the trajectories of each and every particle are not traced because they are not needed to obtain macroscopic thermodynamics results\n",
        "- The sets of configurations obtained in the course of calculations by the method of molecular dynamics are distributed in accordance with some statistical distribution function, for example, corresponding to the microcanonical distribution."
      ]
    },
    {
      "cell_type": "markdown",
      "metadata": {
        "id": "mQPy1Xwps3Rh"
      },
      "source": [
        "### Task 4 (2 points)\n",
        "1. Why do we need to study wavelets? Which advantages the wavelets transform has in comparison with Fourier Transform? (1 point) \n",
        "2. Write the general form of the Integral Equation. Describe its parts and provide the classification of integral equations with respect to those parts. (1 point) "
      ]
    },
    {
      "cell_type": "markdown",
      "metadata": {
        "id": "xv5LUK3yQl52"
      },
      "source": [
        "1. Each function can be approximated with CFT. With CFT we can see the frequency of the phenomena but can't see when or where the phenomena with exact frequency occurred.\n",
        "Wavelets can be used to locate these phenomena with certain frequencies.\n",
        "2. general form of the Integral Equation\\\n",
        "$A$ — integral operator which can be expressed as follows:\\\n",
        "$Ay(x) = \\lambda \\int_\\Omega K(x, \\xi)y(\\xi)d\\xi$\\\n",
        "$\\Omega$ — is some domain (may represent the whole space).\\\n",
        "$K(x, \\xi)$ — is a Kernel\\\n",
        "$y(x)$ — is unknown function to be found.\\\n",
        "$f (x)$ — is a right-hand side."
      ]
    },
    {
      "cell_type": "markdown",
      "metadata": {
        "id": "fKRf8Alxs4Gb"
      },
      "source": [
        "### Task 5 (2 points)\n",
        "1.  Provide the definitions of well-posed and ill-posed problems. Explain those two kinds of problems in terms of the operator in general form  $A\\mathbf{x} = \\mathbf{b}$. (1 point)\n",
        "2. What is the convolution theorem? Describe why this property is useful. Justify your answer with examples. (1 point)"
      ]
    },
    {
      "cell_type": "markdown",
      "metadata": {
        "id": "5ssIRnVwTHQv"
      },
      "source": [
        "1. There are 3 main points to consider in order to classify problems:\n",
        "- a solution exists\n",
        "- it is unique\n",
        "- solution depends continuously on input data\n",
        "---\n",
        "The problem is well-posed if:\n",
        "  - A solution exists;\n",
        "  - The solution is unique;\n",
        "  - The solution depends continuously on the input data.\n",
        "---\n",
        "Otherwise the problem is ill-posed.\\\n",
        "In terms of the operator:\n",
        "the problem is ill-posed if:\n",
        "1. $A^{-1}$ does not exist;\n",
        "2. $A^{-1}$ is not defined on the whole set $B: AX \\neq B$;\n",
        "3. $A^{-1}$ is not continuous;\n",
        "4. $A^{-1}$ is not defined uniquely.\\\n",
        "It is well posed otherwise\n",
        "---\n",
        "2. convolution theorem\\\n",
        "Under suitable conditions the Fourier transform of a convolution of two functions (or signals) is the pointwise product of their Fourier transforms.\\\n",
        "More generally, convolution in one domain (e.g., time domain) equals point-wise multiplication in the other domain (e.g., frequency domain).\\\n",
        "![Untitled.png](data:image/png;base64,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)\\\n",
        "Convolution theorem can be used to make convolution faster by transforming inputs to frequency space via FFT, multiplying them and transforming them back by IFT  "
      ]
    },
    {
      "cell_type": "markdown",
      "metadata": {
        "id": "mkVoJdfWlrx5"
      },
      "source": [
        "### Problem 1 (2 points)\n",
        "\n",
        "Assume that, as in Amdahl's law, a program has a sequential, non-parallelizable part, and the remaining part is ideally parallelizable. Suppose that the efficiency of parallelizing the program to $n_1=5$ processes is $a_1=0.5$.  Find the efficiency of parallelizing the program to $n_2=2$ processes.  "
      ]
    },
    {
      "cell_type": "markdown",
      "metadata": {
        "id": "qFydFTOOJQS-"
      },
      "source": [
        "Amdahl's law:\n",
        "$\\text{Speedup}(P) =\\frac{Time(1)}{Time(P)} = \\frac{1}{(s+ \\frac{1−s}{P})} $, where **P** is a number of processors and **s** is non-parallelizable.\n",
        "$\\text{Efficiency}(P=5) =\\dfrac{\\text{Speedup(P)}}{P}= \\frac{1}{(P s+ 1−s)}=\\frac{1}{(5 s+ 1−s)}=0.5 \\Rightarrow 2=4s+1, s=0.25 $\\\n",
        "Then $\\text{Efficiency}(P=2) = \\frac{1}{(P s+ 1−s)}=\\frac{1}{(2\\cdot 0.25+ 1−0.25)}=0.8$\\\n",
        "Answer is: 0.8"
      ]
    },
    {
      "cell_type": "markdown",
      "metadata": {
        "id": "j9XEfwgklrx8"
      },
      "source": [
        "### Problem 2 (2 points)\n",
        "Write an MPI program computing the maximum of an array. The array must be randomly generated in the root process, then divided in chunks and distributed to all processes. Each process must compute the maximum in its chunk, and then the results must be reduced at the root process. "
      ]
    },
    {
      "cell_type": "code",
      "metadata": {
        "id": "dHzHUon8fhsc"
      },
      "source": [
        "!pip install mpi4py"
      ],
      "execution_count": null,
      "outputs": []
    },
    {
      "cell_type": "code",
      "metadata": {
        "id": "Ns-bFJEUf9oJ"
      },
      "source": [
        "#mpi.py\n",
        "from mpi4py import MPI\n",
        "import numpy as np\n",
        "\n",
        "\n",
        "comm = MPI.COMM_WORLD\n",
        "rank = comm.Get_rank()\n",
        "size = comm.Get_size()\n",
        "\n",
        "def get_max(Arr):\n",
        "  l=len(Arr)//size\n",
        "  if rank != size-1:\n",
        "    A = Arr[l*rank:l*(rank+1)]\n",
        "  else:\n",
        "    A = Arr[l*rank:]\n",
        "  return max(A)\n",
        "\n",
        "if rank ==0:\n",
        "  Arr=np.random.rand(50,1)*100\n",
        "  for r in range(1,size):\n",
        "    comm.send(Arr, dest=r)\n",
        "else:\n",
        "  Arr=comm.recv(source=0)\n",
        "local_max=np.array(get_max(Arr))\n",
        "print(f\"rank {rank},local max = {local_max}\")\n",
        "total_max = np.array([0])\n",
        "comm.Reduce(local_max,total_max, op = MPI.MAX,root=0)\n",
        "\n",
        "if rank == 0:\n",
        "  print(\"Arr=\",Arr)\n",
        "  print(\"The max number is \", total_max)"
      ],
      "execution_count": null,
      "outputs": []
    },
    {
      "cell_type": "code",
      "metadata": {
        "colab": {
          "base_uri": "https://localhost:8080/"
        },
        "id": "dwa5V3XekAfu",
        "outputId": "f5f54ac8-3c1e-434b-8be4-37cfdf5cd8b5"
      },
      "source": [
        "!mpirun --allow-run-as-root -np 7 python mpi.py"
      ],
      "execution_count": 21,
      "outputs": [
        {
          "output_type": "stream",
          "name": "stdout",
          "text": [
            "rank 2,local max = [93.67847027]\n",
            "rank 1,local max = [61.50866365]\n",
            "rank 0,local max = [55.85794279]\n",
            "rank 5,local max = [76.49348705]\n",
            "rank 6,local max = [91.77528628]\n",
            "rank 4,local max = [99.49092473]\n",
            "rank 3,local max = [80.14961601]\n",
            "[[55.26706346]\n",
            " [51.22063647]\n",
            " [46.82621748]\n",
            " [ 6.14417366]\n",
            " [11.62099876]\n",
            " [19.17950944]\n",
            " [55.85794279]\n",
            " [61.50866365]\n",
            " [15.96943997]\n",
            " [52.76407215]\n",
            " [51.83394095]\n",
            " [36.94897499]\n",
            " [51.27917105]\n",
            " [44.83353672]\n",
            " [45.65410596]\n",
            " [16.19316448]\n",
            " [57.18687432]\n",
            " [93.67847027]\n",
            " [89.52919196]\n",
            " [ 6.8985091 ]\n",
            " [63.26476141]\n",
            " [80.14961601]\n",
            " [25.22263452]\n",
            " [67.52222519]\n",
            " [ 1.10653716]\n",
            " [49.15783752]\n",
            " [44.44599958]\n",
            " [75.38724428]\n",
            " [32.09612648]\n",
            " [96.162266  ]\n",
            " [99.49092473]\n",
            " [34.31541241]\n",
            " [95.89124792]\n",
            " [15.97429673]\n",
            " [92.01724617]\n",
            " [50.5912672 ]\n",
            " [76.49348705]\n",
            " [39.60546293]\n",
            " [11.50460754]\n",
            " [72.52209829]\n",
            " [43.0048017 ]\n",
            " [72.01599466]\n",
            " [91.77528628]\n",
            " [17.26612797]\n",
            " [84.35055979]\n",
            " [26.22896911]\n",
            " [ 1.79495033]\n",
            " [ 7.58286967]\n",
            " [82.03289374]\n",
            " [59.32545783]]\n",
            "The max number is  [4636701468367248627]\n"
          ]
        }
      ]
    },
    {
      "cell_type": "markdown",
      "metadata": {
        "id": "cQM4IP5alryA"
      },
      "source": [
        "### Problem 3 (2 points)\n",
        "\n",
        "We are solving the linear system $A\\mathbf x=\\mathbf b$ with $A=\\begin{pmatrix}0 & 10^{-2}\\\\ 10^{-2} & 10^3\\end{pmatrix}$ and some $\\mathbf b$. Suppose that we know $\\mathbf b$ with the relative error $\\epsilon_{\\mathbf b}=10^{-15}$. Give an upper bound for the relative error of $\\mathbf x$.\n"
      ]
    },
    {
      "cell_type": "markdown",
      "metadata": {
        "id": "GItY4rmzlryE"
      },
      "source": [
        "### Problem 4 (2 points)\n",
        "Consider the problem https://www.spoj.com/problems/ADASTRNG/. Explain how the problem can be solved by an algorithm of complexity $O(N\\log^c N),$ where $N$ is the length of the input string, and $c$ is some constant. Specify a particular $c$. (**Remark:** you don't need to write the program, it is sufficient to explain the logic of the algorithm). "
      ]
    },
    {
      "cell_type": "markdown",
      "metadata": {
        "id": "lDi6wSRwlryH"
      },
      "source": [
        "### Problem 5 (2 points)\n",
        "\n",
        "For which sequences $f=(f[0], f[1], \\ldots, f[N-1])$ is their Discrete Fourier Transform $\\widehat f$ **purely imaginary**?\n"
      ]
    },
    {
      "cell_type": "markdown",
      "metadata": {
        "id": "9T2S2_EWYsXy"
      },
      "source": [
        "![DFT.png](data:image/png;base64,iVBORw0KGgoAAAANSUhEUgAAAoQAAAB1CAIAAABYhGeNAAAgAElEQVR4Ae2d+V9Tx/rHv//KJAESghDCIqjIolILTREEK9FqcUOwcosWsQp6RQHjbRW1tl5voVZxoUirQhVsEUUBtVi0VKUuiIBCiyJg2AzJfF+Xed3p6clCcnKy4XN+gDmTmWdm3mdmPmeZ5f8wHEAACAABIAAEgIBDCfyfQ1OHxIEAEAACQAAIAAEMYgyVAAgAASAABICAgwmAGDv4AkDyQAAIAAEgAARAjB1cB6ZOnSoQCBBCAoFALBZ3dHQwM3T8+HE3NzepVOrr6yuTyaRSaWlpKTMAZ/fZs2ebmpo4R4eIQAAIAAEgwCMBEGMeYXIx1dvb++zZs+joaCLJ+fn5TCujo6MPHjxYu3atWCw+evRoa2urRqNhBrDI3dfX19zc/O2338bGxiKESkpKLIoOgYEAEAACQMBGBECMbQTWArPDw8Oenp5ZWVkIIZlMNjQ0xIqsUqlycnJYnhxO582bFxERkZqaOnPmTBBjDgAhChAAAkDARgRAjG0E1gKzdXV1MTExz549E4lECKHjx4+zIickJFRXV7M8rTn94IMPQIytAQhxgQAQAAL8EgAx5pcnF2uffvrpzp07McapqakIobfeeotphTw3v3r1iulppRvE2EqAEB0IAAEgwC8BEGN+eXKxFh8fX1NTgzG+ceMGGj/q6+upofr6+tjYWHrKiwPEmBeMYAQIAAEgwBcBEGO+SHK0MzQ0JJFI1Go1iR8dHY0QWrlyJTW3e/dulUpFT3lxgBjzghGMAAEgAAT4IgBizBdJjnZqa2uZD76lpaUIIaFQ2N7eTiwmJCTU1tZytG4kGoixETDgDQSAABBwDAEQY8dwp6mqVKpdu3bR05GREblcjhDKzc3FGA8ODkql0sHBQRqAFweIMS8YwQgQAAJAgC8CIMZ8keRoJzY29sqVK8zIu3btQgj5+PgMDg5evnw5Pj6e+SsvbiLGJ0+e5MUaGAECQAAIAAErCYAYWwnQquhqtdrT05M1sfjp06dkjtOxY8d27ty5e/du/TSio6Ol5h0Gl9kCMdZHCj5AAAgAAQcSADF2IHxcU1OzYMEC/RysXr2azHF69913mSOr9UNy8yFifOLECW7RIRYQAAJAAAjwSwDEmF+ellnLy8vbs2ePfpyGhgYyx0ksFo+MjOgHsNKHiLH+6iJWmoXoQAAIAAEgwI0AiDE3bvzEio6ONvbgO3fuXIRQYmIiPyn93QqI8d95wBkQAAJAwMEEQIwdcAFGRkbu3buXm5uLECooKOjs7NTpdKx8nDx5EiG0d+9elr81p2q1+vnz548ePSJKv3Xr1u7u7t7e3tevX1tjFuICASAABICAlQRAjK0EyCV6Wlqau7u7ZPwQiUQCgaCtrY1laHh4OCAgoLGxkeVvzWlqaqpEIvHy8poyZYq3t/eUKVOkUqm7u3t5ebk1ZiEuEAACQAAIWEkAxNhKgBAdCAABIAAEgIC1BECMrSUI8Z2NQFNT04YNG8bGxkjGsrKypk+frlAonC2fkB8gAASAACUAYkxRgMOJCOh0ukOHDiUmJgYHByuVyps3b5qfuc8++0ypVDI/w0dGRmZnZ5tvAUICASAABOxMAMTYzsAhObMIFBYWfv311xjj0dHR5cuXe3p6trS0mBVTL1Bvb69AIKisrNT7BTyAABAAAs5CwLZi/Pr168LCwtDQ0K+++mp0dNRZCg35cHoCc+fOjY6OJq+aW1paEEIbN27kluuqqiqBQNDb28stOsQCAkAACNiBgA3F+Ny5c6GhoWTxCoRQSEjImTNnmC8P7VA8SMJFCaxbty4mJkar1WKM+/v7EUKLFy+mZXny5Mnt27dvjR9NTU3EMTY21tjYmJycHBcX19fXRwNv37597ty5GOP29vbNmzcvW7asra3txYsXa9eujYqKam5u/vrrrzMzMxcvXrxv3z4aCxxAAAgAAXsSsIkYNzY2zp8/n8iwv79/ZmZmcHAwOVUoFMaWubBnsSEtFyJw7do1hNC//vUvjLFGo8nIyBAIBPQmjzjc3NyamppSUlK0Wq1cLv/uu+9oARUKRVZW1tOnT7Ozs3/55Re5XF5eXr5nz57Hjx8vXbpUJpNVVFRgjBsbGxFC3d3dNCI4gAAQAAJ2I8CzGD969Cg5OZn0j9HR0adOnSILSmg0mrNnz8bGxpKfkpKSfv/9d7sV0jkT6uvry8nJ2bp1a7bekWXGsdmKo7q62jmZGMyVUqmcPXv2wMAAxjg3N7e4uHhkZCQzM7O9vb2pqYlupFFbW1tZWXn79m2EEP3A/OrVK5FIlJ+fv2PHDo1G09LSsnHjxr6+vi1btmCMp02btnnzZpJoXV0dQqirq8tgHsATCAABIGBTAryJcU9Pz+bNm8kSFsuXLzf2+Hvz5s3U1FSRSCQUCjMzM9/kvq+trY31eGe309mzZ7vK94KvvvpKoVD8+eefpBmQCvP69euoqCiMcWFh4bFjx5gtJCcnJzIykvpcunQJIeTh4bFv3z7WZ+Nnz54hhOj+lQUFBdOmTaMRwQEEgAAQsCcB3sQ4IiJCLBZv2rTp0aNHExago6MjJyfHy8srKCiIzgedMNbkC5CZmckS4MTERPKh1FhhdTqdVqsdGxvTjB+vX78eGRkZHh5Wq9V9fX1dXV13796tqakpKSn59NNPk5KSAgMDWUmQ09raWmNJOI9/eXn5smXL1Go1xvjly5c0Y1VVVRkZGRjjjIyMM2fOUP+xsbHAwMDPP/+c+uzatWvGjBm9vb0ffPBBeHg48xbk7NmzIpGIGMcYR0dHk8dlGhccQAAIAAG7EeBNjH/55ZcXL15YlO+BgQGDu+1aZMSlAw8NDc2ZM4cllrwPI3rw4MG+fftYCSUlJTk5upqamoyMDI1GgzEeGRlJS0ujGVYqlWfPnsUYL1mypLCwkPpfvXoVIdTe3l5cXPz48WOM8YIFC9avX48xrq6uRgj19fWdP3/+9u3bGOMtW7bQlUDIW4r68ePy5cvUIDiAABAAAvYhwJsY2ye7ky+VlpYWsVjM1GORSPTzzz/zXlKdTnfu3LnIyEiSlkAgaG1t5T0Vvgw2NTUFBQXl5+erVKq8vLzU1FQygAtj3NLSIhQKyTvnleMHTfTgwYNz584dGhrasGEDGe0lFovJTpH19fUSiQRj/NFHHxGBj46OzsnJIXErKiqkUqlGo1m7du3g4CA1CA4gAASAgH0IgBjbh7OpVIqLi5lijBCaNm0a862sqcgW/jY6OpqdnU2S27Ztm4Wx7Rd85syZLCanTp0iyefl5S1btoy49+7dGx4eTrPV1tamUCjS09MfPnyIMe7s7AwICHj69CnGeGxsLDk5OS0tjQ5emz59Ot2Ho7+/PzY29sMPP7x27Rq1Bg4gAASAgN0IgBjbDbWphFJSUljas2rVKlMRrPutoqJCLBZ7eXnRL6bW2bNr7KGhIfJoizHW6XSuWAS78oLEgAAQcAUCTiTGFy5cYApSXV0dN4AJCQnUTnR0NDcjdo7V398/Y8YMmm3i+Oabb2yXjbNnzyKEDh8+bLskwLI+Ab4qObE8NjbGrDP0rbt+uuADBICAkxNwOjH+7rvvysePnp4ebuzq6uqIhZUrV7qKGGOMb968KRKJmH2rh4fHnTt3uEEwJ9b69etZA4zNiQVhrCFAxNj6Sk7yoNPpSFUvLy8PCwsDMbbm0kBcIOBYArYS4+7u7vT09ODg4MDAwJycnKGhoQnLSfopY0tYp6enL1u2LC4uLjw83NfX15zBwCqVyoXEGGP85ZdfMsUYIRQREWG78UQ9PT1KpfLevXsTXhoIYBEBE5XfdCW3KBVW4Li4OBcSYw7NmVXeN+F0cHBwEn+FOXjwoFAopKvpCQQCkUi0Z88eg1d206ZN7u7uXl5efn5+QUFBU6dOlcvlPj4+zjkdUavVPn/+3GBBTHjaRIy7urr8/PymTJly4sQJpVKJEKLrHJnIiul+6sCBA1u2bAkLCyNylZeXZ8IU+cnlxFin0y1evJilx2RC7YSFhQBOQsB05Tddya0pgmuJMYfmbA0cfuPW1NQsX748KChIKpXOnz9/x44dHHreCbN0/fr10NBQc3rOCU05Z4Camprc3NytW7fGx8fTTs/Pz8/g89ipU6cyMjJmzZpFQrq7u8fHx2dlZdExmM5Txvb29iVLlsyePdvSLPEvxjqdjny1ValUp06dIuzmzJkzYc7M6ae2bdtGDNbU1Exo0OXEGGPc09MTEBBAqyZxfP/99xMW1nkCREdHS8079GeZswru2FMOSCes/OZUcg7pYoxdS4xJGS1qztyw8B5r9+7dCKHw8PBvvvnmp59+KigokEqlMpmMjva3JsXe3t6bN28WFxcrFApS+SexGFNQO3bskEgktLGXlZXRn1gOrVYbGBgok8mcTYPVavWdO3fKy8tXrVolFAoRQk4hxleuXCFYr1y5kpWVRdxk3ieLLOvUnH4qKioKIcRcOIllhHnqimKMMa6traWvbgg9qVRKlrBglm5SummDdAYHB8ITVn5zKjmHdF1UjC1qztyw8Btr06ZNCKHExETmd7f79+97e3sLBIIffvjBmuSYb8W8vLxIE3gTxFihUKxevXrhwoWkyDExMcYwajQaiUSyfft2YwEc4v/555/T/opeOKcQ482bNyOEBALBwMDAgwcP0tLScnJyXr16NSGmCfspsks8Qmj+/PkTWsMYu6gYk5zTq0scCoWCbLlhTsEhjKMITFj5J6zknHPuck/GljZnzmT4ilhfX08aI5nFzjRLuuOAgABrPvEeP358//79p06damtrO3nyJElr0ovxwMCAUCj8+uuvz507Rzu9W7duMfFSd3NzM0Lop59+oj7O4Kirq9u9e3dxcfGtW7daW1tJKZxCjMPDwxFCoaGhlmKasJ+qrKwk5fzss8/MMe66YqzRaOLi4mjVJA5nux805xK8aWEmrPwTVnLOxFxOjC1tzpzJ8BWRDH8JCQnRN/jrr7+SRkpWadUPYKlPSUkJMTjpxfjixYsIoXv37mk0mqCgIFLqdevWGSRWWFgoFAr7+/sN/uoMnnT7H8eL8cuXLwnN1atXW4pmwn5q69atxLixLaFYKbquGGOMOzo6vL29SXnp34sXL7LKCKfOQ8Ccyj9hJedcHJcTY0ubM2cyvETs7e0lMw8XL16sb7C/v580UuYK6vrBzPd5c8Q4Ly9PJpORHVz27dtHMHp4eBjc6SA5OZmuJ28+THuGdCIxJiv1I4Q47HYwYT9F1lV2d3cfGRkxh69LizHGuKKigsowccjl8u7ubnPK/qaFKSsri4mJEYlE7u7uZP1LjPHw8HBMTIxUKpXL5e+9956Z1YYzOnMq/4SVnHPqLifGljZnzmR4iXj+/HnSBtesWaNvUKfTkXEe3t7edHk4/WDm+7w5YhwTE0NXG+zp6XF3dyecDxw4wMKl0+nkcrk582hYEe156kRiTGfKVlVVWYrAdD/V09NDLlJCQgLTcnV19Xvvvefl5bVgwQKWULm6GGOMP/nkE1Jq+lepVJreY5EJh3e3RqO5cOHCtm3bIiMj3dzcpk2blp2dzdonmPdEzTT44sWL0NBQhNDu3buZUZYsWaI/bJsZgC+3OZXfWCXv7OxcsWKFVCpduHAhbTv9/f0qlWr27NkSiSQoKGjlypXNzc3GcutaYsyhORsruH38v/jiC9IGjU01lEqlJAAv+6+8IWKsVqtFIhFz47V//OMfBGNwcDBrd92WlhaEkJO/HXSwGL948YJWRKoZ1OHu7m7whYN+EzLWT5GQ5eXlxOann35K4+bn57u7u2dnZ1dUVPj7+2dnZ9OfXHoAFy3F8PAw3WeJIt2/fz8NYE9HXV0d2Ydx6dKlJ06c+PHHH1UqlVQqjYyM5OVpwMqyVFZWFhUVzZkzJygoiJmfhQsXWmnZRHRLK7/BSj4yMhIZGZmcnHzkyBEyWeDy5ct3794NDQ1NSEgoLi6+cOFCRkYGQkgikRhbpMW1xJhDczZxFezwE70tNvYR19fXl7TQq1evWp+fN0SMa2pqEEK//fYbJXbz5k3a0VVWVlJ/jPHhw4dFIpE5Y4GZsezsdrAY9/T07Ny5M2/8IAO7pVIpOc3Ly/viiy/MxGGwn6JxyThVhBDdblalUs2cObO5ubmjo2PFihX6o6w5PBm3tLSct+KorKxk3c3R/HN2/P777/p7LNp/ml1eXh5CyMPD4/Tp08yyFBUVIYTMmfbNjGUL9/bt23/77bfCwkKEEG3GXV1dxgaD8JIHSyu/wUr+/fffBwcHDw8PY4zlcjlCKCwsTCqVHj16lGby1atX5Jvlxo0bqSfT4VpizKE5MwtL3RqNprKy0oome/7+/fvUmglHWloaEQnWHT+N4ufnRwLQukd/4uB4Q8RYpVL5+PiwXvXROdZKpZKJbvXq1e+++y7TxwndDhZjSmRoaIjMd+b2LGKwn6LGIyIimDOMCwoKoqOjycI3ycnJpBnQnfVILA5iTAZM0lszYw6BQCAcP0Tjh9v44e7uLhaLmXd5NPNWOo4dO8bKyfTp0/v6+qw0a350+gK2tLSUFevEiRMIoYaGBpa//U+VSuXY2NjLly/FYvH7779PMlBeXn7ixAk7ZMbMym+wki9YsIDs1jw2NkZXP2C+uyP5Dw4O1r/jpEVzLTHm0JxpSZmOhoYG1qR8Vkuhp6TNkgYrEonc3Nzcx4+UlBSmQWNu2skYW3+RrtVz5swZY0bM939DxDguLm7FihUsLKWlpfSq0Vsll/hgjDF2FjGmbxi4rZFrsJ8i1+mPP/4gl+edd97R6XT5+fkKhYLu+Lt27Voys/nHH39kXlcOYsyM7lTu1NRUWkGJw8xOxPpS3LhxgwmfafDly5eRkZGhoaG8vw9gpmKOe3BwcPny5SRkenq6QCBoa2vDGG/duvXRo0fmWLAyjJmVX7+Sk9ZLvmrTGTJKpZKML6W5IssdIIQMjuZ1rUU/uDVnisIhjlWrVpFWYEyM/f39SQBe1st7E8RY/4MxubIjIyPk/RBCiNK+d+8eQohuRu6QOmBOolSMZ82aZU54Zhg+l8MsLi4m1ZHbynD6/RTNKNnvDyGUkpKyatWqxMRE5peD/v7+srIy/Xnik0mMBwYGQkJCCF769/jx4xSR7RzLly8nKZaWlmq12qGhoc7OzoaGhoKCAn9//6CgIFu8DLC0OFevXqXDL3/++WeE0M6dOzHGxqTLUvsThjez8utX8q6ursOHD5M3dYcOHSKo9Zc1oGKfm5trMDMu9GTMrTkbLLXdPMkdP0IoKyvLYKJUP86fP28wgEWeVIw3bdpkUUQXCnz58mXWB2Oa+fz8fNIQ6J7rRUVFIpFoYGCAhnFOBxXjiIgIS3PIpxiTteLIDG5L84Ex1u+nqBE6egIhJJfLq6urzdnLaDKJscE9Fj09PTlvNEnZmnZ0dHQYfA0oFotjY2NLS0udZF2wgoKCGzdu0LJERkb6+fn19PQYnIhCg/HoMLPym6jkGOOkpCSEkFAo1O909u7dS7qn2tpag9l2ITHm1pwNltpunpmZmYT/J598YjBRmUxGAtBBLQaDmelJxdhYcmbaceZgu3btkslkrA/GJMPt7e3kiydCiGzrnpyczO2D8YIFC8h14fD3+vXrlgKkYhweHm5pXD7FeN68eQghsVjMHMtqfoZM9FNkYSORSLRq1SoyatHDw2PHjh2mF5+bZGKsv8eisbE85jOfMCQZ7kiWVKuvr79x48avv/765MkTh7+XZuU8KSmJOY2YDCtLT08vKipihbTRqZmV30QlHxsbI+MfDS5rQEa1+Pj4GNzTxrVeU3Nrzja6cGaapTdDH3/8scEonp6epLt/8OCBwQAWeVIxtkMbtyhjPAaeP38+nWGsb5bcmCKE5syZo9VqfX19uc0wvn37Nt3z21KHsbamn1vqQ8U4LCyMeprp4E2M6diTefPmmZk2K5ixfqq7u5vU8vj4eIzx6Ojo/v37iY/pXY0nnxjrdLr333+flp3bTQ8Lu+lTukZucnKy6ZAO/FWj0dARWyQbfX19ZAi6fV6hm1/5jVVyjHFTUxO5svovomkLz8zMNMbZVZ6MOTdnYwW3jz9dOdlgQ9BoNOTaeXh4kFHxVuZq0ovx4OCgm5ub/ihFyo0+BiCEyBQJ5/9gzBzA5UgxfvDgAamOxubhUcrGHMb6KfqFae/evTQuHU/xxx9/EM8nT56wpttzEGMzR1OTkur/FQgEJpZloJm3xkFehyoUCtNvBaxJghmXijG321KmKdu5q6qq9JdiWL9+/ZQpUwy+BOM9J+ZXfmOVnPnaQ/+DcUFBAalsdCHYs2fPdnR0MAviKmLMuTkzC0vd165dM/gZRb9tGvNZuXIltWbCMTg4SJ59De5SQ+8w+BpWScXYxO2Xidw6/0+1tbXGPhiTzGu1WrKGD0LI09PT4LcbJywmvW/msDsDb0/GtI2dPHmSGyNj/RSdksicXLtx40bSujo7O0ly77zzTn5+PjNpDmJ89+5dS19lMMP/8MMPNn1/S96+zpgx488//2SW1Hbua9euEc6HDh0ylkpbW5s5n/CNRbfGv7u7e968eZ6enmKxmDWh7tatW2b2s9ZkgMQ1v/Ibq+QY46VLl5LJe8zBiRhjnU5HeqWgoCByb0FGqN29e5eZc2NirNFoTp48WVxcTGcfMGPZ3825ORvMqkajqaioYLZBS90tLS0GLet7kqnGvr6++j/V1dWRZqI/ybimpubQoUOWboFKxdj05rPPnz8/dOhQeXm5Tbsd/fJa77Nr1y5vb2/T98p0PCNCiNsHY+vzaakFpxBjsiiE6Zsd0wUz1k+RVZ+kUinzrSz5ouDh4UEuZ1tbm1AoZNV4DmJsOoeO/bWqqkooFMpkMl4+SplZFrVaTUamGJuu1tjY6OPjw1yewkzLkymY+ZXfWCXXaDRkGTv9rzxk2ziEEN22a/Xq1UuWLGEBNCbGdGSZQqFwhi6bc3Nmldf+p2T0L0Lo0qVLrNQ3bNiAEPLz82MOXMAY07s0mUzW3t7OimXilIqx/isfGkur1RKYCCFjzZMGxhgfPXrU19d31qxZv/zyC9PfoPvQoUMymSwyMvLOnTsGAzA99+7d6+3tHRUVZX7XFBMTY/ojI8b45cuXdNq9/rcbZgacx03FeObMmSZyZfBa8PZkvGjRImtGbxkbTd3b20tuOVlXjqwOSLczW7duHSvA5FgOk17OW7duSSQSDw8PDgP8qBFuDvKFPiAggPX4+/r16wMHDkgkkoyMDGfo5bmVjpdY5ld+Y2J8+/ZtUs/J6h/MXDU2NpKfyN71zc3NIpGIvq+mIY2JcVhYGImOEKqrq6PhHeKwpjk7JMOsRMnDcXh4OLMtNDY2klfl+t8X6As8hJCZG7+SFOnnIRNi3NXVRa+sWCw2/d2qv7+frOCGEIqNjWWVi3Xa3d1NX/4vWrSI9Svr9PHjxzQbJgZkMWN9++23AoFg7dq1TE+DbjqI3SU+GDO/GVNt0i+XsWvBmxiTQc4GP6jo58agj8F+iux2Sb7hM2Ndv36dLKlTUlKybds2f39/+r6aBps0T8ZPnjzx9/cXCATl5eW0dHZzaLXa9evXI4SioqJKS0uvXLlSVlaWlZXl5+cXGBjIbU653TJvn4TMr/wGKzlZd5f0aNeuXWPleXR0lKy9tXPnzqNHj/r5+f3nP/9hhTExmpq+FtZvRPpGbO1jTXO2dd7MsT8yMpKSkoIQmj179pEjR6qqqvbs2eM5fhic9E+fjBFCE340qa6uVqlUubm5mZmZdNayu7v72rVrc3NzVSoV6/2TVqtlLlxveqwiUwAm7KX/+OMPOrNI/x0MCxR9FkQImd459/Tp0xs2bIiKiqLivXDhwqysLOakRJbxO3fuGJvsxwrpwNP79++rVKr8/Pzs7Gz6rgIhpFQqc3JyVOMH87WusWvBjxi3t7cTvmSlBW5cDPZTLS0tgYGBS5cuZd6KEvsXLlxQKBRSqVShUPz666/6iU4OMe7t7SVrB5r4aqtfdn59tFrtmTNn4uPj5XK5RCIJCQlJSUkpLS1lvZTjN1FXsWZR5TdYyTHGP/74o6en54cffmjwK9pvv/2WmJhI9uQwtn29sSdjjUZTVlZWVFQUFRVVUFDgWKrWNGfH5pymrtPpqqurk5KSpk+fLhaLQ0ND//nPf5Ll3mgYpuPq1asHDx5MS0tLTExk+uu7c3JyJBKJj4+PXC739/cPGD/8/f39/PxkMplUKtUX0ZcvXxYVFZ08eVIkEunfxrGSOHHihFwuDw8P118fiRUSY1xUVOTr6xsZGckamqAfkow99PHxiYqKevjwocEAxDMsLMzT01MqlU6ZMsXb29vLy0sikQgEAtZy9ywLSqVSv+CsMI49vXDhgpubm7e3t1wu9/PzI9eOXDhfX18vLy+hUMiaJWXwWvAjxj/88AMR4ytXrnDmYqyf4mxwEojxyMjI/PnzmcvCcaYBEW1EwKLKb6KSs9a/tDS3xsSY2CFL+x47dsxSsxCeFwLJyclpaWm8mNI3QpaKtM+yr/qpgw9fBPgRYzKARSKRWDPHzkQ/xa20ri7GWq2WvBNbuXKlwQcmblggFr8ELKr8vFdyWhbTYnz//n2EkP6nHBodHDYl4OfnV1ZWZqMkjhw5YuILpY0SBbO8E+Aoxlqt9uDBg6tXryaL8yUkJCCEPvroI2vyx3s/5epinJOTQ0ZbDA0NWQMW4vJLwJrKz3slp0UzLcZ79+59++23aWBw2JPA9evXhUJhb2+vjRJVKpXbtm2zkXEwazcCHMX4+PHj5L30O++8Mzo6SlY7MvEd3pzy8N5PubQYk0VnwsLCXrx4YQ49CGM3AtZUft4rOS21CTG+f/++h4dHSUkJDQwOuxEYHh6OiIhIT0+3UYolJSUeHh50q0EbpQJm7UCAoxh//PHHRIw3b95Mvpnpb0tpae5576dcV4zPnTsnFEokmIkAAAhOSURBVAr9/PxMDAyxFK9++NbW1vDwcLJ5n/6v4GOMgDWVn/dKTjNpTIw1Go1CodCf+EcjgsOmBLZt2xYUFGSj3cc7Ozu9vLz+/e9/27QIYNw+BDiK8eHDhxFCM2fO/O6774KDg0NDQ61/gOO9n3JRMf7555/FYrGnp6c5gx6tqSXLly+nizpZY+dNi2tN5ee9klP4xsS4ra0tOjqarhpLw4PDDgS0Wm1cXJztpneXl5evWLECBpTY4VLaIQmOYjw2Npafnx8YGCiXyzMyMnj5HMJ7P+WKYvzw4UNfX1+RSGTrSe5VVVUIIZVKZYdKNsmSsKby817JKVtjYkwDgAMIAAFnJsBRjG1RJNJPkbff1qwWREaTETvR0dG2yKqNbP75558hISEIIYMLCPCY6MWLFz08PBBC5i9fx2Pqb7Ipvio5YTg2Nkbbi5lrIr7J8KHsQMCZCTiRGHd1dTEXee/p6eEGrq6ujtrhZaNvbtmwNJZarSZ71lq0bJ6lqYyNjR04cMDNzQ0hpL8MsqXWILylBPiq5CRdnU5Hq3p5ebnpNZgszSqEBwJAwJ4EnEiM7VlsZ0tLo9F88MEHCCFjW5fzkuFLly7FxMTQZ6kjR47wYhaMAAEgAASAgJUEQIytBMhPdLLry/vvv89cwpQf0xi3trYePHiQuSQsQsjd3d1J9tTjq5hgBwgAASDgugRAjB1/7cjW8TNmzLh//37XRMez8ePp06ednZ0dHR3t7e1Pnjxpa2trbW198OBBc3NzfX39uXPnvvnmm+3bty9evDggIIA+CjMdqampji855AAIAAEgAATGCYAYO7gifPvtt0yNtJv74sWLDi45JA8EgAAQAAL/IwBi/D8Sjvh/6dIlusmo3WQYIRQQEGCL9+GOQAhpAgEgAAQmAwEQY4ddRbVa7efnJxKJhEIh3cqbgyQL/ncIxw/R3w+3/x3u44fH+GHNTpcO4wUJAwEgAAQmLwEQ48l7baFkQAAIAAEg4CIEQIxd5EJBNoEAEAACQGDyEgAxnrzXFkoGBIAAEAACLkIAxNhFLhRkEwgAASAABCYvARDjyXttoWRAAAgAASDgIgRAjF3kQlmXzdevX+fn58+YMSMoKCguLu7UqVPW2YPYQAAIAAEgwCcBEGM+aTqnLbVavWjRorfffrutrQ1jfPPmTZlMtnHjRufMLeQKCAABIPAGEgAxnvwX/YsvvkAINTY20qJ+9dVXCKGffvqJ+oADCAABIAAEHEgAxNiB8O2RtFarDQkJCQwMZCbW3t6OEEpKSmJ6ghsIAAEgAAQcRQDE2FHk7ZRuQ0MDQkihUDDTGx0dRQiJxeKhoSGmP7iBABAAAkDAIQRAjB2C/a9Enz17Nn/+/KlTp+bm5up0uvb29vT09Lffflsmk61Zs+bFixd/BeXkOnz4MELovffeY8V2c3NDCDU1NbH84RQIAAEgAATsTwDE2P7M/5bismXLGhoayGfdLVu2vPvuu5WVlTqdrqamBiG0bt26v4W2/GTXrl0IIaVSyYoqkUgQQpWVlSx/OAUCQAAIAAH7EwAxtj/zv1Ls6uqKi4vDGJMRVVOmTGltbSU/j4yMIIQiIiJo6AMHDviYPGQyme/4IZfL586dq9PpMMY5OTkIoUWLFlE7xCGVShFCZ86cYfnDKRAAAkAACNifAIix/Zn/leLRo0f379+PMf7www8RQszpv21tbQihmJiYv0JzchkTY09PT4TQ6dOnOVmFSEAACAABIMAnARBjPmlytjV16lShUDgwMEAtlJSUIIS2b99Ofbg5VCqVwdfUYrEYXlNzQwqxgAAQAAK8EwAx5h2pxQYfP36MEIqKimLGTElJQQhdunSJ6cnBXVhYiBCKj49nxRWJRKzJx6wAcAoEgAAQAAJ2IwBibDfURhMiD8Fbt26lIdRqtVgs9vX11Wg01JObo76+HiH01ltvMaOr1WqEkJubW19fH9Mf3EAACAABIOAQAiDGDsH+t0Q//vhjhNC5c+eo7+nTpxFCmZmZGOPz58/n5ORgjPft2yc1+5g1axYZwDU2NhYQEODj40ONY4wfPnwIi34wgYAbCAABIOBYAiDGjuX/39RDQ0MRQs+fP6dZWbNmDX1HnZCQcPv2bfoTBweZ3dTQ0EDjfvnllwihiooK6gMOIAAEgAAQcCABEGMHwv9v0j09PfqvkTMyMhBCHR0dZWVlK1eutDKLGo1myZIlc+bM6ezsxBg3NjZ6eXmtWbPGSrMQHQgAASAABPgiAGLMF0mOdh4/fiyVSo8ePcqM/+TJk3nz5gUHB6enp4+OjjJ/4uZWq9U7duwICQkJDg5etGjRkSNHtFotN1MQCwgAASAABHgnAGLMO1IwCASAABAAAkDAMgIgxpbxgtBAAAgAASAABHgnAGLMO1IwCASAABAAAkDAMgIgxpbxgtBAAAgAASAABHgnAGLMO1IwCASAABAAAkDAMgIgxpbxgtBAAAgAASAABHgnAGLMO1IwCASAABAAAkDAMgIgxpbxgtBAAAgAASAABHgnAGLMO1IwCASAABAAAkDAMgIgxpbxgtBAAAgAASAABHgnAGLMO1IwCASAABAAAkDAMgIgxpbxgtBAAAgAASAABHgnAGLMO1IwCASAABAAAkDAMgIgxpbxgtBAAAgAASAABHgnAGLMO1IwCASAABAAAkDAMgIgxpbxgtBAAAgAASAABHgnAGLMO1IwCASAABAAAkDAMgIgxpbxgtBAAAgAASAABHgnAGLMO1IwCASAABAAAkDAMgIgxpbxgtBAAAgAASAABHgnAGLMO1IwCASAABAAAkDAMgIgxpbxgtBAAAgAASAABHgn8P8wfDPVxXyJwQAAAABJRU5ErkJggg==)"
      ]
    },
    {
      "cell_type": "markdown",
      "metadata": {
        "id": "pb63AwDnY5NV"
      },
      "source": [
        "$\\hat f$ is purely imaginery -> $\\hat f^*[k]= \\hat f[-k]$\\\n",
        "$f[k]=\\dfrac{1}{N} \\sum_{n=0}^{N-1}e^{+\\dfrac{2 \\pi i k n}{N}} \\hat f[n] = \\dfrac{1}{N} \\sum_{n=0}^{N-1}\\left(e^{-\\dfrac{2 \\pi i k n}{N}}\\right)^* \\hat f[n] = -\\left(\\dfrac{1}{N} \\sum_{n=0}^{N-1}e^{\\dfrac{2 \\pi i (-k) n}{N}} \\hat f[n]\\right)^*=-f[-k] \\Rightarrow f[k]=-f[-k]$\n"
      ]
    },
    {
      "cell_type": "markdown",
      "metadata": {
        "id": "A6ueKCLrlryI"
      },
      "source": [
        "### Problem 6 (2 points)\n",
        "\n",
        "Suppose that we are solving the ODE $\\tfrac{d}{dt} x=-x$ iteratively, using the centered approximation for the derivative:\n",
        "\n",
        "$$\\frac{\\tilde x_{n+1}-\\tilde x_{n-1}}{2\\Delta t}=-\\tilde x_n.$$\n",
        "\n",
        "Determine theoretically for which $\\Delta t$ the numerical solution does not diverge, i.e. $\\sup_n \\tilde x_n^2 <\\infty$."
      ]
    },
    {
      "cell_type": "markdown",
      "metadata": {
        "id": "iKK5B88ZlryJ"
      },
      "source": [
        "### Problem 7 (2 points)\n",
        "\n",
        "Recall that the Radon transform is defined by \n",
        "\n",
        "$$Rf(\\alpha, s) =  \\int_{-\\infty}^\\infty f(z\\sin\\alpha+s\\cos\\alpha, -z\\cos\\alpha+s\\sin\\alpha) dz.$$ \n",
        "\n",
        "Suppose that $f$ is an indicator function of some set $A\\subset \\mathbb R^2$, i.e. $f(x,y)=\\begin{cases}1,& (x,y)\\in A\\\\ 0,&(x,y)\\notin A\\end{cases}$. Suppose that $Rf(\\alpha, s)=0$ for all $\\alpha, s$ such that $|s-\\cos \\alpha|>1$. What is the largest possible area of $A$? Describe this $A$."
      ]
    }
  ]
}