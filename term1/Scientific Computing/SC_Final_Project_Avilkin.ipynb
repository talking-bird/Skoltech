{
  "nbformat": 4,
  "nbformat_minor": 0,
  "metadata": {
    "colab": {
      "name": "Final Project Avilkin.ipynb",
      "provenance": [],
      "collapsed_sections": []
    },
    "kernelspec": {
      "name": "python3",
      "display_name": "Python 3"
    },
    "language_info": {
      "name": "python"
    },
    "widgets": {
      "application/vnd.jupyter.widget-state+json": {
        "bf8309c008c14147a5407798dfe2468d": {
          "model_module": "@jupyter-widgets/controls",
          "model_name": "HBoxModel",
          "model_module_version": "1.5.0",
          "state": {
            "_view_name": "HBoxView",
            "_dom_classes": [],
            "_model_name": "HBoxModel",
            "_view_module": "@jupyter-widgets/controls",
            "_model_module_version": "1.5.0",
            "_view_count": null,
            "_view_module_version": "1.5.0",
            "box_style": "",
            "layout": "IPY_MODEL_871bf4d1e0cf43a8a8fd34e77cf479ad",
            "_model_module": "@jupyter-widgets/controls",
            "children": [
              "IPY_MODEL_661912db4d274e5f8872cbc68d8396da",
              "IPY_MODEL_dad109c49d40435796f1668cc25d80b7",
              "IPY_MODEL_bd7b56049b4d4d469cac576806b9fac0"
            ]
          }
        },
        "871bf4d1e0cf43a8a8fd34e77cf479ad": {
          "model_module": "@jupyter-widgets/base",
          "model_name": "LayoutModel",
          "model_module_version": "1.2.0",
          "state": {
            "_view_name": "LayoutView",
            "grid_template_rows": null,
            "right": null,
            "justify_content": null,
            "_view_module": "@jupyter-widgets/base",
            "overflow": null,
            "_model_module_version": "1.2.0",
            "_view_count": null,
            "flex_flow": null,
            "width": null,
            "min_width": null,
            "border": null,
            "align_items": null,
            "bottom": null,
            "_model_module": "@jupyter-widgets/base",
            "top": null,
            "grid_column": null,
            "overflow_y": null,
            "overflow_x": null,
            "grid_auto_flow": null,
            "grid_area": null,
            "grid_template_columns": null,
            "flex": null,
            "_model_name": "LayoutModel",
            "justify_items": null,
            "grid_row": null,
            "max_height": null,
            "align_content": null,
            "visibility": null,
            "align_self": null,
            "height": null,
            "min_height": null,
            "padding": null,
            "grid_auto_rows": null,
            "grid_gap": null,
            "max_width": null,
            "order": null,
            "_view_module_version": "1.2.0",
            "grid_template_areas": null,
            "object_position": null,
            "object_fit": null,
            "grid_auto_columns": null,
            "margin": null,
            "display": null,
            "left": null
          }
        },
        "661912db4d274e5f8872cbc68d8396da": {
          "model_module": "@jupyter-widgets/controls",
          "model_name": "HTMLModel",
          "model_module_version": "1.5.0",
          "state": {
            "_view_name": "HTMLView",
            "style": "IPY_MODEL_4b89405e052e484ba18d678b2a828c66",
            "_dom_classes": [],
            "description": "",
            "_model_name": "HTMLModel",
            "placeholder": "​",
            "_view_module": "@jupyter-widgets/controls",
            "_model_module_version": "1.5.0",
            "value": "100%",
            "_view_count": null,
            "_view_module_version": "1.5.0",
            "description_tooltip": null,
            "_model_module": "@jupyter-widgets/controls",
            "layout": "IPY_MODEL_63008a3ee5c44ff0a2672a2b3e6fe228"
          }
        },
        "dad109c49d40435796f1668cc25d80b7": {
          "model_module": "@jupyter-widgets/controls",
          "model_name": "FloatProgressModel",
          "model_module_version": "1.5.0",
          "state": {
            "_view_name": "ProgressView",
            "style": "IPY_MODEL_c7a185ecdd8f4986922a1d5717f4d1a1",
            "_dom_classes": [],
            "description": "",
            "_model_name": "FloatProgressModel",
            "bar_style": "success",
            "max": 398,
            "_view_module": "@jupyter-widgets/controls",
            "_model_module_version": "1.5.0",
            "value": 398,
            "_view_count": null,
            "_view_module_version": "1.5.0",
            "orientation": "horizontal",
            "min": 0,
            "description_tooltip": null,
            "_model_module": "@jupyter-widgets/controls",
            "layout": "IPY_MODEL_7e020d5e09e54fa68a3b3a8673d5b875"
          }
        },
        "bd7b56049b4d4d469cac576806b9fac0": {
          "model_module": "@jupyter-widgets/controls",
          "model_name": "HTMLModel",
          "model_module_version": "1.5.0",
          "state": {
            "_view_name": "HTMLView",
            "style": "IPY_MODEL_afbc0d67d1d34a4680d17c72ce32ba07",
            "_dom_classes": [],
            "description": "",
            "_model_name": "HTMLModel",
            "placeholder": "​",
            "_view_module": "@jupyter-widgets/controls",
            "_model_module_version": "1.5.0",
            "value": " 398/398 [00:02&lt;00:00, 196.62it/s]",
            "_view_count": null,
            "_view_module_version": "1.5.0",
            "description_tooltip": null,
            "_model_module": "@jupyter-widgets/controls",
            "layout": "IPY_MODEL_1290cca374894744b40d27b9d77ddb36"
          }
        },
        "4b89405e052e484ba18d678b2a828c66": {
          "model_module": "@jupyter-widgets/controls",
          "model_name": "DescriptionStyleModel",
          "model_module_version": "1.5.0",
          "state": {
            "_view_name": "StyleView",
            "_model_name": "DescriptionStyleModel",
            "description_width": "",
            "_view_module": "@jupyter-widgets/base",
            "_model_module_version": "1.5.0",
            "_view_count": null,
            "_view_module_version": "1.2.0",
            "_model_module": "@jupyter-widgets/controls"
          }
        },
        "63008a3ee5c44ff0a2672a2b3e6fe228": {
          "model_module": "@jupyter-widgets/base",
          "model_name": "LayoutModel",
          "model_module_version": "1.2.0",
          "state": {
            "_view_name": "LayoutView",
            "grid_template_rows": null,
            "right": null,
            "justify_content": null,
            "_view_module": "@jupyter-widgets/base",
            "overflow": null,
            "_model_module_version": "1.2.0",
            "_view_count": null,
            "flex_flow": null,
            "width": null,
            "min_width": null,
            "border": null,
            "align_items": null,
            "bottom": null,
            "_model_module": "@jupyter-widgets/base",
            "top": null,
            "grid_column": null,
            "overflow_y": null,
            "overflow_x": null,
            "grid_auto_flow": null,
            "grid_area": null,
            "grid_template_columns": null,
            "flex": null,
            "_model_name": "LayoutModel",
            "justify_items": null,
            "grid_row": null,
            "max_height": null,
            "align_content": null,
            "visibility": null,
            "align_self": null,
            "height": null,
            "min_height": null,
            "padding": null,
            "grid_auto_rows": null,
            "grid_gap": null,
            "max_width": null,
            "order": null,
            "_view_module_version": "1.2.0",
            "grid_template_areas": null,
            "object_position": null,
            "object_fit": null,
            "grid_auto_columns": null,
            "margin": null,
            "display": null,
            "left": null
          }
        },
        "c7a185ecdd8f4986922a1d5717f4d1a1": {
          "model_module": "@jupyter-widgets/controls",
          "model_name": "ProgressStyleModel",
          "model_module_version": "1.5.0",
          "state": {
            "_view_name": "StyleView",
            "_model_name": "ProgressStyleModel",
            "description_width": "",
            "_view_module": "@jupyter-widgets/base",
            "_model_module_version": "1.5.0",
            "_view_count": null,
            "_view_module_version": "1.2.0",
            "bar_color": null,
            "_model_module": "@jupyter-widgets/controls"
          }
        },
        "7e020d5e09e54fa68a3b3a8673d5b875": {
          "model_module": "@jupyter-widgets/base",
          "model_name": "LayoutModel",
          "model_module_version": "1.2.0",
          "state": {
            "_view_name": "LayoutView",
            "grid_template_rows": null,
            "right": null,
            "justify_content": null,
            "_view_module": "@jupyter-widgets/base",
            "overflow": null,
            "_model_module_version": "1.2.0",
            "_view_count": null,
            "flex_flow": null,
            "width": null,
            "min_width": null,
            "border": null,
            "align_items": null,
            "bottom": null,
            "_model_module": "@jupyter-widgets/base",
            "top": null,
            "grid_column": null,
            "overflow_y": null,
            "overflow_x": null,
            "grid_auto_flow": null,
            "grid_area": null,
            "grid_template_columns": null,
            "flex": null,
            "_model_name": "LayoutModel",
            "justify_items": null,
            "grid_row": null,
            "max_height": null,
            "align_content": null,
            "visibility": null,
            "align_self": null,
            "height": null,
            "min_height": null,
            "padding": null,
            "grid_auto_rows": null,
            "grid_gap": null,
            "max_width": null,
            "order": null,
            "_view_module_version": "1.2.0",
            "grid_template_areas": null,
            "object_position": null,
            "object_fit": null,
            "grid_auto_columns": null,
            "margin": null,
            "display": null,
            "left": null
          }
        },
        "afbc0d67d1d34a4680d17c72ce32ba07": {
          "model_module": "@jupyter-widgets/controls",
          "model_name": "DescriptionStyleModel",
          "model_module_version": "1.5.0",
          "state": {
            "_view_name": "StyleView",
            "_model_name": "DescriptionStyleModel",
            "description_width": "",
            "_view_module": "@jupyter-widgets/base",
            "_model_module_version": "1.5.0",
            "_view_count": null,
            "_view_module_version": "1.2.0",
            "_model_module": "@jupyter-widgets/controls"
          }
        },
        "1290cca374894744b40d27b9d77ddb36": {
          "model_module": "@jupyter-widgets/base",
          "model_name": "LayoutModel",
          "model_module_version": "1.2.0",
          "state": {
            "_view_name": "LayoutView",
            "grid_template_rows": null,
            "right": null,
            "justify_content": null,
            "_view_module": "@jupyter-widgets/base",
            "overflow": null,
            "_model_module_version": "1.2.0",
            "_view_count": null,
            "flex_flow": null,
            "width": null,
            "min_width": null,
            "border": null,
            "align_items": null,
            "bottom": null,
            "_model_module": "@jupyter-widgets/base",
            "top": null,
            "grid_column": null,
            "overflow_y": null,
            "overflow_x": null,
            "grid_auto_flow": null,
            "grid_area": null,
            "grid_template_columns": null,
            "flex": null,
            "_model_name": "LayoutModel",
            "justify_items": null,
            "grid_row": null,
            "max_height": null,
            "align_content": null,
            "visibility": null,
            "align_self": null,
            "height": null,
            "min_height": null,
            "padding": null,
            "grid_auto_rows": null,
            "grid_gap": null,
            "max_width": null,
            "order": null,
            "_view_module_version": "1.2.0",
            "grid_template_areas": null,
            "object_position": null,
            "object_fit": null,
            "grid_auto_columns": null,
            "margin": null,
            "display": null,
            "left": null
          }
        },
        "12ccf899046b451abf6cefd8f9aeaa3c": {
          "model_module": "@jupyter-widgets/controls",
          "model_name": "HBoxModel",
          "model_module_version": "1.5.0",
          "state": {
            "_view_name": "HBoxView",
            "_dom_classes": [],
            "_model_name": "HBoxModel",
            "_view_module": "@jupyter-widgets/controls",
            "_model_module_version": "1.5.0",
            "_view_count": null,
            "_view_module_version": "1.5.0",
            "box_style": "",
            "layout": "IPY_MODEL_f46b1e6d6ac64a12a167319b588c78e8",
            "_model_module": "@jupyter-widgets/controls",
            "children": [
              "IPY_MODEL_20ea7e00b7404ed58ca2037fd361c222",
              "IPY_MODEL_7f7e4e54f9c440dfb78ba0810641b3ff",
              "IPY_MODEL_d77b749962784eab9e2573482020b485"
            ]
          }
        },
        "f46b1e6d6ac64a12a167319b588c78e8": {
          "model_module": "@jupyter-widgets/base",
          "model_name": "LayoutModel",
          "model_module_version": "1.2.0",
          "state": {
            "_view_name": "LayoutView",
            "grid_template_rows": null,
            "right": null,
            "justify_content": null,
            "_view_module": "@jupyter-widgets/base",
            "overflow": null,
            "_model_module_version": "1.2.0",
            "_view_count": null,
            "flex_flow": null,
            "width": null,
            "min_width": null,
            "border": null,
            "align_items": null,
            "bottom": null,
            "_model_module": "@jupyter-widgets/base",
            "top": null,
            "grid_column": null,
            "overflow_y": null,
            "overflow_x": null,
            "grid_auto_flow": null,
            "grid_area": null,
            "grid_template_columns": null,
            "flex": null,
            "_model_name": "LayoutModel",
            "justify_items": null,
            "grid_row": null,
            "max_height": null,
            "align_content": null,
            "visibility": null,
            "align_self": null,
            "height": null,
            "min_height": null,
            "padding": null,
            "grid_auto_rows": null,
            "grid_gap": null,
            "max_width": null,
            "order": null,
            "_view_module_version": "1.2.0",
            "grid_template_areas": null,
            "object_position": null,
            "object_fit": null,
            "grid_auto_columns": null,
            "margin": null,
            "display": null,
            "left": null
          }
        },
        "20ea7e00b7404ed58ca2037fd361c222": {
          "model_module": "@jupyter-widgets/controls",
          "model_name": "HTMLModel",
          "model_module_version": "1.5.0",
          "state": {
            "_view_name": "HTMLView",
            "style": "IPY_MODEL_a72926a3420c43be9cad0d65eaa88779",
            "_dom_classes": [],
            "description": "",
            "_model_name": "HTMLModel",
            "placeholder": "​",
            "_view_module": "@jupyter-widgets/controls",
            "_model_module_version": "1.5.0",
            "value": "100%",
            "_view_count": null,
            "_view_module_version": "1.5.0",
            "description_tooltip": null,
            "_model_module": "@jupyter-widgets/controls",
            "layout": "IPY_MODEL_a2682789cf3844dcab82f14a99a4129c"
          }
        },
        "7f7e4e54f9c440dfb78ba0810641b3ff": {
          "model_module": "@jupyter-widgets/controls",
          "model_name": "FloatProgressModel",
          "model_module_version": "1.5.0",
          "state": {
            "_view_name": "ProgressView",
            "style": "IPY_MODEL_14cd99e4cb974ab9855471e2dcee160a",
            "_dom_classes": [],
            "description": "",
            "_model_name": "FloatProgressModel",
            "bar_style": "success",
            "max": 398,
            "_view_module": "@jupyter-widgets/controls",
            "_model_module_version": "1.5.0",
            "value": 398,
            "_view_count": null,
            "_view_module_version": "1.5.0",
            "orientation": "horizontal",
            "min": 0,
            "description_tooltip": null,
            "_model_module": "@jupyter-widgets/controls",
            "layout": "IPY_MODEL_a2ebeadcbb364572a7c847133b7c09c9"
          }
        },
        "d77b749962784eab9e2573482020b485": {
          "model_module": "@jupyter-widgets/controls",
          "model_name": "HTMLModel",
          "model_module_version": "1.5.0",
          "state": {
            "_view_name": "HTMLView",
            "style": "IPY_MODEL_f39abd3fd3bc4918a179198a21deccae",
            "_dom_classes": [],
            "description": "",
            "_model_name": "HTMLModel",
            "placeholder": "​",
            "_view_module": "@jupyter-widgets/controls",
            "_model_module_version": "1.5.0",
            "value": " 398/398 [00:02&lt;00:00, 211.23it/s]",
            "_view_count": null,
            "_view_module_version": "1.5.0",
            "description_tooltip": null,
            "_model_module": "@jupyter-widgets/controls",
            "layout": "IPY_MODEL_dc951d184707488f8d509d4307849524"
          }
        },
        "a72926a3420c43be9cad0d65eaa88779": {
          "model_module": "@jupyter-widgets/controls",
          "model_name": "DescriptionStyleModel",
          "model_module_version": "1.5.0",
          "state": {
            "_view_name": "StyleView",
            "_model_name": "DescriptionStyleModel",
            "description_width": "",
            "_view_module": "@jupyter-widgets/base",
            "_model_module_version": "1.5.0",
            "_view_count": null,
            "_view_module_version": "1.2.0",
            "_model_module": "@jupyter-widgets/controls"
          }
        },
        "a2682789cf3844dcab82f14a99a4129c": {
          "model_module": "@jupyter-widgets/base",
          "model_name": "LayoutModel",
          "model_module_version": "1.2.0",
          "state": {
            "_view_name": "LayoutView",
            "grid_template_rows": null,
            "right": null,
            "justify_content": null,
            "_view_module": "@jupyter-widgets/base",
            "overflow": null,
            "_model_module_version": "1.2.0",
            "_view_count": null,
            "flex_flow": null,
            "width": null,
            "min_width": null,
            "border": null,
            "align_items": null,
            "bottom": null,
            "_model_module": "@jupyter-widgets/base",
            "top": null,
            "grid_column": null,
            "overflow_y": null,
            "overflow_x": null,
            "grid_auto_flow": null,
            "grid_area": null,
            "grid_template_columns": null,
            "flex": null,
            "_model_name": "LayoutModel",
            "justify_items": null,
            "grid_row": null,
            "max_height": null,
            "align_content": null,
            "visibility": null,
            "align_self": null,
            "height": null,
            "min_height": null,
            "padding": null,
            "grid_auto_rows": null,
            "grid_gap": null,
            "max_width": null,
            "order": null,
            "_view_module_version": "1.2.0",
            "grid_template_areas": null,
            "object_position": null,
            "object_fit": null,
            "grid_auto_columns": null,
            "margin": null,
            "display": null,
            "left": null
          }
        },
        "14cd99e4cb974ab9855471e2dcee160a": {
          "model_module": "@jupyter-widgets/controls",
          "model_name": "ProgressStyleModel",
          "model_module_version": "1.5.0",
          "state": {
            "_view_name": "StyleView",
            "_model_name": "ProgressStyleModel",
            "description_width": "",
            "_view_module": "@jupyter-widgets/base",
            "_model_module_version": "1.5.0",
            "_view_count": null,
            "_view_module_version": "1.2.0",
            "bar_color": null,
            "_model_module": "@jupyter-widgets/controls"
          }
        },
        "a2ebeadcbb364572a7c847133b7c09c9": {
          "model_module": "@jupyter-widgets/base",
          "model_name": "LayoutModel",
          "model_module_version": "1.2.0",
          "state": {
            "_view_name": "LayoutView",
            "grid_template_rows": null,
            "right": null,
            "justify_content": null,
            "_view_module": "@jupyter-widgets/base",
            "overflow": null,
            "_model_module_version": "1.2.0",
            "_view_count": null,
            "flex_flow": null,
            "width": null,
            "min_width": null,
            "border": null,
            "align_items": null,
            "bottom": null,
            "_model_module": "@jupyter-widgets/base",
            "top": null,
            "grid_column": null,
            "overflow_y": null,
            "overflow_x": null,
            "grid_auto_flow": null,
            "grid_area": null,
            "grid_template_columns": null,
            "flex": null,
            "_model_name": "LayoutModel",
            "justify_items": null,
            "grid_row": null,
            "max_height": null,
            "align_content": null,
            "visibility": null,
            "align_self": null,
            "height": null,
            "min_height": null,
            "padding": null,
            "grid_auto_rows": null,
            "grid_gap": null,
            "max_width": null,
            "order": null,
            "_view_module_version": "1.2.0",
            "grid_template_areas": null,
            "object_position": null,
            "object_fit": null,
            "grid_auto_columns": null,
            "margin": null,
            "display": null,
            "left": null
          }
        },
        "f39abd3fd3bc4918a179198a21deccae": {
          "model_module": "@jupyter-widgets/controls",
          "model_name": "DescriptionStyleModel",
          "model_module_version": "1.5.0",
          "state": {
            "_view_name": "StyleView",
            "_model_name": "DescriptionStyleModel",
            "description_width": "",
            "_view_module": "@jupyter-widgets/base",
            "_model_module_version": "1.5.0",
            "_view_count": null,
            "_view_module_version": "1.2.0",
            "_model_module": "@jupyter-widgets/controls"
          }
        },
        "dc951d184707488f8d509d4307849524": {
          "model_module": "@jupyter-widgets/base",
          "model_name": "LayoutModel",
          "model_module_version": "1.2.0",
          "state": {
            "_view_name": "LayoutView",
            "grid_template_rows": null,
            "right": null,
            "justify_content": null,
            "_view_module": "@jupyter-widgets/base",
            "overflow": null,
            "_model_module_version": "1.2.0",
            "_view_count": null,
            "flex_flow": null,
            "width": null,
            "min_width": null,
            "border": null,
            "align_items": null,
            "bottom": null,
            "_model_module": "@jupyter-widgets/base",
            "top": null,
            "grid_column": null,
            "overflow_y": null,
            "overflow_x": null,
            "grid_auto_flow": null,
            "grid_area": null,
            "grid_template_columns": null,
            "flex": null,
            "_model_name": "LayoutModel",
            "justify_items": null,
            "grid_row": null,
            "max_height": null,
            "align_content": null,
            "visibility": null,
            "align_self": null,
            "height": null,
            "min_height": null,
            "padding": null,
            "grid_auto_rows": null,
            "grid_gap": null,
            "max_width": null,
            "order": null,
            "_view_module_version": "1.2.0",
            "grid_template_areas": null,
            "object_position": null,
            "object_fit": null,
            "grid_auto_columns": null,
            "margin": null,
            "display": null,
            "left": null
          }
        },
        "0e8518cf53144226a0437c0e19f5e94d": {
          "model_module": "@jupyter-widgets/controls",
          "model_name": "HBoxModel",
          "model_module_version": "1.5.0",
          "state": {
            "_view_name": "HBoxView",
            "_dom_classes": [],
            "_model_name": "HBoxModel",
            "_view_module": "@jupyter-widgets/controls",
            "_model_module_version": "1.5.0",
            "_view_count": null,
            "_view_module_version": "1.5.0",
            "box_style": "",
            "layout": "IPY_MODEL_e0eaf293c189474190643d348a73992d",
            "_model_module": "@jupyter-widgets/controls",
            "children": [
              "IPY_MODEL_f636c53c2a114ce3950aca6cadf122eb",
              "IPY_MODEL_9d0395c902704182bf1f7104081af5f8",
              "IPY_MODEL_7af5c8fc12a44704bb64ade5129694b0"
            ]
          }
        },
        "e0eaf293c189474190643d348a73992d": {
          "model_module": "@jupyter-widgets/base",
          "model_name": "LayoutModel",
          "model_module_version": "1.2.0",
          "state": {
            "_view_name": "LayoutView",
            "grid_template_rows": null,
            "right": null,
            "justify_content": null,
            "_view_module": "@jupyter-widgets/base",
            "overflow": null,
            "_model_module_version": "1.2.0",
            "_view_count": null,
            "flex_flow": null,
            "width": null,
            "min_width": null,
            "border": null,
            "align_items": null,
            "bottom": null,
            "_model_module": "@jupyter-widgets/base",
            "top": null,
            "grid_column": null,
            "overflow_y": null,
            "overflow_x": null,
            "grid_auto_flow": null,
            "grid_area": null,
            "grid_template_columns": null,
            "flex": null,
            "_model_name": "LayoutModel",
            "justify_items": null,
            "grid_row": null,
            "max_height": null,
            "align_content": null,
            "visibility": null,
            "align_self": null,
            "height": null,
            "min_height": null,
            "padding": null,
            "grid_auto_rows": null,
            "grid_gap": null,
            "max_width": null,
            "order": null,
            "_view_module_version": "1.2.0",
            "grid_template_areas": null,
            "object_position": null,
            "object_fit": null,
            "grid_auto_columns": null,
            "margin": null,
            "display": null,
            "left": null
          }
        },
        "f636c53c2a114ce3950aca6cadf122eb": {
          "model_module": "@jupyter-widgets/controls",
          "model_name": "HTMLModel",
          "model_module_version": "1.5.0",
          "state": {
            "_view_name": "HTMLView",
            "style": "IPY_MODEL_50e0f378ff3740dd8df716382f53c3fd",
            "_dom_classes": [],
            "description": "",
            "_model_name": "HTMLModel",
            "placeholder": "​",
            "_view_module": "@jupyter-widgets/controls",
            "_model_module_version": "1.5.0",
            "value": "100%",
            "_view_count": null,
            "_view_module_version": "1.5.0",
            "description_tooltip": null,
            "_model_module": "@jupyter-widgets/controls",
            "layout": "IPY_MODEL_ebc4098b75b44149bd2e249f6170b5a1"
          }
        },
        "9d0395c902704182bf1f7104081af5f8": {
          "model_module": "@jupyter-widgets/controls",
          "model_name": "FloatProgressModel",
          "model_module_version": "1.5.0",
          "state": {
            "_view_name": "ProgressView",
            "style": "IPY_MODEL_aa4c01cc922b4462aa015f9cb59efc63",
            "_dom_classes": [],
            "description": "",
            "_model_name": "FloatProgressModel",
            "bar_style": "success",
            "max": 398,
            "_view_module": "@jupyter-widgets/controls",
            "_model_module_version": "1.5.0",
            "value": 398,
            "_view_count": null,
            "_view_module_version": "1.5.0",
            "orientation": "horizontal",
            "min": 0,
            "description_tooltip": null,
            "_model_module": "@jupyter-widgets/controls",
            "layout": "IPY_MODEL_5fa322990c9f45c38a3bed066d02f245"
          }
        },
        "7af5c8fc12a44704bb64ade5129694b0": {
          "model_module": "@jupyter-widgets/controls",
          "model_name": "HTMLModel",
          "model_module_version": "1.5.0",
          "state": {
            "_view_name": "HTMLView",
            "style": "IPY_MODEL_afe32491f6db42bab3b4f796b137ec9d",
            "_dom_classes": [],
            "description": "",
            "_model_name": "HTMLModel",
            "placeholder": "​",
            "_view_module": "@jupyter-widgets/controls",
            "_model_module_version": "1.5.0",
            "value": " 398/398 [00:02&lt;00:00, 204.91it/s]",
            "_view_count": null,
            "_view_module_version": "1.5.0",
            "description_tooltip": null,
            "_model_module": "@jupyter-widgets/controls",
            "layout": "IPY_MODEL_4d1386a0f35248029502f92b0f55899c"
          }
        },
        "50e0f378ff3740dd8df716382f53c3fd": {
          "model_module": "@jupyter-widgets/controls",
          "model_name": "DescriptionStyleModel",
          "model_module_version": "1.5.0",
          "state": {
            "_view_name": "StyleView",
            "_model_name": "DescriptionStyleModel",
            "description_width": "",
            "_view_module": "@jupyter-widgets/base",
            "_model_module_version": "1.5.0",
            "_view_count": null,
            "_view_module_version": "1.2.0",
            "_model_module": "@jupyter-widgets/controls"
          }
        },
        "ebc4098b75b44149bd2e249f6170b5a1": {
          "model_module": "@jupyter-widgets/base",
          "model_name": "LayoutModel",
          "model_module_version": "1.2.0",
          "state": {
            "_view_name": "LayoutView",
            "grid_template_rows": null,
            "right": null,
            "justify_content": null,
            "_view_module": "@jupyter-widgets/base",
            "overflow": null,
            "_model_module_version": "1.2.0",
            "_view_count": null,
            "flex_flow": null,
            "width": null,
            "min_width": null,
            "border": null,
            "align_items": null,
            "bottom": null,
            "_model_module": "@jupyter-widgets/base",
            "top": null,
            "grid_column": null,
            "overflow_y": null,
            "overflow_x": null,
            "grid_auto_flow": null,
            "grid_area": null,
            "grid_template_columns": null,
            "flex": null,
            "_model_name": "LayoutModel",
            "justify_items": null,
            "grid_row": null,
            "max_height": null,
            "align_content": null,
            "visibility": null,
            "align_self": null,
            "height": null,
            "min_height": null,
            "padding": null,
            "grid_auto_rows": null,
            "grid_gap": null,
            "max_width": null,
            "order": null,
            "_view_module_version": "1.2.0",
            "grid_template_areas": null,
            "object_position": null,
            "object_fit": null,
            "grid_auto_columns": null,
            "margin": null,
            "display": null,
            "left": null
          }
        },
        "aa4c01cc922b4462aa015f9cb59efc63": {
          "model_module": "@jupyter-widgets/controls",
          "model_name": "ProgressStyleModel",
          "model_module_version": "1.5.0",
          "state": {
            "_view_name": "StyleView",
            "_model_name": "ProgressStyleModel",
            "description_width": "",
            "_view_module": "@jupyter-widgets/base",
            "_model_module_version": "1.5.0",
            "_view_count": null,
            "_view_module_version": "1.2.0",
            "bar_color": null,
            "_model_module": "@jupyter-widgets/controls"
          }
        },
        "5fa322990c9f45c38a3bed066d02f245": {
          "model_module": "@jupyter-widgets/base",
          "model_name": "LayoutModel",
          "model_module_version": "1.2.0",
          "state": {
            "_view_name": "LayoutView",
            "grid_template_rows": null,
            "right": null,
            "justify_content": null,
            "_view_module": "@jupyter-widgets/base",
            "overflow": null,
            "_model_module_version": "1.2.0",
            "_view_count": null,
            "flex_flow": null,
            "width": null,
            "min_width": null,
            "border": null,
            "align_items": null,
            "bottom": null,
            "_model_module": "@jupyter-widgets/base",
            "top": null,
            "grid_column": null,
            "overflow_y": null,
            "overflow_x": null,
            "grid_auto_flow": null,
            "grid_area": null,
            "grid_template_columns": null,
            "flex": null,
            "_model_name": "LayoutModel",
            "justify_items": null,
            "grid_row": null,
            "max_height": null,
            "align_content": null,
            "visibility": null,
            "align_self": null,
            "height": null,
            "min_height": null,
            "padding": null,
            "grid_auto_rows": null,
            "grid_gap": null,
            "max_width": null,
            "order": null,
            "_view_module_version": "1.2.0",
            "grid_template_areas": null,
            "object_position": null,
            "object_fit": null,
            "grid_auto_columns": null,
            "margin": null,
            "display": null,
            "left": null
          }
        },
        "afe32491f6db42bab3b4f796b137ec9d": {
          "model_module": "@jupyter-widgets/controls",
          "model_name": "DescriptionStyleModel",
          "model_module_version": "1.5.0",
          "state": {
            "_view_name": "StyleView",
            "_model_name": "DescriptionStyleModel",
            "description_width": "",
            "_view_module": "@jupyter-widgets/base",
            "_model_module_version": "1.5.0",
            "_view_count": null,
            "_view_module_version": "1.2.0",
            "_model_module": "@jupyter-widgets/controls"
          }
        },
        "4d1386a0f35248029502f92b0f55899c": {
          "model_module": "@jupyter-widgets/base",
          "model_name": "LayoutModel",
          "model_module_version": "1.2.0",
          "state": {
            "_view_name": "LayoutView",
            "grid_template_rows": null,
            "right": null,
            "justify_content": null,
            "_view_module": "@jupyter-widgets/base",
            "overflow": null,
            "_model_module_version": "1.2.0",
            "_view_count": null,
            "flex_flow": null,
            "width": null,
            "min_width": null,
            "border": null,
            "align_items": null,
            "bottom": null,
            "_model_module": "@jupyter-widgets/base",
            "top": null,
            "grid_column": null,
            "overflow_y": null,
            "overflow_x": null,
            "grid_auto_flow": null,
            "grid_area": null,
            "grid_template_columns": null,
            "flex": null,
            "_model_name": "LayoutModel",
            "justify_items": null,
            "grid_row": null,
            "max_height": null,
            "align_content": null,
            "visibility": null,
            "align_self": null,
            "height": null,
            "min_height": null,
            "padding": null,
            "grid_auto_rows": null,
            "grid_gap": null,
            "max_width": null,
            "order": null,
            "_view_module_version": "1.2.0",
            "grid_template_areas": null,
            "object_position": null,
            "object_fit": null,
            "grid_auto_columns": null,
            "margin": null,
            "display": null,
            "left": null
          }
        },
        "67f187925bd846c1977e4a9ac53fb09e": {
          "model_module": "@jupyter-widgets/controls",
          "model_name": "HBoxModel",
          "model_module_version": "1.5.0",
          "state": {
            "_view_name": "HBoxView",
            "_dom_classes": [],
            "_model_name": "HBoxModel",
            "_view_module": "@jupyter-widgets/controls",
            "_model_module_version": "1.5.0",
            "_view_count": null,
            "_view_module_version": "1.5.0",
            "box_style": "",
            "layout": "IPY_MODEL_2adb0311d0d14d51a6c8e0576ca6e724",
            "_model_module": "@jupyter-widgets/controls",
            "children": [
              "IPY_MODEL_c14979b46c86417b8ccde6ab0aa401e3",
              "IPY_MODEL_9154411654444f1cb1df4ece0a6826ce",
              "IPY_MODEL_ffbd3a1424944cc6b3f44b91d13d9862"
            ]
          }
        },
        "2adb0311d0d14d51a6c8e0576ca6e724": {
          "model_module": "@jupyter-widgets/base",
          "model_name": "LayoutModel",
          "model_module_version": "1.2.0",
          "state": {
            "_view_name": "LayoutView",
            "grid_template_rows": null,
            "right": null,
            "justify_content": null,
            "_view_module": "@jupyter-widgets/base",
            "overflow": null,
            "_model_module_version": "1.2.0",
            "_view_count": null,
            "flex_flow": null,
            "width": null,
            "min_width": null,
            "border": null,
            "align_items": null,
            "bottom": null,
            "_model_module": "@jupyter-widgets/base",
            "top": null,
            "grid_column": null,
            "overflow_y": null,
            "overflow_x": null,
            "grid_auto_flow": null,
            "grid_area": null,
            "grid_template_columns": null,
            "flex": null,
            "_model_name": "LayoutModel",
            "justify_items": null,
            "grid_row": null,
            "max_height": null,
            "align_content": null,
            "visibility": null,
            "align_self": null,
            "height": null,
            "min_height": null,
            "padding": null,
            "grid_auto_rows": null,
            "grid_gap": null,
            "max_width": null,
            "order": null,
            "_view_module_version": "1.2.0",
            "grid_template_areas": null,
            "object_position": null,
            "object_fit": null,
            "grid_auto_columns": null,
            "margin": null,
            "display": null,
            "left": null
          }
        },
        "c14979b46c86417b8ccde6ab0aa401e3": {
          "model_module": "@jupyter-widgets/controls",
          "model_name": "HTMLModel",
          "model_module_version": "1.5.0",
          "state": {
            "_view_name": "HTMLView",
            "style": "IPY_MODEL_45af738becb2418492440ca4a9575dc3",
            "_dom_classes": [],
            "description": "",
            "_model_name": "HTMLModel",
            "placeholder": "​",
            "_view_module": "@jupyter-widgets/controls",
            "_model_module_version": "1.5.0",
            "value": "100%",
            "_view_count": null,
            "_view_module_version": "1.5.0",
            "description_tooltip": null,
            "_model_module": "@jupyter-widgets/controls",
            "layout": "IPY_MODEL_61b94e6a867a4656856cf5f442409e0a"
          }
        },
        "9154411654444f1cb1df4ece0a6826ce": {
          "model_module": "@jupyter-widgets/controls",
          "model_name": "FloatProgressModel",
          "model_module_version": "1.5.0",
          "state": {
            "_view_name": "ProgressView",
            "style": "IPY_MODEL_5473ceb5c45d4e1f8a4a326145b94077",
            "_dom_classes": [],
            "description": "",
            "_model_name": "FloatProgressModel",
            "bar_style": "success",
            "max": 398,
            "_view_module": "@jupyter-widgets/controls",
            "_model_module_version": "1.5.0",
            "value": 398,
            "_view_count": null,
            "_view_module_version": "1.5.0",
            "orientation": "horizontal",
            "min": 0,
            "description_tooltip": null,
            "_model_module": "@jupyter-widgets/controls",
            "layout": "IPY_MODEL_3e2ffb9fbcae40f9ae79b10ce7ee2feb"
          }
        },
        "ffbd3a1424944cc6b3f44b91d13d9862": {
          "model_module": "@jupyter-widgets/controls",
          "model_name": "HTMLModel",
          "model_module_version": "1.5.0",
          "state": {
            "_view_name": "HTMLView",
            "style": "IPY_MODEL_811a5097d53749878364d7ee612bdc9c",
            "_dom_classes": [],
            "description": "",
            "_model_name": "HTMLModel",
            "placeholder": "​",
            "_view_module": "@jupyter-widgets/controls",
            "_model_module_version": "1.5.0",
            "value": " 398/398 [00:02&lt;00:00, 193.69it/s]",
            "_view_count": null,
            "_view_module_version": "1.5.0",
            "description_tooltip": null,
            "_model_module": "@jupyter-widgets/controls",
            "layout": "IPY_MODEL_bad3d23a85184d23ad93001af6fa2803"
          }
        },
        "45af738becb2418492440ca4a9575dc3": {
          "model_module": "@jupyter-widgets/controls",
          "model_name": "DescriptionStyleModel",
          "model_module_version": "1.5.0",
          "state": {
            "_view_name": "StyleView",
            "_model_name": "DescriptionStyleModel",
            "description_width": "",
            "_view_module": "@jupyter-widgets/base",
            "_model_module_version": "1.5.0",
            "_view_count": null,
            "_view_module_version": "1.2.0",
            "_model_module": "@jupyter-widgets/controls"
          }
        },
        "61b94e6a867a4656856cf5f442409e0a": {
          "model_module": "@jupyter-widgets/base",
          "model_name": "LayoutModel",
          "model_module_version": "1.2.0",
          "state": {
            "_view_name": "LayoutView",
            "grid_template_rows": null,
            "right": null,
            "justify_content": null,
            "_view_module": "@jupyter-widgets/base",
            "overflow": null,
            "_model_module_version": "1.2.0",
            "_view_count": null,
            "flex_flow": null,
            "width": null,
            "min_width": null,
            "border": null,
            "align_items": null,
            "bottom": null,
            "_model_module": "@jupyter-widgets/base",
            "top": null,
            "grid_column": null,
            "overflow_y": null,
            "overflow_x": null,
            "grid_auto_flow": null,
            "grid_area": null,
            "grid_template_columns": null,
            "flex": null,
            "_model_name": "LayoutModel",
            "justify_items": null,
            "grid_row": null,
            "max_height": null,
            "align_content": null,
            "visibility": null,
            "align_self": null,
            "height": null,
            "min_height": null,
            "padding": null,
            "grid_auto_rows": null,
            "grid_gap": null,
            "max_width": null,
            "order": null,
            "_view_module_version": "1.2.0",
            "grid_template_areas": null,
            "object_position": null,
            "object_fit": null,
            "grid_auto_columns": null,
            "margin": null,
            "display": null,
            "left": null
          }
        },
        "5473ceb5c45d4e1f8a4a326145b94077": {
          "model_module": "@jupyter-widgets/controls",
          "model_name": "ProgressStyleModel",
          "model_module_version": "1.5.0",
          "state": {
            "_view_name": "StyleView",
            "_model_name": "ProgressStyleModel",
            "description_width": "",
            "_view_module": "@jupyter-widgets/base",
            "_model_module_version": "1.5.0",
            "_view_count": null,
            "_view_module_version": "1.2.0",
            "bar_color": null,
            "_model_module": "@jupyter-widgets/controls"
          }
        },
        "3e2ffb9fbcae40f9ae79b10ce7ee2feb": {
          "model_module": "@jupyter-widgets/base",
          "model_name": "LayoutModel",
          "model_module_version": "1.2.0",
          "state": {
            "_view_name": "LayoutView",
            "grid_template_rows": null,
            "right": null,
            "justify_content": null,
            "_view_module": "@jupyter-widgets/base",
            "overflow": null,
            "_model_module_version": "1.2.0",
            "_view_count": null,
            "flex_flow": null,
            "width": null,
            "min_width": null,
            "border": null,
            "align_items": null,
            "bottom": null,
            "_model_module": "@jupyter-widgets/base",
            "top": null,
            "grid_column": null,
            "overflow_y": null,
            "overflow_x": null,
            "grid_auto_flow": null,
            "grid_area": null,
            "grid_template_columns": null,
            "flex": null,
            "_model_name": "LayoutModel",
            "justify_items": null,
            "grid_row": null,
            "max_height": null,
            "align_content": null,
            "visibility": null,
            "align_self": null,
            "height": null,
            "min_height": null,
            "padding": null,
            "grid_auto_rows": null,
            "grid_gap": null,
            "max_width": null,
            "order": null,
            "_view_module_version": "1.2.0",
            "grid_template_areas": null,
            "object_position": null,
            "object_fit": null,
            "grid_auto_columns": null,
            "margin": null,
            "display": null,
            "left": null
          }
        },
        "811a5097d53749878364d7ee612bdc9c": {
          "model_module": "@jupyter-widgets/controls",
          "model_name": "DescriptionStyleModel",
          "model_module_version": "1.5.0",
          "state": {
            "_view_name": "StyleView",
            "_model_name": "DescriptionStyleModel",
            "description_width": "",
            "_view_module": "@jupyter-widgets/base",
            "_model_module_version": "1.5.0",
            "_view_count": null,
            "_view_module_version": "1.2.0",
            "_model_module": "@jupyter-widgets/controls"
          }
        },
        "bad3d23a85184d23ad93001af6fa2803": {
          "model_module": "@jupyter-widgets/base",
          "model_name": "LayoutModel",
          "model_module_version": "1.2.0",
          "state": {
            "_view_name": "LayoutView",
            "grid_template_rows": null,
            "right": null,
            "justify_content": null,
            "_view_module": "@jupyter-widgets/base",
            "overflow": null,
            "_model_module_version": "1.2.0",
            "_view_count": null,
            "flex_flow": null,
            "width": null,
            "min_width": null,
            "border": null,
            "align_items": null,
            "bottom": null,
            "_model_module": "@jupyter-widgets/base",
            "top": null,
            "grid_column": null,
            "overflow_y": null,
            "overflow_x": null,
            "grid_auto_flow": null,
            "grid_area": null,
            "grid_template_columns": null,
            "flex": null,
            "_model_name": "LayoutModel",
            "justify_items": null,
            "grid_row": null,
            "max_height": null,
            "align_content": null,
            "visibility": null,
            "align_self": null,
            "height": null,
            "min_height": null,
            "padding": null,
            "grid_auto_rows": null,
            "grid_gap": null,
            "max_width": null,
            "order": null,
            "_view_module_version": "1.2.0",
            "grid_template_areas": null,
            "object_position": null,
            "object_fit": null,
            "grid_auto_columns": null,
            "margin": null,
            "display": null,
            "left": null
          }
        },
        "056a6b141f064229b48eb70af9f17818": {
          "model_module": "@jupyter-widgets/controls",
          "model_name": "HBoxModel",
          "model_module_version": "1.5.0",
          "state": {
            "_view_name": "HBoxView",
            "_dom_classes": [],
            "_model_name": "HBoxModel",
            "_view_module": "@jupyter-widgets/controls",
            "_model_module_version": "1.5.0",
            "_view_count": null,
            "_view_module_version": "1.5.0",
            "box_style": "",
            "layout": "IPY_MODEL_c32f358c0b8c4e358611d5fdd2243194",
            "_model_module": "@jupyter-widgets/controls",
            "children": [
              "IPY_MODEL_55159a34c363445fb135a13538cb4870",
              "IPY_MODEL_d5273b79b4de4e1caeb4f69369b7e710",
              "IPY_MODEL_bfc7ae4eb4e845e385201927daa6147e"
            ]
          }
        },
        "c32f358c0b8c4e358611d5fdd2243194": {
          "model_module": "@jupyter-widgets/base",
          "model_name": "LayoutModel",
          "model_module_version": "1.2.0",
          "state": {
            "_view_name": "LayoutView",
            "grid_template_rows": null,
            "right": null,
            "justify_content": null,
            "_view_module": "@jupyter-widgets/base",
            "overflow": null,
            "_model_module_version": "1.2.0",
            "_view_count": null,
            "flex_flow": null,
            "width": null,
            "min_width": null,
            "border": null,
            "align_items": null,
            "bottom": null,
            "_model_module": "@jupyter-widgets/base",
            "top": null,
            "grid_column": null,
            "overflow_y": null,
            "overflow_x": null,
            "grid_auto_flow": null,
            "grid_area": null,
            "grid_template_columns": null,
            "flex": null,
            "_model_name": "LayoutModel",
            "justify_items": null,
            "grid_row": null,
            "max_height": null,
            "align_content": null,
            "visibility": null,
            "align_self": null,
            "height": null,
            "min_height": null,
            "padding": null,
            "grid_auto_rows": null,
            "grid_gap": null,
            "max_width": null,
            "order": null,
            "_view_module_version": "1.2.0",
            "grid_template_areas": null,
            "object_position": null,
            "object_fit": null,
            "grid_auto_columns": null,
            "margin": null,
            "display": null,
            "left": null
          }
        },
        "55159a34c363445fb135a13538cb4870": {
          "model_module": "@jupyter-widgets/controls",
          "model_name": "HTMLModel",
          "model_module_version": "1.5.0",
          "state": {
            "_view_name": "HTMLView",
            "style": "IPY_MODEL_6f67f10c9c234c7a8f17a42e95cd0995",
            "_dom_classes": [],
            "description": "",
            "_model_name": "HTMLModel",
            "placeholder": "​",
            "_view_module": "@jupyter-widgets/controls",
            "_model_module_version": "1.5.0",
            "value": "100%",
            "_view_count": null,
            "_view_module_version": "1.5.0",
            "description_tooltip": null,
            "_model_module": "@jupyter-widgets/controls",
            "layout": "IPY_MODEL_b9f48d3f1a3a4394930f046024cabc07"
          }
        },
        "d5273b79b4de4e1caeb4f69369b7e710": {
          "model_module": "@jupyter-widgets/controls",
          "model_name": "FloatProgressModel",
          "model_module_version": "1.5.0",
          "state": {
            "_view_name": "ProgressView",
            "style": "IPY_MODEL_392edc32a7e64ae5bbb9fd554bba514e",
            "_dom_classes": [],
            "description": "",
            "_model_name": "FloatProgressModel",
            "bar_style": "success",
            "max": 400,
            "_view_module": "@jupyter-widgets/controls",
            "_model_module_version": "1.5.0",
            "value": 400,
            "_view_count": null,
            "_view_module_version": "1.5.0",
            "orientation": "horizontal",
            "min": 0,
            "description_tooltip": null,
            "_model_module": "@jupyter-widgets/controls",
            "layout": "IPY_MODEL_bb6371be4ada4044bff55fc856c46f5e"
          }
        },
        "bfc7ae4eb4e845e385201927daa6147e": {
          "model_module": "@jupyter-widgets/controls",
          "model_name": "HTMLModel",
          "model_module_version": "1.5.0",
          "state": {
            "_view_name": "HTMLView",
            "style": "IPY_MODEL_4caea953c4d84e7eb12392d779fe137f",
            "_dom_classes": [],
            "description": "",
            "_model_name": "HTMLModel",
            "placeholder": "​",
            "_view_module": "@jupyter-widgets/controls",
            "_model_module_version": "1.5.0",
            "value": " 400/400 [00:06&lt;00:00, 61.54it/s]",
            "_view_count": null,
            "_view_module_version": "1.5.0",
            "description_tooltip": null,
            "_model_module": "@jupyter-widgets/controls",
            "layout": "IPY_MODEL_882a74e8d6c343a1bf7741f9b408624f"
          }
        },
        "6f67f10c9c234c7a8f17a42e95cd0995": {
          "model_module": "@jupyter-widgets/controls",
          "model_name": "DescriptionStyleModel",
          "model_module_version": "1.5.0",
          "state": {
            "_view_name": "StyleView",
            "_model_name": "DescriptionStyleModel",
            "description_width": "",
            "_view_module": "@jupyter-widgets/base",
            "_model_module_version": "1.5.0",
            "_view_count": null,
            "_view_module_version": "1.2.0",
            "_model_module": "@jupyter-widgets/controls"
          }
        },
        "b9f48d3f1a3a4394930f046024cabc07": {
          "model_module": "@jupyter-widgets/base",
          "model_name": "LayoutModel",
          "model_module_version": "1.2.0",
          "state": {
            "_view_name": "LayoutView",
            "grid_template_rows": null,
            "right": null,
            "justify_content": null,
            "_view_module": "@jupyter-widgets/base",
            "overflow": null,
            "_model_module_version": "1.2.0",
            "_view_count": null,
            "flex_flow": null,
            "width": null,
            "min_width": null,
            "border": null,
            "align_items": null,
            "bottom": null,
            "_model_module": "@jupyter-widgets/base",
            "top": null,
            "grid_column": null,
            "overflow_y": null,
            "overflow_x": null,
            "grid_auto_flow": null,
            "grid_area": null,
            "grid_template_columns": null,
            "flex": null,
            "_model_name": "LayoutModel",
            "justify_items": null,
            "grid_row": null,
            "max_height": null,
            "align_content": null,
            "visibility": null,
            "align_self": null,
            "height": null,
            "min_height": null,
            "padding": null,
            "grid_auto_rows": null,
            "grid_gap": null,
            "max_width": null,
            "order": null,
            "_view_module_version": "1.2.0",
            "grid_template_areas": null,
            "object_position": null,
            "object_fit": null,
            "grid_auto_columns": null,
            "margin": null,
            "display": null,
            "left": null
          }
        },
        "392edc32a7e64ae5bbb9fd554bba514e": {
          "model_module": "@jupyter-widgets/controls",
          "model_name": "ProgressStyleModel",
          "model_module_version": "1.5.0",
          "state": {
            "_view_name": "StyleView",
            "_model_name": "ProgressStyleModel",
            "description_width": "",
            "_view_module": "@jupyter-widgets/base",
            "_model_module_version": "1.5.0",
            "_view_count": null,
            "_view_module_version": "1.2.0",
            "bar_color": null,
            "_model_module": "@jupyter-widgets/controls"
          }
        },
        "bb6371be4ada4044bff55fc856c46f5e": {
          "model_module": "@jupyter-widgets/base",
          "model_name": "LayoutModel",
          "model_module_version": "1.2.0",
          "state": {
            "_view_name": "LayoutView",
            "grid_template_rows": null,
            "right": null,
            "justify_content": null,
            "_view_module": "@jupyter-widgets/base",
            "overflow": null,
            "_model_module_version": "1.2.0",
            "_view_count": null,
            "flex_flow": null,
            "width": null,
            "min_width": null,
            "border": null,
            "align_items": null,
            "bottom": null,
            "_model_module": "@jupyter-widgets/base",
            "top": null,
            "grid_column": null,
            "overflow_y": null,
            "overflow_x": null,
            "grid_auto_flow": null,
            "grid_area": null,
            "grid_template_columns": null,
            "flex": null,
            "_model_name": "LayoutModel",
            "justify_items": null,
            "grid_row": null,
            "max_height": null,
            "align_content": null,
            "visibility": null,
            "align_self": null,
            "height": null,
            "min_height": null,
            "padding": null,
            "grid_auto_rows": null,
            "grid_gap": null,
            "max_width": null,
            "order": null,
            "_view_module_version": "1.2.0",
            "grid_template_areas": null,
            "object_position": null,
            "object_fit": null,
            "grid_auto_columns": null,
            "margin": null,
            "display": null,
            "left": null
          }
        },
        "4caea953c4d84e7eb12392d779fe137f": {
          "model_module": "@jupyter-widgets/controls",
          "model_name": "DescriptionStyleModel",
          "model_module_version": "1.5.0",
          "state": {
            "_view_name": "StyleView",
            "_model_name": "DescriptionStyleModel",
            "description_width": "",
            "_view_module": "@jupyter-widgets/base",
            "_model_module_version": "1.5.0",
            "_view_count": null,
            "_view_module_version": "1.2.0",
            "_model_module": "@jupyter-widgets/controls"
          }
        },
        "882a74e8d6c343a1bf7741f9b408624f": {
          "model_module": "@jupyter-widgets/base",
          "model_name": "LayoutModel",
          "model_module_version": "1.2.0",
          "state": {
            "_view_name": "LayoutView",
            "grid_template_rows": null,
            "right": null,
            "justify_content": null,
            "_view_module": "@jupyter-widgets/base",
            "overflow": null,
            "_model_module_version": "1.2.0",
            "_view_count": null,
            "flex_flow": null,
            "width": null,
            "min_width": null,
            "border": null,
            "align_items": null,
            "bottom": null,
            "_model_module": "@jupyter-widgets/base",
            "top": null,
            "grid_column": null,
            "overflow_y": null,
            "overflow_x": null,
            "grid_auto_flow": null,
            "grid_area": null,
            "grid_template_columns": null,
            "flex": null,
            "_model_name": "LayoutModel",
            "justify_items": null,
            "grid_row": null,
            "max_height": null,
            "align_content": null,
            "visibility": null,
            "align_self": null,
            "height": null,
            "min_height": null,
            "padding": null,
            "grid_auto_rows": null,
            "grid_gap": null,
            "max_width": null,
            "order": null,
            "_view_module_version": "1.2.0",
            "grid_template_areas": null,
            "object_position": null,
            "object_fit": null,
            "grid_auto_columns": null,
            "margin": null,
            "display": null,
            "left": null
          }
        },
        "89561c9735c440ea8661ab51855b6f02": {
          "model_module": "@jupyter-widgets/controls",
          "model_name": "HBoxModel",
          "model_module_version": "1.5.0",
          "state": {
            "_view_name": "HBoxView",
            "_dom_classes": [],
            "_model_name": "HBoxModel",
            "_view_module": "@jupyter-widgets/controls",
            "_model_module_version": "1.5.0",
            "_view_count": null,
            "_view_module_version": "1.5.0",
            "box_style": "",
            "layout": "IPY_MODEL_29e8f84ec8ac47fc8ab6ca6071456ccc",
            "_model_module": "@jupyter-widgets/controls",
            "children": [
              "IPY_MODEL_1222bfbeb19e408c842c8b144a2e52ab",
              "IPY_MODEL_48fa54456c324e45bf6dcbb921cc64bf",
              "IPY_MODEL_e2bb9d2492314e1eac840745ea14125f"
            ]
          }
        },
        "29e8f84ec8ac47fc8ab6ca6071456ccc": {
          "model_module": "@jupyter-widgets/base",
          "model_name": "LayoutModel",
          "model_module_version": "1.2.0",
          "state": {
            "_view_name": "LayoutView",
            "grid_template_rows": null,
            "right": null,
            "justify_content": null,
            "_view_module": "@jupyter-widgets/base",
            "overflow": null,
            "_model_module_version": "1.2.0",
            "_view_count": null,
            "flex_flow": null,
            "width": null,
            "min_width": null,
            "border": null,
            "align_items": null,
            "bottom": null,
            "_model_module": "@jupyter-widgets/base",
            "top": null,
            "grid_column": null,
            "overflow_y": null,
            "overflow_x": null,
            "grid_auto_flow": null,
            "grid_area": null,
            "grid_template_columns": null,
            "flex": null,
            "_model_name": "LayoutModel",
            "justify_items": null,
            "grid_row": null,
            "max_height": null,
            "align_content": null,
            "visibility": null,
            "align_self": null,
            "height": null,
            "min_height": null,
            "padding": null,
            "grid_auto_rows": null,
            "grid_gap": null,
            "max_width": null,
            "order": null,
            "_view_module_version": "1.2.0",
            "grid_template_areas": null,
            "object_position": null,
            "object_fit": null,
            "grid_auto_columns": null,
            "margin": null,
            "display": null,
            "left": null
          }
        },
        "1222bfbeb19e408c842c8b144a2e52ab": {
          "model_module": "@jupyter-widgets/controls",
          "model_name": "HTMLModel",
          "model_module_version": "1.5.0",
          "state": {
            "_view_name": "HTMLView",
            "style": "IPY_MODEL_b3798e7a79f94392aebe693291b8b3b4",
            "_dom_classes": [],
            "description": "",
            "_model_name": "HTMLModel",
            "placeholder": "​",
            "_view_module": "@jupyter-widgets/controls",
            "_model_module_version": "1.5.0",
            "value": "100%",
            "_view_count": null,
            "_view_module_version": "1.5.0",
            "description_tooltip": null,
            "_model_module": "@jupyter-widgets/controls",
            "layout": "IPY_MODEL_5379fe0be55a4b6e84e0d796cfd14b40"
          }
        },
        "48fa54456c324e45bf6dcbb921cc64bf": {
          "model_module": "@jupyter-widgets/controls",
          "model_name": "FloatProgressModel",
          "model_module_version": "1.5.0",
          "state": {
            "_view_name": "ProgressView",
            "style": "IPY_MODEL_aa605b36bf474ee3a80348a1b110229a",
            "_dom_classes": [],
            "description": "",
            "_model_name": "FloatProgressModel",
            "bar_style": "success",
            "max": 400,
            "_view_module": "@jupyter-widgets/controls",
            "_model_module_version": "1.5.0",
            "value": 400,
            "_view_count": null,
            "_view_module_version": "1.5.0",
            "orientation": "horizontal",
            "min": 0,
            "description_tooltip": null,
            "_model_module": "@jupyter-widgets/controls",
            "layout": "IPY_MODEL_256ab3ec450047e8af850d37deaabcc8"
          }
        },
        "e2bb9d2492314e1eac840745ea14125f": {
          "model_module": "@jupyter-widgets/controls",
          "model_name": "HTMLModel",
          "model_module_version": "1.5.0",
          "state": {
            "_view_name": "HTMLView",
            "style": "IPY_MODEL_2248582ae41f4fe59303edf631594880",
            "_dom_classes": [],
            "description": "",
            "_model_name": "HTMLModel",
            "placeholder": "​",
            "_view_module": "@jupyter-widgets/controls",
            "_model_module_version": "1.5.0",
            "value": " 400/400 [00:06&lt;00:00, 62.03it/s]",
            "_view_count": null,
            "_view_module_version": "1.5.0",
            "description_tooltip": null,
            "_model_module": "@jupyter-widgets/controls",
            "layout": "IPY_MODEL_9cdaa4ebcf2c42d885786b6ad28a8aa9"
          }
        },
        "b3798e7a79f94392aebe693291b8b3b4": {
          "model_module": "@jupyter-widgets/controls",
          "model_name": "DescriptionStyleModel",
          "model_module_version": "1.5.0",
          "state": {
            "_view_name": "StyleView",
            "_model_name": "DescriptionStyleModel",
            "description_width": "",
            "_view_module": "@jupyter-widgets/base",
            "_model_module_version": "1.5.0",
            "_view_count": null,
            "_view_module_version": "1.2.0",
            "_model_module": "@jupyter-widgets/controls"
          }
        },
        "5379fe0be55a4b6e84e0d796cfd14b40": {
          "model_module": "@jupyter-widgets/base",
          "model_name": "LayoutModel",
          "model_module_version": "1.2.0",
          "state": {
            "_view_name": "LayoutView",
            "grid_template_rows": null,
            "right": null,
            "justify_content": null,
            "_view_module": "@jupyter-widgets/base",
            "overflow": null,
            "_model_module_version": "1.2.0",
            "_view_count": null,
            "flex_flow": null,
            "width": null,
            "min_width": null,
            "border": null,
            "align_items": null,
            "bottom": null,
            "_model_module": "@jupyter-widgets/base",
            "top": null,
            "grid_column": null,
            "overflow_y": null,
            "overflow_x": null,
            "grid_auto_flow": null,
            "grid_area": null,
            "grid_template_columns": null,
            "flex": null,
            "_model_name": "LayoutModel",
            "justify_items": null,
            "grid_row": null,
            "max_height": null,
            "align_content": null,
            "visibility": null,
            "align_self": null,
            "height": null,
            "min_height": null,
            "padding": null,
            "grid_auto_rows": null,
            "grid_gap": null,
            "max_width": null,
            "order": null,
            "_view_module_version": "1.2.0",
            "grid_template_areas": null,
            "object_position": null,
            "object_fit": null,
            "grid_auto_columns": null,
            "margin": null,
            "display": null,
            "left": null
          }
        },
        "aa605b36bf474ee3a80348a1b110229a": {
          "model_module": "@jupyter-widgets/controls",
          "model_name": "ProgressStyleModel",
          "model_module_version": "1.5.0",
          "state": {
            "_view_name": "StyleView",
            "_model_name": "ProgressStyleModel",
            "description_width": "",
            "_view_module": "@jupyter-widgets/base",
            "_model_module_version": "1.5.0",
            "_view_count": null,
            "_view_module_version": "1.2.0",
            "bar_color": null,
            "_model_module": "@jupyter-widgets/controls"
          }
        },
        "256ab3ec450047e8af850d37deaabcc8": {
          "model_module": "@jupyter-widgets/base",
          "model_name": "LayoutModel",
          "model_module_version": "1.2.0",
          "state": {
            "_view_name": "LayoutView",
            "grid_template_rows": null,
            "right": null,
            "justify_content": null,
            "_view_module": "@jupyter-widgets/base",
            "overflow": null,
            "_model_module_version": "1.2.0",
            "_view_count": null,
            "flex_flow": null,
            "width": null,
            "min_width": null,
            "border": null,
            "align_items": null,
            "bottom": null,
            "_model_module": "@jupyter-widgets/base",
            "top": null,
            "grid_column": null,
            "overflow_y": null,
            "overflow_x": null,
            "grid_auto_flow": null,
            "grid_area": null,
            "grid_template_columns": null,
            "flex": null,
            "_model_name": "LayoutModel",
            "justify_items": null,
            "grid_row": null,
            "max_height": null,
            "align_content": null,
            "visibility": null,
            "align_self": null,
            "height": null,
            "min_height": null,
            "padding": null,
            "grid_auto_rows": null,
            "grid_gap": null,
            "max_width": null,
            "order": null,
            "_view_module_version": "1.2.0",
            "grid_template_areas": null,
            "object_position": null,
            "object_fit": null,
            "grid_auto_columns": null,
            "margin": null,
            "display": null,
            "left": null
          }
        },
        "2248582ae41f4fe59303edf631594880": {
          "model_module": "@jupyter-widgets/controls",
          "model_name": "DescriptionStyleModel",
          "model_module_version": "1.5.0",
          "state": {
            "_view_name": "StyleView",
            "_model_name": "DescriptionStyleModel",
            "description_width": "",
            "_view_module": "@jupyter-widgets/base",
            "_model_module_version": "1.5.0",
            "_view_count": null,
            "_view_module_version": "1.2.0",
            "_model_module": "@jupyter-widgets/controls"
          }
        },
        "9cdaa4ebcf2c42d885786b6ad28a8aa9": {
          "model_module": "@jupyter-widgets/base",
          "model_name": "LayoutModel",
          "model_module_version": "1.2.0",
          "state": {
            "_view_name": "LayoutView",
            "grid_template_rows": null,
            "right": null,
            "justify_content": null,
            "_view_module": "@jupyter-widgets/base",
            "overflow": null,
            "_model_module_version": "1.2.0",
            "_view_count": null,
            "flex_flow": null,
            "width": null,
            "min_width": null,
            "border": null,
            "align_items": null,
            "bottom": null,
            "_model_module": "@jupyter-widgets/base",
            "top": null,
            "grid_column": null,
            "overflow_y": null,
            "overflow_x": null,
            "grid_auto_flow": null,
            "grid_area": null,
            "grid_template_columns": null,
            "flex": null,
            "_model_name": "LayoutModel",
            "justify_items": null,
            "grid_row": null,
            "max_height": null,
            "align_content": null,
            "visibility": null,
            "align_self": null,
            "height": null,
            "min_height": null,
            "padding": null,
            "grid_auto_rows": null,
            "grid_gap": null,
            "max_width": null,
            "order": null,
            "_view_module_version": "1.2.0",
            "grid_template_areas": null,
            "object_position": null,
            "object_fit": null,
            "grid_auto_columns": null,
            "margin": null,
            "display": null,
            "left": null
          }
        },
        "97d133a48555441a96ec5f917c486a44": {
          "model_module": "@jupyter-widgets/controls",
          "model_name": "HBoxModel",
          "model_module_version": "1.5.0",
          "state": {
            "_view_name": "HBoxView",
            "_dom_classes": [],
            "_model_name": "HBoxModel",
            "_view_module": "@jupyter-widgets/controls",
            "_model_module_version": "1.5.0",
            "_view_count": null,
            "_view_module_version": "1.5.0",
            "box_style": "",
            "layout": "IPY_MODEL_02b23bf19e794dd38b9f6b02b510e362",
            "_model_module": "@jupyter-widgets/controls",
            "children": [
              "IPY_MODEL_000bb2722ff94364aa319c2f59efc73b",
              "IPY_MODEL_735d7932725a4406bcc9d854f0451648",
              "IPY_MODEL_bf4ec1de30d24440945133275b25b4de"
            ]
          }
        },
        "02b23bf19e794dd38b9f6b02b510e362": {
          "model_module": "@jupyter-widgets/base",
          "model_name": "LayoutModel",
          "model_module_version": "1.2.0",
          "state": {
            "_view_name": "LayoutView",
            "grid_template_rows": null,
            "right": null,
            "justify_content": null,
            "_view_module": "@jupyter-widgets/base",
            "overflow": null,
            "_model_module_version": "1.2.0",
            "_view_count": null,
            "flex_flow": null,
            "width": null,
            "min_width": null,
            "border": null,
            "align_items": null,
            "bottom": null,
            "_model_module": "@jupyter-widgets/base",
            "top": null,
            "grid_column": null,
            "overflow_y": null,
            "overflow_x": null,
            "grid_auto_flow": null,
            "grid_area": null,
            "grid_template_columns": null,
            "flex": null,
            "_model_name": "LayoutModel",
            "justify_items": null,
            "grid_row": null,
            "max_height": null,
            "align_content": null,
            "visibility": null,
            "align_self": null,
            "height": null,
            "min_height": null,
            "padding": null,
            "grid_auto_rows": null,
            "grid_gap": null,
            "max_width": null,
            "order": null,
            "_view_module_version": "1.2.0",
            "grid_template_areas": null,
            "object_position": null,
            "object_fit": null,
            "grid_auto_columns": null,
            "margin": null,
            "display": null,
            "left": null
          }
        },
        "000bb2722ff94364aa319c2f59efc73b": {
          "model_module": "@jupyter-widgets/controls",
          "model_name": "HTMLModel",
          "model_module_version": "1.5.0",
          "state": {
            "_view_name": "HTMLView",
            "style": "IPY_MODEL_ba517c5a5d9948be9375afb7e91deb25",
            "_dom_classes": [],
            "description": "",
            "_model_name": "HTMLModel",
            "placeholder": "​",
            "_view_module": "@jupyter-widgets/controls",
            "_model_module_version": "1.5.0",
            "value": "100%",
            "_view_count": null,
            "_view_module_version": "1.5.0",
            "description_tooltip": null,
            "_model_module": "@jupyter-widgets/controls",
            "layout": "IPY_MODEL_75845474bfb5441c91ecfc5882cd02fd"
          }
        },
        "735d7932725a4406bcc9d854f0451648": {
          "model_module": "@jupyter-widgets/controls",
          "model_name": "FloatProgressModel",
          "model_module_version": "1.5.0",
          "state": {
            "_view_name": "ProgressView",
            "style": "IPY_MODEL_1ea3d42b9cfe45f081b5395b8f99a35a",
            "_dom_classes": [],
            "description": "",
            "_model_name": "FloatProgressModel",
            "bar_style": "success",
            "max": 400,
            "_view_module": "@jupyter-widgets/controls",
            "_model_module_version": "1.5.0",
            "value": 400,
            "_view_count": null,
            "_view_module_version": "1.5.0",
            "orientation": "horizontal",
            "min": 0,
            "description_tooltip": null,
            "_model_module": "@jupyter-widgets/controls",
            "layout": "IPY_MODEL_403fbd0c436b4e11ae4bd0b07430d5fd"
          }
        },
        "bf4ec1de30d24440945133275b25b4de": {
          "model_module": "@jupyter-widgets/controls",
          "model_name": "HTMLModel",
          "model_module_version": "1.5.0",
          "state": {
            "_view_name": "HTMLView",
            "style": "IPY_MODEL_4bdd18e9920540edb56f06f4166fdcd7",
            "_dom_classes": [],
            "description": "",
            "_model_name": "HTMLModel",
            "placeholder": "​",
            "_view_module": "@jupyter-widgets/controls",
            "_model_module_version": "1.5.0",
            "value": " 400/400 [00:06&lt;00:00, 60.90it/s]",
            "_view_count": null,
            "_view_module_version": "1.5.0",
            "description_tooltip": null,
            "_model_module": "@jupyter-widgets/controls",
            "layout": "IPY_MODEL_27b0ddde22c94e97a8c04194fb64ff38"
          }
        },
        "ba517c5a5d9948be9375afb7e91deb25": {
          "model_module": "@jupyter-widgets/controls",
          "model_name": "DescriptionStyleModel",
          "model_module_version": "1.5.0",
          "state": {
            "_view_name": "StyleView",
            "_model_name": "DescriptionStyleModel",
            "description_width": "",
            "_view_module": "@jupyter-widgets/base",
            "_model_module_version": "1.5.0",
            "_view_count": null,
            "_view_module_version": "1.2.0",
            "_model_module": "@jupyter-widgets/controls"
          }
        },
        "75845474bfb5441c91ecfc5882cd02fd": {
          "model_module": "@jupyter-widgets/base",
          "model_name": "LayoutModel",
          "model_module_version": "1.2.0",
          "state": {
            "_view_name": "LayoutView",
            "grid_template_rows": null,
            "right": null,
            "justify_content": null,
            "_view_module": "@jupyter-widgets/base",
            "overflow": null,
            "_model_module_version": "1.2.0",
            "_view_count": null,
            "flex_flow": null,
            "width": null,
            "min_width": null,
            "border": null,
            "align_items": null,
            "bottom": null,
            "_model_module": "@jupyter-widgets/base",
            "top": null,
            "grid_column": null,
            "overflow_y": null,
            "overflow_x": null,
            "grid_auto_flow": null,
            "grid_area": null,
            "grid_template_columns": null,
            "flex": null,
            "_model_name": "LayoutModel",
            "justify_items": null,
            "grid_row": null,
            "max_height": null,
            "align_content": null,
            "visibility": null,
            "align_self": null,
            "height": null,
            "min_height": null,
            "padding": null,
            "grid_auto_rows": null,
            "grid_gap": null,
            "max_width": null,
            "order": null,
            "_view_module_version": "1.2.0",
            "grid_template_areas": null,
            "object_position": null,
            "object_fit": null,
            "grid_auto_columns": null,
            "margin": null,
            "display": null,
            "left": null
          }
        },
        "1ea3d42b9cfe45f081b5395b8f99a35a": {
          "model_module": "@jupyter-widgets/controls",
          "model_name": "ProgressStyleModel",
          "model_module_version": "1.5.0",
          "state": {
            "_view_name": "StyleView",
            "_model_name": "ProgressStyleModel",
            "description_width": "",
            "_view_module": "@jupyter-widgets/base",
            "_model_module_version": "1.5.0",
            "_view_count": null,
            "_view_module_version": "1.2.0",
            "bar_color": null,
            "_model_module": "@jupyter-widgets/controls"
          }
        },
        "403fbd0c436b4e11ae4bd0b07430d5fd": {
          "model_module": "@jupyter-widgets/base",
          "model_name": "LayoutModel",
          "model_module_version": "1.2.0",
          "state": {
            "_view_name": "LayoutView",
            "grid_template_rows": null,
            "right": null,
            "justify_content": null,
            "_view_module": "@jupyter-widgets/base",
            "overflow": null,
            "_model_module_version": "1.2.0",
            "_view_count": null,
            "flex_flow": null,
            "width": null,
            "min_width": null,
            "border": null,
            "align_items": null,
            "bottom": null,
            "_model_module": "@jupyter-widgets/base",
            "top": null,
            "grid_column": null,
            "overflow_y": null,
            "overflow_x": null,
            "grid_auto_flow": null,
            "grid_area": null,
            "grid_template_columns": null,
            "flex": null,
            "_model_name": "LayoutModel",
            "justify_items": null,
            "grid_row": null,
            "max_height": null,
            "align_content": null,
            "visibility": null,
            "align_self": null,
            "height": null,
            "min_height": null,
            "padding": null,
            "grid_auto_rows": null,
            "grid_gap": null,
            "max_width": null,
            "order": null,
            "_view_module_version": "1.2.0",
            "grid_template_areas": null,
            "object_position": null,
            "object_fit": null,
            "grid_auto_columns": null,
            "margin": null,
            "display": null,
            "left": null
          }
        },
        "4bdd18e9920540edb56f06f4166fdcd7": {
          "model_module": "@jupyter-widgets/controls",
          "model_name": "DescriptionStyleModel",
          "model_module_version": "1.5.0",
          "state": {
            "_view_name": "StyleView",
            "_model_name": "DescriptionStyleModel",
            "description_width": "",
            "_view_module": "@jupyter-widgets/base",
            "_model_module_version": "1.5.0",
            "_view_count": null,
            "_view_module_version": "1.2.0",
            "_model_module": "@jupyter-widgets/controls"
          }
        },
        "27b0ddde22c94e97a8c04194fb64ff38": {
          "model_module": "@jupyter-widgets/base",
          "model_name": "LayoutModel",
          "model_module_version": "1.2.0",
          "state": {
            "_view_name": "LayoutView",
            "grid_template_rows": null,
            "right": null,
            "justify_content": null,
            "_view_module": "@jupyter-widgets/base",
            "overflow": null,
            "_model_module_version": "1.2.0",
            "_view_count": null,
            "flex_flow": null,
            "width": null,
            "min_width": null,
            "border": null,
            "align_items": null,
            "bottom": null,
            "_model_module": "@jupyter-widgets/base",
            "top": null,
            "grid_column": null,
            "overflow_y": null,
            "overflow_x": null,
            "grid_auto_flow": null,
            "grid_area": null,
            "grid_template_columns": null,
            "flex": null,
            "_model_name": "LayoutModel",
            "justify_items": null,
            "grid_row": null,
            "max_height": null,
            "align_content": null,
            "visibility": null,
            "align_self": null,
            "height": null,
            "min_height": null,
            "padding": null,
            "grid_auto_rows": null,
            "grid_gap": null,
            "max_width": null,
            "order": null,
            "_view_module_version": "1.2.0",
            "grid_template_areas": null,
            "object_position": null,
            "object_fit": null,
            "grid_auto_columns": null,
            "margin": null,
            "display": null,
            "left": null
          }
        },
        "ef8cd58aac12421ebcefcaed6da837b9": {
          "model_module": "@jupyter-widgets/controls",
          "model_name": "HBoxModel",
          "model_module_version": "1.5.0",
          "state": {
            "_view_name": "HBoxView",
            "_dom_classes": [],
            "_model_name": "HBoxModel",
            "_view_module": "@jupyter-widgets/controls",
            "_model_module_version": "1.5.0",
            "_view_count": null,
            "_view_module_version": "1.5.0",
            "box_style": "",
            "layout": "IPY_MODEL_d1cd5729880941ffbfe70ef2ef71daed",
            "_model_module": "@jupyter-widgets/controls",
            "children": [
              "IPY_MODEL_0a5676be0406449a907a454c8d7b0f44",
              "IPY_MODEL_ec6362070cc64f5cb83b71ffe220d32d",
              "IPY_MODEL_8a9bb485713042fe86f45889be9e8b49"
            ]
          }
        },
        "d1cd5729880941ffbfe70ef2ef71daed": {
          "model_module": "@jupyter-widgets/base",
          "model_name": "LayoutModel",
          "model_module_version": "1.2.0",
          "state": {
            "_view_name": "LayoutView",
            "grid_template_rows": null,
            "right": null,
            "justify_content": null,
            "_view_module": "@jupyter-widgets/base",
            "overflow": null,
            "_model_module_version": "1.2.0",
            "_view_count": null,
            "flex_flow": null,
            "width": null,
            "min_width": null,
            "border": null,
            "align_items": null,
            "bottom": null,
            "_model_module": "@jupyter-widgets/base",
            "top": null,
            "grid_column": null,
            "overflow_y": null,
            "overflow_x": null,
            "grid_auto_flow": null,
            "grid_area": null,
            "grid_template_columns": null,
            "flex": null,
            "_model_name": "LayoutModel",
            "justify_items": null,
            "grid_row": null,
            "max_height": null,
            "align_content": null,
            "visibility": null,
            "align_self": null,
            "height": null,
            "min_height": null,
            "padding": null,
            "grid_auto_rows": null,
            "grid_gap": null,
            "max_width": null,
            "order": null,
            "_view_module_version": "1.2.0",
            "grid_template_areas": null,
            "object_position": null,
            "object_fit": null,
            "grid_auto_columns": null,
            "margin": null,
            "display": null,
            "left": null
          }
        },
        "0a5676be0406449a907a454c8d7b0f44": {
          "model_module": "@jupyter-widgets/controls",
          "model_name": "HTMLModel",
          "model_module_version": "1.5.0",
          "state": {
            "_view_name": "HTMLView",
            "style": "IPY_MODEL_6c64716107544f50a71a587b982a4028",
            "_dom_classes": [],
            "description": "",
            "_model_name": "HTMLModel",
            "placeholder": "​",
            "_view_module": "@jupyter-widgets/controls",
            "_model_module_version": "1.5.0",
            "value": "100%",
            "_view_count": null,
            "_view_module_version": "1.5.0",
            "description_tooltip": null,
            "_model_module": "@jupyter-widgets/controls",
            "layout": "IPY_MODEL_a5c1f4bf6325445cb005c983bc3ad72f"
          }
        },
        "ec6362070cc64f5cb83b71ffe220d32d": {
          "model_module": "@jupyter-widgets/controls",
          "model_name": "FloatProgressModel",
          "model_module_version": "1.5.0",
          "state": {
            "_view_name": "ProgressView",
            "style": "IPY_MODEL_89ed9671d5da4db681214a380bbce48f",
            "_dom_classes": [],
            "description": "",
            "_model_name": "FloatProgressModel",
            "bar_style": "success",
            "max": 400,
            "_view_module": "@jupyter-widgets/controls",
            "_model_module_version": "1.5.0",
            "value": 400,
            "_view_count": null,
            "_view_module_version": "1.5.0",
            "orientation": "horizontal",
            "min": 0,
            "description_tooltip": null,
            "_model_module": "@jupyter-widgets/controls",
            "layout": "IPY_MODEL_fe834e453db1405f80c1cc35594da832"
          }
        },
        "8a9bb485713042fe86f45889be9e8b49": {
          "model_module": "@jupyter-widgets/controls",
          "model_name": "HTMLModel",
          "model_module_version": "1.5.0",
          "state": {
            "_view_name": "HTMLView",
            "style": "IPY_MODEL_9a2986b0ea464a038503f167547a284c",
            "_dom_classes": [],
            "description": "",
            "_model_name": "HTMLModel",
            "placeholder": "​",
            "_view_module": "@jupyter-widgets/controls",
            "_model_module_version": "1.5.0",
            "value": " 400/400 [00:06&lt;00:00, 61.16it/s]",
            "_view_count": null,
            "_view_module_version": "1.5.0",
            "description_tooltip": null,
            "_model_module": "@jupyter-widgets/controls",
            "layout": "IPY_MODEL_848dd0efbd55436cb744184da840044d"
          }
        },
        "6c64716107544f50a71a587b982a4028": {
          "model_module": "@jupyter-widgets/controls",
          "model_name": "DescriptionStyleModel",
          "model_module_version": "1.5.0",
          "state": {
            "_view_name": "StyleView",
            "_model_name": "DescriptionStyleModel",
            "description_width": "",
            "_view_module": "@jupyter-widgets/base",
            "_model_module_version": "1.5.0",
            "_view_count": null,
            "_view_module_version": "1.2.0",
            "_model_module": "@jupyter-widgets/controls"
          }
        },
        "a5c1f4bf6325445cb005c983bc3ad72f": {
          "model_module": "@jupyter-widgets/base",
          "model_name": "LayoutModel",
          "model_module_version": "1.2.0",
          "state": {
            "_view_name": "LayoutView",
            "grid_template_rows": null,
            "right": null,
            "justify_content": null,
            "_view_module": "@jupyter-widgets/base",
            "overflow": null,
            "_model_module_version": "1.2.0",
            "_view_count": null,
            "flex_flow": null,
            "width": null,
            "min_width": null,
            "border": null,
            "align_items": null,
            "bottom": null,
            "_model_module": "@jupyter-widgets/base",
            "top": null,
            "grid_column": null,
            "overflow_y": null,
            "overflow_x": null,
            "grid_auto_flow": null,
            "grid_area": null,
            "grid_template_columns": null,
            "flex": null,
            "_model_name": "LayoutModel",
            "justify_items": null,
            "grid_row": null,
            "max_height": null,
            "align_content": null,
            "visibility": null,
            "align_self": null,
            "height": null,
            "min_height": null,
            "padding": null,
            "grid_auto_rows": null,
            "grid_gap": null,
            "max_width": null,
            "order": null,
            "_view_module_version": "1.2.0",
            "grid_template_areas": null,
            "object_position": null,
            "object_fit": null,
            "grid_auto_columns": null,
            "margin": null,
            "display": null,
            "left": null
          }
        },
        "89ed9671d5da4db681214a380bbce48f": {
          "model_module": "@jupyter-widgets/controls",
          "model_name": "ProgressStyleModel",
          "model_module_version": "1.5.0",
          "state": {
            "_view_name": "StyleView",
            "_model_name": "ProgressStyleModel",
            "description_width": "",
            "_view_module": "@jupyter-widgets/base",
            "_model_module_version": "1.5.0",
            "_view_count": null,
            "_view_module_version": "1.2.0",
            "bar_color": null,
            "_model_module": "@jupyter-widgets/controls"
          }
        },
        "fe834e453db1405f80c1cc35594da832": {
          "model_module": "@jupyter-widgets/base",
          "model_name": "LayoutModel",
          "model_module_version": "1.2.0",
          "state": {
            "_view_name": "LayoutView",
            "grid_template_rows": null,
            "right": null,
            "justify_content": null,
            "_view_module": "@jupyter-widgets/base",
            "overflow": null,
            "_model_module_version": "1.2.0",
            "_view_count": null,
            "flex_flow": null,
            "width": null,
            "min_width": null,
            "border": null,
            "align_items": null,
            "bottom": null,
            "_model_module": "@jupyter-widgets/base",
            "top": null,
            "grid_column": null,
            "overflow_y": null,
            "overflow_x": null,
            "grid_auto_flow": null,
            "grid_area": null,
            "grid_template_columns": null,
            "flex": null,
            "_model_name": "LayoutModel",
            "justify_items": null,
            "grid_row": null,
            "max_height": null,
            "align_content": null,
            "visibility": null,
            "align_self": null,
            "height": null,
            "min_height": null,
            "padding": null,
            "grid_auto_rows": null,
            "grid_gap": null,
            "max_width": null,
            "order": null,
            "_view_module_version": "1.2.0",
            "grid_template_areas": null,
            "object_position": null,
            "object_fit": null,
            "grid_auto_columns": null,
            "margin": null,
            "display": null,
            "left": null
          }
        },
        "9a2986b0ea464a038503f167547a284c": {
          "model_module": "@jupyter-widgets/controls",
          "model_name": "DescriptionStyleModel",
          "model_module_version": "1.5.0",
          "state": {
            "_view_name": "StyleView",
            "_model_name": "DescriptionStyleModel",
            "description_width": "",
            "_view_module": "@jupyter-widgets/base",
            "_model_module_version": "1.5.0",
            "_view_count": null,
            "_view_module_version": "1.2.0",
            "_model_module": "@jupyter-widgets/controls"
          }
        },
        "848dd0efbd55436cb744184da840044d": {
          "model_module": "@jupyter-widgets/base",
          "model_name": "LayoutModel",
          "model_module_version": "1.2.0",
          "state": {
            "_view_name": "LayoutView",
            "grid_template_rows": null,
            "right": null,
            "justify_content": null,
            "_view_module": "@jupyter-widgets/base",
            "overflow": null,
            "_model_module_version": "1.2.0",
            "_view_count": null,
            "flex_flow": null,
            "width": null,
            "min_width": null,
            "border": null,
            "align_items": null,
            "bottom": null,
            "_model_module": "@jupyter-widgets/base",
            "top": null,
            "grid_column": null,
            "overflow_y": null,
            "overflow_x": null,
            "grid_auto_flow": null,
            "grid_area": null,
            "grid_template_columns": null,
            "flex": null,
            "_model_name": "LayoutModel",
            "justify_items": null,
            "grid_row": null,
            "max_height": null,
            "align_content": null,
            "visibility": null,
            "align_self": null,
            "height": null,
            "min_height": null,
            "padding": null,
            "grid_auto_rows": null,
            "grid_gap": null,
            "max_width": null,
            "order": null,
            "_view_module_version": "1.2.0",
            "grid_template_areas": null,
            "object_position": null,
            "object_fit": null,
            "grid_auto_columns": null,
            "margin": null,
            "display": null,
            "left": null
          }
        },
        "662536211d9b4c2ea7b894b816a26904": {
          "model_module": "@jupyter-widgets/controls",
          "model_name": "HBoxModel",
          "model_module_version": "1.5.0",
          "state": {
            "_view_name": "HBoxView",
            "_dom_classes": [],
            "_model_name": "HBoxModel",
            "_view_module": "@jupyter-widgets/controls",
            "_model_module_version": "1.5.0",
            "_view_count": null,
            "_view_module_version": "1.5.0",
            "box_style": "",
            "layout": "IPY_MODEL_7052b7e595eb462f91944b86f0f6fef7",
            "_model_module": "@jupyter-widgets/controls",
            "children": [
              "IPY_MODEL_a1c43531e29341529f3f9dead70ec422",
              "IPY_MODEL_6d4b89dfa7c147bcafc47849813babf5",
              "IPY_MODEL_5f60d8273ee34a6c9c3a34e877103422"
            ]
          }
        },
        "7052b7e595eb462f91944b86f0f6fef7": {
          "model_module": "@jupyter-widgets/base",
          "model_name": "LayoutModel",
          "model_module_version": "1.2.0",
          "state": {
            "_view_name": "LayoutView",
            "grid_template_rows": null,
            "right": null,
            "justify_content": null,
            "_view_module": "@jupyter-widgets/base",
            "overflow": null,
            "_model_module_version": "1.2.0",
            "_view_count": null,
            "flex_flow": null,
            "width": null,
            "min_width": null,
            "border": null,
            "align_items": null,
            "bottom": null,
            "_model_module": "@jupyter-widgets/base",
            "top": null,
            "grid_column": null,
            "overflow_y": null,
            "overflow_x": null,
            "grid_auto_flow": null,
            "grid_area": null,
            "grid_template_columns": null,
            "flex": null,
            "_model_name": "LayoutModel",
            "justify_items": null,
            "grid_row": null,
            "max_height": null,
            "align_content": null,
            "visibility": null,
            "align_self": null,
            "height": null,
            "min_height": null,
            "padding": null,
            "grid_auto_rows": null,
            "grid_gap": null,
            "max_width": null,
            "order": null,
            "_view_module_version": "1.2.0",
            "grid_template_areas": null,
            "object_position": null,
            "object_fit": null,
            "grid_auto_columns": null,
            "margin": null,
            "display": null,
            "left": null
          }
        },
        "a1c43531e29341529f3f9dead70ec422": {
          "model_module": "@jupyter-widgets/controls",
          "model_name": "HTMLModel",
          "model_module_version": "1.5.0",
          "state": {
            "_view_name": "HTMLView",
            "style": "IPY_MODEL_dc443b80cdd848da8bb70a7f935b369a",
            "_dom_classes": [],
            "description": "",
            "_model_name": "HTMLModel",
            "placeholder": "​",
            "_view_module": "@jupyter-widgets/controls",
            "_model_module_version": "1.5.0",
            "value": "100%",
            "_view_count": null,
            "_view_module_version": "1.5.0",
            "description_tooltip": null,
            "_model_module": "@jupyter-widgets/controls",
            "layout": "IPY_MODEL_dc03b44789e24bcb924aa392e4ee3bf3"
          }
        },
        "6d4b89dfa7c147bcafc47849813babf5": {
          "model_module": "@jupyter-widgets/controls",
          "model_name": "FloatProgressModel",
          "model_module_version": "1.5.0",
          "state": {
            "_view_name": "ProgressView",
            "style": "IPY_MODEL_625cab50f5d04a55bf6035886bf68dd2",
            "_dom_classes": [],
            "description": "",
            "_model_name": "FloatProgressModel",
            "bar_style": "success",
            "max": 400,
            "_view_module": "@jupyter-widgets/controls",
            "_model_module_version": "1.5.0",
            "value": 400,
            "_view_count": null,
            "_view_module_version": "1.5.0",
            "orientation": "horizontal",
            "min": 0,
            "description_tooltip": null,
            "_model_module": "@jupyter-widgets/controls",
            "layout": "IPY_MODEL_cb5b8344a5b94212a760aabdf417b440"
          }
        },
        "5f60d8273ee34a6c9c3a34e877103422": {
          "model_module": "@jupyter-widgets/controls",
          "model_name": "HTMLModel",
          "model_module_version": "1.5.0",
          "state": {
            "_view_name": "HTMLView",
            "style": "IPY_MODEL_fc531eb91db74ed68d1e6301d76d6f7a",
            "_dom_classes": [],
            "description": "",
            "_model_name": "HTMLModel",
            "placeholder": "​",
            "_view_module": "@jupyter-widgets/controls",
            "_model_module_version": "1.5.0",
            "value": " 400/400 [00:06&lt;00:00, 60.80it/s]",
            "_view_count": null,
            "_view_module_version": "1.5.0",
            "description_tooltip": null,
            "_model_module": "@jupyter-widgets/controls",
            "layout": "IPY_MODEL_338c269d25d04576a8f1863d1032188c"
          }
        },
        "dc443b80cdd848da8bb70a7f935b369a": {
          "model_module": "@jupyter-widgets/controls",
          "model_name": "DescriptionStyleModel",
          "model_module_version": "1.5.0",
          "state": {
            "_view_name": "StyleView",
            "_model_name": "DescriptionStyleModel",
            "description_width": "",
            "_view_module": "@jupyter-widgets/base",
            "_model_module_version": "1.5.0",
            "_view_count": null,
            "_view_module_version": "1.2.0",
            "_model_module": "@jupyter-widgets/controls"
          }
        },
        "dc03b44789e24bcb924aa392e4ee3bf3": {
          "model_module": "@jupyter-widgets/base",
          "model_name": "LayoutModel",
          "model_module_version": "1.2.0",
          "state": {
            "_view_name": "LayoutView",
            "grid_template_rows": null,
            "right": null,
            "justify_content": null,
            "_view_module": "@jupyter-widgets/base",
            "overflow": null,
            "_model_module_version": "1.2.0",
            "_view_count": null,
            "flex_flow": null,
            "width": null,
            "min_width": null,
            "border": null,
            "align_items": null,
            "bottom": null,
            "_model_module": "@jupyter-widgets/base",
            "top": null,
            "grid_column": null,
            "overflow_y": null,
            "overflow_x": null,
            "grid_auto_flow": null,
            "grid_area": null,
            "grid_template_columns": null,
            "flex": null,
            "_model_name": "LayoutModel",
            "justify_items": null,
            "grid_row": null,
            "max_height": null,
            "align_content": null,
            "visibility": null,
            "align_self": null,
            "height": null,
            "min_height": null,
            "padding": null,
            "grid_auto_rows": null,
            "grid_gap": null,
            "max_width": null,
            "order": null,
            "_view_module_version": "1.2.0",
            "grid_template_areas": null,
            "object_position": null,
            "object_fit": null,
            "grid_auto_columns": null,
            "margin": null,
            "display": null,
            "left": null
          }
        },
        "625cab50f5d04a55bf6035886bf68dd2": {
          "model_module": "@jupyter-widgets/controls",
          "model_name": "ProgressStyleModel",
          "model_module_version": "1.5.0",
          "state": {
            "_view_name": "StyleView",
            "_model_name": "ProgressStyleModel",
            "description_width": "",
            "_view_module": "@jupyter-widgets/base",
            "_model_module_version": "1.5.0",
            "_view_count": null,
            "_view_module_version": "1.2.0",
            "bar_color": null,
            "_model_module": "@jupyter-widgets/controls"
          }
        },
        "cb5b8344a5b94212a760aabdf417b440": {
          "model_module": "@jupyter-widgets/base",
          "model_name": "LayoutModel",
          "model_module_version": "1.2.0",
          "state": {
            "_view_name": "LayoutView",
            "grid_template_rows": null,
            "right": null,
            "justify_content": null,
            "_view_module": "@jupyter-widgets/base",
            "overflow": null,
            "_model_module_version": "1.2.0",
            "_view_count": null,
            "flex_flow": null,
            "width": null,
            "min_width": null,
            "border": null,
            "align_items": null,
            "bottom": null,
            "_model_module": "@jupyter-widgets/base",
            "top": null,
            "grid_column": null,
            "overflow_y": null,
            "overflow_x": null,
            "grid_auto_flow": null,
            "grid_area": null,
            "grid_template_columns": null,
            "flex": null,
            "_model_name": "LayoutModel",
            "justify_items": null,
            "grid_row": null,
            "max_height": null,
            "align_content": null,
            "visibility": null,
            "align_self": null,
            "height": null,
            "min_height": null,
            "padding": null,
            "grid_auto_rows": null,
            "grid_gap": null,
            "max_width": null,
            "order": null,
            "_view_module_version": "1.2.0",
            "grid_template_areas": null,
            "object_position": null,
            "object_fit": null,
            "grid_auto_columns": null,
            "margin": null,
            "display": null,
            "left": null
          }
        },
        "fc531eb91db74ed68d1e6301d76d6f7a": {
          "model_module": "@jupyter-widgets/controls",
          "model_name": "DescriptionStyleModel",
          "model_module_version": "1.5.0",
          "state": {
            "_view_name": "StyleView",
            "_model_name": "DescriptionStyleModel",
            "description_width": "",
            "_view_module": "@jupyter-widgets/base",
            "_model_module_version": "1.5.0",
            "_view_count": null,
            "_view_module_version": "1.2.0",
            "_model_module": "@jupyter-widgets/controls"
          }
        },
        "338c269d25d04576a8f1863d1032188c": {
          "model_module": "@jupyter-widgets/base",
          "model_name": "LayoutModel",
          "model_module_version": "1.2.0",
          "state": {
            "_view_name": "LayoutView",
            "grid_template_rows": null,
            "right": null,
            "justify_content": null,
            "_view_module": "@jupyter-widgets/base",
            "overflow": null,
            "_model_module_version": "1.2.0",
            "_view_count": null,
            "flex_flow": null,
            "width": null,
            "min_width": null,
            "border": null,
            "align_items": null,
            "bottom": null,
            "_model_module": "@jupyter-widgets/base",
            "top": null,
            "grid_column": null,
            "overflow_y": null,
            "overflow_x": null,
            "grid_auto_flow": null,
            "grid_area": null,
            "grid_template_columns": null,
            "flex": null,
            "_model_name": "LayoutModel",
            "justify_items": null,
            "grid_row": null,
            "max_height": null,
            "align_content": null,
            "visibility": null,
            "align_self": null,
            "height": null,
            "min_height": null,
            "padding": null,
            "grid_auto_rows": null,
            "grid_gap": null,
            "max_width": null,
            "order": null,
            "_view_module_version": "1.2.0",
            "grid_template_areas": null,
            "object_position": null,
            "object_fit": null,
            "grid_auto_columns": null,
            "margin": null,
            "display": null,
            "left": null
          }
        },
        "b3cbb91416fd4f49a6b37187d042044a": {
          "model_module": "@jupyter-widgets/controls",
          "model_name": "HBoxModel",
          "model_module_version": "1.5.0",
          "state": {
            "_view_name": "HBoxView",
            "_dom_classes": [],
            "_model_name": "HBoxModel",
            "_view_module": "@jupyter-widgets/controls",
            "_model_module_version": "1.5.0",
            "_view_count": null,
            "_view_module_version": "1.5.0",
            "box_style": "",
            "layout": "IPY_MODEL_107add9e6e2f42c1bfda84a1a6c1f092",
            "_model_module": "@jupyter-widgets/controls",
            "children": [
              "IPY_MODEL_15308ae16f3241c0a78278ea6008158b",
              "IPY_MODEL_903928fe169847b5b5956d3b2750dcb9",
              "IPY_MODEL_23e1a5ad991142809602a29e8e572d17"
            ]
          }
        },
        "107add9e6e2f42c1bfda84a1a6c1f092": {
          "model_module": "@jupyter-widgets/base",
          "model_name": "LayoutModel",
          "model_module_version": "1.2.0",
          "state": {
            "_view_name": "LayoutView",
            "grid_template_rows": null,
            "right": null,
            "justify_content": null,
            "_view_module": "@jupyter-widgets/base",
            "overflow": null,
            "_model_module_version": "1.2.0",
            "_view_count": null,
            "flex_flow": null,
            "width": null,
            "min_width": null,
            "border": null,
            "align_items": null,
            "bottom": null,
            "_model_module": "@jupyter-widgets/base",
            "top": null,
            "grid_column": null,
            "overflow_y": null,
            "overflow_x": null,
            "grid_auto_flow": null,
            "grid_area": null,
            "grid_template_columns": null,
            "flex": null,
            "_model_name": "LayoutModel",
            "justify_items": null,
            "grid_row": null,
            "max_height": null,
            "align_content": null,
            "visibility": null,
            "align_self": null,
            "height": null,
            "min_height": null,
            "padding": null,
            "grid_auto_rows": null,
            "grid_gap": null,
            "max_width": null,
            "order": null,
            "_view_module_version": "1.2.0",
            "grid_template_areas": null,
            "object_position": null,
            "object_fit": null,
            "grid_auto_columns": null,
            "margin": null,
            "display": null,
            "left": null
          }
        },
        "15308ae16f3241c0a78278ea6008158b": {
          "model_module": "@jupyter-widgets/controls",
          "model_name": "HTMLModel",
          "model_module_version": "1.5.0",
          "state": {
            "_view_name": "HTMLView",
            "style": "IPY_MODEL_c96078999c9548e5b485ba029880f933",
            "_dom_classes": [],
            "description": "",
            "_model_name": "HTMLModel",
            "placeholder": "​",
            "_view_module": "@jupyter-widgets/controls",
            "_model_module_version": "1.5.0",
            "value": "100%",
            "_view_count": null,
            "_view_module_version": "1.5.0",
            "description_tooltip": null,
            "_model_module": "@jupyter-widgets/controls",
            "layout": "IPY_MODEL_3df6f624400941b485faf809ac00a1ed"
          }
        },
        "903928fe169847b5b5956d3b2750dcb9": {
          "model_module": "@jupyter-widgets/controls",
          "model_name": "FloatProgressModel",
          "model_module_version": "1.5.0",
          "state": {
            "_view_name": "ProgressView",
            "style": "IPY_MODEL_fbddd1505ca544cd95741ed444da7b9e",
            "_dom_classes": [],
            "description": "",
            "_model_name": "FloatProgressModel",
            "bar_style": "success",
            "max": 400,
            "_view_module": "@jupyter-widgets/controls",
            "_model_module_version": "1.5.0",
            "value": 400,
            "_view_count": null,
            "_view_module_version": "1.5.0",
            "orientation": "horizontal",
            "min": 0,
            "description_tooltip": null,
            "_model_module": "@jupyter-widgets/controls",
            "layout": "IPY_MODEL_6cf4e3e605cb4dc7bceb5cf771321cf5"
          }
        },
        "23e1a5ad991142809602a29e8e572d17": {
          "model_module": "@jupyter-widgets/controls",
          "model_name": "HTMLModel",
          "model_module_version": "1.5.0",
          "state": {
            "_view_name": "HTMLView",
            "style": "IPY_MODEL_82f5395d383b44e4bd95214a4838ea62",
            "_dom_classes": [],
            "description": "",
            "_model_name": "HTMLModel",
            "placeholder": "​",
            "_view_module": "@jupyter-widgets/controls",
            "_model_module_version": "1.5.0",
            "value": " 400/400 [00:06&lt;00:00, 60.78it/s]",
            "_view_count": null,
            "_view_module_version": "1.5.0",
            "description_tooltip": null,
            "_model_module": "@jupyter-widgets/controls",
            "layout": "IPY_MODEL_5b619e3b92e145aa94eb9f990a98fa61"
          }
        },
        "c96078999c9548e5b485ba029880f933": {
          "model_module": "@jupyter-widgets/controls",
          "model_name": "DescriptionStyleModel",
          "model_module_version": "1.5.0",
          "state": {
            "_view_name": "StyleView",
            "_model_name": "DescriptionStyleModel",
            "description_width": "",
            "_view_module": "@jupyter-widgets/base",
            "_model_module_version": "1.5.0",
            "_view_count": null,
            "_view_module_version": "1.2.0",
            "_model_module": "@jupyter-widgets/controls"
          }
        },
        "3df6f624400941b485faf809ac00a1ed": {
          "model_module": "@jupyter-widgets/base",
          "model_name": "LayoutModel",
          "model_module_version": "1.2.0",
          "state": {
            "_view_name": "LayoutView",
            "grid_template_rows": null,
            "right": null,
            "justify_content": null,
            "_view_module": "@jupyter-widgets/base",
            "overflow": null,
            "_model_module_version": "1.2.0",
            "_view_count": null,
            "flex_flow": null,
            "width": null,
            "min_width": null,
            "border": null,
            "align_items": null,
            "bottom": null,
            "_model_module": "@jupyter-widgets/base",
            "top": null,
            "grid_column": null,
            "overflow_y": null,
            "overflow_x": null,
            "grid_auto_flow": null,
            "grid_area": null,
            "grid_template_columns": null,
            "flex": null,
            "_model_name": "LayoutModel",
            "justify_items": null,
            "grid_row": null,
            "max_height": null,
            "align_content": null,
            "visibility": null,
            "align_self": null,
            "height": null,
            "min_height": null,
            "padding": null,
            "grid_auto_rows": null,
            "grid_gap": null,
            "max_width": null,
            "order": null,
            "_view_module_version": "1.2.0",
            "grid_template_areas": null,
            "object_position": null,
            "object_fit": null,
            "grid_auto_columns": null,
            "margin": null,
            "display": null,
            "left": null
          }
        },
        "fbddd1505ca544cd95741ed444da7b9e": {
          "model_module": "@jupyter-widgets/controls",
          "model_name": "ProgressStyleModel",
          "model_module_version": "1.5.0",
          "state": {
            "_view_name": "StyleView",
            "_model_name": "ProgressStyleModel",
            "description_width": "",
            "_view_module": "@jupyter-widgets/base",
            "_model_module_version": "1.5.0",
            "_view_count": null,
            "_view_module_version": "1.2.0",
            "bar_color": null,
            "_model_module": "@jupyter-widgets/controls"
          }
        },
        "6cf4e3e605cb4dc7bceb5cf771321cf5": {
          "model_module": "@jupyter-widgets/base",
          "model_name": "LayoutModel",
          "model_module_version": "1.2.0",
          "state": {
            "_view_name": "LayoutView",
            "grid_template_rows": null,
            "right": null,
            "justify_content": null,
            "_view_module": "@jupyter-widgets/base",
            "overflow": null,
            "_model_module_version": "1.2.0",
            "_view_count": null,
            "flex_flow": null,
            "width": null,
            "min_width": null,
            "border": null,
            "align_items": null,
            "bottom": null,
            "_model_module": "@jupyter-widgets/base",
            "top": null,
            "grid_column": null,
            "overflow_y": null,
            "overflow_x": null,
            "grid_auto_flow": null,
            "grid_area": null,
            "grid_template_columns": null,
            "flex": null,
            "_model_name": "LayoutModel",
            "justify_items": null,
            "grid_row": null,
            "max_height": null,
            "align_content": null,
            "visibility": null,
            "align_self": null,
            "height": null,
            "min_height": null,
            "padding": null,
            "grid_auto_rows": null,
            "grid_gap": null,
            "max_width": null,
            "order": null,
            "_view_module_version": "1.2.0",
            "grid_template_areas": null,
            "object_position": null,
            "object_fit": null,
            "grid_auto_columns": null,
            "margin": null,
            "display": null,
            "left": null
          }
        },
        "82f5395d383b44e4bd95214a4838ea62": {
          "model_module": "@jupyter-widgets/controls",
          "model_name": "DescriptionStyleModel",
          "model_module_version": "1.5.0",
          "state": {
            "_view_name": "StyleView",
            "_model_name": "DescriptionStyleModel",
            "description_width": "",
            "_view_module": "@jupyter-widgets/base",
            "_model_module_version": "1.5.0",
            "_view_count": null,
            "_view_module_version": "1.2.0",
            "_model_module": "@jupyter-widgets/controls"
          }
        },
        "5b619e3b92e145aa94eb9f990a98fa61": {
          "model_module": "@jupyter-widgets/base",
          "model_name": "LayoutModel",
          "model_module_version": "1.2.0",
          "state": {
            "_view_name": "LayoutView",
            "grid_template_rows": null,
            "right": null,
            "justify_content": null,
            "_view_module": "@jupyter-widgets/base",
            "overflow": null,
            "_model_module_version": "1.2.0",
            "_view_count": null,
            "flex_flow": null,
            "width": null,
            "min_width": null,
            "border": null,
            "align_items": null,
            "bottom": null,
            "_model_module": "@jupyter-widgets/base",
            "top": null,
            "grid_column": null,
            "overflow_y": null,
            "overflow_x": null,
            "grid_auto_flow": null,
            "grid_area": null,
            "grid_template_columns": null,
            "flex": null,
            "_model_name": "LayoutModel",
            "justify_items": null,
            "grid_row": null,
            "max_height": null,
            "align_content": null,
            "visibility": null,
            "align_self": null,
            "height": null,
            "min_height": null,
            "padding": null,
            "grid_auto_rows": null,
            "grid_gap": null,
            "max_width": null,
            "order": null,
            "_view_module_version": "1.2.0",
            "grid_template_areas": null,
            "object_position": null,
            "object_fit": null,
            "grid_auto_columns": null,
            "margin": null,
            "display": null,
            "left": null
          }
        },
        "9c0867985cfb4be79a521e58293bab15": {
          "model_module": "@jupyter-widgets/controls",
          "model_name": "HBoxModel",
          "model_module_version": "1.5.0",
          "state": {
            "_view_name": "HBoxView",
            "_dom_classes": [],
            "_model_name": "HBoxModel",
            "_view_module": "@jupyter-widgets/controls",
            "_model_module_version": "1.5.0",
            "_view_count": null,
            "_view_module_version": "1.5.0",
            "box_style": "",
            "layout": "IPY_MODEL_8bb90e3453814ecc841762b35ced29b3",
            "_model_module": "@jupyter-widgets/controls",
            "children": [
              "IPY_MODEL_aea9aa5fc9c3435f8092805e0e2e5179",
              "IPY_MODEL_b672ab11194b46ffa1c1771c5b39af89",
              "IPY_MODEL_084ebf4993d5465bb8158c0e1625659c"
            ]
          }
        },
        "8bb90e3453814ecc841762b35ced29b3": {
          "model_module": "@jupyter-widgets/base",
          "model_name": "LayoutModel",
          "model_module_version": "1.2.0",
          "state": {
            "_view_name": "LayoutView",
            "grid_template_rows": null,
            "right": null,
            "justify_content": null,
            "_view_module": "@jupyter-widgets/base",
            "overflow": null,
            "_model_module_version": "1.2.0",
            "_view_count": null,
            "flex_flow": null,
            "width": null,
            "min_width": null,
            "border": null,
            "align_items": null,
            "bottom": null,
            "_model_module": "@jupyter-widgets/base",
            "top": null,
            "grid_column": null,
            "overflow_y": null,
            "overflow_x": null,
            "grid_auto_flow": null,
            "grid_area": null,
            "grid_template_columns": null,
            "flex": null,
            "_model_name": "LayoutModel",
            "justify_items": null,
            "grid_row": null,
            "max_height": null,
            "align_content": null,
            "visibility": null,
            "align_self": null,
            "height": null,
            "min_height": null,
            "padding": null,
            "grid_auto_rows": null,
            "grid_gap": null,
            "max_width": null,
            "order": null,
            "_view_module_version": "1.2.0",
            "grid_template_areas": null,
            "object_position": null,
            "object_fit": null,
            "grid_auto_columns": null,
            "margin": null,
            "display": null,
            "left": null
          }
        },
        "aea9aa5fc9c3435f8092805e0e2e5179": {
          "model_module": "@jupyter-widgets/controls",
          "model_name": "HTMLModel",
          "model_module_version": "1.5.0",
          "state": {
            "_view_name": "HTMLView",
            "style": "IPY_MODEL_972f6504c42f4b2ab338066ab44d6b45",
            "_dom_classes": [],
            "description": "",
            "_model_name": "HTMLModel",
            "placeholder": "​",
            "_view_module": "@jupyter-widgets/controls",
            "_model_module_version": "1.5.0",
            "value": "100%",
            "_view_count": null,
            "_view_module_version": "1.5.0",
            "description_tooltip": null,
            "_model_module": "@jupyter-widgets/controls",
            "layout": "IPY_MODEL_49c3f83fd13245a7b7435444c04f5865"
          }
        },
        "b672ab11194b46ffa1c1771c5b39af89": {
          "model_module": "@jupyter-widgets/controls",
          "model_name": "FloatProgressModel",
          "model_module_version": "1.5.0",
          "state": {
            "_view_name": "ProgressView",
            "style": "IPY_MODEL_ce0a776713954828a56119eafdb967ed",
            "_dom_classes": [],
            "description": "",
            "_model_name": "FloatProgressModel",
            "bar_style": "success",
            "max": 400,
            "_view_module": "@jupyter-widgets/controls",
            "_model_module_version": "1.5.0",
            "value": 400,
            "_view_count": null,
            "_view_module_version": "1.5.0",
            "orientation": "horizontal",
            "min": 0,
            "description_tooltip": null,
            "_model_module": "@jupyter-widgets/controls",
            "layout": "IPY_MODEL_a88b3b5f5c984cf5bedfd8d38ffb4f19"
          }
        },
        "084ebf4993d5465bb8158c0e1625659c": {
          "model_module": "@jupyter-widgets/controls",
          "model_name": "HTMLModel",
          "model_module_version": "1.5.0",
          "state": {
            "_view_name": "HTMLView",
            "style": "IPY_MODEL_84c66b10e19a418daee0dd2c6cdd50e5",
            "_dom_classes": [],
            "description": "",
            "_model_name": "HTMLModel",
            "placeholder": "​",
            "_view_module": "@jupyter-widgets/controls",
            "_model_module_version": "1.5.0",
            "value": " 400/400 [00:06&lt;00:00, 62.78it/s]",
            "_view_count": null,
            "_view_module_version": "1.5.0",
            "description_tooltip": null,
            "_model_module": "@jupyter-widgets/controls",
            "layout": "IPY_MODEL_d395979ccac14353882ad858b9adbe2a"
          }
        },
        "972f6504c42f4b2ab338066ab44d6b45": {
          "model_module": "@jupyter-widgets/controls",
          "model_name": "DescriptionStyleModel",
          "model_module_version": "1.5.0",
          "state": {
            "_view_name": "StyleView",
            "_model_name": "DescriptionStyleModel",
            "description_width": "",
            "_view_module": "@jupyter-widgets/base",
            "_model_module_version": "1.5.0",
            "_view_count": null,
            "_view_module_version": "1.2.0",
            "_model_module": "@jupyter-widgets/controls"
          }
        },
        "49c3f83fd13245a7b7435444c04f5865": {
          "model_module": "@jupyter-widgets/base",
          "model_name": "LayoutModel",
          "model_module_version": "1.2.0",
          "state": {
            "_view_name": "LayoutView",
            "grid_template_rows": null,
            "right": null,
            "justify_content": null,
            "_view_module": "@jupyter-widgets/base",
            "overflow": null,
            "_model_module_version": "1.2.0",
            "_view_count": null,
            "flex_flow": null,
            "width": null,
            "min_width": null,
            "border": null,
            "align_items": null,
            "bottom": null,
            "_model_module": "@jupyter-widgets/base",
            "top": null,
            "grid_column": null,
            "overflow_y": null,
            "overflow_x": null,
            "grid_auto_flow": null,
            "grid_area": null,
            "grid_template_columns": null,
            "flex": null,
            "_model_name": "LayoutModel",
            "justify_items": null,
            "grid_row": null,
            "max_height": null,
            "align_content": null,
            "visibility": null,
            "align_self": null,
            "height": null,
            "min_height": null,
            "padding": null,
            "grid_auto_rows": null,
            "grid_gap": null,
            "max_width": null,
            "order": null,
            "_view_module_version": "1.2.0",
            "grid_template_areas": null,
            "object_position": null,
            "object_fit": null,
            "grid_auto_columns": null,
            "margin": null,
            "display": null,
            "left": null
          }
        },
        "ce0a776713954828a56119eafdb967ed": {
          "model_module": "@jupyter-widgets/controls",
          "model_name": "ProgressStyleModel",
          "model_module_version": "1.5.0",
          "state": {
            "_view_name": "StyleView",
            "_model_name": "ProgressStyleModel",
            "description_width": "",
            "_view_module": "@jupyter-widgets/base",
            "_model_module_version": "1.5.0",
            "_view_count": null,
            "_view_module_version": "1.2.0",
            "bar_color": null,
            "_model_module": "@jupyter-widgets/controls"
          }
        },
        "a88b3b5f5c984cf5bedfd8d38ffb4f19": {
          "model_module": "@jupyter-widgets/base",
          "model_name": "LayoutModel",
          "model_module_version": "1.2.0",
          "state": {
            "_view_name": "LayoutView",
            "grid_template_rows": null,
            "right": null,
            "justify_content": null,
            "_view_module": "@jupyter-widgets/base",
            "overflow": null,
            "_model_module_version": "1.2.0",
            "_view_count": null,
            "flex_flow": null,
            "width": null,
            "min_width": null,
            "border": null,
            "align_items": null,
            "bottom": null,
            "_model_module": "@jupyter-widgets/base",
            "top": null,
            "grid_column": null,
            "overflow_y": null,
            "overflow_x": null,
            "grid_auto_flow": null,
            "grid_area": null,
            "grid_template_columns": null,
            "flex": null,
            "_model_name": "LayoutModel",
            "justify_items": null,
            "grid_row": null,
            "max_height": null,
            "align_content": null,
            "visibility": null,
            "align_self": null,
            "height": null,
            "min_height": null,
            "padding": null,
            "grid_auto_rows": null,
            "grid_gap": null,
            "max_width": null,
            "order": null,
            "_view_module_version": "1.2.0",
            "grid_template_areas": null,
            "object_position": null,
            "object_fit": null,
            "grid_auto_columns": null,
            "margin": null,
            "display": null,
            "left": null
          }
        },
        "84c66b10e19a418daee0dd2c6cdd50e5": {
          "model_module": "@jupyter-widgets/controls",
          "model_name": "DescriptionStyleModel",
          "model_module_version": "1.5.0",
          "state": {
            "_view_name": "StyleView",
            "_model_name": "DescriptionStyleModel",
            "description_width": "",
            "_view_module": "@jupyter-widgets/base",
            "_model_module_version": "1.5.0",
            "_view_count": null,
            "_view_module_version": "1.2.0",
            "_model_module": "@jupyter-widgets/controls"
          }
        },
        "d395979ccac14353882ad858b9adbe2a": {
          "model_module": "@jupyter-widgets/base",
          "model_name": "LayoutModel",
          "model_module_version": "1.2.0",
          "state": {
            "_view_name": "LayoutView",
            "grid_template_rows": null,
            "right": null,
            "justify_content": null,
            "_view_module": "@jupyter-widgets/base",
            "overflow": null,
            "_model_module_version": "1.2.0",
            "_view_count": null,
            "flex_flow": null,
            "width": null,
            "min_width": null,
            "border": null,
            "align_items": null,
            "bottom": null,
            "_model_module": "@jupyter-widgets/base",
            "top": null,
            "grid_column": null,
            "overflow_y": null,
            "overflow_x": null,
            "grid_auto_flow": null,
            "grid_area": null,
            "grid_template_columns": null,
            "flex": null,
            "_model_name": "LayoutModel",
            "justify_items": null,
            "grid_row": null,
            "max_height": null,
            "align_content": null,
            "visibility": null,
            "align_self": null,
            "height": null,
            "min_height": null,
            "padding": null,
            "grid_auto_rows": null,
            "grid_gap": null,
            "max_width": null,
            "order": null,
            "_view_module_version": "1.2.0",
            "grid_template_areas": null,
            "object_position": null,
            "object_fit": null,
            "grid_auto_columns": null,
            "margin": null,
            "display": null,
            "left": null
          }
        },
        "0c8f3481a8a042df9f6bcf886fa621d2": {
          "model_module": "@jupyter-widgets/controls",
          "model_name": "HBoxModel",
          "model_module_version": "1.5.0",
          "state": {
            "_view_name": "HBoxView",
            "_dom_classes": [],
            "_model_name": "HBoxModel",
            "_view_module": "@jupyter-widgets/controls",
            "_model_module_version": "1.5.0",
            "_view_count": null,
            "_view_module_version": "1.5.0",
            "box_style": "",
            "layout": "IPY_MODEL_d932d3efce7a40b4992795229dde9a53",
            "_model_module": "@jupyter-widgets/controls",
            "children": [
              "IPY_MODEL_a0101e3a2c15454eb29f4331dd59269c",
              "IPY_MODEL_eb06efa060f04772998330893c5cbcda",
              "IPY_MODEL_e85f2e1030c9409fa8bc0cf8e190a003"
            ]
          }
        },
        "d932d3efce7a40b4992795229dde9a53": {
          "model_module": "@jupyter-widgets/base",
          "model_name": "LayoutModel",
          "model_module_version": "1.2.0",
          "state": {
            "_view_name": "LayoutView",
            "grid_template_rows": null,
            "right": null,
            "justify_content": null,
            "_view_module": "@jupyter-widgets/base",
            "overflow": null,
            "_model_module_version": "1.2.0",
            "_view_count": null,
            "flex_flow": null,
            "width": null,
            "min_width": null,
            "border": null,
            "align_items": null,
            "bottom": null,
            "_model_module": "@jupyter-widgets/base",
            "top": null,
            "grid_column": null,
            "overflow_y": null,
            "overflow_x": null,
            "grid_auto_flow": null,
            "grid_area": null,
            "grid_template_columns": null,
            "flex": null,
            "_model_name": "LayoutModel",
            "justify_items": null,
            "grid_row": null,
            "max_height": null,
            "align_content": null,
            "visibility": null,
            "align_self": null,
            "height": null,
            "min_height": null,
            "padding": null,
            "grid_auto_rows": null,
            "grid_gap": null,
            "max_width": null,
            "order": null,
            "_view_module_version": "1.2.0",
            "grid_template_areas": null,
            "object_position": null,
            "object_fit": null,
            "grid_auto_columns": null,
            "margin": null,
            "display": null,
            "left": null
          }
        },
        "a0101e3a2c15454eb29f4331dd59269c": {
          "model_module": "@jupyter-widgets/controls",
          "model_name": "HTMLModel",
          "model_module_version": "1.5.0",
          "state": {
            "_view_name": "HTMLView",
            "style": "IPY_MODEL_2953ba0e9b424a6d861cb1980a144d3e",
            "_dom_classes": [],
            "description": "",
            "_model_name": "HTMLModel",
            "placeholder": "​",
            "_view_module": "@jupyter-widgets/controls",
            "_model_module_version": "1.5.0",
            "value": "100%",
            "_view_count": null,
            "_view_module_version": "1.5.0",
            "description_tooltip": null,
            "_model_module": "@jupyter-widgets/controls",
            "layout": "IPY_MODEL_e1adda8a1847409d8947b7341b9582dd"
          }
        },
        "eb06efa060f04772998330893c5cbcda": {
          "model_module": "@jupyter-widgets/controls",
          "model_name": "FloatProgressModel",
          "model_module_version": "1.5.0",
          "state": {
            "_view_name": "ProgressView",
            "style": "IPY_MODEL_af17f5900b3645a4be24726eb8f1a29c",
            "_dom_classes": [],
            "description": "",
            "_model_name": "FloatProgressModel",
            "bar_style": "success",
            "max": 400,
            "_view_module": "@jupyter-widgets/controls",
            "_model_module_version": "1.5.0",
            "value": 400,
            "_view_count": null,
            "_view_module_version": "1.5.0",
            "orientation": "horizontal",
            "min": 0,
            "description_tooltip": null,
            "_model_module": "@jupyter-widgets/controls",
            "layout": "IPY_MODEL_f32e5b12f6bf4d12952b447c471cbfc3"
          }
        },
        "e85f2e1030c9409fa8bc0cf8e190a003": {
          "model_module": "@jupyter-widgets/controls",
          "model_name": "HTMLModel",
          "model_module_version": "1.5.0",
          "state": {
            "_view_name": "HTMLView",
            "style": "IPY_MODEL_b80d6ab36b474aac8d02e3f66b47403f",
            "_dom_classes": [],
            "description": "",
            "_model_name": "HTMLModel",
            "placeholder": "​",
            "_view_module": "@jupyter-widgets/controls",
            "_model_module_version": "1.5.0",
            "value": " 400/400 [00:06&lt;00:00, 61.26it/s]",
            "_view_count": null,
            "_view_module_version": "1.5.0",
            "description_tooltip": null,
            "_model_module": "@jupyter-widgets/controls",
            "layout": "IPY_MODEL_094a62123c06473fbbd17edad4e4c8e9"
          }
        },
        "2953ba0e9b424a6d861cb1980a144d3e": {
          "model_module": "@jupyter-widgets/controls",
          "model_name": "DescriptionStyleModel",
          "model_module_version": "1.5.0",
          "state": {
            "_view_name": "StyleView",
            "_model_name": "DescriptionStyleModel",
            "description_width": "",
            "_view_module": "@jupyter-widgets/base",
            "_model_module_version": "1.5.0",
            "_view_count": null,
            "_view_module_version": "1.2.0",
            "_model_module": "@jupyter-widgets/controls"
          }
        },
        "e1adda8a1847409d8947b7341b9582dd": {
          "model_module": "@jupyter-widgets/base",
          "model_name": "LayoutModel",
          "model_module_version": "1.2.0",
          "state": {
            "_view_name": "LayoutView",
            "grid_template_rows": null,
            "right": null,
            "justify_content": null,
            "_view_module": "@jupyter-widgets/base",
            "overflow": null,
            "_model_module_version": "1.2.0",
            "_view_count": null,
            "flex_flow": null,
            "width": null,
            "min_width": null,
            "border": null,
            "align_items": null,
            "bottom": null,
            "_model_module": "@jupyter-widgets/base",
            "top": null,
            "grid_column": null,
            "overflow_y": null,
            "overflow_x": null,
            "grid_auto_flow": null,
            "grid_area": null,
            "grid_template_columns": null,
            "flex": null,
            "_model_name": "LayoutModel",
            "justify_items": null,
            "grid_row": null,
            "max_height": null,
            "align_content": null,
            "visibility": null,
            "align_self": null,
            "height": null,
            "min_height": null,
            "padding": null,
            "grid_auto_rows": null,
            "grid_gap": null,
            "max_width": null,
            "order": null,
            "_view_module_version": "1.2.0",
            "grid_template_areas": null,
            "object_position": null,
            "object_fit": null,
            "grid_auto_columns": null,
            "margin": null,
            "display": null,
            "left": null
          }
        },
        "af17f5900b3645a4be24726eb8f1a29c": {
          "model_module": "@jupyter-widgets/controls",
          "model_name": "ProgressStyleModel",
          "model_module_version": "1.5.0",
          "state": {
            "_view_name": "StyleView",
            "_model_name": "ProgressStyleModel",
            "description_width": "",
            "_view_module": "@jupyter-widgets/base",
            "_model_module_version": "1.5.0",
            "_view_count": null,
            "_view_module_version": "1.2.0",
            "bar_color": null,
            "_model_module": "@jupyter-widgets/controls"
          }
        },
        "f32e5b12f6bf4d12952b447c471cbfc3": {
          "model_module": "@jupyter-widgets/base",
          "model_name": "LayoutModel",
          "model_module_version": "1.2.0",
          "state": {
            "_view_name": "LayoutView",
            "grid_template_rows": null,
            "right": null,
            "justify_content": null,
            "_view_module": "@jupyter-widgets/base",
            "overflow": null,
            "_model_module_version": "1.2.0",
            "_view_count": null,
            "flex_flow": null,
            "width": null,
            "min_width": null,
            "border": null,
            "align_items": null,
            "bottom": null,
            "_model_module": "@jupyter-widgets/base",
            "top": null,
            "grid_column": null,
            "overflow_y": null,
            "overflow_x": null,
            "grid_auto_flow": null,
            "grid_area": null,
            "grid_template_columns": null,
            "flex": null,
            "_model_name": "LayoutModel",
            "justify_items": null,
            "grid_row": null,
            "max_height": null,
            "align_content": null,
            "visibility": null,
            "align_self": null,
            "height": null,
            "min_height": null,
            "padding": null,
            "grid_auto_rows": null,
            "grid_gap": null,
            "max_width": null,
            "order": null,
            "_view_module_version": "1.2.0",
            "grid_template_areas": null,
            "object_position": null,
            "object_fit": null,
            "grid_auto_columns": null,
            "margin": null,
            "display": null,
            "left": null
          }
        },
        "b80d6ab36b474aac8d02e3f66b47403f": {
          "model_module": "@jupyter-widgets/controls",
          "model_name": "DescriptionStyleModel",
          "model_module_version": "1.5.0",
          "state": {
            "_view_name": "StyleView",
            "_model_name": "DescriptionStyleModel",
            "description_width": "",
            "_view_module": "@jupyter-widgets/base",
            "_model_module_version": "1.5.0",
            "_view_count": null,
            "_view_module_version": "1.2.0",
            "_model_module": "@jupyter-widgets/controls"
          }
        },
        "094a62123c06473fbbd17edad4e4c8e9": {
          "model_module": "@jupyter-widgets/base",
          "model_name": "LayoutModel",
          "model_module_version": "1.2.0",
          "state": {
            "_view_name": "LayoutView",
            "grid_template_rows": null,
            "right": null,
            "justify_content": null,
            "_view_module": "@jupyter-widgets/base",
            "overflow": null,
            "_model_module_version": "1.2.0",
            "_view_count": null,
            "flex_flow": null,
            "width": null,
            "min_width": null,
            "border": null,
            "align_items": null,
            "bottom": null,
            "_model_module": "@jupyter-widgets/base",
            "top": null,
            "grid_column": null,
            "overflow_y": null,
            "overflow_x": null,
            "grid_auto_flow": null,
            "grid_area": null,
            "grid_template_columns": null,
            "flex": null,
            "_model_name": "LayoutModel",
            "justify_items": null,
            "grid_row": null,
            "max_height": null,
            "align_content": null,
            "visibility": null,
            "align_self": null,
            "height": null,
            "min_height": null,
            "padding": null,
            "grid_auto_rows": null,
            "grid_gap": null,
            "max_width": null,
            "order": null,
            "_view_module_version": "1.2.0",
            "grid_template_areas": null,
            "object_position": null,
            "object_fit": null,
            "grid_auto_columns": null,
            "margin": null,
            "display": null,
            "left": null
          }
        },
        "13e1b3397335422f9f99ac6d1ad8c0b5": {
          "model_module": "@jupyter-widgets/controls",
          "model_name": "HBoxModel",
          "model_module_version": "1.5.0",
          "state": {
            "_view_name": "HBoxView",
            "_dom_classes": [],
            "_model_name": "HBoxModel",
            "_view_module": "@jupyter-widgets/controls",
            "_model_module_version": "1.5.0",
            "_view_count": null,
            "_view_module_version": "1.5.0",
            "box_style": "",
            "layout": "IPY_MODEL_83e2befa42ed4147b5cc1e6e1b88f505",
            "_model_module": "@jupyter-widgets/controls",
            "children": [
              "IPY_MODEL_87c97c94c61945aaa4843db2508d6494",
              "IPY_MODEL_d7dd7830a5cf46fb86b0a0e7e1919fbd",
              "IPY_MODEL_7790c90af1d5477ca599a419888f5234"
            ]
          }
        },
        "83e2befa42ed4147b5cc1e6e1b88f505": {
          "model_module": "@jupyter-widgets/base",
          "model_name": "LayoutModel",
          "model_module_version": "1.2.0",
          "state": {
            "_view_name": "LayoutView",
            "grid_template_rows": null,
            "right": null,
            "justify_content": null,
            "_view_module": "@jupyter-widgets/base",
            "overflow": null,
            "_model_module_version": "1.2.0",
            "_view_count": null,
            "flex_flow": null,
            "width": null,
            "min_width": null,
            "border": null,
            "align_items": null,
            "bottom": null,
            "_model_module": "@jupyter-widgets/base",
            "top": null,
            "grid_column": null,
            "overflow_y": null,
            "overflow_x": null,
            "grid_auto_flow": null,
            "grid_area": null,
            "grid_template_columns": null,
            "flex": null,
            "_model_name": "LayoutModel",
            "justify_items": null,
            "grid_row": null,
            "max_height": null,
            "align_content": null,
            "visibility": null,
            "align_self": null,
            "height": null,
            "min_height": null,
            "padding": null,
            "grid_auto_rows": null,
            "grid_gap": null,
            "max_width": null,
            "order": null,
            "_view_module_version": "1.2.0",
            "grid_template_areas": null,
            "object_position": null,
            "object_fit": null,
            "grid_auto_columns": null,
            "margin": null,
            "display": null,
            "left": null
          }
        },
        "87c97c94c61945aaa4843db2508d6494": {
          "model_module": "@jupyter-widgets/controls",
          "model_name": "HTMLModel",
          "model_module_version": "1.5.0",
          "state": {
            "_view_name": "HTMLView",
            "style": "IPY_MODEL_cfc8d6933e134df999a08490fb773fae",
            "_dom_classes": [],
            "description": "",
            "_model_name": "HTMLModel",
            "placeholder": "​",
            "_view_module": "@jupyter-widgets/controls",
            "_model_module_version": "1.5.0",
            "value": "100%",
            "_view_count": null,
            "_view_module_version": "1.5.0",
            "description_tooltip": null,
            "_model_module": "@jupyter-widgets/controls",
            "layout": "IPY_MODEL_9119aad328a449769d0a969b298c4794"
          }
        },
        "d7dd7830a5cf46fb86b0a0e7e1919fbd": {
          "model_module": "@jupyter-widgets/controls",
          "model_name": "FloatProgressModel",
          "model_module_version": "1.5.0",
          "state": {
            "_view_name": "ProgressView",
            "style": "IPY_MODEL_f2680913ce9847cbbc67126767aa81eb",
            "_dom_classes": [],
            "description": "",
            "_model_name": "FloatProgressModel",
            "bar_style": "success",
            "max": 400,
            "_view_module": "@jupyter-widgets/controls",
            "_model_module_version": "1.5.0",
            "value": 400,
            "_view_count": null,
            "_view_module_version": "1.5.0",
            "orientation": "horizontal",
            "min": 0,
            "description_tooltip": null,
            "_model_module": "@jupyter-widgets/controls",
            "layout": "IPY_MODEL_aafe98cfbcb04ae08bd87a2c16807309"
          }
        },
        "7790c90af1d5477ca599a419888f5234": {
          "model_module": "@jupyter-widgets/controls",
          "model_name": "HTMLModel",
          "model_module_version": "1.5.0",
          "state": {
            "_view_name": "HTMLView",
            "style": "IPY_MODEL_80eb4a425dec437b9010178a2e5102b8",
            "_dom_classes": [],
            "description": "",
            "_model_name": "HTMLModel",
            "placeholder": "​",
            "_view_module": "@jupyter-widgets/controls",
            "_model_module_version": "1.5.0",
            "value": " 400/400 [00:06&lt;00:00, 60.86it/s]",
            "_view_count": null,
            "_view_module_version": "1.5.0",
            "description_tooltip": null,
            "_model_module": "@jupyter-widgets/controls",
            "layout": "IPY_MODEL_565dbaf3d83a489b867505026cf36e47"
          }
        },
        "cfc8d6933e134df999a08490fb773fae": {
          "model_module": "@jupyter-widgets/controls",
          "model_name": "DescriptionStyleModel",
          "model_module_version": "1.5.0",
          "state": {
            "_view_name": "StyleView",
            "_model_name": "DescriptionStyleModel",
            "description_width": "",
            "_view_module": "@jupyter-widgets/base",
            "_model_module_version": "1.5.0",
            "_view_count": null,
            "_view_module_version": "1.2.0",
            "_model_module": "@jupyter-widgets/controls"
          }
        },
        "9119aad328a449769d0a969b298c4794": {
          "model_module": "@jupyter-widgets/base",
          "model_name": "LayoutModel",
          "model_module_version": "1.2.0",
          "state": {
            "_view_name": "LayoutView",
            "grid_template_rows": null,
            "right": null,
            "justify_content": null,
            "_view_module": "@jupyter-widgets/base",
            "overflow": null,
            "_model_module_version": "1.2.0",
            "_view_count": null,
            "flex_flow": null,
            "width": null,
            "min_width": null,
            "border": null,
            "align_items": null,
            "bottom": null,
            "_model_module": "@jupyter-widgets/base",
            "top": null,
            "grid_column": null,
            "overflow_y": null,
            "overflow_x": null,
            "grid_auto_flow": null,
            "grid_area": null,
            "grid_template_columns": null,
            "flex": null,
            "_model_name": "LayoutModel",
            "justify_items": null,
            "grid_row": null,
            "max_height": null,
            "align_content": null,
            "visibility": null,
            "align_self": null,
            "height": null,
            "min_height": null,
            "padding": null,
            "grid_auto_rows": null,
            "grid_gap": null,
            "max_width": null,
            "order": null,
            "_view_module_version": "1.2.0",
            "grid_template_areas": null,
            "object_position": null,
            "object_fit": null,
            "grid_auto_columns": null,
            "margin": null,
            "display": null,
            "left": null
          }
        },
        "f2680913ce9847cbbc67126767aa81eb": {
          "model_module": "@jupyter-widgets/controls",
          "model_name": "ProgressStyleModel",
          "model_module_version": "1.5.0",
          "state": {
            "_view_name": "StyleView",
            "_model_name": "ProgressStyleModel",
            "description_width": "",
            "_view_module": "@jupyter-widgets/base",
            "_model_module_version": "1.5.0",
            "_view_count": null,
            "_view_module_version": "1.2.0",
            "bar_color": null,
            "_model_module": "@jupyter-widgets/controls"
          }
        },
        "aafe98cfbcb04ae08bd87a2c16807309": {
          "model_module": "@jupyter-widgets/base",
          "model_name": "LayoutModel",
          "model_module_version": "1.2.0",
          "state": {
            "_view_name": "LayoutView",
            "grid_template_rows": null,
            "right": null,
            "justify_content": null,
            "_view_module": "@jupyter-widgets/base",
            "overflow": null,
            "_model_module_version": "1.2.0",
            "_view_count": null,
            "flex_flow": null,
            "width": null,
            "min_width": null,
            "border": null,
            "align_items": null,
            "bottom": null,
            "_model_module": "@jupyter-widgets/base",
            "top": null,
            "grid_column": null,
            "overflow_y": null,
            "overflow_x": null,
            "grid_auto_flow": null,
            "grid_area": null,
            "grid_template_columns": null,
            "flex": null,
            "_model_name": "LayoutModel",
            "justify_items": null,
            "grid_row": null,
            "max_height": null,
            "align_content": null,
            "visibility": null,
            "align_self": null,
            "height": null,
            "min_height": null,
            "padding": null,
            "grid_auto_rows": null,
            "grid_gap": null,
            "max_width": null,
            "order": null,
            "_view_module_version": "1.2.0",
            "grid_template_areas": null,
            "object_position": null,
            "object_fit": null,
            "grid_auto_columns": null,
            "margin": null,
            "display": null,
            "left": null
          }
        },
        "80eb4a425dec437b9010178a2e5102b8": {
          "model_module": "@jupyter-widgets/controls",
          "model_name": "DescriptionStyleModel",
          "model_module_version": "1.5.0",
          "state": {
            "_view_name": "StyleView",
            "_model_name": "DescriptionStyleModel",
            "description_width": "",
            "_view_module": "@jupyter-widgets/base",
            "_model_module_version": "1.5.0",
            "_view_count": null,
            "_view_module_version": "1.2.0",
            "_model_module": "@jupyter-widgets/controls"
          }
        },
        "565dbaf3d83a489b867505026cf36e47": {
          "model_module": "@jupyter-widgets/base",
          "model_name": "LayoutModel",
          "model_module_version": "1.2.0",
          "state": {
            "_view_name": "LayoutView",
            "grid_template_rows": null,
            "right": null,
            "justify_content": null,
            "_view_module": "@jupyter-widgets/base",
            "overflow": null,
            "_model_module_version": "1.2.0",
            "_view_count": null,
            "flex_flow": null,
            "width": null,
            "min_width": null,
            "border": null,
            "align_items": null,
            "bottom": null,
            "_model_module": "@jupyter-widgets/base",
            "top": null,
            "grid_column": null,
            "overflow_y": null,
            "overflow_x": null,
            "grid_auto_flow": null,
            "grid_area": null,
            "grid_template_columns": null,
            "flex": null,
            "_model_name": "LayoutModel",
            "justify_items": null,
            "grid_row": null,
            "max_height": null,
            "align_content": null,
            "visibility": null,
            "align_self": null,
            "height": null,
            "min_height": null,
            "padding": null,
            "grid_auto_rows": null,
            "grid_gap": null,
            "max_width": null,
            "order": null,
            "_view_module_version": "1.2.0",
            "grid_template_areas": null,
            "object_position": null,
            "object_fit": null,
            "grid_auto_columns": null,
            "margin": null,
            "display": null,
            "left": null
          }
        },
        "97f747fc2fdb4a418458f6c045a68891": {
          "model_module": "@jupyter-widgets/controls",
          "model_name": "HBoxModel",
          "model_module_version": "1.5.0",
          "state": {
            "_view_name": "HBoxView",
            "_dom_classes": [],
            "_model_name": "HBoxModel",
            "_view_module": "@jupyter-widgets/controls",
            "_model_module_version": "1.5.0",
            "_view_count": null,
            "_view_module_version": "1.5.0",
            "box_style": "",
            "layout": "IPY_MODEL_8ba3dc899ad648a7808734bed62b8b80",
            "_model_module": "@jupyter-widgets/controls",
            "children": [
              "IPY_MODEL_fa4d22df88a14688962f9377a92ae95f",
              "IPY_MODEL_be5471732f5c42be90512215560d7442",
              "IPY_MODEL_1914b993490a42d99ec09f2f708de9ed"
            ]
          }
        },
        "8ba3dc899ad648a7808734bed62b8b80": {
          "model_module": "@jupyter-widgets/base",
          "model_name": "LayoutModel",
          "model_module_version": "1.2.0",
          "state": {
            "_view_name": "LayoutView",
            "grid_template_rows": null,
            "right": null,
            "justify_content": null,
            "_view_module": "@jupyter-widgets/base",
            "overflow": null,
            "_model_module_version": "1.2.0",
            "_view_count": null,
            "flex_flow": null,
            "width": null,
            "min_width": null,
            "border": null,
            "align_items": null,
            "bottom": null,
            "_model_module": "@jupyter-widgets/base",
            "top": null,
            "grid_column": null,
            "overflow_y": null,
            "overflow_x": null,
            "grid_auto_flow": null,
            "grid_area": null,
            "grid_template_columns": null,
            "flex": null,
            "_model_name": "LayoutModel",
            "justify_items": null,
            "grid_row": null,
            "max_height": null,
            "align_content": null,
            "visibility": null,
            "align_self": null,
            "height": null,
            "min_height": null,
            "padding": null,
            "grid_auto_rows": null,
            "grid_gap": null,
            "max_width": null,
            "order": null,
            "_view_module_version": "1.2.0",
            "grid_template_areas": null,
            "object_position": null,
            "object_fit": null,
            "grid_auto_columns": null,
            "margin": null,
            "display": null,
            "left": null
          }
        },
        "fa4d22df88a14688962f9377a92ae95f": {
          "model_module": "@jupyter-widgets/controls",
          "model_name": "HTMLModel",
          "model_module_version": "1.5.0",
          "state": {
            "_view_name": "HTMLView",
            "style": "IPY_MODEL_0ee019eb63c24e8e8adcb0188060959d",
            "_dom_classes": [],
            "description": "",
            "_model_name": "HTMLModel",
            "placeholder": "​",
            "_view_module": "@jupyter-widgets/controls",
            "_model_module_version": "1.5.0",
            "value": "100%",
            "_view_count": null,
            "_view_module_version": "1.5.0",
            "description_tooltip": null,
            "_model_module": "@jupyter-widgets/controls",
            "layout": "IPY_MODEL_dfa55cf961734763bc67a99a02bd9a5c"
          }
        },
        "be5471732f5c42be90512215560d7442": {
          "model_module": "@jupyter-widgets/controls",
          "model_name": "FloatProgressModel",
          "model_module_version": "1.5.0",
          "state": {
            "_view_name": "ProgressView",
            "style": "IPY_MODEL_f7114cff2963498c9220fa4e9663c2f4",
            "_dom_classes": [],
            "description": "",
            "_model_name": "FloatProgressModel",
            "bar_style": "success",
            "max": 400,
            "_view_module": "@jupyter-widgets/controls",
            "_model_module_version": "1.5.0",
            "value": 400,
            "_view_count": null,
            "_view_module_version": "1.5.0",
            "orientation": "horizontal",
            "min": 0,
            "description_tooltip": null,
            "_model_module": "@jupyter-widgets/controls",
            "layout": "IPY_MODEL_998b4924bbf34954a5f1972e31bf6eb0"
          }
        },
        "1914b993490a42d99ec09f2f708de9ed": {
          "model_module": "@jupyter-widgets/controls",
          "model_name": "HTMLModel",
          "model_module_version": "1.5.0",
          "state": {
            "_view_name": "HTMLView",
            "style": "IPY_MODEL_8a8445d3484d46d48efd33b4446080e3",
            "_dom_classes": [],
            "description": "",
            "_model_name": "HTMLModel",
            "placeholder": "​",
            "_view_module": "@jupyter-widgets/controls",
            "_model_module_version": "1.5.0",
            "value": " 400/400 [00:06&lt;00:00, 61.18it/s]",
            "_view_count": null,
            "_view_module_version": "1.5.0",
            "description_tooltip": null,
            "_model_module": "@jupyter-widgets/controls",
            "layout": "IPY_MODEL_71f1e525fb6146f095b73569933cf807"
          }
        },
        "0ee019eb63c24e8e8adcb0188060959d": {
          "model_module": "@jupyter-widgets/controls",
          "model_name": "DescriptionStyleModel",
          "model_module_version": "1.5.0",
          "state": {
            "_view_name": "StyleView",
            "_model_name": "DescriptionStyleModel",
            "description_width": "",
            "_view_module": "@jupyter-widgets/base",
            "_model_module_version": "1.5.0",
            "_view_count": null,
            "_view_module_version": "1.2.0",
            "_model_module": "@jupyter-widgets/controls"
          }
        },
        "dfa55cf961734763bc67a99a02bd9a5c": {
          "model_module": "@jupyter-widgets/base",
          "model_name": "LayoutModel",
          "model_module_version": "1.2.0",
          "state": {
            "_view_name": "LayoutView",
            "grid_template_rows": null,
            "right": null,
            "justify_content": null,
            "_view_module": "@jupyter-widgets/base",
            "overflow": null,
            "_model_module_version": "1.2.0",
            "_view_count": null,
            "flex_flow": null,
            "width": null,
            "min_width": null,
            "border": null,
            "align_items": null,
            "bottom": null,
            "_model_module": "@jupyter-widgets/base",
            "top": null,
            "grid_column": null,
            "overflow_y": null,
            "overflow_x": null,
            "grid_auto_flow": null,
            "grid_area": null,
            "grid_template_columns": null,
            "flex": null,
            "_model_name": "LayoutModel",
            "justify_items": null,
            "grid_row": null,
            "max_height": null,
            "align_content": null,
            "visibility": null,
            "align_self": null,
            "height": null,
            "min_height": null,
            "padding": null,
            "grid_auto_rows": null,
            "grid_gap": null,
            "max_width": null,
            "order": null,
            "_view_module_version": "1.2.0",
            "grid_template_areas": null,
            "object_position": null,
            "object_fit": null,
            "grid_auto_columns": null,
            "margin": null,
            "display": null,
            "left": null
          }
        },
        "f7114cff2963498c9220fa4e9663c2f4": {
          "model_module": "@jupyter-widgets/controls",
          "model_name": "ProgressStyleModel",
          "model_module_version": "1.5.0",
          "state": {
            "_view_name": "StyleView",
            "_model_name": "ProgressStyleModel",
            "description_width": "",
            "_view_module": "@jupyter-widgets/base",
            "_model_module_version": "1.5.0",
            "_view_count": null,
            "_view_module_version": "1.2.0",
            "bar_color": null,
            "_model_module": "@jupyter-widgets/controls"
          }
        },
        "998b4924bbf34954a5f1972e31bf6eb0": {
          "model_module": "@jupyter-widgets/base",
          "model_name": "LayoutModel",
          "model_module_version": "1.2.0",
          "state": {
            "_view_name": "LayoutView",
            "grid_template_rows": null,
            "right": null,
            "justify_content": null,
            "_view_module": "@jupyter-widgets/base",
            "overflow": null,
            "_model_module_version": "1.2.0",
            "_view_count": null,
            "flex_flow": null,
            "width": null,
            "min_width": null,
            "border": null,
            "align_items": null,
            "bottom": null,
            "_model_module": "@jupyter-widgets/base",
            "top": null,
            "grid_column": null,
            "overflow_y": null,
            "overflow_x": null,
            "grid_auto_flow": null,
            "grid_area": null,
            "grid_template_columns": null,
            "flex": null,
            "_model_name": "LayoutModel",
            "justify_items": null,
            "grid_row": null,
            "max_height": null,
            "align_content": null,
            "visibility": null,
            "align_self": null,
            "height": null,
            "min_height": null,
            "padding": null,
            "grid_auto_rows": null,
            "grid_gap": null,
            "max_width": null,
            "order": null,
            "_view_module_version": "1.2.0",
            "grid_template_areas": null,
            "object_position": null,
            "object_fit": null,
            "grid_auto_columns": null,
            "margin": null,
            "display": null,
            "left": null
          }
        },
        "8a8445d3484d46d48efd33b4446080e3": {
          "model_module": "@jupyter-widgets/controls",
          "model_name": "DescriptionStyleModel",
          "model_module_version": "1.5.0",
          "state": {
            "_view_name": "StyleView",
            "_model_name": "DescriptionStyleModel",
            "description_width": "",
            "_view_module": "@jupyter-widgets/base",
            "_model_module_version": "1.5.0",
            "_view_count": null,
            "_view_module_version": "1.2.0",
            "_model_module": "@jupyter-widgets/controls"
          }
        },
        "71f1e525fb6146f095b73569933cf807": {
          "model_module": "@jupyter-widgets/base",
          "model_name": "LayoutModel",
          "model_module_version": "1.2.0",
          "state": {
            "_view_name": "LayoutView",
            "grid_template_rows": null,
            "right": null,
            "justify_content": null,
            "_view_module": "@jupyter-widgets/base",
            "overflow": null,
            "_model_module_version": "1.2.0",
            "_view_count": null,
            "flex_flow": null,
            "width": null,
            "min_width": null,
            "border": null,
            "align_items": null,
            "bottom": null,
            "_model_module": "@jupyter-widgets/base",
            "top": null,
            "grid_column": null,
            "overflow_y": null,
            "overflow_x": null,
            "grid_auto_flow": null,
            "grid_area": null,
            "grid_template_columns": null,
            "flex": null,
            "_model_name": "LayoutModel",
            "justify_items": null,
            "grid_row": null,
            "max_height": null,
            "align_content": null,
            "visibility": null,
            "align_self": null,
            "height": null,
            "min_height": null,
            "padding": null,
            "grid_auto_rows": null,
            "grid_gap": null,
            "max_width": null,
            "order": null,
            "_view_module_version": "1.2.0",
            "grid_template_areas": null,
            "object_position": null,
            "object_fit": null,
            "grid_auto_columns": null,
            "margin": null,
            "display": null,
            "left": null
          }
        },
        "edfaa880a4f8473491e1c2785fc8a3f9": {
          "model_module": "@jupyter-widgets/controls",
          "model_name": "HBoxModel",
          "model_module_version": "1.5.0",
          "state": {
            "_view_name": "HBoxView",
            "_dom_classes": [],
            "_model_name": "HBoxModel",
            "_view_module": "@jupyter-widgets/controls",
            "_model_module_version": "1.5.0",
            "_view_count": null,
            "_view_module_version": "1.5.0",
            "box_style": "",
            "layout": "IPY_MODEL_092760a88b0c4234b8662ca369fe2d77",
            "_model_module": "@jupyter-widgets/controls",
            "children": [
              "IPY_MODEL_093fe3e5506c4351a50feb685b079514",
              "IPY_MODEL_add450e77de84a99b88b0c19c26bb07f",
              "IPY_MODEL_c40f7b2fc9ea4416ad12a9c167be7b2c"
            ]
          }
        },
        "092760a88b0c4234b8662ca369fe2d77": {
          "model_module": "@jupyter-widgets/base",
          "model_name": "LayoutModel",
          "model_module_version": "1.2.0",
          "state": {
            "_view_name": "LayoutView",
            "grid_template_rows": null,
            "right": null,
            "justify_content": null,
            "_view_module": "@jupyter-widgets/base",
            "overflow": null,
            "_model_module_version": "1.2.0",
            "_view_count": null,
            "flex_flow": null,
            "width": null,
            "min_width": null,
            "border": null,
            "align_items": null,
            "bottom": null,
            "_model_module": "@jupyter-widgets/base",
            "top": null,
            "grid_column": null,
            "overflow_y": null,
            "overflow_x": null,
            "grid_auto_flow": null,
            "grid_area": null,
            "grid_template_columns": null,
            "flex": null,
            "_model_name": "LayoutModel",
            "justify_items": null,
            "grid_row": null,
            "max_height": null,
            "align_content": null,
            "visibility": null,
            "align_self": null,
            "height": null,
            "min_height": null,
            "padding": null,
            "grid_auto_rows": null,
            "grid_gap": null,
            "max_width": null,
            "order": null,
            "_view_module_version": "1.2.0",
            "grid_template_areas": null,
            "object_position": null,
            "object_fit": null,
            "grid_auto_columns": null,
            "margin": null,
            "display": null,
            "left": null
          }
        },
        "093fe3e5506c4351a50feb685b079514": {
          "model_module": "@jupyter-widgets/controls",
          "model_name": "HTMLModel",
          "model_module_version": "1.5.0",
          "state": {
            "_view_name": "HTMLView",
            "style": "IPY_MODEL_4d9b0c9366034933927d7ed95b79509a",
            "_dom_classes": [],
            "description": "",
            "_model_name": "HTMLModel",
            "placeholder": "​",
            "_view_module": "@jupyter-widgets/controls",
            "_model_module_version": "1.5.0",
            "value": "100%",
            "_view_count": null,
            "_view_module_version": "1.5.0",
            "description_tooltip": null,
            "_model_module": "@jupyter-widgets/controls",
            "layout": "IPY_MODEL_4e51748361634ee6bb36f5b4cf5d4d41"
          }
        },
        "add450e77de84a99b88b0c19c26bb07f": {
          "model_module": "@jupyter-widgets/controls",
          "model_name": "FloatProgressModel",
          "model_module_version": "1.5.0",
          "state": {
            "_view_name": "ProgressView",
            "style": "IPY_MODEL_707c396b19b3423bac65f29a1ab015fc",
            "_dom_classes": [],
            "description": "",
            "_model_name": "FloatProgressModel",
            "bar_style": "success",
            "max": 400,
            "_view_module": "@jupyter-widgets/controls",
            "_model_module_version": "1.5.0",
            "value": 400,
            "_view_count": null,
            "_view_module_version": "1.5.0",
            "orientation": "horizontal",
            "min": 0,
            "description_tooltip": null,
            "_model_module": "@jupyter-widgets/controls",
            "layout": "IPY_MODEL_1185444817ad4e80b7f3e50328bd4f5f"
          }
        },
        "c40f7b2fc9ea4416ad12a9c167be7b2c": {
          "model_module": "@jupyter-widgets/controls",
          "model_name": "HTMLModel",
          "model_module_version": "1.5.0",
          "state": {
            "_view_name": "HTMLView",
            "style": "IPY_MODEL_bcc20fb76a03489d90d563dcb1bfe974",
            "_dom_classes": [],
            "description": "",
            "_model_name": "HTMLModel",
            "placeholder": "​",
            "_view_module": "@jupyter-widgets/controls",
            "_model_module_version": "1.5.0",
            "value": " 400/400 [00:06&lt;00:00, 61.33it/s]",
            "_view_count": null,
            "_view_module_version": "1.5.0",
            "description_tooltip": null,
            "_model_module": "@jupyter-widgets/controls",
            "layout": "IPY_MODEL_bd4af8ef47ea40f693da116fb2c613bb"
          }
        },
        "4d9b0c9366034933927d7ed95b79509a": {
          "model_module": "@jupyter-widgets/controls",
          "model_name": "DescriptionStyleModel",
          "model_module_version": "1.5.0",
          "state": {
            "_view_name": "StyleView",
            "_model_name": "DescriptionStyleModel",
            "description_width": "",
            "_view_module": "@jupyter-widgets/base",
            "_model_module_version": "1.5.0",
            "_view_count": null,
            "_view_module_version": "1.2.0",
            "_model_module": "@jupyter-widgets/controls"
          }
        },
        "4e51748361634ee6bb36f5b4cf5d4d41": {
          "model_module": "@jupyter-widgets/base",
          "model_name": "LayoutModel",
          "model_module_version": "1.2.0",
          "state": {
            "_view_name": "LayoutView",
            "grid_template_rows": null,
            "right": null,
            "justify_content": null,
            "_view_module": "@jupyter-widgets/base",
            "overflow": null,
            "_model_module_version": "1.2.0",
            "_view_count": null,
            "flex_flow": null,
            "width": null,
            "min_width": null,
            "border": null,
            "align_items": null,
            "bottom": null,
            "_model_module": "@jupyter-widgets/base",
            "top": null,
            "grid_column": null,
            "overflow_y": null,
            "overflow_x": null,
            "grid_auto_flow": null,
            "grid_area": null,
            "grid_template_columns": null,
            "flex": null,
            "_model_name": "LayoutModel",
            "justify_items": null,
            "grid_row": null,
            "max_height": null,
            "align_content": null,
            "visibility": null,
            "align_self": null,
            "height": null,
            "min_height": null,
            "padding": null,
            "grid_auto_rows": null,
            "grid_gap": null,
            "max_width": null,
            "order": null,
            "_view_module_version": "1.2.0",
            "grid_template_areas": null,
            "object_position": null,
            "object_fit": null,
            "grid_auto_columns": null,
            "margin": null,
            "display": null,
            "left": null
          }
        },
        "707c396b19b3423bac65f29a1ab015fc": {
          "model_module": "@jupyter-widgets/controls",
          "model_name": "ProgressStyleModel",
          "model_module_version": "1.5.0",
          "state": {
            "_view_name": "StyleView",
            "_model_name": "ProgressStyleModel",
            "description_width": "",
            "_view_module": "@jupyter-widgets/base",
            "_model_module_version": "1.5.0",
            "_view_count": null,
            "_view_module_version": "1.2.0",
            "bar_color": null,
            "_model_module": "@jupyter-widgets/controls"
          }
        },
        "1185444817ad4e80b7f3e50328bd4f5f": {
          "model_module": "@jupyter-widgets/base",
          "model_name": "LayoutModel",
          "model_module_version": "1.2.0",
          "state": {
            "_view_name": "LayoutView",
            "grid_template_rows": null,
            "right": null,
            "justify_content": null,
            "_view_module": "@jupyter-widgets/base",
            "overflow": null,
            "_model_module_version": "1.2.0",
            "_view_count": null,
            "flex_flow": null,
            "width": null,
            "min_width": null,
            "border": null,
            "align_items": null,
            "bottom": null,
            "_model_module": "@jupyter-widgets/base",
            "top": null,
            "grid_column": null,
            "overflow_y": null,
            "overflow_x": null,
            "grid_auto_flow": null,
            "grid_area": null,
            "grid_template_columns": null,
            "flex": null,
            "_model_name": "LayoutModel",
            "justify_items": null,
            "grid_row": null,
            "max_height": null,
            "align_content": null,
            "visibility": null,
            "align_self": null,
            "height": null,
            "min_height": null,
            "padding": null,
            "grid_auto_rows": null,
            "grid_gap": null,
            "max_width": null,
            "order": null,
            "_view_module_version": "1.2.0",
            "grid_template_areas": null,
            "object_position": null,
            "object_fit": null,
            "grid_auto_columns": null,
            "margin": null,
            "display": null,
            "left": null
          }
        },
        "bcc20fb76a03489d90d563dcb1bfe974": {
          "model_module": "@jupyter-widgets/controls",
          "model_name": "DescriptionStyleModel",
          "model_module_version": "1.5.0",
          "state": {
            "_view_name": "StyleView",
            "_model_name": "DescriptionStyleModel",
            "description_width": "",
            "_view_module": "@jupyter-widgets/base",
            "_model_module_version": "1.5.0",
            "_view_count": null,
            "_view_module_version": "1.2.0",
            "_model_module": "@jupyter-widgets/controls"
          }
        },
        "bd4af8ef47ea40f693da116fb2c613bb": {
          "model_module": "@jupyter-widgets/base",
          "model_name": "LayoutModel",
          "model_module_version": "1.2.0",
          "state": {
            "_view_name": "LayoutView",
            "grid_template_rows": null,
            "right": null,
            "justify_content": null,
            "_view_module": "@jupyter-widgets/base",
            "overflow": null,
            "_model_module_version": "1.2.0",
            "_view_count": null,
            "flex_flow": null,
            "width": null,
            "min_width": null,
            "border": null,
            "align_items": null,
            "bottom": null,
            "_model_module": "@jupyter-widgets/base",
            "top": null,
            "grid_column": null,
            "overflow_y": null,
            "overflow_x": null,
            "grid_auto_flow": null,
            "grid_area": null,
            "grid_template_columns": null,
            "flex": null,
            "_model_name": "LayoutModel",
            "justify_items": null,
            "grid_row": null,
            "max_height": null,
            "align_content": null,
            "visibility": null,
            "align_self": null,
            "height": null,
            "min_height": null,
            "padding": null,
            "grid_auto_rows": null,
            "grid_gap": null,
            "max_width": null,
            "order": null,
            "_view_module_version": "1.2.0",
            "grid_template_areas": null,
            "object_position": null,
            "object_fit": null,
            "grid_auto_columns": null,
            "margin": null,
            "display": null,
            "left": null
          }
        },
        "5a4ea38e9a7a4da2aaf0796dad94b19a": {
          "model_module": "@jupyter-widgets/controls",
          "model_name": "HBoxModel",
          "model_module_version": "1.5.0",
          "state": {
            "_view_name": "HBoxView",
            "_dom_classes": [],
            "_model_name": "HBoxModel",
            "_view_module": "@jupyter-widgets/controls",
            "_model_module_version": "1.5.0",
            "_view_count": null,
            "_view_module_version": "1.5.0",
            "box_style": "",
            "layout": "IPY_MODEL_3f368bc44643469199f00a83d1fc658a",
            "_model_module": "@jupyter-widgets/controls",
            "children": [
              "IPY_MODEL_14fa65694d2244e2a12a4ee0a9f6105c",
              "IPY_MODEL_cc4717a60075438484226f5e0a8d375f",
              "IPY_MODEL_d06abf5383fa4856a0f56311460ba823"
            ]
          }
        },
        "3f368bc44643469199f00a83d1fc658a": {
          "model_module": "@jupyter-widgets/base",
          "model_name": "LayoutModel",
          "model_module_version": "1.2.0",
          "state": {
            "_view_name": "LayoutView",
            "grid_template_rows": null,
            "right": null,
            "justify_content": null,
            "_view_module": "@jupyter-widgets/base",
            "overflow": null,
            "_model_module_version": "1.2.0",
            "_view_count": null,
            "flex_flow": null,
            "width": null,
            "min_width": null,
            "border": null,
            "align_items": null,
            "bottom": null,
            "_model_module": "@jupyter-widgets/base",
            "top": null,
            "grid_column": null,
            "overflow_y": null,
            "overflow_x": null,
            "grid_auto_flow": null,
            "grid_area": null,
            "grid_template_columns": null,
            "flex": null,
            "_model_name": "LayoutModel",
            "justify_items": null,
            "grid_row": null,
            "max_height": null,
            "align_content": null,
            "visibility": null,
            "align_self": null,
            "height": null,
            "min_height": null,
            "padding": null,
            "grid_auto_rows": null,
            "grid_gap": null,
            "max_width": null,
            "order": null,
            "_view_module_version": "1.2.0",
            "grid_template_areas": null,
            "object_position": null,
            "object_fit": null,
            "grid_auto_columns": null,
            "margin": null,
            "display": null,
            "left": null
          }
        },
        "14fa65694d2244e2a12a4ee0a9f6105c": {
          "model_module": "@jupyter-widgets/controls",
          "model_name": "HTMLModel",
          "model_module_version": "1.5.0",
          "state": {
            "_view_name": "HTMLView",
            "style": "IPY_MODEL_a43f69c8256b44c7936ba3d3c728cc87",
            "_dom_classes": [],
            "description": "",
            "_model_name": "HTMLModel",
            "placeholder": "​",
            "_view_module": "@jupyter-widgets/controls",
            "_model_module_version": "1.5.0",
            "value": "100%",
            "_view_count": null,
            "_view_module_version": "1.5.0",
            "description_tooltip": null,
            "_model_module": "@jupyter-widgets/controls",
            "layout": "IPY_MODEL_7f7ffa90cde1442c94deaba0bc464d15"
          }
        },
        "cc4717a60075438484226f5e0a8d375f": {
          "model_module": "@jupyter-widgets/controls",
          "model_name": "FloatProgressModel",
          "model_module_version": "1.5.0",
          "state": {
            "_view_name": "ProgressView",
            "style": "IPY_MODEL_f5c5c23bff38475e8f9a0d8e4f0667a5",
            "_dom_classes": [],
            "description": "",
            "_model_name": "FloatProgressModel",
            "bar_style": "success",
            "max": 400,
            "_view_module": "@jupyter-widgets/controls",
            "_model_module_version": "1.5.0",
            "value": 400,
            "_view_count": null,
            "_view_module_version": "1.5.0",
            "orientation": "horizontal",
            "min": 0,
            "description_tooltip": null,
            "_model_module": "@jupyter-widgets/controls",
            "layout": "IPY_MODEL_256d7a9ebc6540108097fff60ca57462"
          }
        },
        "d06abf5383fa4856a0f56311460ba823": {
          "model_module": "@jupyter-widgets/controls",
          "model_name": "HTMLModel",
          "model_module_version": "1.5.0",
          "state": {
            "_view_name": "HTMLView",
            "style": "IPY_MODEL_d28ac563e8514bec90f7acf3b555413f",
            "_dom_classes": [],
            "description": "",
            "_model_name": "HTMLModel",
            "placeholder": "​",
            "_view_module": "@jupyter-widgets/controls",
            "_model_module_version": "1.5.0",
            "value": " 400/400 [00:06&lt;00:00, 60.02it/s]",
            "_view_count": null,
            "_view_module_version": "1.5.0",
            "description_tooltip": null,
            "_model_module": "@jupyter-widgets/controls",
            "layout": "IPY_MODEL_a57f7c770679453bbdaaca0fa8e57a27"
          }
        },
        "a43f69c8256b44c7936ba3d3c728cc87": {
          "model_module": "@jupyter-widgets/controls",
          "model_name": "DescriptionStyleModel",
          "model_module_version": "1.5.0",
          "state": {
            "_view_name": "StyleView",
            "_model_name": "DescriptionStyleModel",
            "description_width": "",
            "_view_module": "@jupyter-widgets/base",
            "_model_module_version": "1.5.0",
            "_view_count": null,
            "_view_module_version": "1.2.0",
            "_model_module": "@jupyter-widgets/controls"
          }
        },
        "7f7ffa90cde1442c94deaba0bc464d15": {
          "model_module": "@jupyter-widgets/base",
          "model_name": "LayoutModel",
          "model_module_version": "1.2.0",
          "state": {
            "_view_name": "LayoutView",
            "grid_template_rows": null,
            "right": null,
            "justify_content": null,
            "_view_module": "@jupyter-widgets/base",
            "overflow": null,
            "_model_module_version": "1.2.0",
            "_view_count": null,
            "flex_flow": null,
            "width": null,
            "min_width": null,
            "border": null,
            "align_items": null,
            "bottom": null,
            "_model_module": "@jupyter-widgets/base",
            "top": null,
            "grid_column": null,
            "overflow_y": null,
            "overflow_x": null,
            "grid_auto_flow": null,
            "grid_area": null,
            "grid_template_columns": null,
            "flex": null,
            "_model_name": "LayoutModel",
            "justify_items": null,
            "grid_row": null,
            "max_height": null,
            "align_content": null,
            "visibility": null,
            "align_self": null,
            "height": null,
            "min_height": null,
            "padding": null,
            "grid_auto_rows": null,
            "grid_gap": null,
            "max_width": null,
            "order": null,
            "_view_module_version": "1.2.0",
            "grid_template_areas": null,
            "object_position": null,
            "object_fit": null,
            "grid_auto_columns": null,
            "margin": null,
            "display": null,
            "left": null
          }
        },
        "f5c5c23bff38475e8f9a0d8e4f0667a5": {
          "model_module": "@jupyter-widgets/controls",
          "model_name": "ProgressStyleModel",
          "model_module_version": "1.5.0",
          "state": {
            "_view_name": "StyleView",
            "_model_name": "ProgressStyleModel",
            "description_width": "",
            "_view_module": "@jupyter-widgets/base",
            "_model_module_version": "1.5.0",
            "_view_count": null,
            "_view_module_version": "1.2.0",
            "bar_color": null,
            "_model_module": "@jupyter-widgets/controls"
          }
        },
        "256d7a9ebc6540108097fff60ca57462": {
          "model_module": "@jupyter-widgets/base",
          "model_name": "LayoutModel",
          "model_module_version": "1.2.0",
          "state": {
            "_view_name": "LayoutView",
            "grid_template_rows": null,
            "right": null,
            "justify_content": null,
            "_view_module": "@jupyter-widgets/base",
            "overflow": null,
            "_model_module_version": "1.2.0",
            "_view_count": null,
            "flex_flow": null,
            "width": null,
            "min_width": null,
            "border": null,
            "align_items": null,
            "bottom": null,
            "_model_module": "@jupyter-widgets/base",
            "top": null,
            "grid_column": null,
            "overflow_y": null,
            "overflow_x": null,
            "grid_auto_flow": null,
            "grid_area": null,
            "grid_template_columns": null,
            "flex": null,
            "_model_name": "LayoutModel",
            "justify_items": null,
            "grid_row": null,
            "max_height": null,
            "align_content": null,
            "visibility": null,
            "align_self": null,
            "height": null,
            "min_height": null,
            "padding": null,
            "grid_auto_rows": null,
            "grid_gap": null,
            "max_width": null,
            "order": null,
            "_view_module_version": "1.2.0",
            "grid_template_areas": null,
            "object_position": null,
            "object_fit": null,
            "grid_auto_columns": null,
            "margin": null,
            "display": null,
            "left": null
          }
        },
        "d28ac563e8514bec90f7acf3b555413f": {
          "model_module": "@jupyter-widgets/controls",
          "model_name": "DescriptionStyleModel",
          "model_module_version": "1.5.0",
          "state": {
            "_view_name": "StyleView",
            "_model_name": "DescriptionStyleModel",
            "description_width": "",
            "_view_module": "@jupyter-widgets/base",
            "_model_module_version": "1.5.0",
            "_view_count": null,
            "_view_module_version": "1.2.0",
            "_model_module": "@jupyter-widgets/controls"
          }
        },
        "a57f7c770679453bbdaaca0fa8e57a27": {
          "model_module": "@jupyter-widgets/base",
          "model_name": "LayoutModel",
          "model_module_version": "1.2.0",
          "state": {
            "_view_name": "LayoutView",
            "grid_template_rows": null,
            "right": null,
            "justify_content": null,
            "_view_module": "@jupyter-widgets/base",
            "overflow": null,
            "_model_module_version": "1.2.0",
            "_view_count": null,
            "flex_flow": null,
            "width": null,
            "min_width": null,
            "border": null,
            "align_items": null,
            "bottom": null,
            "_model_module": "@jupyter-widgets/base",
            "top": null,
            "grid_column": null,
            "overflow_y": null,
            "overflow_x": null,
            "grid_auto_flow": null,
            "grid_area": null,
            "grid_template_columns": null,
            "flex": null,
            "_model_name": "LayoutModel",
            "justify_items": null,
            "grid_row": null,
            "max_height": null,
            "align_content": null,
            "visibility": null,
            "align_self": null,
            "height": null,
            "min_height": null,
            "padding": null,
            "grid_auto_rows": null,
            "grid_gap": null,
            "max_width": null,
            "order": null,
            "_view_module_version": "1.2.0",
            "grid_template_areas": null,
            "object_position": null,
            "object_fit": null,
            "grid_auto_columns": null,
            "margin": null,
            "display": null,
            "left": null
          }
        }
      }
    }
  },
  "cells": [
    {
      "cell_type": "markdown",
      "metadata": {
        "id": "Q4UFm0qpMnN4"
      },
      "source": [
        "## Burgers' equation"
      ]
    },
    {
      "cell_type": "markdown",
      "metadata": {
        "id": "kxXxCPbIPnjF"
      },
      "source": [
        "Burgers' equation is a fundamental partial differential equation occurring in various areas of applied mathematics, such as fluid mechanics, nonlinear acoustics, gas dynamics, and traffic flow."
      ]
    },
    {
      "cell_type": "markdown",
      "metadata": {
        "id": "WMnKX98gcqym"
      },
      "source": [
        "$u_t + u\\cdot u_x = ν \\cdot u_{xx}$, where $\\nu$ is a *kinematic viscosity*"
      ]
    },
    {
      "cell_type": "markdown",
      "metadata": {
        "id": "ffqzRNr6OQXT"
      },
      "source": [
        "### Numerical Solution:"
      ]
    },
    {
      "cell_type": "markdown",
      "metadata": {
        "id": "LdaDLHSJNwzU"
      },
      "source": [
        "![Screenshot 2021-10-26 at 09-08-25 Solving one- and two-dimensional unsteady Burgers' equation using fully implicit finite d[...].png](data:image/png;base64,iVBORw0KGgoAAAANSUhEUgAAAhwAAAAsCAYAAAAuG2H4AAAPZUlEQVR4nO3d7VMT19sH8N//dCEICBm1LR3Fgo0YKsTQQeVBARUKCla0qClIwTYgUi2Kiiji+MBYQFCcQsU2gFQrSkFUUKACgoYaICTf+wWTvVnyACGJIXB9ZniRPdnNIR6X7549e87/wBhjjDHmZP9zdQUYY4wxtvhx4GCMMcaY03HgYIwxxpjTceBgjDHGmNNx4GCMMcaY03HgYIwxxpjTceBgjDHGmNNx4GCMMcaY03HgYIwxxpjTceBgi5JGo0FDQwMUCgU0Go2rq7OoTE5OoqenB8ePH0d+fr6rq7OocLtlixkHDuaWKioqLJZ1dHTgwIEDOHjwIIiIT9w2GhwcxL179yyWFxQUQKVSITAwENnZ2R+xZu6P2y1byjhwMLd06NChWd9z7949PnHPQ1dXFy5cuDDr+xQKBQcOG3G7ZUsZBw7mUi9fvsThw4exdetWtLe3Q6lUQqlUIjExEaOjoxb3y8jImPXYfOIGLly4gKioKNy8eRMlJSU4duwY4uPjUVlZaXGfzs5ODhyz4HbLmO04cDCXysrKwvj4OLy9vZGQkIDJyUkAwJo1a1BXV2dxP3c/cWu1WuTl5UEulyMwMBA7duzAixcvHPoZ3d3dOHfuHIqKiuDt7Q21Wg0AuHbtGkJDQy3ux4Fjdku13c5UX1+P0NBQyOVyXL582dXVYQscBw7mUnV1dfjnn39ARBgYGAAA4UTe0tJicT9bTtzv3793WH0dYXR0FJGRkaioqIBer4der0d2djaCg4Oh0+kc9jl///033rx5g8TERBw5ckTYXlhYiKioKIv72RI4jh496pC6upul2G5n6urqgo+PDyoqKhAYGAhfX19XV4ktcBw4mMuVlpZi48aNwut79+7Bz88P4+PjAID29nZkZGSIfr788kuTbVVVVaLjGk/c7969s7uOarUaQ0NDdh8HAFJSUnD37l3RtgcPHoCI8OTJE4d8hpHBYMDq1atRW1srbFMoFCgqKhJenzx5UvQ9JiUlQaFQmHy/Hz58EB3bUYFjYmICt2/ftvs4H5s7tFtnyszMBBGhra0NHh4eSEtLc3WV2ALHgYO5XHJyMpRKpfA6PT0d+/btw/v37/Hw4UOz+9hypTgyMmJ3HZVKJf744w+7j9PY2Ii9e/eabL9586ZTAkdnZyeICIODgwCA169fg4jQ09OD33//3eI+c+3hyMrKsruOb9++RWRkpN3H+djcod0609q1a7F+/XoAWPC9MWxh4MDBXO7TTz9FdXW18DogIAC3b9/G2bNn0dHRYXYfdw0c8fHxaG9vN9melpaGgIAAh95SAYDLly9DKpUKr69cuQKZTAatVovDhw+b3edjB46hoSG3DBzu0G6dZWBgAESElJQUV1eFuREOHAzA1NwLP/30E2QyGYKCgiCXy/Hbb7/ZfJzJyUkcPnwYUqkUCoUC/f39ovIrV65ApVIJr0dGRhAYGIjh4WFhm0qlQnJyMi5dumTxc6yduPv6+pCUlIRNmzZh+fLlkMvl2LNnj82/y3RHjhyxO3C8ffsW4eHhJttbW1vh6+trde4Lo4GBAcTFxeGLL75AamqqMFgRAPR6PY4ePSrqos/JycHp06eF193d3YiIiIBSqTT5tzGaLXAUFxdj165dkEgk+OSTT5CQkGDXLZHBwUG7AodGo4FSqcTKlSvh7+8PlUoFg8Egek96ejq0Wq3V45SXlwvt/88//xSVtbS0IDU1Vbhd4i7t1lkaGhpARDh58qSrq8LcCAcOhqamJnz22WfIyMiARqOBwWBAcXExPDw8hD+Czc3NoqBgSWFhIU6dOoXh4WEQEX788UehbGJiAr6+vti6davddZ7LlaIjOSJwVFdXIy8vDy0tLVi7di28vb0hlUqxatUqq4+pThcTE4OmpibU1NSAiNDQ0CCUtba2gohw4sQJu+o51x4OR7EncAwPDyM4OBgeHh4ICAgAEYGIUFxcLLynsbER+/fvt3octVqNhIQE6HQ6hISEYPPmzaLy2NhYeHl5CYFjvj52u3W09PR0eHp6Ct8zEcHT0xNyudzVVWNugAPHEtfd3Q0/Pz8kJyeLrgp1Oh38/f0REREBAPjuu+/Q1NQk2rejo0M0c+Lo6ChkMhn0er3QLTz9Csg4MHIuwWUu9f6YHBE4MjIyoFar8erVKxQUFCAnJwdlZWVQKBRzGnDX1NQk/OFUqVQgIjx48EAoP3nyJIgIjY2NdtVzbGzMYu+HM9gTOJKSkpCcnIx///0XwNTtmaysLKxcuRITExMAgLi4ODx79szqcaKiotDT0wONRoPly5cjOjpaKJuYmICPj4/wf8Eezmq3BoMBW7duhVQqndPPhg0bsGHDBshksnmNv0hNTQURobe31wm/DVusOHAscV9//TWICC9fvjQpUygUICL09/dDJpOZdFNnZmaKrti6urrw66+/Api6EiIiPH/+XCj/5ZdfQESor693zi/jRI4IHCEhIWavkG/fvg0iQmdnp9X979y5g8ePHwMA1q1bh4CAAOj1eqE8NjYWHh4ebjF/w3TzDRw9PT0IDw8XfQfA1K2lyMhI1NfX49mzZ0hMTLR6nMnJSRQUFACYmnqciERzShh7jnJzc22u42IllUohkUhcXQ3mZjhwLGFdXV0gIshkMrPlCQkJICLs27fPpkl9JiYm4O/vj6+++kq0fceOHQv6cb9Xr15ZvCKUSCRYs2aN2bLZ/qABQG9vL2JjY82WqdVqEBFu3rwp2l5aWoq+vj6T9z98+BBEJJp0S6fTYcWKFVYn9HK1nJwcs99fUFAQfHx8LH731oLef//9Z3Z7eXk5cnNzkZGRgb/++ktUNrNnbrrt27fD09NTNDbj9OnTICKrE3otJWNjY1i2bBm2bNlitnx4eBjFxcWi8UWMARw4lrSzZ8+CiCw+aZCSkgIiQlhYmMlVpDX37983GUswOTkJPz8/0bwF0y30k5S9PRzXrl0TDd6crrS0FESE5uZmYVt/fz8+//xzs0875Ofng4iEmUOBqUm+iAiZmZlmP+Pu3bui4y8k9g4aNaejowPh4eFQKBQmZTN75oy0Wi28vLxMxhjFx8eDiEQhxGiht1tnePLkCYjI4hwsNTU1kMlkdo93YYsPB44lrKCgAESE8vJys+VpaWkgIpM/tG1tbUhPT8eWLVuE++TTnTp1ymQsQVtbG4hImLegqKhIdJJe6CcpewNHWlqaxf1jYmLg6+s761MU09/v6ekpev+5c+dARLh16xa0Wi3OnTsn2icsLAw3btyYd/0HBgZw9epV7Ny5c97HsMQZgePNmzcgIpSWls55H+MYo7y8PGGbXq+HRCIRHi2uqakR3Sa0t92OjY3h8ePH2LNnj123Gm0dwzF9LIetYzhu3LgBIsL169fnXV+2NHHgWMLq6+tBRDhz5oxJ2cjICEJDQ0FEoi5pg8GAxMREaLVa+Pj44NGjRyb7Hjt2DEQkujo3dktXVlZCo9G43ah2ewNHQECA2SdRGhsbQUS4evXqnI8ll8uxatUq0Tbj7aqBgQHU19fbvMaJtWXTq6qqkJWVhejoaJPbZI7gjMBhHPxpy1wWxv8PFy9eFLY9evQIRCSs8qpQKMz2dMzXnj17cOLECbe6ZZOdnQ0iwtOnT11dFeZmOHAsYTqdDmFhYdi0aRPGxsYAAB8+fMDVq1cRFhaGnJwcEBGqqqpQU1ODuro6jIyMQK1Wo7a2FqtXrzY7UZVxEGRZWRmAqUdqjY8s3r9/H+fPnze5Al/o7Akcz58/R1BQEMLCwoQ/VjqdDtXV1ZBIJDh16pTwXoPBgPz8fGzfvl0YgDtTVlYWiEh48uL8+fPw8/ODh4cHxsfHsWvXLrS1tdlUx7ksm65SqdwmcLx48cJkzMxsPXODg4Pw9PTE3r17odfr0d/fj/DwcHh4eCA/Px9PnjzBrl27HFpPYGoNFncKHNu2bYOXl5fJd/ju3TscOnQIkZGRFic+Y0sbB44lbmhoCOnp6ZDJZIiMjER0dDQuXrworJuRnZ2NkJAQJCUlidbS2L17N77//nuzxzQYDCgsLIRUKkVoaCj279+Pt2/fIiMjA8HBwdi9e7fQBe0uJyl7AselS5dw6dIlVFdXIyIiAps3b0ZwcDAOHTpkMutoZWUlKisr8fPPP2PHjh1mj6fRaPDtt98iMDAQcrkchYWFePPmDaKiohAUFCQaO1NRUYHk5ORZ1zyZy/wQ7hQ4SktLRY9fz6VnDpi6RaJQKLB+/Xps374dHR0dKCsrQ3BwMBQKBXp6egA4tt26W+CQSCQICwsz2Z6ZmYne3l5ERUVZHK/EljYOHMxmw8PD8PLywqNHj6BWq20aUDqTu5yk7Akc33zzzayPvBrV1dVhcnISGzduRElJybw+z6ivrw9KpRLNzc3w8fExeax5usUWOOLi4kTTjs+lZ84Wjmy37hQ4jGvx5OTkmJTV1tYKvUR8u4WZw4GD2ezWrVtYt24dxsbG7J6bwF1OUtXV1Xj16pXN+xkMBkilUqt/7Gd6+vQpli1bJiy4Nl+PHz9Gb28vMjMzsXv3bqvvnWvgcMZjt1qt1qbBnbMxTtQ1fXCnkbWeOVs4st26Q+D48OEDDAYDamtrQUQWF/4rKSlBSEjIR64dcxccOJjNBgYGEBERgSNHjuD169d2H28xn6Ta29uRnJxs0z4//PAD4uLioNVq0draatfn63Q6rF69GjU1NcK2W7duzWnZ9Jkr16pUKotztiwkra2tCAgIMNnuyJ45wHy7vX79usn3OPNn+uywwP8Hjjt37thVH2dpbW3FihUroFQqkZuba3WRwU2bNuHMmTPo7u7mWUiZCQ4czOUW80nq4sWLNk2aBkzN4lhRUYHy8nK7xwfcvXsXEokE4+PjVm8JzbWHwx0CR3V1tdnp8x3ZMwc4rt0aA4c9C+A50/Hjx4Wnd4KCgizWc2hoCESEvr4+5ObmLthH3JnrcOBgLsUnKVNFRUVISUlxyJM8SqUSBw4cQGdnp9Xgs5gCh16vN9t74cieOUe224UeOLq6urBt2zaEhobOujrszp07cfDgwTmtfMyWHg4czOX4JOU8jY2NiImJQXZ2ttlHQY2sBY6GhgYkJSVh7dq1WLFiBaKjo3lZcjim3aanpyMmJgbLly9HUFAQEhMT8eLFCwfWkrGFgwMHY8ztl01njC18HDgYY05bNp0xxow4cDDGGGPM6ThwMMYYY8zpOHAwxhhjzOk4cDDGGGPM6ThwMMYYY8zpOHAwxhhjzOk4cDDGGGPM6f4PV5S/ejEj7ioAAAAASUVORK5CYII=)\\\n",
        "where\\\n",
        "![Screenshot 2021-10-26 at 09-09-13 Solving one- and two-dimensional unsteady Burgers' equation using fully implicit finite d[...].png](data:image/png;base64,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)"
      ]
    },
    {
      "cell_type": "markdown",
      "metadata": {
        "id": "HmZR6xPmOIRC"
      },
      "source": [
        "Solved efficiently by Thomas algorithm"
      ]
    },
    {
      "cell_type": "code",
      "metadata": {
        "id": "MU7gBDOmzLsR",
        "cellView": "form"
      },
      "source": [
        "#@title\n",
        "import numpy as np\n",
        "import matplotlib.pyplot as plt\n",
        "import tqdm as tqdm"
      ],
      "execution_count": null,
      "outputs": []
    },
    {
      "cell_type": "code",
      "metadata": {
        "id": "YDDQMDGwzci4",
        "cellView": "form"
      },
      "source": [
        "#@title\n",
        "Nx = 400\n",
        "M = 400\n",
        "T = 40\n",
        "nu = [0.01, 0.005, 0.001, 0.0007]\n",
        "x = np.linspace(0,1,Nx)\n",
        "t = np.linspace(0,T,M)\n",
        "h = x[1]-x[0]\n",
        "tau = t[1]-t[0]\n",
        "gamma = nu / h**2\n",
        "u = np.zeros((4,Nx,M))"
      ],
      "execution_count": null,
      "outputs": []
    },
    {
      "cell_type": "code",
      "metadata": {
        "id": "U_KexeAgbFWK",
        "cellView": "form"
      },
      "source": [
        "#@title\n",
        "#initial condition\n",
        "for NU in range (len(nu)):\n",
        "  for i in range(Nx):\n",
        "    u[NU,i,0] = np.sin(np.pi*(i*h))\n",
        "#boundary conditions\n",
        "for NU in range (len(nu)):\n",
        "  for k in range(M):\n",
        "    u[NU,0,k] = 0\n",
        "    u[NU,-1,k] = 0"
      ],
      "execution_count": null,
      "outputs": []
    },
    {
      "cell_type": "code",
      "metadata": {
        "colab": {
          "base_uri": "https://localhost:8080/",
          "height": 295
        },
        "id": "ercTG1n7MOaH",
        "cellView": "form",
        "outputId": "1078a9a2-2223-4eb6-ee94-b6ad927d7280"
      },
      "source": [
        "#@title\n",
        "plt.plot(x, u[0,:,0])\n",
        "plt.title('Initial condition')\n",
        "plt.xlabel('x')\n",
        "plt.ylabel('U')\n",
        "plt.show()"
      ],
      "execution_count": null,
      "outputs": [
        {
          "output_type": "display_data",
          "data": {
            "image/png": "[encoded data removed]",
            "text/plain": [
              "<Figure size 432x288 with 1 Axes>"
            ]
          },
          "metadata": {
            "needs_background": "light"
          }
        }
      ]
    },
    {
      "cell_type": "code",
      "metadata": {
        "id": "velPKwy95wb-",
        "cellView": "form"
      },
      "source": [
        "#@title\n",
        "NU = int()\n",
        "def get_A(NU,i,n,gamma=gamma[NU],tau=tau,h=h,u=u):\n",
        "  return -2/3*tau*(gamma+(2*u[NU,i,n]-u[NU,i,n-1])/(2*h))\n",
        "B = -(1+4/3*gamma*tau)\n",
        "def get_C(NU,i,n,gamma=gamma[NU],tau=tau,h=h,u=u):\n",
        "  return -2/3*tau*(gamma-(2*u[NU,i,n]-u[NU,i,n-1])/(2*h))\n",
        "def get_F(NU,i,n,gamma=gamma[NU],tau=tau,h=h,u=u):\n",
        "  return 4/3*u[NU,i,n]-1/3*u[NU,i,n-1]\n",
        "\n",
        "def get_d(NU,i,n,d,A=get_A,B=B[NU],C=get_C):\n",
        "    return C(NU,i,n) / (B - A(NU,i,n) * d[i])\n",
        "def get_sigma(NU,i,n,d,sigma,A=get_A,B=B[NU],F=get_F):\n",
        "    return (F(NU,i,n)-A(NU,i,n)*sigma[i])/(A(NU,i,n)*d[i]-B)\n",
        "\n",
        "def thomas_alg(NU,n):\n",
        "  d = np.zeros(Nx)\n",
        "  sigma = np.zeros(Nx)\n",
        "  d[0] = 0\n",
        "  sigma[0] = 0\n",
        "  for i in range(1,Nx):\n",
        "    # A = get_A(i,n)\n",
        "    # C = get_C(i,n)\n",
        "    # F = get_F(i,n)\n",
        "    d[i] = get_d(NU,i-1,n-1,d)\n",
        "    sigma[i] = get_sigma(NU,i-1,n-1,d,sigma)\n",
        "  for i in range(Nx-2,0,-1):\n",
        "    u[NU,i,n] = d[i+1] * u[NU,i+1,n] + sigma[i+1]"
      ],
      "execution_count": null,
      "outputs": []
    },
    {
      "cell_type": "code",
      "metadata": {
        "colab": {
          "base_uri": "https://localhost:8080/",
          "height": 217,
          "referenced_widgets": [
            "bf8309c008c14147a5407798dfe2468d",
            "871bf4d1e0cf43a8a8fd34e77cf479ad",
            "661912db4d274e5f8872cbc68d8396da",
            "dad109c49d40435796f1668cc25d80b7",
            "bd7b56049b4d4d469cac576806b9fac0",
            "4b89405e052e484ba18d678b2a828c66",
            "63008a3ee5c44ff0a2672a2b3e6fe228",
            "c7a185ecdd8f4986922a1d5717f4d1a1",
            "7e020d5e09e54fa68a3b3a8673d5b875",
            "afbc0d67d1d34a4680d17c72ce32ba07",
            "1290cca374894744b40d27b9d77ddb36",
            "12ccf899046b451abf6cefd8f9aeaa3c",
            "f46b1e6d6ac64a12a167319b588c78e8",
            "20ea7e00b7404ed58ca2037fd361c222",
            "7f7e4e54f9c440dfb78ba0810641b3ff",
            "d77b749962784eab9e2573482020b485",
            "a72926a3420c43be9cad0d65eaa88779",
            "a2682789cf3844dcab82f14a99a4129c",
            "14cd99e4cb974ab9855471e2dcee160a",
            "a2ebeadcbb364572a7c847133b7c09c9",
            "f39abd3fd3bc4918a179198a21deccae",
            "dc951d184707488f8d509d4307849524",
            "0e8518cf53144226a0437c0e19f5e94d",
            "e0eaf293c189474190643d348a73992d",
            "f636c53c2a114ce3950aca6cadf122eb",
            "9d0395c902704182bf1f7104081af5f8",
            "7af5c8fc12a44704bb64ade5129694b0",
            "50e0f378ff3740dd8df716382f53c3fd",
            "ebc4098b75b44149bd2e249f6170b5a1",
            "aa4c01cc922b4462aa015f9cb59efc63",
            "5fa322990c9f45c38a3bed066d02f245",
            "afe32491f6db42bab3b4f796b137ec9d",
            "4d1386a0f35248029502f92b0f55899c",
            "67f187925bd846c1977e4a9ac53fb09e",
            "2adb0311d0d14d51a6c8e0576ca6e724",
            "c14979b46c86417b8ccde6ab0aa401e3",
            "9154411654444f1cb1df4ece0a6826ce",
            "ffbd3a1424944cc6b3f44b91d13d9862",
            "45af738becb2418492440ca4a9575dc3",
            "61b94e6a867a4656856cf5f442409e0a",
            "5473ceb5c45d4e1f8a4a326145b94077",
            "3e2ffb9fbcae40f9ae79b10ce7ee2feb",
            "811a5097d53749878364d7ee612bdc9c",
            "bad3d23a85184d23ad93001af6fa2803"
          ]
        },
        "id": "pW3jOQuzsbR9",
        "cellView": "form",
        "outputId": "87aee696-3180-463e-c145-68f75f82e2d7"
      },
      "source": [
        "#@title\n",
        "for NU in range(len(nu)):\n",
        "  for i in range(1,Nx-1):\n",
        "    u[NU,i,1] = u[NU,i,0] + tau*(nu[NU] * (u[NU,i-1,0]-2*u[NU,i,0]+u[NU,i+1,0])/h**2 - u[NU,i,0] * (u[NU,i+1,0]-u[NU,i-1,0])/(2*h) )\n",
        "  for n in tqdm.tqdm_notebook(range(2,M)):\n",
        "    thomas_alg(NU,n)"
      ],
      "execution_count": null,
      "outputs": [
        {
          "output_type": "stream",
          "name": "stderr",
          "text": [
            "/usr/local/lib/python3.7/dist-packages/ipykernel_launcher.py:5: TqdmDeprecationWarning: This function will be removed in tqdm==5.0.0\n",
            "Please use `tqdm.notebook.tqdm` instead of `tqdm.tqdm_notebook`\n",
            "  \"\"\"\n"
          ]
        },
        {
          "output_type": "display_data",
          "data": {
            "application/vnd.jupyter.widget-view+json": {
              "model_id": "bf8309c008c14147a5407798dfe2468d",
              "version_minor": 0,
              "version_major": 2
            },
            "text/plain": [
              "  0%|          | 0/398 [00:00<?, ?it/s]"
            ]
          },
          "metadata": {}
        },
        {
          "output_type": "display_data",
          "data": {
            "application/vnd.jupyter.widget-view+json": {
              "model_id": "12ccf899046b451abf6cefd8f9aeaa3c",
              "version_minor": 0,
              "version_major": 2
            },
            "text/plain": [
              "  0%|          | 0/398 [00:00<?, ?it/s]"
            ]
          },
          "metadata": {}
        },
        {
          "output_type": "display_data",
          "data": {
            "application/vnd.jupyter.widget-view+json": {
              "model_id": "0e8518cf53144226a0437c0e19f5e94d",
              "version_minor": 0,
              "version_major": 2
            },
            "text/plain": [
              "  0%|          | 0/398 [00:00<?, ?it/s]"
            ]
          },
          "metadata": {}
        },
        {
          "output_type": "display_data",
          "data": {
            "application/vnd.jupyter.widget-view+json": {
              "model_id": "67f187925bd846c1977e4a9ac53fb09e",
              "version_minor": 0,
              "version_major": 2
            },
            "text/plain": [
              "  0%|          | 0/398 [00:00<?, ?it/s]"
            ]
          },
          "metadata": {}
        }
      ]
    },
    {
      "cell_type": "markdown",
      "metadata": {
        "id": "FdQ4EKvaVjGC"
      },
      "source": [
        "### Analitical solution"
      ]
    },
    {
      "cell_type": "markdown",
      "metadata": {
        "id": "bJYXDpTisK2g"
      },
      "source": [
        "The exact solution was given by Cole Hopf:\n",
        "![Screenshot 2021-10-26 at 02-01-30 Solving one- and two-dimensional unsteady Burgers' equation using fully implicit finite d[...].png](data:image/png;base64,iVBORw0KGgoAAAANSUhEUgAAAjEAAABcCAYAAACfmuRZAAAgAElEQVR4nO2d+1sS6f//v//TjSCC4DFTdEnR0FBR0dQ1tdLST9p2UDOzNss2M9vattNuVvautXPZ+WRnKzuXZllqoeEBQ3h+f/CayRFQUBCx+3Fd84Mzw8xrxoF53vfr9P9AoVAoFAqF4ob8P1cbQKFQKBQKhTIRqIihUCgUCoXillARQ6FQKBQKxS2hIoZCoVAoFIpbQkUMhUKhUCgUt4SKGAqFQqFQKG4JFTEUCoVCoVDcEipiKBQKhUKhuCVUxFAoFAqFQnFLqIihUCgUCoXillARQ6FQKBQKxS2hIoZCoVAoFIpbQkUMhUKhUCgUt4SKGAqFQqFQKG4JFTEUCoVCoVDcEipiKBQKhUKhuCVUxFAoFAqFQnFLqIihUCgUCoXillARQ6FQph3t7e3o6+tztRluTUtLC4aGhlxtBoXiVKiIoVAo04o3b95ApVJBp9O51I79+/dj8eLFiIiIwPLly/H169dJH7OtrQ0FBQXQaDRQKpU4e/asAyy1zKFDh7Bq1SqnHZ9CmQ5QEUOhWKCurg6hoaEICAhAXl4eWltb2W2PHj1CcnIyUlNTkZ+fjxcvXrjQ0plFe3s7ZDIZ7t2751I7zpw5g7179wIAenp6EB4ejpSUlEkdc2hoCNnZ2ejp6QEAHDx4EIQQ3L59e9L2WiM7Oxtbtmxx2vFnKiaTCXq93tVmjIler4fRaHS1GS6HihiKW3L//n3w+XzweDz4+flBLpdzlrCwMMhkMshkMgQHB2PWrFkQCAQghJgtd+/eNTt2dXU1BgYG8Pr1a8TFxUEikeDx48doaGhAYmIiPn36BAAwGAwoLi6mrg8HkZSUhIqKClebgaVLlyIqKop9SezduxeEELx+/XrCx3z16hX4fD5OnDgBYFjU+Pj4IC8vzyE2W6Krqwu+vr64cuWK084x0zCZTFi2bJlTZ8kcwcWLF7F48WIYDAZXm+JSqIihuCUmkwlZWVkghCAqKgoDAwM2faazsxMNDQ1YuXIlhEIhCCFmU+6bN2+GyWRi//727RuioqIwa9YsREZG4tu3b5z9nz17hmPHjjnmwn5iGhoaIBAIHOK2mSxHjhxBQUEB+/fx48dBCEFjY+OEj/nt2zcsWLCAM/MSFhY26Rme8aisrIRSqXTbUXtJSQlkMtmUzXhu374da9asmZJzTZby8nKUlJS42gyXQkUMxW35+vUrgoKCQAhBUVGR3Z9va2uDWq2Gt7c3RwSVl5eb7fv27Vt4enoiLS2NI3AAoLe3F1VVVfZfAIVlaGgICoUChYWFrjbFIitXrkRgYKBDZ9w+fvwIQgj+/vtvhxyvq6vL4voPHz6Ax+Ph+PHjDjnPVCMWi0EIwb59+5x+ritXrkAul097VxKDwWCAQqH4qQdRVMRQ3Jrbt2+Dx+OBEIIzZ87Y/fne3l7ExMSgvr6eXZefn2+238WLFxESEgJCiJlguX///rSfep7uXLt2bdIzHc7i0aNH8PX1xYMHDxx2TJPJhOzsbOTn5ztkhuTixYsghODWrVsWt2dkZEClUk36PK7g2rVrqKmpcXqgt8lkQkREBA4cOODU8ziauro6hISEYHBw0NWmuAQqYihuz5YtW0AIgVQqRVtbm92fb2pqQkZGBvv3iRMn0NDQwP5948YNxMTE4MuXL1i3bh0IIdi6dSt0Oh0+fvyI3Nxcl2fSuDvl5eUQCATTbgT8/v17JCYm4tWrVw49bkVFhZnbcjIUFBSAEIIPHz5Y3F5TUwNCCDo7Ox1yvpnItWvX4O3t7XbxbYODg/D398c///zjalNcAhUxFLfHYDAgISEBhBDEx8c7JNBt3759KCgoQHZ2NlavXo3u7m52W319PebNmwepVIqEhASaneQA5syZM+1mCtrb25GXlwetVgtg2NXgiP/1jh078L///Y/9e9euXZM+5uzZsyGTyaxuv3HjBgghbutSmgoyMzORmZnpajMmRF5entNjq6YrVMRQZgQfPnyAVCoFIQSbNm1ytTkOxWAwYM+ePVCr1QgPD4dKpcL58+cndKzOzk4UFxdDLpcjNjYWubm5Vmev8vLyIBQKIRKJIBaL4enpCa1Wi8rKSkgkEvj5+cHX1xd5eXk4d+4cBAIBAgICIBAIcPv2beTl5UGlUkEikSArKwuPHz+2eJ729nYQQpwaoLh3717I5XJoNBp8+vQJ7e3tbL2WgIAAlJeXc9w6Wq0WsbGx2L9/P+rq6lBbW4vU1NRJz2QcOHAAOTk5qKurw5EjR7B7926z6z5+/DhUKhVCQkLg5eVlds6BgQHMnTsXO3fuBDAc20UIwYoVK6yet7u7G4QQTrDyeNh7zybCy5cvsXDhQsTGxkKj0SAtLQ3R0dF4+/YtACA8PBxBQUHw9/fHnj172M+JRCLMnj0bvr6+OH78OBoaGpCXlweZTIbw8HCcPHnSLjv0ej0EAgFqamosbm9sbER0dDQUCgVu374NvV6PiooKpKenIyAgANnZ2fjy5cuE7wNDZ2cnVq9ejfDwcKjVajQ2NuLJkydISUnBnDlzsHXrVouf27dvHwQCgdvNIjkCKmIoM4YzZ86wadM3btxwtTkO4fPnz4iKikJycjI+fvwIAFizZg28vLxsysgaSUtLC4KDg/Hbb7/BYDCgr68P6enpkEqlVoNCe3t7UVhYCEIItm3bBmA4oJp5Ib5+/Zqd+dJqtVAqlSCEICEhAc+fP4fJZMLnz5+hUCggEonM0tmB4ZgiQgh27Nhh1/XYc90LFy6EXq8HIQSJiYlITk7Go0ePAPzIPDp16hT7maVLl5ql4ovFYrNj9/T0oLCwEGKxGB4eHmx81uglPDwcL1++tLht5MuZQafTgc/nIzg42GxbbW0tCCGIiYmxeLzFixdbvA8ikQgajcZp98xe+vv7ERQUhHPnzrHrmpqaIBAIWPedwWDAzp07ze6TXq/H5s2bQQhBZmYmNm7cCKPRiO/fvyM1NRV8Ph/v37+32ZaHDx+CEGIxFd1oNCI+Ph59fX1Qq9WYPXs25s+fj5MnT8JoNFoV4fY8G8Cw0NRoNGzsVU1NDcRiMRQKBT59+oQNGzaAEIL29nYzG5nv0M2bN22+5pkCFTGUGUVRUREIIQgMDLT6YnYXent7oVAoEBQUxKZ1d3V1gRCCgIAAu91mGRkZEIlE6O3tZdc9f/4chBBs3LhxTDtkMhkCAgKg1WpRX1+PX3/91eIonHn5t7S0cNY/ePAAhBAolUqzOJALFy6AEIJ///3XruuxlcrKSly8eJGdjZBIJHj37h27vampiSPSbEWv1yMuLg7x8fEoKipCUlISEhMTUVZWBo1Gg6SkJJSVlaGsrMxuN86LFy+szpzExMQgOjqa/XvZsmVWX24jCQoKQkREhE3nd9Y9Gwnz4r1//z5nfUpKCicG6cqVKxbFHvPcKBQKTnuFQ4cOgRCCuro6m21hRJml2cLr169jw4YNAMCK9NHiTSgUctw5E3k2NmzYwLlGxqZdu3ZBr9fDw8MDvr6+Fr/3b9++/WndhVTEUGYUAwMDiIyMBCEEGRkZDgucdAVbt24FIQSHDx/mrD958iSngrAttLa2ghACtVrNWW80GiGRSJCcnDzm55mYiszMTISFhaGjo8Pifnl5eSCEWBwFh4aGWnxRMC+dkRlijmTXrl3o6+vDpUuXLM74HD16FIQQHD161K7jlpaWctwPixcvxrVr1wAAxcXF+O+//yZs84EDByz+75ksLiYbzmQyISAgwCZxEhkZCR8fH5vO76x7NpK2tjbweDz4+/ujqqoKjY2NGBgYgFar5YiSq1evWhQxDQ0NIIRg/fr1nPXMy9+eLCPmfo8W38x5mpubodPpwOPxkJ6eztn+/v17EEKwfPlydt1Eno2amhpOhlFZWRkIIXj69CkA4NatW/j8+bNF+798+WJ1Vm+mQ0UMZcbx8uVLtpAdUx3VHfHx8QEhhA0snQzMD76Pjw/UarXZYimtfDRr1qxhM7OsMZaI+fXXXy2KlT///BOEEE5G2Eh0Oh2ioqKgUChsXoqLi82OU1FRAUIIHj58yFk/XmaPNUb+X759+waRSMTGJERHR09qaj83NxeEEDY2hDlHcHAwpxAb46IqKysb95hqtRqEELviWBx9z0bDZE0xi0QiMZtNYITb6Bc0I7BGlzz477//7BYxO3bsGDd7i5kRYmKRGOrq6kAI4dRqccSzERMTA4lEYlMTT8btV1lZOe6+Mw0qYigzksrKSkRGRrpt6jMzulMoFA45HhMvNDKV3F7++ecf1pVlTViNJWKYDLLRswvMKHgy8RW2EB8fDy8vL3z//p1d9/37d0ilUo57ZiLU1dUhISEBwHDhPoFAgObm5gkdy2Qywd/fH0FBQew6g8GAnJwcZGRkcNwJTDsEawJwJEqlEiKRyC5bnHnPGB48eICNGzciISGBjRsZWS/Imoi5fPmyRZdWfX09CCHYv3+/zTYwz+BYomzTpk0W3V+ZmZng8/lWvxMTeTaYWZ8FCxbYZD/j9tu+fbtN+88kqIihzDjevXuH8PDwCdWMcRZDQ0N4//49tm7dij/++GPc/ZmYg5ycnDH3279/P1JTU1FfX499+/ahoqICWVlZZtkZjM88KirKqn1j8e7dO8jlcvYFsWzZMov75efnWxQxJpMJvr6+IISYpSmfPn0ahBDU1taOacNk6O/vB5/Px/z58znrmSJxzOi6trZ2QsJXpVKxM1RMttBEC/cxsytMPIxer0d2djZWrFhhln2SmZkJHo/HxkzpdDo8f/7c4nFlMhnCwsJstsPZ9+zp06dmwqSpqQkSiYQTC2RNxDB2VFdXc9ZPRMScPHkShBA8e/bM6j4JCQnw9PTkuHy6u7vB5/PZwcGNGzfMjmHrs9HR0YGmpiYAPwTaSDdeb28vDh06ZNE2ZtBjzzXPFKiIocwotFot5s6d69Dqqo6gqqoKlZWVCA0NNfPhW2JwcBACgcBiYKdOp0NhYSFevHiBPXv2YOfOnRAKhewP49GjRy2OklNTU0EIwcuXLznr3717h0WLFlm1xWAwQK1W49KlSwCAVatWWR39MyKG+TFmYF4So2NygOH0VSaA0VncvHnT4qh9+fLlIISgtbUVXV1dmDdvnt3HvnfvHmeEzogQewJLR8LMeB05cgQ3b95EcnKyxWrURqMRIpEIcXFx7Lry8nKr6fdSqdTi/beGM+8ZMOyesRSgnp6ezmn9MV5MjDV3kj1tCphrtSY8BwYGIBAIzGqxMLFBzP86NjaWE7di67PR398PsVgMiUQC4Ifr9vr16+w+W7ZssRrz8vTpU06s1M8EFTGUGcP379+RkpJid42IqUStVtskYoBh4ePn58emVhsMBly9ehUqlQoHDx7E48eP0dHRgZycHE6cRHV1NVJTU82O197ejuDgYMhkMjx48ABDQ0PQ6XTIysqy6P4ZGhrC8+fPkZWVxekv1d7eDg8PDwQGBnJiNoAfIkahULDHbGlpwezZsxEYGIg3b96YnefNmzcghOD333+36b5MhOrqaosvqSVLlsDPzw/AcKPBiTw7OTk5kEgk7MuY6YlkLdV5PJgMr6KiIhw5csTqLAcTlJ2TkwOTyYTa2lqrM2SDg4Pg8XhjitXROPOeAT9iTMrLy9kA/Pfv3yMwMJBzTkYA//HHH5xAfSYWZe3atZzj7tmzx6K4GYvu7m7weDyrVW/v3LljUdAxgvPly5c4deqUWSyWrc8GI242b96M1tZWhIeHw8PDg40fu3v3LtRqtdU6MEww83gZajMRKmIoM4YVK1ZM2Cc8cvRkq4tmItgjYgBg27ZtiIiIQGxsLFQqFUpLSzmprkz8xMhaG2q12iz4kEGr1aKsrAxBQUEIDAyERqOxOvqcP38+JBIJJBIJhEIhOwrMycmBl5cXu83Lywv9/f0AfsTEnD9/HtnZ2YiPj0dISAiWL19u9QeWuYbRbgtHsmHDBkRGRnJiOwDgyZMn0Gg0UKlUE0rx7uzsBI/H48yYDQ0NwdfXFyEhIROytbm52eYaJw0NDZg7dy5UKhUqKiqsugUZ96Q9zSaddc8Yrl69isWLF2Pz5s1QKpWIj49HamoqLl68yO7j4+MDkUgEqVQKiUQCf39/AMOzSt7e3ux6kUiEp0+fQigUQiKRsOu9vLysZvSMJj4+3moxwIaGBkilUrP2Ez09PViyZAmio6NRVFTEmVWy59kwGo0oKSlBXFwc1Go1Xr16hfr6ekRGRkKlUiEvL2/MoOOSkhL88ssvNl3nTMMtRYzJZHJ5j5WhoaGftuHWdOTPP/+0qxrpSO7evcuOUFtbW21y0ezcuRNr1qwZd2Fe7gz2ipjxePXqFQghbE2cDx8+sDEpTErnVDJWYO9YFBQUQCwWO6QZ4lRiMBhw/PhxfP36lbP++vXrEw7sdQZM4OpoV6KrmU4lEKqrqxEcHOwwmxz1bNhij0Kh+CnTqwE3FDEmkwnLli1zue+vvb0dsbGxVutlUKaOs2fPQqPRTEhUtre3QyaTsbMs9rpo7EWtVnP8/ZOltraWk8F0+PBhKJVKDAwMOLWMvzUmKmJOnDhhMeiX4hgKCgowe/ZsV5sxrdFqtfD29sbly5ddbYpdNDY2QiQSoaenx9WmuAS3EzHbt2/nvFxcyYULF6BSqcxG267EZDKhrq4OKpUKIpEIERERKC0tnbHdax8/foyoqKgJ1VK5f/8+5HI5hEIhx9dsr4vGHhwtYn7//XdOQGxraysSEhJQWlqKT58+Oew8tmAwGJCenm6xrsh46HQ6+Pj4oKKiwknW/bz09vZCLBb/lDVE7KWqqsqpbk1nkJ2d/VN/b9xKxFy5cgVyudwlriRrJexXr149ZuO1qaa8vBwrVqxAa2sr2tvbUVNTAx6Ph1mzZrEBojOF9vZ2REREWAwWHY1er0dHRweePHmCI0eOICUlhS2wtWTJEs6+trhoJuNOWrdunYPuwPTh3LlzEIvF8PX1hZ+fH6RSKWJjY+06xt9//w0/Pz+Xu4pnGgcPHoSPjw+bhk2xjl6vh1qtdpvy/WfOnEFycrLdLUhmEm4jYkwmEyIiIuyqwugomHoEt27dMtvW0tICPp8/LXzNb968gVAoNGtixqTrLVy40EWWOZ6+vj62j8lkl9GuSWe6aGaqiHEEer0eISEhOHLkiKtNmTEYDIafOl5iInz9+hVKpdKmwZEreffuHaKiohzSPdudcRsRc+3aNXh7e7uk1fh4JbYXLlxoNpp3BUyanUAg4DT5Y2og8Pl8znp3RqvV4uzZszh9+rRNy5kzZ3D27FmcPXsW586dw/nz53HhwgU0NDSYdYN2hotm9+7dWLRoEaRSKQICApCdnW21nsfPzK1btxAQEPBTpoo6gz/++AMpKSlmGUaUsens7LRaNHC60NzcPOUu4+mI24iYzMxMZGZmuuTcs2fPhkwms7q9trYWQqHQ5dPgbW1tCA8PN6vyyqRXOqoPD4XiTE6fPo309PRplbnijjx48AAqlcptW29QKLYwJSLmwYMHiI+Ph0wmM5vW/Pz5MwoKCsZ0x+j1eggEAk5X0NF0dnZi9erVCA8Ph1qtRmNjI548eYKUlBTMmTNnzKZ1Y8GUiR4r7uXZs2cghODGjRsTOoezYYpCBQYGsuvKy8uhVCoxa9YszJ071+wzzc3NCAoKwt27d6fSVAoFwHDQ/EwNRp8qzp8/bzWWj0KZKThdxHz9+hXz5s1DV1cX1q5dCx6Pxwl2ZDrYjtVn5OHDhyCEmMV6MHR3d0Oj0bCl5mtqaiAWi6FQKPDp0yds2LDB7mqGaWlpFuMnLFXhZJp62dITxxVkZWWZ9eEAflTMHNlCniE/Px8ikQharRY9PT0oLCyEWCyGh4cH26Rt9BIeHj5Vl0ShUCgUivNFTHV1Nf73v/8BGA5qFIlEnHoeaWlp4PP5Y6YpM7Eejx8/trh9w4YNnBkeZv9du3ZBr9fDw8MDvr6+E4rgXrZsmU0CaNasWVi5cuW4xzOZTEhJSYFCobBpiYyMRGRkJJRK5YSyC5jeHWq12uz6mQJYowMpv3z5AoFAgPLycuj1esTFxSE+Ph5FRUVISkpCYmIiysrKoNFokJSUhLKyMpSVlblNRD+FQqFQZgZOFzG7du1Cb28vm6aan5/PbjMYDBCJROOmYjIv25aWFovba2pqOMKorKwMhBA8ffoUwHCwoK2lp0diMpkQEBCAiIiIcfdVKBTIzs62+xzORK/XQ6lUQqFQWIxgz83NBSGEU8YeADZv3gyhUIj29naUlpZy3HiLFy9m04yLi4vx33//OfciKBQKhUKxwpQF9u7atcus8y0TcDpe8a8dO3aAEGKzjzwmJgYSicRqHxFbYZpylZWVjbuvWq1GQkLCpM7naFavXo2oqCiLfnGTyQQ/Pz/MmjWLs76pqQl8Ph+nTp0CAE4g8Ldv3yASidgMsejoaNy8edPiuR2R+kwXutCFLnSZfst0YspETFJSEoRCISeddffu3SCEcCqjWoKZibGW4jwSnU4HHo+HBQsWTNrmvXv3ghCu8LKGUql0SFl6R1FbW4vIyEhO347Hjx+zM1aMQBvZ9bazsxNyudxqAHVdXR0r1Jg4oOnUH4ZCoVAoPxdTImKMRiMEAgESExM567Ozs0HIcGXUFy9ecLqXjoRpxf7s2TOL2zs6OtDU1AQAuHz5MgjhBrH29vbi0KFDdtudmZkJHo/HxqLodDqrtQNCQkLMUpstYW9MzMjYGFtjYu7fvw+FQmE2cxUZGcnGxTAt5Jl4mA8fPiAyMnLMolgqlYrN8mKytsYKyKZQKBQKxZlMiYgZGBgAIdzy7nq9Hj4+PmxGS0VFhdUZD6ZYm6UXZn9/P8RiMSQSCYAf1WmvX7/O7rNlyxazl/Phw4dRUFBgtdqh0WiESCRCXFwcu668vNxqgTKxWIy1a9da3DaVfPz4ESqVymzW6uPHj5DL5ezfS5YsASEEb9++xaFDh5CSkjJmcScmQPj+/fsAfszk1NXVOedCKBQKhUIZhylzJymVSsjlcvT29mJwcBB5eXkQi8VISkpCf38/YmJirBaL6+7uBo/Hwz///GO2jXmZbt68Ga2trQgPD4eHhwfq6+sBAHfv3oVareZU+h0aGoKXlxcIIaiurrZ4TqPRCIlEgpycHJhMJtTW1nJcLyP5+PEjCCEuD3JlSvHzeDx4enrC09MTAoGA9WNmZGSw+/r7+0MoFGLLli24fPnyuPFDOTk5kEgk7EwOc82WUs4pFAqFQpkKpkzEvHr1ChkZGQgLC0NSUhLOnTuHe/fuQalUIioqatz25/Hx8SgoKDBbbzQaUVJSgri4OKjVarx69Qr19fWIjIyESqVCXl6exYDgP//8E2q1esx+Qg0NDZg7dy5UKhUqKiqsvuhPnToFHo/n8gaLjIvI2lJaWsru29jYaHP13s7OTvB4PM79Hxoagq+vL0JCQhx+HRTL1NXVITQ0FAEBAcjLy0Nrayu77dGjR0hOTkZqairy8/Px4sULF1o6sxndpoIyMX7G+2gymVxe2X089Ho9jEajq82wGbdpO1BdXY3g4GC7SpGPt++zZ884Kd8TZc2aNdMuvdqRGAwGHD9+nBMkDADXr1+ngb0jMBgMEIvF4PF4EIlEkMvlnOWXX35BWFgYZDIZgoODERQUBJFIZFFwbt++nXPs+/fvo7q6GgMDA3j9+jXi4uIgkUjw+PFjNDQ0IDExke2jYjAYUFxc7JI+YzOdpqYmpKSkuLxr8K1bt5Cbm4vo6GikpqZajRe0h/7+fpSXl2PBggWIiIjAtm3bJp3haQ2j0YiUlJSfKqbOZDJh2bJlZg1npxsXL17E4sWLXf6M24rbiBitVgtvb+9xZ2zsYc+ePTh27NikjqHT6eDt7T1tWw5Qppa//voLhBCIRCK8ffvWps98+/YNd+7cQWVlJQICAkAI4cQvAcO1e0aK8m/fviEqKgqzZs2yGPT97NmzST/bFC6dnZ2IiIiwWq9qqvjw4QOWLVsGk8kEo9GI/Px8+Pv7mw0y7KWsrIwtKPrs2TMIBAJs27bNESZbpK2tDaGhodO+W7Sj2L59O9asWeNqM2yivLwcJSUlrjbDJtxGxABAVVUV5s+f75BjdXV1QalUTro52t9//434+HjarI4CYHi0lZGRAUIIlEql3VPH/f39WLFiBQghuHfvHrveUi2lt2/fwtPTE2lpaWbPX29vL6qqqiZ2ERQzDAYDkpKScPjwYVebgn///RdSqZQVyc3NzSCE4ODBg5M6rr+/P8flvGjRIgQEBDjkt62np8diJ+36+nrMmTNnxnfZvnLlCuRy+bR3JTEYDAYoFAq3GAi5lYjR6/VQq9UOKW9fU1Mz6dmT1tZWyOVyu3oyUVzL6dOnnX6Orq4uBAYGmsUh2cPq1auxevVq9m9Lbs+LFy8iJCQEhBAzwXL//v1pP23tTpw8eRKBgYGcyuCuoqmpCRkZGWysX3t7Owghk541KSkpwd69e9m/V65cCQ8Pj0m7FTo6OiASiSw24R0aGkJoaOikBdh0xmQyISIiAgcOHHC1KXZRV1eHkJCQafHMj4VbiRhguKGkUql0+RQk01OIdnl2LyIjI53m5x/J9evX2fgWa2n5Y9HX14c5c+awI7cTJ05wShDcuHEDMTEx+PLlC9atWwdCCLZu3QqdToePHz8iNzd30rOMlB+o1WqrmYyuhukVx9TKcgRDQ0OYM2eOQ2L96urqQAixOqrfs2cPgoKCZuxszLVr1+Dt7e12MWqDg4Pw9/e3mBU8nXA7EQMM+6bHqmkyVTY8efLEpTZQ7EehUEyJiAGAjRs3ghACHx8fh2Su7du3DwUFBcjOzsbq1avR3d3Nbquvr8e8efMglUqRkJBAs5McCNMexZEiwVH09PQgODjY4aP83bt3IzIy0modLXsoKCgAIQRtbW0Wt79582ZGF87MzMxEZmamq82YEHl5eUhJSXG1GY22EXIAABHqSURBVGPiliKG4p58/foV69evh0KhQFRUFObPn49Xr15NqQ1TKWIMBgPi4uJACEFiYqLbRPvbgsFgwJ49e6BWqxEeHg6VSjWhGSdgeEBQXFwMuVyO2NhY5ObmWn3h5eXlQSgUQiQSQSwWw9PTE1qtFpWVlZBIJPDz84Ovry/y8vKg1Wrh4eGBgIAAiEQiHDx4EOvXr4dKpcKsWbMQExODkydPjmtfVVUVhEKh02YKGhsbER0dDYVCgdu3b0Ov16OiogLp6ekICAhAdna2RTExMDCABQsWONxt2NDQgMzMTIszea9fv4ZKpYJcLodEImF7rI1k5cqVnLYvMpkMoaGhVs9nMpng4+ODLVu2OMT+27dvIy0tDaGhoVCpVEhNTcWVK1c4+wwMDKCqqgrR0dGIjY1FcnKyxWehoaEBSUlJSEhIQHx8PJYuXYqoqCibbdHr9RAIBFZbuezduxdyuRwajQafPn1Ce3s7CgoKoNFoEBAQgPLycoekOzc1NSE7Oxu//PILsrKy8PnzZxw/fhzx8fGIiIiwWmh23759EAgE03oWiYoYypRw+/Zt+Pr6Yu3atejt7YVOp0N8fDySk5On1I6pFDEA8P79e3h7e4MQgj/++GPKzutMPn/+jKioKCQnJ7MzTGvWrIGXl5fdtT9aWloQHByM3377DQaDAX19fUhPT4dUKrXYuBQYDlouLCzkxIF8/foVhBAUFBTg9evXrGDs7+9HUVERCCEICgrClStX8P37dwwMDCA/Px+EkDFbbQBARkYGp3K3IzEajYiPj0dfXx/UajVmz56N+fPn4+TJkzAajWy8y+hMkcHBQfz22294+vQpgGEhODpW0Gg0Yvv27QgMDASfzwePx7OYzu/l5YX3798DGHaDrlu3jv2O/PXXX2YvUYPBgISEBBBC2M8xvH37FoQQaDQai+fy8fGx+FJOS0tDUlLS5G4mfrjWdu/ezd4nX19fCIVCdubyy5cviImJwdKlS1l3bVNTE0JDQ1FcXMwe6/HjxxCJRGzpAmD4pe7v72+zPQ8fPgQhxExEAcPP/sKFC6HX69mBTnJyMh49esS5ltFCsaenB4WFhRCLxfDw8LD6f2Wq4T958gQpKSno6OiAyWRCeno6QkJCkJaWhu7ubmg0Gvzyyy8W7b9//z4IIVYb/U4HqIihOJ1nz55BLBZzplRPnz4NQghyc3On1JapFjHAcDwLIQQ8Hg+3b9+e0nM7mt7eXigUCgQFBbFp3V1dXSCEICAgwO7ZpoyMDIhEIvT29rLrnj9/DkIINm7cOKYdMpkMAQEB0Gq1qK+vx6+//mrxBfnvv/9y+oQx9Pf3QyqVwtPTk/OiGk1oaCiysrLsui5buX79OjZs2ABguKq5pZeWUCjkTOkbjUYsXboUmzdvRl1dHQ4dOoTi4mKzmYR169ZBJpNh1apVyMvLg0wmQ1lZGfLz8xEaGoqysjKUlZWhpqYGBoMBjx49QlxcHOrq6nDkyBEcPHjQYlNbk8kEPz8/BAUFmW1bv349PD092aDjw4cPgxDCVlC3xv/93/8hLCzMtptmhdbWVgiFQrZJLTAsuObMmYOwsDB2Jm358uUQCAScZw74IRqYHn47duyAn58fp3yBwWCweN3WYI7JpK6PpLKyEhcvXkR3dzcIIZBIJHj37h27nXFjjgzYZmIx4+PjUVRUhKSkJCQmJqKsrAwajQZJSUns/5URtSqVihP6wGQ/NjU1sS19Fi1aZNF+RpQ6IpnGWVARQ3E6zKhsZN0UnU6H48ePo6enB8DwC2X16tVYsWIFFixYYNM0/0RwhYgBfvxwBAUF2VwpeTqydetWEELMUo1PnjzJqSBsC62trSCEQK1Wc9YzLT/Gm6W7ceMGCCHIzMxEWFgYOjo6LO538OBBq32+mP8LM3K3hI+Pj8Vq4Y6goaEBzc3N0Ol04PF4SE9P52x///49CCFYvnw5u44RZaMXZlYGAM6ePYvs7Gx2pmHfvn3YvHkzgOH/1apVq8xs8ff3NzumpcBeptXL6DYsnZ2dkEqlnIy8vLw8EEIsVk0fSWlpKcRi8Zj7jMeff/5p8X85NDTEiuvPnz+DEGLx2dJqtewsEvBDgCiVSuzfvx/Nzc0YGhqyK07owIEDIIRYrC20a9cu9PX14dKlS2ZNiwHg6NGjIITg6NGj7LrS0lKOa2rx4sW4du0aAKC4uNis9U1fXx927drFWTd37lxIpVIYjUZ8//4dly5dsjqD+uXLF5tmK10JFTEUp8KMqufOnTvmfvn5+WxwIjN6YppN2svp06etdgMXCASIiIiwuG3nzp0TOp8t9Pf3IyIiAoQQFBUVOe08zsbHxweEEIcIsYaGBtbFoFarzRZbqmkzDV8tpe8y1NbWWhUxzItvZDr7aPh8/piFv3Jzc+3qSB8XF2c2Y3XlyhUQQsyewfEye6zR19fHieGJi4tjm+KWl5dPyrXJvJgPHTrEWZ+dnQ2VSsW+EE0mE/z9/cf97gPDxRwJIZOKO0pLSwMhZMwBEHOfLc08MG4dkUiEoaEhfP/+HZmZmRxRJ5fLOWJxPHbs2DGuiKuoqAAhBA8fPuSsZwKiRzbzHfm9+/btG0QiERuvEh0dPa7bp6enB4QQm2cWmXtSWVlp0/6ugIoYilNhRhNj1Uvp6OgAn8/njOSLi4s5o09H4aqZGGDYdSASiRxSIt4VMLMCCoXCIcc7c+aMWWNSe2H6hTFuJUuMJWIqKystziqMxMfHBytWrJiwjbawadMmEELMhHtmZib4fP6kRGNraysEAgH6+/sBAKmpqZx6MPaSm5sLQgjH9bF7927Mnj2bMxvGFOFbv379uMdct24deDzepArrJScnW3THjYRxY1t6iQ8MDLBihREGJpMJZ86cQVFRERQKBQghkEqlNpcvYATfSCEymvj4eHh5eXEE3Pfv3yGVShEdHW31c3V1dazrbGhoCAKBYNw2MIyIGz07Yw3G1TW6Dcp0gooYilNhyvCPlQLKfLFG/lBv2rQJc+bMcbg9rhIxAwMDUKvVrL99utDZ2Ym6uroxG6EyMD76nJycMffbv38/UlNTUV9fj3379qGiogJZWVlmI2TG324t22O8/9O7d+8gl8tRX18/phAZS8Tk5OSM+3yGh4c7vVt7QkICPD09OYXFuru7wefzWZF348aNCQngjRs3si4SYDhbaKLVnJnZlZFxITU1NVCr1WZBvsx3/9KlS+y6kVWoR7J8+XJIpdIJ2TTSDkuzWYzdRqORdYUlJiaa7cMEUTO/O0ePHjWLYWOepdHxVdY4efIkCCFW/2/9/f3g8/lmlegvXrzIuZba2loz4aRSqdgZyLa2Nqtp6s3NzayIYso+jBTLzc3NuHXrlkX7mIHL/v37bbpeV0BFDMWpNDY2Wv3Sv337FmvXrsWxY8dACOEE0G3ZsgW+vr4Ot8cVIsZkMmHJkiXTzq986tQprFu3DmlpaYiJiRl3/8HBQQgEAovxITqdDoWFhXjx4gX27NmDnTt3QigUsj+qR48etTiqTE1NBSEEL1++5Kx/9+6d1WBDYNjlqFar2RfkqlWrQAixmCrKvHhGjz7b2togEAggkUjGjHNISkpyahbdwMAABAKBWT0OZhaTEV+xsbH4/PmzXcfu6+uDVCrlxFH4+vqisLBwQrYyIqCgoAAtLS3IycnB1q1bLQZ0L1iwAB4eHuzLt6GhAevWrbN43OzsbLtSly3x6dMn8Hg8iwUtV65cyQqS+fPnw9PT0yxtmBEcf//9N4DhF/7oxAOTyQSBQGA1JXk0TOCstRo4zPbR1ZaXL18OQghaW1vR1dWFefPmcbbfu3ePI0aY/8tooc78/jLfJWY2aWT7g6SkJKsusqdPn4IQMq2rf1MRQ3EqBoMBaWlp0Gg07BdHp9Ohrq4OUVFRuHfvHuv3Hy1ifHx8HG6PK0RMZWXltG6mVllZaZOIAYZrpvj5+bGp1QaDAVevXoVKpcLBgwfx+PFjdHR0ICcnh9Psrrq62mKmS3t7O4KDgyGTyfDgwQMMDQ1Bp9MhKyvLbGQPDM/OPH/+HFlZWfD29mbjL9rb2+Hh4YHAwECzxpuMiBGJRGzMQF9fH1JTU8Hn88f9gV6/fj38/Pxsuj8T4c6dOxZfZIyr7OXLlzh16hQn/ddWGHfGyOyY0NBQ+Pn5Teh7wAQVL1iwALt27Rqz5Up2djb7HX748CHUarVZo9KRNlkKNraXY8eOgc/nY9myZawwvXz5MjIzM1lXVWtrK2QyGRYtWsTO/ra0tEAulyMrK4u9Lxs3bgSfz+e0KmloaEBQUJDNzTa7u7vB4/GsVr2trq62KHKWLFnCPnMlJSVms5g5OTmQSCSsePz48SMIIWYzhv/88w9EIhEuXLiAs2fPIigoCIQQ9v+2e/fuMe87E9w8nVvrUBFDcTo6nQ4FBQUIDw9HXFwcEhISUFVVxRmhEUI4o+GKiooZ4U46duwYfv311wkVuuvq6mI/Z6uLZiLYI2IAYNu2bYiIiEBsbCxUKhVKS0s58RGMy+HcuXPsOrVabTVwWqvVoqysDEFBQQgMDIRGo7E6cp0/fz4kEgkkEgmEQiE7u5WTkwMvLy92m5eXFxsDwoiYnTt3ori4GGq1mq2TMTqY0hJXr161mmHiCBoaGiCVSs0KP/b09GDJkiWIjo5GUVHRhJ6hyMhIhISEcGJNFi9eDELMa7zYwocPH/D06VObYldaWlqg0WgQHR2NnJwcq7NdnZ2dIISYZdZMlFu3biEhIQEikQgajQYbNmwwCxju7OzE+vXrMXv2bISGhiIqKgr79u3j/DZs2rQJW7ZsQV5eHlQqFVQqFRYtWmRzd3qG+Ph4q9ltGzZsQGRkpJl9T548gUajgUqlwr///mtmO4/H4xxzaGgIvr6+CAkJ4eyr1WqRnp4OlUqFnJwc6HQ6bNy4kS0sWVFRMeZzVVJSYrWGzHSBihiKy/n06ZNZCvaqVavGDLacKFMpYu7cuYOYmJgJ9TDS6XSQy+UwGAxobW21yUVz7tw5rFmzZtxldPCfvSJmPF69egVCCFus7sOHD+xLk0kHnUrGiomxhYGBAYhEogl/3pVcuXLFrAXF69evbXaHTAWnT5+Gv7//tOvw7Iju3cDwbEtwcLDDjmcwGHD8+HGz2aDr16+PG9jLYKstCoVi2rnBR0NFDGVakJuby35ZBgcHERYW5pReKn/99ZfDfkzGoqWlBREREVbL54/F9+/fsWDBAjYV214Xjb1UVlaOmQVhL7W1tZwMpsOHD0OpVGJgYMAlbrWx6sTYSmVlJVQqlQOtojAkJydP6xTeyaLVauHt7Y3Lly+72hS7aGxshEgkYmt5TVeoiKFMC/r6+lBUVISioiLk5OTYXRdjOtHd3Q2lUokHDx7Y/dm2tjZkZWWBEMLJGLDXRWMPlZWVUCqVkz4Ow++//84Jom1tbUVCQgJKS0vHrIzrDEwmE7Zv384G9k60D013dzekUinu3LnjYAt/bp4+fQqpVGp3wLK7UVVVZZaBNN3Jzs5GRUWFq80YFypiKBQHYjAYMH/+fJw4ccKmfb9+/YpXr17h1KlTKCwsBJ/PZ+uejHR72eKimYw7yZEiZrqg1WohFArh4+MDPz8/+Pj4QCgUTsi9BwDnz59nZ5Qok2dwcBAqlQpXr151tSlOR6/XQ61WT+vy/SM5c+YMkpOT3aJpLRUxFIoDYVJ9J7uMLg7oTBfNTBUxzmDPnj1YuXKlq82YEZSUlNhcdG0m8PXrVyiVSrx588bVpozJu3fvEBUVZVd7BVdCRQyF4iBMJhMuXLiA06dP27ScOXMGZ8+exdmzZ3Hu3DmcP38e58+fx4ULF8xSGp3horl69Spyc3Mhk8kgFouRlpbGqSdCsczNmzddVvV5pjA0NGSxs/NMp7OzE8+fP3e1GWPS3Nw85W7fyUBFDIVCoVAoFLeEihgKhUKhUChuCRUxFAqFQqFQ3BIqYigUCoVCobglVMRQKBQKhUJxS6iIoVAoFAqF4pZQEUOhUCgUCsUtoSKGQqFQKBSKW0JFDIVCoVAoFLeEihgKhUKhUChuCRUxFAqFQqFQ3BIqYigUCoVCobglVMRQKBQKhUJxS6iIoVAoFAqF4pZQEUOhUCgUCsUt+f8LiNnaNsX+sAAAAABJRU5ErkJggg==)\n",
        "where the Fourier coefficients are \n",
        "![Screenshot 2021-10-26 at 02-01-55 Solving one- and two-dimensional unsteady Burgers' equation using fully implicit finite d[...].png](data:image/png;base64,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)"
      ]
    },
    {
      "cell_type": "code",
      "metadata": {
        "id": "YP-jRVdq3ttu",
        "cellView": "form"
      },
      "source": [
        "#@title\n",
        "from scipy.special import iv\n",
        "import scipy.integrate as integrate"
      ],
      "execution_count": null,
      "outputs": []
    },
    {
      "cell_type": "code",
      "metadata": {
        "id": "ygsVydNn5hL6",
        "cellView": "form"
      },
      "source": [
        "#@title\n",
        "Time=np.zeros((len(nu),3))\n",
        "Time[0]=[8,10,12]\n",
        "Time[1]=[10,15,20]\n",
        "Time[2]=[20,30,40]\n",
        "Time[3]=Time[2]"
      ],
      "execution_count": null,
      "outputs": []
    },
    {
      "cell_type": "code",
      "metadata": {
        "id": "9an0I1CRu_H8",
        "cellView": "form"
      },
      "source": [
        "#@title\n",
        "Nx_an = Nx\n",
        "U_an = np.zeros((4,3,Nx_an))\n",
        "x_an = np.linspace(0,1,Nx_an)\n",
        "h_an = x_an[1]-x_an[0]\n",
        "def Co(nu=nu[NU]):\n",
        "  return integrate.quad(lambda x: np.exp(-1/(2*nu*np.pi)*(1-np.cos(np.pi*x) ) ),0,1)[0]\n",
        "\n",
        "def get_Cn(n,nu=nu[NU]):\n",
        "  return 2*(integrate.quad(lambda x: np.exp(-1/(2*nu*np.pi)*(1-np.cos(np.pi*x) ) ) * np.cos(n*np.pi*x),0,1)[0])\n",
        "\n",
        "def sum1(x,t,N,Cn=get_Cn,nu=nu[NU]):\n",
        "  total=0\n",
        "  for n in range(1,N):\n",
        "    total+=Cn(n)*np.exp(-n**2 *np.pi**2 * nu * t) * n * np.sin(n * np.pi * x)\n",
        "  return total\n",
        "\n",
        "def sum2(x,t,N,Cn=get_Cn,nu=nu[NU]):\n",
        "  total=0\n",
        "  for n in range(1,N):\n",
        "    total+=Cn(n)*np.exp(-n**2 *np.pi**2 * nu * t) * np.cos(n * np.pi * x)\n",
        "  return total\n",
        "\n",
        "def get_U_an(x,t,nu=nu[NU]):\n",
        "  return 2*nu*np.pi*sum1(x,t,10)/(Co() + sum2(x,t,10))\n",
        "  "
      ],
      "execution_count": null,
      "outputs": []
    },
    {
      "cell_type": "code",
      "metadata": {
        "colab": {
          "base_uri": "https://localhost:8080/"
        },
        "id": "LfNN9pp_x2Lj",
        "cellView": "form",
        "outputId": "776dd6e6-2d2f-437f-ed2a-7b8899a832a4"
      },
      "source": [
        "#@title\n",
        "h_an"
      ],
      "execution_count": null,
      "outputs": [
        {
          "output_type": "execute_result",
          "data": {
            "text/plain": [
              "0.002506265664160401"
            ]
          },
          "metadata": {},
          "execution_count": 67
        }
      ]
    },
    {
      "cell_type": "code",
      "metadata": {
        "colab": {
          "base_uri": "https://localhost:8080/",
          "height": 401,
          "referenced_widgets": [
            "056a6b141f064229b48eb70af9f17818",
            "c32f358c0b8c4e358611d5fdd2243194",
            "55159a34c363445fb135a13538cb4870",
            "d5273b79b4de4e1caeb4f69369b7e710",
            "bfc7ae4eb4e845e385201927daa6147e",
            "6f67f10c9c234c7a8f17a42e95cd0995",
            "b9f48d3f1a3a4394930f046024cabc07",
            "392edc32a7e64ae5bbb9fd554bba514e",
            "bb6371be4ada4044bff55fc856c46f5e",
            "4caea953c4d84e7eb12392d779fe137f",
            "882a74e8d6c343a1bf7741f9b408624f",
            "89561c9735c440ea8661ab51855b6f02",
            "29e8f84ec8ac47fc8ab6ca6071456ccc",
            "1222bfbeb19e408c842c8b144a2e52ab",
            "48fa54456c324e45bf6dcbb921cc64bf",
            "e2bb9d2492314e1eac840745ea14125f",
            "b3798e7a79f94392aebe693291b8b3b4",
            "5379fe0be55a4b6e84e0d796cfd14b40",
            "aa605b36bf474ee3a80348a1b110229a",
            "256ab3ec450047e8af850d37deaabcc8",
            "2248582ae41f4fe59303edf631594880",
            "9cdaa4ebcf2c42d885786b6ad28a8aa9",
            "97d133a48555441a96ec5f917c486a44",
            "02b23bf19e794dd38b9f6b02b510e362",
            "000bb2722ff94364aa319c2f59efc73b",
            "735d7932725a4406bcc9d854f0451648",
            "bf4ec1de30d24440945133275b25b4de",
            "ba517c5a5d9948be9375afb7e91deb25",
            "75845474bfb5441c91ecfc5882cd02fd",
            "1ea3d42b9cfe45f081b5395b8f99a35a",
            "403fbd0c436b4e11ae4bd0b07430d5fd",
            "4bdd18e9920540edb56f06f4166fdcd7",
            "27b0ddde22c94e97a8c04194fb64ff38",
            "ef8cd58aac12421ebcefcaed6da837b9",
            "d1cd5729880941ffbfe70ef2ef71daed",
            "0a5676be0406449a907a454c8d7b0f44",
            "ec6362070cc64f5cb83b71ffe220d32d",
            "8a9bb485713042fe86f45889be9e8b49",
            "6c64716107544f50a71a587b982a4028",
            "a5c1f4bf6325445cb005c983bc3ad72f",
            "89ed9671d5da4db681214a380bbce48f",
            "fe834e453db1405f80c1cc35594da832",
            "9a2986b0ea464a038503f167547a284c",
            "848dd0efbd55436cb744184da840044d",
            "662536211d9b4c2ea7b894b816a26904",
            "7052b7e595eb462f91944b86f0f6fef7",
            "a1c43531e29341529f3f9dead70ec422",
            "6d4b89dfa7c147bcafc47849813babf5",
            "5f60d8273ee34a6c9c3a34e877103422",
            "dc443b80cdd848da8bb70a7f935b369a",
            "dc03b44789e24bcb924aa392e4ee3bf3",
            "625cab50f5d04a55bf6035886bf68dd2",
            "cb5b8344a5b94212a760aabdf417b440",
            "fc531eb91db74ed68d1e6301d76d6f7a",
            "338c269d25d04576a8f1863d1032188c",
            "b3cbb91416fd4f49a6b37187d042044a",
            "107add9e6e2f42c1bfda84a1a6c1f092",
            "15308ae16f3241c0a78278ea6008158b",
            "903928fe169847b5b5956d3b2750dcb9",
            "23e1a5ad991142809602a29e8e572d17",
            "c96078999c9548e5b485ba029880f933",
            "3df6f624400941b485faf809ac00a1ed",
            "fbddd1505ca544cd95741ed444da7b9e",
            "6cf4e3e605cb4dc7bceb5cf771321cf5",
            "82f5395d383b44e4bd95214a4838ea62",
            "5b619e3b92e145aa94eb9f990a98fa61",
            "9c0867985cfb4be79a521e58293bab15",
            "8bb90e3453814ecc841762b35ced29b3",
            "aea9aa5fc9c3435f8092805e0e2e5179",
            "b672ab11194b46ffa1c1771c5b39af89",
            "084ebf4993d5465bb8158c0e1625659c",
            "972f6504c42f4b2ab338066ab44d6b45",
            "49c3f83fd13245a7b7435444c04f5865",
            "ce0a776713954828a56119eafdb967ed",
            "a88b3b5f5c984cf5bedfd8d38ffb4f19",
            "84c66b10e19a418daee0dd2c6cdd50e5",
            "d395979ccac14353882ad858b9adbe2a",
            "0c8f3481a8a042df9f6bcf886fa621d2",
            "d932d3efce7a40b4992795229dde9a53",
            "a0101e3a2c15454eb29f4331dd59269c",
            "eb06efa060f04772998330893c5cbcda",
            "e85f2e1030c9409fa8bc0cf8e190a003",
            "2953ba0e9b424a6d861cb1980a144d3e",
            "e1adda8a1847409d8947b7341b9582dd",
            "af17f5900b3645a4be24726eb8f1a29c",
            "f32e5b12f6bf4d12952b447c471cbfc3",
            "b80d6ab36b474aac8d02e3f66b47403f",
            "094a62123c06473fbbd17edad4e4c8e9",
            "13e1b3397335422f9f99ac6d1ad8c0b5",
            "83e2befa42ed4147b5cc1e6e1b88f505",
            "87c97c94c61945aaa4843db2508d6494",
            "d7dd7830a5cf46fb86b0a0e7e1919fbd",
            "7790c90af1d5477ca599a419888f5234",
            "cfc8d6933e134df999a08490fb773fae",
            "9119aad328a449769d0a969b298c4794",
            "f2680913ce9847cbbc67126767aa81eb",
            "aafe98cfbcb04ae08bd87a2c16807309",
            "80eb4a425dec437b9010178a2e5102b8",
            "565dbaf3d83a489b867505026cf36e47",
            "97f747fc2fdb4a418458f6c045a68891",
            "8ba3dc899ad648a7808734bed62b8b80",
            "fa4d22df88a14688962f9377a92ae95f",
            "be5471732f5c42be90512215560d7442",
            "1914b993490a42d99ec09f2f708de9ed",
            "0ee019eb63c24e8e8adcb0188060959d",
            "dfa55cf961734763bc67a99a02bd9a5c",
            "f7114cff2963498c9220fa4e9663c2f4",
            "998b4924bbf34954a5f1972e31bf6eb0",
            "8a8445d3484d46d48efd33b4446080e3",
            "71f1e525fb6146f095b73569933cf807",
            "edfaa880a4f8473491e1c2785fc8a3f9",
            "092760a88b0c4234b8662ca369fe2d77",
            "093fe3e5506c4351a50feb685b079514",
            "add450e77de84a99b88b0c19c26bb07f",
            "c40f7b2fc9ea4416ad12a9c167be7b2c",
            "4d9b0c9366034933927d7ed95b79509a",
            "4e51748361634ee6bb36f5b4cf5d4d41",
            "707c396b19b3423bac65f29a1ab015fc",
            "1185444817ad4e80b7f3e50328bd4f5f",
            "bcc20fb76a03489d90d563dcb1bfe974",
            "bd4af8ef47ea40f693da116fb2c613bb",
            "5a4ea38e9a7a4da2aaf0796dad94b19a",
            "3f368bc44643469199f00a83d1fc658a",
            "14fa65694d2244e2a12a4ee0a9f6105c",
            "cc4717a60075438484226f5e0a8d375f",
            "d06abf5383fa4856a0f56311460ba823",
            "a43f69c8256b44c7936ba3d3c728cc87",
            "7f7ffa90cde1442c94deaba0bc464d15",
            "f5c5c23bff38475e8f9a0d8e4f0667a5",
            "256d7a9ebc6540108097fff60ca57462",
            "d28ac563e8514bec90f7acf3b555413f",
            "a57f7c770679453bbdaaca0fa8e57a27"
          ]
        },
        "id": "lQU8G2AQ85Ao",
        "cellView": "form",
        "outputId": "35da814b-2bdf-4748-ccf7-06d63525b26f"
      },
      "source": [
        "#@title\n",
        "for NU in range(len(nu)):\n",
        "  for j in range(3):\n",
        "    for i in tqdm.notebook.tqdm(range(Nx_an)):\n",
        "      U_an[NU,j,i]=get_U_an(i*h_an,Time[NU,j])"
      ],
      "execution_count": null,
      "outputs": [
        {
          "output_type": "display_data",
          "data": {
            "application/vnd.jupyter.widget-view+json": {
              "model_id": "056a6b141f064229b48eb70af9f17818",
              "version_minor": 0,
              "version_major": 2
            },
            "text/plain": [
              "  0%|          | 0/400 [00:00<?, ?it/s]"
            ]
          },
          "metadata": {}
        },
        {
          "output_type": "display_data",
          "data": {
            "application/vnd.jupyter.widget-view+json": {
              "model_id": "89561c9735c440ea8661ab51855b6f02",
              "version_minor": 0,
              "version_major": 2
            },
            "text/plain": [
              "  0%|          | 0/400 [00:00<?, ?it/s]"
            ]
          },
          "metadata": {}
        },
        {
          "output_type": "display_data",
          "data": {
            "application/vnd.jupyter.widget-view+json": {
              "model_id": "97d133a48555441a96ec5f917c486a44",
              "version_minor": 0,
              "version_major": 2
            },
            "text/plain": [
              "  0%|          | 0/400 [00:00<?, ?it/s]"
            ]
          },
          "metadata": {}
        },
        {
          "output_type": "display_data",
          "data": {
            "application/vnd.jupyter.widget-view+json": {
              "model_id": "ef8cd58aac12421ebcefcaed6da837b9",
              "version_minor": 0,
              "version_major": 2
            },
            "text/plain": [
              "  0%|          | 0/400 [00:00<?, ?it/s]"
            ]
          },
          "metadata": {}
        },
        {
          "output_type": "display_data",
          "data": {
            "application/vnd.jupyter.widget-view+json": {
              "model_id": "662536211d9b4c2ea7b894b816a26904",
              "version_minor": 0,
              "version_major": 2
            },
            "text/plain": [
              "  0%|          | 0/400 [00:00<?, ?it/s]"
            ]
          },
          "metadata": {}
        },
        {
          "output_type": "display_data",
          "data": {
            "application/vnd.jupyter.widget-view+json": {
              "model_id": "b3cbb91416fd4f49a6b37187d042044a",
              "version_minor": 0,
              "version_major": 2
            },
            "text/plain": [
              "  0%|          | 0/400 [00:00<?, ?it/s]"
            ]
          },
          "metadata": {}
        },
        {
          "output_type": "display_data",
          "data": {
            "application/vnd.jupyter.widget-view+json": {
              "model_id": "9c0867985cfb4be79a521e58293bab15",
              "version_minor": 0,
              "version_major": 2
            },
            "text/plain": [
              "  0%|          | 0/400 [00:00<?, ?it/s]"
            ]
          },
          "metadata": {}
        },
        {
          "output_type": "display_data",
          "data": {
            "application/vnd.jupyter.widget-view+json": {
              "model_id": "0c8f3481a8a042df9f6bcf886fa621d2",
              "version_minor": 0,
              "version_major": 2
            },
            "text/plain": [
              "  0%|          | 0/400 [00:00<?, ?it/s]"
            ]
          },
          "metadata": {}
        },
        {
          "output_type": "display_data",
          "data": {
            "application/vnd.jupyter.widget-view+json": {
              "model_id": "13e1b3397335422f9f99ac6d1ad8c0b5",
              "version_minor": 0,
              "version_major": 2
            },
            "text/plain": [
              "  0%|          | 0/400 [00:00<?, ?it/s]"
            ]
          },
          "metadata": {}
        },
        {
          "output_type": "display_data",
          "data": {
            "application/vnd.jupyter.widget-view+json": {
              "model_id": "97f747fc2fdb4a418458f6c045a68891",
              "version_minor": 0,
              "version_major": 2
            },
            "text/plain": [
              "  0%|          | 0/400 [00:00<?, ?it/s]"
            ]
          },
          "metadata": {}
        },
        {
          "output_type": "display_data",
          "data": {
            "application/vnd.jupyter.widget-view+json": {
              "model_id": "edfaa880a4f8473491e1c2785fc8a3f9",
              "version_minor": 0,
              "version_major": 2
            },
            "text/plain": [
              "  0%|          | 0/400 [00:00<?, ?it/s]"
            ]
          },
          "metadata": {}
        },
        {
          "output_type": "display_data",
          "data": {
            "application/vnd.jupyter.widget-view+json": {
              "model_id": "5a4ea38e9a7a4da2aaf0796dad94b19a",
              "version_minor": 0,
              "version_major": 2
            },
            "text/plain": [
              "  0%|          | 0/400 [00:00<?, ?it/s]"
            ]
          },
          "metadata": {}
        }
      ]
    },
    {
      "cell_type": "markdown",
      "metadata": {
        "id": "JHYTBCODVui3"
      },
      "source": [
        "### Comparison of analitical and numerical solutions"
      ]
    },
    {
      "cell_type": "code",
      "metadata": {
        "colab": {
          "base_uri": "https://localhost:8080/",
          "height": 294
        },
        "id": "y6hPEpHQA1LR",
        "cellView": "form",
        "outputId": "26a49c1a-e75f-4f70-f114-7e3b5415d3f1"
      },
      "source": [
        "#@title\n",
        "fig, ((ax1, ax2), (ax3, ax4)) = plt.subplots(2, 2)\n",
        "fig.suptitle('U(x) for different $time$ and $Nu$ coefficients')\n",
        "ax1.plot(x,u[0,:,round(8//tau)],label='T=8')\n",
        "ax1.plot(x,u[0,:,round(10//tau)],label='T=10')\n",
        "ax1.plot(x,u[0,:,round(12//tau)],label='T=12')\n",
        "# ax1.plot(x,U_an[0,0],'--')\n",
        "# ax1.plot(x,U_an[0,1],'--')\n",
        "# ax1.plot(x,U_an[0,2],'--')\n",
        "ax1.set_title(f'Nu = {nu[0]}')\n",
        "ax1.legend()\n",
        "\n",
        "ax2.plot(x,u[1,:,round(10//tau)],label='T=10')\n",
        "ax2.plot(x,u[1,:,round(15//tau)],label='T=15')\n",
        "ax2.plot(x,u[1,:,round(20//tau)],label='T=20')\n",
        "# ax2.plot(x,U_an[1,0],'--')\n",
        "# ax2.plot(x,U_an[1,1],'--')\n",
        "# ax2.plot(x,U_an[1,2],'--')\n",
        "ax2.set_title(f'Nu = {nu[1]}')\n",
        "ax2.legend()\n",
        "\n",
        "ax3.plot(x,u[2,:,round(20//tau)],label='T=20')\n",
        "ax3.plot(x,u[2,:,round(30//tau)],label='T=30')\n",
        "ax3.plot(x,u[2,:,round(40//tau)],label='T=40')\n",
        "# ax3.plot(x,U_an[2,0],'--')\n",
        "# ax3.plot(x,U_an[2,1],'--')\n",
        "# ax3.plot(x,U_an[2,2],'--')\n",
        "ax3.set_title(f'Nu = {nu[2]}')\n",
        "ax3.legend()\n",
        "\n",
        "ax4.plot(x,u[3,:,round(20//tau)],label='T=20')\n",
        "ax4.plot(x,u[3,:,round(30//tau)],label='T=30')\n",
        "ax4.plot(x,u[3,:,round(40//tau)],label='T=40')\n",
        "# ax4.plot(x,U_an[3,0],'--')\n",
        "# ax4.plot(x,U_an[3,1],'--')\n",
        "# ax4.plot(x,U_an[3,2],'--')\n",
        "#ax4.set_title(f'Nu = {nu[3]}')\n",
        "ax4.legend()\n",
        "\n",
        "for ax in fig.get_axes():\n",
        "    ax.label_outer()\n"
      ],
      "execution_count": null,
      "outputs": [
        {
          "output_type": "display_data",
          "data": {
            "image/png": "[encoded data removed]",
            "text/plain": [
              "<Figure size 432x288 with 4 Axes>"
            ]
          },
          "metadata": {
            "needs_background": "light"
          }
        }
      ]
    },
    {
      "cell_type": "code",
      "metadata": {
        "id": "udJ88PX7A2Bs",
        "cellView": "form"
      },
      "source": [
        "#@title\n",
        "# plt.plot(x,u[:,-1],label='T=12, numerical')\n",
        "# plt.plot(x,U_an[2],'--',label='T=12, analitical')\n",
        "# plt.plot(x,u[:,round((M-1)*8/12)],label='T=8, numerical')\n",
        "# plt.plot(x,U_an[1],'--',label='T=10, analitical')\n",
        "# plt.plot(x,u[:,round((M-1)*10/12)],label='T=10, numerical')\n",
        "# plt.plot(x,U_an[0],'--',label='T=8, analitical')\n",
        "# plt.ylabel('u')\n",
        "# plt.xlabel('x')\n",
        "# plt.legend()\n",
        "# plt.show()"
      ],
      "execution_count": null,
      "outputs": []
    },
    {
      "cell_type": "code",
      "metadata": {
        "id": "I8V1Cgu7XLfu",
        "cellView": "form"
      },
      "source": [
        "#@title\n",
        "Error = np.zeros((4,3,Nx))\n",
        "for NU in range(len(nu)):\n",
        "  for j in range(3):\n",
        "    for i in range(1,Nx-1):\n",
        "      Error[NU,j,i]=abs(U_an[NU,j,i]-u[NU,i,round(Time[NU,j]/T*M)-1])/U_an[NU,j,i]*100"
      ],
      "execution_count": null,
      "outputs": []
    },
    {
      "cell_type": "code",
      "metadata": {
        "colab": {
          "base_uri": "https://localhost:8080/",
          "height": 294
        },
        "id": "vPXHgoflGVZC",
        "cellView": "form",
        "outputId": "a9cb08de-6842-4451-c5f6-179ff46109a7"
      },
      "source": [
        "#@title\n",
        "fig, ((ax1, ax2), (ax3, ax4)) = plt.subplots(2, 2)\n",
        "fig.suptitle('Error, mormal scale')\n",
        "ax1.plot(x,Error[0,0],label=f'T={Time[0,0]}')\n",
        "ax1.plot(x,Error[0,1],label=f'T={Time[0,1]}')\n",
        "ax1.plot(x,Error[0,2],label=f'T={Time[0,2]}')\n",
        "ax1.set_title(f'Nu = {nu[0]}')\n",
        "ax1.legend()\n",
        "\n",
        "ax2.plot(x,Error[1,0],label=f'T={Time[1,0]}')\n",
        "ax2.plot(x,Error[1,1],label=f'T={Time[1,1]}')\n",
        "ax2.plot(x,Error[1,2],label=f'T={Time[1,2]}')\n",
        "ax2.set_title(f'Nu = {nu[1]}')\n",
        "ax2.legend()\n",
        "\n",
        "ax3.plot(x,Error[2,0],label=f'T={Time[2,0]}')\n",
        "ax3.plot(x,Error[2,1],label=f'T={Time[2,1]}')\n",
        "ax3.plot(x,Error[2,2],label=f'T={Time[2,2]}')\n",
        "ax3.set_title(f'Nu = {nu[2]}')\n",
        "ax3.legend()\n",
        "\n",
        "ax4.plot(x,Error[3,0],label=f'T={Time[3,0]}')\n",
        "ax4.plot(x,Error[3,1],label=f'T={Time[3,1]}')\n",
        "ax4.plot(x,Error[3,2],label=f'T={Time[3,2]}')\n",
        "ax4.set_title(f'Nu = {nu[3]}')\n",
        "ax4.legend()\n",
        "\n",
        "for ax in fig.get_axes():\n",
        "    ax.label_outer()"
      ],
      "execution_count": null,
      "outputs": [
        {
          "output_type": "display_data",
          "data": {
            "image/png": "[encoded data removed]",
            "text/plain": [
              "<Figure size 432x288 with 4 Axes>"
            ]
          },
          "metadata": {
            "needs_background": "light"
          }
        }
      ]
    },
    {
      "cell_type": "code",
      "metadata": {
        "colab": {
          "base_uri": "https://localhost:8080/",
          "height": 298
        },
        "id": "b2cY1CwaHYtU",
        "cellView": "form",
        "outputId": "142e3939-dc13-4f0c-e0fa-1f3df1d8f6cd"
      },
      "source": [
        "#@title\n",
        "fig, ((ax1, ax2), (ax3, ax4)) = plt.subplots(2, 2)\n",
        "fig.suptitle('Error, log scale')\n",
        "ax1.plot(x,Error[0,0],label=f'T={Time[0,0]}')\n",
        "ax1.plot(x,Error[0,1],label=f'T={Time[0,1]}')\n",
        "ax1.plot(x,Error[0,2],label=f'T={Time[0,2]}')\n",
        "ax1.set_yscale('log')\n",
        "ax1.set_xscale('log')\n",
        "ax1.set_title(f'Nu = {nu[0]}')\n",
        "ax1.legend()\n",
        "\n",
        "ax2.plot(x,Error[1,0],label=f'T={Time[1,0]}')\n",
        "ax2.plot(x,Error[1,1],label=f'T={Time[1,1]}')\n",
        "ax2.plot(x,Error[1,2],label=f'T={Time[1,2]}')\n",
        "ax2.set_yscale('log')\n",
        "ax2.set_xscale('log')\n",
        "ax2.set_title(f'Nu = {nu[1]}')\n",
        "ax2.legend()\n",
        "\n",
        "ax3.plot(x,Error[2,0],label=f'T={Time[2,0]}')\n",
        "ax3.plot(x,Error[2,1],label=f'T={Time[2,1]}')\n",
        "ax3.plot(x,Error[2,2],label=f'T={Time[2,2]}')\n",
        "ax3.set_yscale('log')\n",
        "ax3.set_xscale('log')\n",
        "ax3.set_title(f'Nu = {nu[2]}')\n",
        "ax3.legend()\n",
        "\n",
        "ax4.plot(x,Error[3,0],label=f'T={Time[3,0]}')\n",
        "ax4.plot(x,Error[3,1],label=f'T={Time[3,1]}')\n",
        "ax4.plot(x,Error[3,2],label=f'T={Time[3,2]}')\n",
        "ax4.set_yscale('log')\n",
        "ax4.set_xscale('log')\n",
        "ax4.set_title(f'Nu = {nu[3]}')\n",
        "ax4.legend()\n",
        "\n",
        "for ax in fig.get_axes():\n",
        "    ax.label_outer()"
      ],
      "execution_count": null,
      "outputs": [
        {
          "output_type": "display_data",
          "data": {
            "image/png": "[encoded data removed]",
            "text/plain": [
              "<Figure size 432x288 with 4 Axes>"
            ]
          },
          "metadata": {
            "needs_background": "light"
          }
        }
      ]
    },
    {
      "cell_type": "code",
      "metadata": {
        "colab": {
          "base_uri": "https://localhost:8080/"
        },
        "id": "fIepopb8dvKd",
        "cellView": "form",
        "outputId": "cfbf364a-8b03-46a4-9f8c-894b1c2c24e6"
      },
      "source": [
        "#@title\n",
        "RMSE=np.zeros((4,3))\n",
        "RRMSE=np.zeros((4,3))\n",
        "R2=np.zeros((4,3))\n",
        "for NU in range(len(nu)):\n",
        "  for j in range(3):\n",
        "    for i in range(1,Nx-1):\n",
        "      RMSE[NU,j] += (U_an[NU,j,i] - u[NU,i,round(Time[NU,j]/T*M)-1])**2\n",
        "      RRMSE[NU,j]+= (U_an[NU,j,i] - np.mean(U_an[NU,j,:]) )**2\n",
        "    RMSE[NU,j] = np.sqrt(RMSE[NU,j]/Nx)\n",
        "    RRMSE[NU,j] = np.sqrt(RRMSE[NU,j]/Nx)\n",
        "    RRMSE[NU,j] = RMSE[NU,j]/RRMSE[NU,j]\n",
        "    R2[NU,j] = 1 - RRMSE[NU,j]**2\n",
        "    #print(f\"RMSE for nu={nu[NU]}, T={Time[NU,j]} is: \",RMSE[NU,j])\n",
        "    print(f\"  R^2 for nu={nu[NU]}, T={Time[NU,j]} is: \",round(R2[NU,j],7))"
      ],
      "execution_count": null,
      "outputs": [
        {
          "output_type": "stream",
          "name": "stdout",
          "text": [
            "  R^2 for nu=0.01, T=8.0 is:  0.999673\n",
            "  R^2 for nu=0.01, T=10.0 is:  0.9996736\n",
            "  R^2 for nu=0.01, T=12.0 is:  0.9996507\n",
            "  R^2 for nu=0.005, T=10.0 is:  0.9996099\n",
            "  R^2 for nu=0.005, T=15.0 is:  0.9995294\n",
            "  R^2 for nu=0.005, T=20.0 is:  0.9993607\n",
            "  R^2 for nu=0.001, T=20.0 is:  0.9993073\n",
            "  R^2 for nu=0.001, T=30.0 is:  0.9987779\n",
            "  R^2 for nu=0.001, T=40.0 is:  0.9980613\n",
            "  R^2 for nu=0.0007, T=20.0 is:  0.9993033\n",
            "  R^2 for nu=0.0007, T=30.0 is:  0.9987725\n",
            "  R^2 for nu=0.0007, T=40.0 is:  0.9980544\n"
          ]
        }
      ]
    },
    {
      "cell_type": "markdown",
      "metadata": {
        "id": "jnBcxGB7Sb2w"
      },
      "source": [
        "##Inviscid Burgers' equation\n",
        "$u_t + u\\cdot u_x = 0$\\\n",
        "$u_x=\\dfrac{u_0'}{1+u'_0t}$, where $u_0$ is the initial value of $u$\\\n",
        "if $u'_0(x) > 0$ at some point then with time wave speed of the profile diminishes in time because $1 + u'_0t > 0$ rises with time.This means that profile of the wave **flattens** as time passes.\\\n",
        "On the other hand, if we assume u′0(x) < 0 at some point, then ux increases in time,\n",
        "since $1 + u'_0t \\rightarrow 0, u_x \\rightarrow \\infty$ at some point in time.Therefore, wave\n",
        "profile **steepens** after a period of time."
      ]
    },
    {
      "cell_type": "markdown",
      "metadata": {
        "id": "W4e-10e0pcZZ"
      },
      "source": [
        "*If the propagation velocity of the wave $u_x$ is a decreasing function of x, the wave eventually \"breaks\" and gives multiple valued solutions.*\\\n",
        "$t_B=-\\dfrac{1}{\\min u'_{0}(x)}=1$ for $u_0=\\sin(x)$"
      ]
    },
    {
      "cell_type": "code",
      "metadata": {
        "id": "H9LFslben2bo",
        "cellView": "form"
      },
      "source": [
        "#@title\n",
        "import numpy as np\n",
        "import matplotlib.pyplot as plt\n",
        "import tqdm as tqdm"
      ],
      "execution_count": null,
      "outputs": []
    },
    {
      "cell_type": "code",
      "metadata": {
        "id": "WeExnRI-yON0",
        "cellView": "form"
      },
      "source": [
        "#@title\n",
        "M = 800\n",
        "h = 0.0210\n",
        "tau = 0.0420\n",
        "N = round(2*np.pi/h)\n",
        "x = np.linspace(0,2*np.pi, N )\n",
        "t = np.linspace(0, M*tau , M )\n",
        "\n",
        "u = np.zeros((N,M))"
      ],
      "execution_count": null,
      "outputs": []
    },
    {
      "cell_type": "code",
      "metadata": {
        "id": "awVDZZHAzg3b",
        "cellView": "form"
      },
      "source": [
        "#@title\n",
        "#initial condition:\n",
        "for j in range(N):\n",
        "  u[j,0]=np.sin(j*h)\n",
        "#boundary condition:\n",
        "for n in range(M):\n",
        "  u[0,n] = 0\n",
        "  u[-1,n] = 0"
      ],
      "execution_count": null,
      "outputs": []
    },
    {
      "cell_type": "code",
      "metadata": {
        "colab": {
          "base_uri": "https://localhost:8080/",
          "height": 295
        },
        "id": "hOXESs0jzg3d",
        "cellView": "form",
        "outputId": "fe17942b-ad57-48e1-ee7e-225e2fd07fdc"
      },
      "source": [
        "#@title\n",
        "plt.plot(x,u[:,0])\n",
        "plt.title(\"Initial condition\")\n",
        "plt.xlabel('x')\n",
        "plt.ylabel('U')\n",
        "plt.show()"
      ],
      "execution_count": null,
      "outputs": [
        {
          "output_type": "display_data",
          "data": {
            "image/png": "[encoded data removed]",
            "text/plain": [
              "<Figure size 432x288 with 1 Axes>"
            ]
          },
          "metadata": {
            "needs_background": "light"
          }
        }
      ]
    },
    {
      "cell_type": "code",
      "metadata": {
        "id": "XJ8fHSAZ3nMy",
        "cellView": "form"
      },
      "source": [
        "#@title\n",
        "def F(j,n,u=u):\n",
        "  return u[j,n]**2 /2"
      ],
      "execution_count": null,
      "outputs": []
    },
    {
      "cell_type": "markdown",
      "metadata": {
        "id": "WZH-zsdXx_-F"
      },
      "source": [
        "### 1.Upwind scheme\n",
        "$u_j^{n+1}=u_j^{n}-\\dfrac{\\Delta t}{\\Delta x}\\left ( F(u_{j+1}^{n}) - F(u_j^{n}) \\right )$ if $u>0$ and\\\n",
        "$u_j^{n+1}=u_j^{n}-\\dfrac{\\Delta t}{\\Delta x}\\left ( F(u_{j}^{n}) - F(u_{j-1}^{n}) \\right )$ if $u<0$"
      ]
    },
    {
      "cell_type": "code",
      "metadata": {
        "id": "ojQTp_LFyOKU",
        "cellView": "form"
      },
      "source": [
        "#@title\n",
        "def get_u_up(j,n,u=u,h=h,tau=tau):\n",
        "  if u[j,n] >0:\n",
        "    return u[j,n] - tau/h * ( F(j+1,n,u) - F(j,n,u) )\n",
        "  else:\n",
        "    return u[j,n] - tau/h * ( F(j,n,u) - F(j-1,n,u) )\n",
        "def get_u_up2(j,n,u=u,h=h,tau=tau):\n",
        "    return u[j,n] - 0.5*tau/h * ( F(j,n,u)**2 - F(j-1,n,u)**2 )"
      ],
      "execution_count": null,
      "outputs": []
    },
    {
      "cell_type": "code",
      "metadata": {
        "colab": {
          "base_uri": "https://localhost:8080/"
        },
        "id": "asVPGfv-yOAJ",
        "cellView": "form",
        "outputId": "4a4263c2-ea4b-4217-bce3-c994d5f717d2"
      },
      "source": [
        "#@title\n",
        "for n in range(1,M):\n",
        "  for j in range(1,N-1):\n",
        "    u[j,n] = get_u_up(j,n-1)"
      ],
      "execution_count": null,
      "outputs": [
        {
          "output_type": "stream",
          "name": "stderr",
          "text": [
            "/usr/local/lib/python3.7/dist-packages/ipykernel_launcher.py:3: RuntimeWarning: overflow encountered in double_scalars\n",
            "  This is separate from the ipykernel package so we can avoid doing imports until\n",
            "/usr/local/lib/python3.7/dist-packages/ipykernel_launcher.py:4: RuntimeWarning: invalid value encountered in double_scalars\n",
            "  after removing the cwd from sys.path.\n",
            "/usr/local/lib/python3.7/dist-packages/ipykernel_launcher.py:6: RuntimeWarning: invalid value encountered in double_scalars\n",
            "  \n"
          ]
        }
      ]
    },
    {
      "cell_type": "code",
      "metadata": {
        "colab": {
          "base_uri": "https://localhost:8080/",
          "height": 295
        },
        "id": "b0imQgh2ydlT",
        "cellView": "form",
        "outputId": "5fb45d6d-bd3d-4cc0-9373-025ad77fc706"
      },
      "source": [
        "#@title\n",
        "plt.plot(x,u[:,0],label=f'T={round(tau*0,3)}')\n",
        "plt.plot(x,u[:,10],label=f'T={round(tau*10,3)}')\n",
        "plt.plot(x,u[:,15],label=f'T={round(tau*15,3)}')\n",
        "plt.plot(x,u[:,22],label=f'T={round(tau*22,3)}')\n",
        "plt.title('Upwind scheme')\n",
        "plt.xlabel('x')\n",
        "plt.ylabel('U')\n",
        "plt.legend()\n",
        "plt.show()"
      ],
      "execution_count": null,
      "outputs": [
        {
          "output_type": "display_data",
          "data": {
            "image/png": "[encoded data removed]",
            "text/plain": [
              "<Figure size 432x288 with 1 Axes>"
            ]
          },
          "metadata": {
            "needs_background": "light"
          }
        }
      ]
    },
    {
      "cell_type": "markdown",
      "metadata": {
        "id": "VmvK18eO3tn8"
      },
      "source": [
        "### 2.Second order Lax-Friedrichs Scheme\n",
        "![Screenshot 2021-10-26 at 07-37-44 Numerical Methods for Engineers.png](data:image/png;base64,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)\n",
        "where\\\n",
        " ![Screenshot 2021-10-26 at 07-38-45 Numerical Methods for Engineers.png](data:image/png;base64,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)"
      ]
    },
    {
      "cell_type": "code",
      "metadata": {
        "id": "q8gTf5LS3uLr",
        "cellView": "form"
      },
      "source": [
        "#@title\n",
        "def get_a(j,n):\n",
        "  if u[j+1,n] != u[j,n]:\n",
        "    return ( F(j+1,n) - F(j,n) ) / ( u[j+1,n] - u[j,n] )\n",
        "  else:\n",
        "    return u[j,n]\n",
        "def get_u_lf_2(j,n,u=u,h=h,tau=tau,a = get_a, F = F):\n",
        "  gamma1 = tau/(2*h)\n",
        "  gamma2 = tau**2/(2* h**2)\n",
        "  return u[j,n] - gamma1 * (F(j+1,n) - F(j-1,n) ) + gamma2 * (a(j,n) * ( F(j+1,n)-F(j,n) ) - a(j-1,n) * ( F(j,n) - F(j-1,n) ) )"
      ],
      "execution_count": null,
      "outputs": []
    },
    {
      "cell_type": "code",
      "metadata": {
        "id": "s84mWMXJ4fJF",
        "cellView": "form"
      },
      "source": [
        "#@title\n",
        "for n in range(1,M):\n",
        "  for j in range(1,N-1):\n",
        "    u[j,n] = get_u_lf_2(j,n-1)"
      ],
      "execution_count": null,
      "outputs": []
    },
    {
      "cell_type": "code",
      "metadata": {
        "colab": {
          "base_uri": "https://localhost:8080/",
          "height": 295
        },
        "id": "05Lq_Xhz4jKk",
        "cellView": "form",
        "outputId": "40702bff-d5a0-4be6-b6a3-4ba4de02c341"
      },
      "source": [
        "#@title\n",
        "plt.plot(x,u[:,0],label=f'T={round(tau*0,3)}')\n",
        "plt.plot(x,u[:,10],label=f'T={round(tau*10,3)}')\n",
        "plt.plot(x,u[:,15],label=f'T={round(tau*15,3)}')\n",
        "plt.plot(x,u[:,19],label=f'T={round(tau*19,3)}')\n",
        "plt.title('Lax-Friedrichs Scheme')\n",
        "plt.xlabel('x')\n",
        "plt.ylabel('U')\n",
        "plt.legend()\n",
        "plt.show()"
      ],
      "execution_count": null,
      "outputs": [
        {
          "output_type": "display_data",
          "data": {
            "image/png": "[encoded data removed]",
            "text/plain": [
              "<Figure size 432x288 with 1 Axes>"
            ]
          },
          "metadata": {
            "needs_background": "light"
          }
        }
      ]
    },
    {
      "cell_type": "markdown",
      "metadata": {
        "id": "CDzZfrFdYLzM"
      },
      "source": [
        "### Godunov Scheme\n",
        "![image.png](data:image/png;base64,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)"
      ]
    },
    {
      "cell_type": "code",
      "metadata": {
        "id": "xbhT1Uo3YLHA",
        "cellView": "form"
      },
      "source": [
        "#@title\n",
        "def F_god( u, v ):\n",
        "  ustar=np.zeros(len(u))\n",
        "  for i in range(len(u) ):\n",
        "    if u[i] >= v[i]:\n",
        "      if ((u[i]+v[i])/2 > 0):\n",
        "        ustar[i]=u[i]\n",
        "      else:\n",
        "        ustar[i]=v[i]\n",
        "    else:\n",
        "      if u[i]>0:\n",
        "        ustar[i]=u[i]\n",
        "      elif v[i]<0:\n",
        "        ustar[i]=v[i]\n",
        "      else:\n",
        "        ustar[i]=0\n",
        "  return 0.5 * ustar**2"
      ],
      "execution_count": null,
      "outputs": []
    },
    {
      "cell_type": "code",
      "metadata": {
        "id": "sY7J1eYh-nCW",
        "cellView": "form"
      },
      "source": [
        "#@title\n",
        "for n in range(M-1):\n",
        "  u[1:-1,n+1] =u[1:-1,n]- tau/h*(F_god(u[1:-1,n],u[2:,n]) - F_god(u[:-2,n],u[1:-1,n]) )"
      ],
      "execution_count": null,
      "outputs": []
    },
    {
      "cell_type": "code",
      "metadata": {
        "colab": {
          "base_uri": "https://localhost:8080/",
          "height": 295
        },
        "id": "RhBs6I0wDxef",
        "cellView": "form",
        "outputId": "ff665916-c805-4dd7-8ce2-da81f275609c"
      },
      "source": [
        "#@title\n",
        "plt.plot(x,u[:,0],label=f'T={round(tau*0,3)}')\n",
        "plt.plot(x,u[:,10],label=f'T={round(tau*10,3)}')\n",
        "plt.plot(x,u[:,15],label=f'T={round(tau*15,3)}')\n",
        "plt.plot(x,u[:,30],label=f'T={round(tau*30,3)}')\n",
        "plt.plot(x,u[:,33],'-.',label=f'T={round(tau*33,3)}')\n",
        "plt.title(\"Godunov Scheme\")\n",
        "plt.xlabel('x')\n",
        "plt.ylabel('U')\n",
        "plt.legend()\n",
        "plt.show()"
      ],
      "execution_count": null,
      "outputs": [
        {
          "output_type": "display_data",
          "data": {
            "image/png": "[encoded data removed]",
            "text/plain": [
              "<Figure size 432x288 with 1 Axes>"
            ]
          },
          "metadata": {
            "needs_background": "light"
          }
        }
      ]
    },
    {
      "cell_type": "markdown",
      "metadata": {
        "id": "IVfeZITQQfJr"
      },
      "source": [
        "### Shockwave showcase"
      ]
    },
    {
      "cell_type": "code",
      "metadata": {
        "id": "PNyKMdcKMSly",
        "cellView": "form"
      },
      "source": [
        "#@title\n",
        "M = 800\n",
        "h = 0.0210\n",
        "tau = 0.0420\n",
        "N = round(1/h)\n",
        "x = np.linspace(0,1, N )\n",
        "t = np.linspace(0, M*tau , M )\n",
        "\n",
        "u = np.zeros((N,M))"
      ],
      "execution_count": 488,
      "outputs": []
    },
    {
      "cell_type": "code",
      "metadata": {
        "id": "T-A8t7X4MSg9",
        "cellView": "form"
      },
      "source": [
        "#@title\n",
        "#initial condition\n",
        "for j in range(N):\n",
        "  u[j,0] = 1-round(j*h)\n",
        "#u[(N+1)//2,0]=0.5\n",
        "#boundary conditions\n",
        "for n in range(M):\n",
        "  u[0,n] = 1\n",
        "  u[-1,n] = 0"
      ],
      "execution_count": 489,
      "outputs": []
    },
    {
      "cell_type": "markdown",
      "metadata": {
        "id": "rRhFB8hHeUk2"
      },
      "source": [
        "#### Godunov Scheme"
      ]
    },
    {
      "cell_type": "code",
      "metadata": {
        "id": "2xxYBaOIQJ5w",
        "cellView": "form"
      },
      "source": [
        "#@title\n",
        "for n in range(M-1):\n",
        "  u[1:-1,n+1] =u[1:-1,n]- tau/h*(F_god(u[1:-1,n],u[2:,n]) - F_god(u[:-2,n],u[1:-1,n]) )"
      ],
      "execution_count": 490,
      "outputs": []
    },
    {
      "cell_type": "code",
      "metadata": {
        "colab": {
          "base_uri": "https://localhost:8080/",
          "height": 295
        },
        "id": "YSKQbfeHMfQ0",
        "cellView": "form",
        "outputId": "28fbd845-dbc2-40a7-f0d3-f2a4338572a7"
      },
      "source": [
        "#@title\n",
        "plt.plot(x,u[:,0],label=f'T={round(tau*0,3)}')\n",
        "plt.plot(x,u[:,5],label=f'T={round(tau*5,3)}')\n",
        "plt.plot(x,u[:,10],label=f'T={round(tau*10,3)}')\n",
        "plt.plot(x,u[:,15],label=f'T={round(tau*15,3)}')\n",
        "plt.plot(x,u[:,20],label=f'T={round(tau*20,3)}')\n",
        "plt.legend()\n",
        "plt.title(\"Godunov Scheme\")\n",
        "plt.xlabel('x')\n",
        "plt.ylabel('U')\n",
        "plt.show()"
      ],
      "execution_count": 491,
      "outputs": [
        {
          "output_type": "display_data",
          "data": {
            "image/png": "[encoded data removed]",
            "text/plain": [
              "<Figure size 432x288 with 1 Axes>"
            ]
          },
          "metadata": {
            "needs_background": "light"
          }
        }
      ]
    },
    {
      "cell_type": "code",
      "metadata": {
        "id": "TJ78uYQ2hBBs",
        "cellView": "form"
      },
      "source": [
        "#@title\n",
        "M = 800\n",
        "h = 0.0013378\n",
        "tau = 0.006689\n",
        "N = round(1/h)\n",
        "x = np.linspace(0,1, N )\n",
        "t = np.linspace(0, M*tau , M )\n",
        "\n",
        "u = np.zeros((N,M))"
      ],
      "execution_count": 498,
      "outputs": []
    },
    {
      "cell_type": "markdown",
      "metadata": {
        "id": "JNdTPShlUJfj"
      },
      "source": [
        "#### Conservative Up-wind scheme\n",
        "\n",
        "![Screenshot 2021-10-26 at 10-19-22 Burgers_Equation_M_Landajuela pdf.png](data:image/png;base64,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)"
      ]
    },
    {
      "cell_type": "code",
      "metadata": {
        "id": "OFMzle2sTEs2",
        "cellView": "form"
      },
      "source": [
        "#@title\n",
        "for n in range(1,M):\n",
        "  for j in range(1,N-1):\n",
        "    u[j,n] = get_u_up2(j,n-1,u)"
      ],
      "execution_count": null,
      "outputs": []
    },
    {
      "cell_type": "code",
      "metadata": {
        "colab": {
          "base_uri": "https://localhost:8080/",
          "height": 295
        },
        "id": "qUtVY-1qTEk5",
        "cellView": "form",
        "outputId": "cfefd5bf-dcf2-469b-f5ff-374037aee145"
      },
      "source": [
        "#@title\n",
        "plt.plot(x,u[:,0],label=f'T={round(tau*0,3)}')\n",
        "plt.plot(x,u[:,5],label=f'T={round(tau*5,3)}')\n",
        "plt.plot(x,u[:,15],label=f'T={round(tau*15,3)}')\n",
        "plt.plot(x,u[:,20],label=f'T={round(tau*20,3)}')\n",
        "plt.title('Conservative Upwind scheme')\n",
        "plt.xlabel('x')\n",
        "plt.ylabel('U')\n",
        "plt.legend()\n",
        "plt.show()"
      ],
      "execution_count": null,
      "outputs": [
        {
          "output_type": "display_data",
          "data": {
            "image/png": "[encoded data removed]",
            "text/plain": [
              "<Figure size 432x288 with 1 Axes>"
            ]
          },
          "metadata": {
            "needs_background": "light"
          }
        }
      ]
    },
    {
      "cell_type": "markdown",
      "metadata": {
        "id": "cCfyna0bkUq1"
      },
      "source": [
        "### Rarefaction wave"
      ]
    },
    {
      "cell_type": "code",
      "metadata": {
        "id": "iBdPkUdke35F",
        "cellView": "form"
      },
      "source": [
        "#@title\n",
        "M = 800\n",
        "h = 0.0210\n",
        "tau = 0.0420\n",
        "N = round(2/h)\n",
        "x = np.linspace(0,2, N )\n",
        "t = np.linspace(0, M*tau , M )\n",
        "\n",
        "u = np.zeros((N,M))"
      ],
      "execution_count": 502,
      "outputs": []
    },
    {
      "cell_type": "code",
      "metadata": {
        "id": "qDZGW0pCecyi",
        "cellView": "form"
      },
      "source": [
        "#@title\n",
        "#initial condition\n",
        "for j in range(N):\n",
        "  if j*h<0.5:\n",
        "    u[j,0] = 0\n",
        "  else:\n",
        "    u[j,0] = 1\n",
        "#boundary conditions\n",
        "for n in range(M):\n",
        "  u[0,n] = 0\n",
        "  u[-1,n] = 1"
      ],
      "execution_count": 503,
      "outputs": []
    },
    {
      "cell_type": "markdown",
      "metadata": {
        "id": "HZXQUm88kkgH"
      },
      "source": [
        "#### Godunov Scheme"
      ]
    },
    {
      "cell_type": "code",
      "metadata": {
        "cellView": "form",
        "id": "O07KeSAskcCj"
      },
      "source": [
        "#@title\n",
        "for n in range(M-1):\n",
        "  u[1:-1,n+1] =u[1:-1,n]- tau/h*(F_god(u[1:-1,n],u[2:,n]) - F_god(u[:-2,n],u[1:-1,n]) )"
      ],
      "execution_count": 504,
      "outputs": []
    },
    {
      "cell_type": "code",
      "metadata": {
        "colab": {
          "base_uri": "https://localhost:8080/",
          "height": 295
        },
        "cellView": "form",
        "id": "czNSXOnVkcCj",
        "outputId": "5a578e94-4e31-4f83-c25c-71488968c66b"
      },
      "source": [
        "#@title\n",
        "plt.plot(x,u[:,0],label=f'T={round(tau*0,3)}')\n",
        "plt.plot(x,u[:,5],label=f'T={round(tau*5,3)}')\n",
        "plt.plot(x,u[:,10],label=f'T={round(tau*10,3)}')\n",
        "plt.plot(x,u[:,15],label=f'T={round(tau*15,3)}')\n",
        "plt.plot(x,u[:,20],label=f'T={round(tau*20,3)}')\n",
        "plt.legend()\n",
        "plt.title(\"Godunov Scheme\")\n",
        "plt.xlabel('x')\n",
        "plt.ylabel('U')\n",
        "plt.show()"
      ],
      "execution_count": 505,
      "outputs": [
        {
          "output_type": "display_data",
          "data": {
            "image/png": "[encoded data removed]",
            "text/plain": [
              "<Figure size 432x288 with 1 Axes>"
            ]
          },
          "metadata": {
            "needs_background": "light"
          }
        }
      ]
    },
    {
      "cell_type": "markdown",
      "metadata": {
        "id": "pj1Rypmok365"
      },
      "source": [
        "#### Conservative Up-wind scheme"
      ]
    },
    {
      "cell_type": "code",
      "metadata": {
        "id": "22bx_ggMemer",
        "cellView": "form"
      },
      "source": [
        "#@title\n",
        "for n in range(1,M):\n",
        "  for j in range(1,N-1):\n",
        "    u[j,n] = get_u_up2(j,n-1,u)"
      ],
      "execution_count": 507,
      "outputs": []
    },
    {
      "cell_type": "code",
      "metadata": {
        "colab": {
          "base_uri": "https://localhost:8080/",
          "height": 295
        },
        "id": "EV5EkPvqemet",
        "cellView": "form",
        "outputId": "f242cfeb-c72b-4bbc-e793-4fb7c03c151e"
      },
      "source": [
        "#@title\n",
        "plt.plot(x,u[:,0],label=f'T={round(tau*0,3)}')\n",
        "plt.plot(x,u[:,5],label=f'T={round(tau*5,3)}')\n",
        "plt.plot(x,u[:,15],label=f'T={round(tau*15,3)}')\n",
        "plt.plot(x,u[:,40],label=f'T={round(tau*40,3)}')\n",
        "plt.plot(x,u[:,60],label=f'T={round(tau*60,3)}')\n",
        "plt.title('Conservative Upwind scheme')\n",
        "plt.xlabel('x')\n",
        "plt.ylabel('U')\n",
        "plt.legend()\n",
        "plt.show()"
      ],
      "execution_count": 508,
      "outputs": [
        {
          "output_type": "display_data",
          "data": {
            "image/png": "[encoded data removed]",
            "text/plain": [
              "<Figure size 432x288 with 1 Axes>"
            ]
          },
          "metadata": {
            "needs_background": "light"
          }
        }
      ]
    },
    {
      "cell_type": "markdown",
      "metadata": {
        "id": "iVg67E2pBxYT"
      },
      "source": [
        "### Third example\n"
      ]
    },
    {
      "cell_type": "code",
      "metadata": {
        "id": "3zTWzO2kl7vR"
      },
      "source": [
        "#@title\n",
        "M = 800\n",
        "h = 0.0210\n",
        "tau = 0.0420\n",
        "N = round(2*np.pi/h)\n",
        "x = np.linspace(0,2*np.pi, N )\n",
        "t = np.linspace(0, M*tau , M )\n",
        "\n",
        "u = np.zeros((N,M))"
      ],
      "execution_count": 510,
      "outputs": []
    },
    {
      "cell_type": "code",
      "metadata": {
        "id": "jal12U06l7vT"
      },
      "source": [
        "#@title\n",
        "#initial condition:\n",
        "for j in range(N):\n",
        "  if j*h<=np.pi:\n",
        "    u[j,0]=np.sin(j*h)\n",
        "  else: u[j,0]=0\n",
        "#boundary condition:\n",
        "for n in range(M):\n",
        "  u[0,n] = 0\n",
        "  u[-1,n] = 0"
      ],
      "execution_count": 511,
      "outputs": []
    },
    {
      "cell_type": "code",
      "metadata": {
        "colab": {
          "base_uri": "https://localhost:8080/",
          "height": 295
        },
        "id": "B7qQyfeal7vU",
        "outputId": "163c6a5e-4937-47a3-ea64-d6762978535b"
      },
      "source": [
        "#@title\n",
        "plt.plot(x,u[:,0])\n",
        "plt.title(\"Initial condition\")\n",
        "plt.xlabel('x')\n",
        "plt.ylabel('U')\n",
        "plt.show()"
      ],
      "execution_count": 512,
      "outputs": [
        {
          "output_type": "display_data",
          "data": {
            "image/png": "[encoded data removed]",
            "text/plain": [
              "<Figure size 432x288 with 1 Axes>"
            ]
          },
          "metadata": {
            "needs_background": "light"
          }
        }
      ]
    },
    {
      "cell_type": "markdown",
      "metadata": {
        "id": "5OntX47MB5VC"
      },
      "source": [
        "####Godunov Scheme"
      ]
    },
    {
      "cell_type": "code",
      "metadata": {
        "colab": {
          "base_uri": "https://localhost:8080/"
        },
        "id": "uiqC-t9QmwNM",
        "outputId": "53881eae-71a7-44d3-f0e1-19bebd0ad50e"
      },
      "source": [
        "#@title\n",
        "for n in range(M-1):\n",
        "  u[1:-1,n+1] =u[1:-1,n]- tau/h*(F_god(u[1:-1,n],u[2:,n]) - F_god(u[:-2,n],u[1:-1,n]) )"
      ],
      "execution_count": 519,
      "outputs": [
        {
          "output_type": "stream",
          "name": "stderr",
          "text": [
            "/usr/local/lib/python3.7/dist-packages/ipykernel_launcher.py:17: RuntimeWarning: overflow encountered in square\n",
            "/usr/local/lib/python3.7/dist-packages/ipykernel_launcher.py:6: RuntimeWarning: invalid value encountered in double_scalars\n",
            "  \n",
            "/usr/local/lib/python3.7/dist-packages/ipykernel_launcher.py:2: RuntimeWarning: invalid value encountered in subtract\n",
            "  \n"
          ]
        }
      ]
    },
    {
      "cell_type": "code",
      "metadata": {
        "colab": {
          "base_uri": "https://localhost:8080/",
          "height": 295
        },
        "id": "U5ZrU-ZkmwNN",
        "outputId": "63cba6b9-6994-4f94-9017-4d4402d5d9c1"
      },
      "source": [
        "#@title\n",
        "plt.plot(x,u[:,0],label=f'T={round(tau*0,3)}')\n",
        "plt.plot(x,u[:,5],label=f'T={round(tau*5,3)}')\n",
        "plt.plot(x,u[:,20],label=f'T={round(tau*20,3)}')\n",
        "plt.plot(x,u[:,200],label=f'T={round(tau*200,3)}')\n",
        "plt.legend()\n",
        "plt.title(\"Godunov Scheme\")\n",
        "plt.xlabel('x')\n",
        "plt.ylabel('U')\n",
        "plt.show()"
      ],
      "execution_count": 529,
      "outputs": [
        {
          "output_type": "display_data",
          "data": {
            "image/png": "[encoded data removed]",
            "text/plain": [
              "<Figure size 432x288 with 1 Axes>"
            ]
          },
          "metadata": {
            "needs_background": "light"
          }
        }
      ]
    },
    {
      "cell_type": "code",
      "metadata": {
        "cellView": "form",
        "id": "IhaF7PS5mUXu"
      },
      "source": [
        "#@title\n",
        "for n in range(1,M):\n",
        "  for j in range(1,N-1):\n",
        "    u[j,n] = get_u_up2(j,n-1,u)"
      ],
      "execution_count": 513,
      "outputs": []
    },
    {
      "cell_type": "markdown",
      "metadata": {
        "id": "D5L6-WEmB95n"
      },
      "source": [
        "#### Conservative Upwind scheme"
      ]
    },
    {
      "cell_type": "code",
      "metadata": {
        "colab": {
          "base_uri": "https://localhost:8080/",
          "height": 295
        },
        "id": "B0bygqOemUXv",
        "outputId": "e6134ecf-bc32-4170-e44f-8758a6a9b062"
      },
      "source": [
        "#@title\n",
        "plt.plot(x,u[:,0],label=f'T={round(tau*0,3)}')\n",
        "plt.plot(x,u[:,5],label=f'T={round(tau*5,3)}')\n",
        "plt.plot(x,u[:,15],label=f'T={round(tau*15,3)}')\n",
        "plt.plot(x,u[:,40],label=f'T={round(tau*40,3)}')\n",
        "plt.plot(x,u[:,100],label=f'T={round(tau*100,3)}')\n",
        "plt.plot(x,u[:,200],label=f'T={round(tau*200,3)}')\n",
        "plt.plot(x,u[:,300],label=f'T={round(tau*300,3)}')\n",
        "plt.title('Conservative Upwind scheme')\n",
        "plt.xlabel('x')\n",
        "plt.ylabel('U')\n",
        "plt.legend()\n",
        "plt.show()"
      ],
      "execution_count": 518,
      "outputs": [
        {
          "output_type": "display_data",
          "data": {
            "image/png": "[encoded data removed]",
            "text/plain": [
              "<Figure size 432x288 with 1 Axes>"
            ]
          },
          "metadata": {
            "needs_background": "light"
          }
        }
      ]
    },
    {
      "cell_type": "markdown",
      "metadata": {
        "id": "m_eqtTkfND_f"
      },
      "source": [
        "### References:\n"
      ]
    },
    {
      "cell_type": "markdown",
      "metadata": {
        "id": "cga-IVZjlQ6i"
      },
      "source": [
        "1. Burgers equation by Mikel Landajuela\n",
        "2. Solving one- and two-dimensional unsteady Burgers' equation using fully implicit finite difference schemes by N. A. Mohamed\n",
        "3. INVISCID BURGERS EQUATIONS AND ITS NUMERICAL SOLUTIONS by NAZMI OYAR"
      ]
    }
  ]
}