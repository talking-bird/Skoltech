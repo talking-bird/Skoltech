{
  "nbformat": 4,
  "nbformat_minor": 0,
  "metadata": {
    "colab": {
      "name": "Task 15.ipynb",
      "provenance": []
    },
    "kernelspec": {
      "name": "python3",
      "display_name": "Python 3"
    },
    "language_info": {
      "name": "python"
    },
    "accelerator": "GPU"
  },
  "cells": [
    {
      "cell_type": "markdown",
      "metadata": {
        "id": "QJvpFdC6MXLd"
      },
      "source": [
        "## N-Body problems\n",
        "\n",
        "Many physical problems require the evaluation of all pairwise interactions of a large number of particles, so-called N-body problems. These problems arise in molecular dynamics, astrodynamics and electromagnetics among others. \n",
        "\n",
        "Their pairwise interactions can be expressed as:\n",
        "\n",
        "\\begin{equation}\n",
        "f_i = \\sum_{j=1}^n{P \\left(\\boldsymbol{x}_i, \\boldsymbol{x}_j \\right)w_j} \\ \\ \\ \\text{for } i=1,2,...,n \n",
        "\\end{equation}\n",
        "\n",
        "*  where subscripts $i$,  $j$ respectively denote *target* and *source*\n",
        "*  $f_i$ can be a *potential* (or *force*) at target point $i$\n",
        "*  $w_j$ is the *source weight* \n",
        "*  $\\boldsymbol{x}_i, \\boldsymbol{x}_j$ are the *spatial positions* of particles \n",
        "*  $P \\left(\\boldsymbol{x}_i, \\boldsymbol{x}_j \\right)$ is the *interaction kernel*. \n",
        "\n",
        "In order to evalute the potential $f_i$ at a target point $i$, we have to loop over each source particle $j$. Since there are $n$ target points $i$, this 'brute-force' approach costs $\\mathcal{O} \\left(n^2 \\right)$ operations. \n",
        "\n",
        "One possible approach in this kind of problem is to define a few classes, say `Point` and `Particle` and then loop over the objects and perform the necessary point-to-point calculations."
      ]
    },
    {
      "cell_type": "code",
      "execution_count": 1,
      "metadata": {
        "id": "abe2784e-c583-4b24-b57a-20a0f2905bf2"
      },
      "outputs": [],
      "source": [
        "import numpy as np\n",
        "from numba import jit, njit\n",
        "import matplotlib.pyplot as plt"
      ]
    },
    {
      "cell_type": "code",
      "source": [
        "pip install line_profiler"
      ],
      "metadata": {
        "colab": {
          "base_uri": "https://localhost:8080/"
        },
        "id": "-N5aT_9hDkYG",
        "outputId": "aa1095ee-0f7b-4a26-98a4-421b7ddacbcd"
      },
      "execution_count": 2,
      "outputs": [
        {
          "output_type": "stream",
          "name": "stdout",
          "text": [
            "Collecting line_profiler\n",
            "  Downloading line_profiler-3.3.1-cp37-cp37m-manylinux2010_x86_64.whl (63 kB)\n",
            "\u001b[?25l\r\u001b[K     |█████▏                          | 10 kB 19.3 MB/s eta 0:00:01\r\u001b[K     |██████████▎                     | 20 kB 10.7 MB/s eta 0:00:01\r\u001b[K     |███████████████▍                | 30 kB 9.0 MB/s eta 0:00:01\r\u001b[K     |████████████████████▌           | 40 kB 8.4 MB/s eta 0:00:01\r\u001b[K     |█████████████████████████▋      | 51 kB 5.5 MB/s eta 0:00:01\r\u001b[K     |██████████████████████████████▊ | 61 kB 5.6 MB/s eta 0:00:01\r\u001b[K     |████████████████████████████████| 63 kB 1.8 MB/s \n",
            "\u001b[?25hRequirement already satisfied: IPython>=0.13 in /usr/local/lib/python3.7/dist-packages (from line_profiler) (5.5.0)\n",
            "Requirement already satisfied: decorator in /usr/local/lib/python3.7/dist-packages (from IPython>=0.13->line_profiler) (4.4.2)\n",
            "Requirement already satisfied: prompt-toolkit<2.0.0,>=1.0.4 in /usr/local/lib/python3.7/dist-packages (from IPython>=0.13->line_profiler) (1.0.18)\n",
            "Requirement already satisfied: simplegeneric>0.8 in /usr/local/lib/python3.7/dist-packages (from IPython>=0.13->line_profiler) (0.8.1)\n",
            "Requirement already satisfied: pexpect in /usr/local/lib/python3.7/dist-packages (from IPython>=0.13->line_profiler) (4.8.0)\n",
            "Requirement already satisfied: setuptools>=18.5 in /usr/local/lib/python3.7/dist-packages (from IPython>=0.13->line_profiler) (57.4.0)\n",
            "Requirement already satisfied: pygments in /usr/local/lib/python3.7/dist-packages (from IPython>=0.13->line_profiler) (2.6.1)\n",
            "Requirement already satisfied: traitlets>=4.2 in /usr/local/lib/python3.7/dist-packages (from IPython>=0.13->line_profiler) (5.1.1)\n",
            "Requirement already satisfied: pickleshare in /usr/local/lib/python3.7/dist-packages (from IPython>=0.13->line_profiler) (0.7.5)\n",
            "Requirement already satisfied: wcwidth in /usr/local/lib/python3.7/dist-packages (from prompt-toolkit<2.0.0,>=1.0.4->IPython>=0.13->line_profiler) (0.2.5)\n",
            "Requirement already satisfied: six>=1.9.0 in /usr/local/lib/python3.7/dist-packages (from prompt-toolkit<2.0.0,>=1.0.4->IPython>=0.13->line_profiler) (1.15.0)\n",
            "Requirement already satisfied: ptyprocess>=0.5 in /usr/local/lib/python3.7/dist-packages (from pexpect->IPython>=0.13->line_profiler) (0.7.0)\n",
            "Installing collected packages: line-profiler\n",
            "Successfully installed line-profiler-3.3.1\n"
          ]
        }
      ]
    },
    {
      "cell_type": "code",
      "execution_count": 3,
      "metadata": {
        "id": "6NkuX0n2MXLh"
      },
      "outputs": [],
      "source": [
        "%load_ext line_profiler"
      ]
    },
    {
      "cell_type": "code",
      "execution_count": 4,
      "metadata": {
        "id": "gEctWRoYMXLe"
      },
      "outputs": [],
      "source": [
        "class Point():\n",
        "    \"\"\"    \n",
        "    Arguments:\n",
        "        domain: the domain of random generated coordinates x,y,z, \n",
        "                default=1.0\n",
        "    \n",
        "    Attributes:\n",
        "        x, y, z: coordinates of the point\n",
        "    \"\"\"\n",
        "    def __init__(self, domain=1.0):\n",
        "        self.x = domain * np.random.random()\n",
        "        self.y = domain * np.random.random()\n",
        "        self.z = domain * np.random.random()\n",
        "            \n",
        "    def distance(self, other):\n",
        "        return ((self.x - other.x)**2 + \n",
        "                (self.y - other.y)**2 + \n",
        "                (self.z - other.z)**2)**.5"
      ]
    },
    {
      "cell_type": "code",
      "execution_count": 5,
      "metadata": {
        "id": "N_N6QHPRMXLe"
      },
      "outputs": [],
      "source": [
        "class Particle(Point):\n",
        "    \"\"\"    \n",
        "    Attributes:\n",
        "        m: mass of the particle\n",
        "        phi: the potential of the particle\n",
        "    \"\"\"\n",
        "    \n",
        "    def __init__(self, domain=1.0, m=1.0):\n",
        "        Point.__init__(self, domain)\n",
        "        self.m = m\n",
        "        self.phi = 0."
      ]
    },
    {
      "cell_type": "markdown",
      "metadata": {
        "id": "dISpCoKwMXLf"
      },
      "source": [
        "Now we create a list of `n` random particles, define a function to calculate their interaction via direct summation and run!"
      ]
    },
    {
      "cell_type": "code",
      "execution_count": 6,
      "metadata": {
        "id": "PhAKnZqkMXLf"
      },
      "outputs": [],
      "source": [
        "n = 1000\n",
        "particles = [Particle(m = 1 / n) for i in range(n)]"
      ]
    },
    {
      "cell_type": "code",
      "execution_count": 7,
      "metadata": {
        "id": "kP6bNWagMXLg"
      },
      "outputs": [],
      "source": [
        "def direct_sum(particles):\n",
        "    \"\"\"\n",
        "    Calculate the potential at each particle\n",
        "    using direct summation method.\n",
        "\n",
        "    Arguments:\n",
        "        particles: the list of particles\n",
        "\n",
        "    \"\"\"\n",
        "    for i, target in enumerate(particles):\n",
        "        for source in (particles[:i] + particles[i+1:]):\n",
        "            r = target.distance(source)\n",
        "            target.phi += source.m / r"
      ]
    },
    {
      "cell_type": "code",
      "execution_count": 8,
      "metadata": {
        "id": "MnjEV5txMXLg"
      },
      "outputs": [],
      "source": [
        "direct_sum(particles)"
      ]
    },
    {
      "cell_type": "code",
      "execution_count": 9,
      "metadata": {
        "id": "irg-zNgGMXLh",
        "colab": {
          "base_uri": "https://localhost:8080/"
        },
        "outputId": "bc73a0c2-5cee-4a6c-a682-f41a022ce764"
      },
      "outputs": [
        {
          "output_type": "stream",
          "name": "stdout",
          "text": [
            "1 loop, best of 5: 896 ms per loop\n"
          ]
        }
      ],
      "source": [
        "orig_time = %timeit -o direct_sum(particles)"
      ]
    },
    {
      "cell_type": "code",
      "execution_count": 10,
      "metadata": {
        "id": "YRp2iOOZMXLh"
      },
      "outputs": [],
      "source": [
        "%lprun -f direct_sum direct_sum(particles)"
      ]
    },
    {
      "cell_type": "code",
      "source": [
        ""
      ],
      "metadata": {
        "id": "yb8kQgO6qmFn"
      },
      "execution_count": null,
      "outputs": []
    },
    {
      "cell_type": "markdown",
      "metadata": {
        "id": "85XERGL5MXLh"
      },
      "source": [
        "## How do we use Numba on this problem?\n",
        "Problem: Numba doesn't support jitting native Python classes.  There is a `jit_class` structure in Numba but it's still in early development.\n",
        "\n",
        "But it's nice to have attributes for literate programming.\n",
        "\n",
        "Solution: NumPy custom dtypes."
      ]
    },
    {
      "cell_type": "code",
      "execution_count": 11,
      "metadata": {
        "id": "jm-spNlOMXLi"
      },
      "outputs": [],
      "source": [
        "particle_dtype = np.dtype({'names':['x','y','z','m','phi'], \n",
        "                             'formats':[np.double, \n",
        "                                        np.double, \n",
        "                                        np.double, \n",
        "                                        np.double, \n",
        "                                        np.double]})"
      ]
    },
    {
      "cell_type": "code",
      "execution_count": 12,
      "metadata": {
        "id": "wkoOoLSsMXLi"
      },
      "outputs": [],
      "source": [
        "myarray = np.ones(3, dtype=particle_dtype)"
      ]
    },
    {
      "cell_type": "code",
      "execution_count": 13,
      "metadata": {
        "id": "1mghSQjOMXLi",
        "colab": {
          "base_uri": "https://localhost:8080/"
        },
        "outputId": "9085d8b4-1428-48d0-86b1-5b55c1cc2a3f"
      },
      "outputs": [
        {
          "output_type": "execute_result",
          "data": {
            "text/plain": [
              "array([(1., 1., 1., 1., 1.), (1., 1., 1., 1., 1.), (1., 1., 1., 1., 1.)],\n",
              "      dtype=[('x', '<f8'), ('y', '<f8'), ('z', '<f8'), ('m', '<f8'), ('phi', '<f8')])"
            ]
          },
          "metadata": {},
          "execution_count": 13
        }
      ],
      "source": [
        "myarray"
      ]
    },
    {
      "cell_type": "code",
      "execution_count": 14,
      "metadata": {
        "id": "Vl3OAUkdMXLj"
      },
      "outputs": [],
      "source": [
        "myarray[0]['x'] = 2.0"
      ]
    },
    {
      "cell_type": "code",
      "execution_count": 15,
      "metadata": {
        "id": "vBTf-o18MXLj",
        "colab": {
          "base_uri": "https://localhost:8080/"
        },
        "outputId": "e6b3dac7-07b2-4b32-ae0d-23948a7c6cc8"
      },
      "outputs": [
        {
          "output_type": "execute_result",
          "data": {
            "text/plain": [
              "array([(2., 1., 1., 1., 1.), (1., 1., 1., 1., 1.), (1., 1., 1., 1., 1.)],\n",
              "      dtype=[('x', '<f8'), ('y', '<f8'), ('z', '<f8'), ('m', '<f8'), ('phi', '<f8')])"
            ]
          },
          "metadata": {},
          "execution_count": 15
        }
      ],
      "source": [
        "myarray"
      ]
    },
    {
      "cell_type": "markdown",
      "metadata": {
        "id": "3hHCfEvBMXLj"
      },
      "source": [
        "### Exercise 1\n",
        "\n",
        "Write a function `create_n_random_particles` that takes the arguments `n` (number of particles), `m` (mass of every particle) and a domain within to generate a random number (as in the class above).\n",
        "It should create an array with `n` elements and `dtype=particle_dtype` and then return that array.\n",
        "\n",
        "For each particle, the mass should be initialized to the value of `m` and the potential `phi` initialized to zero.\n",
        "\n",
        "For the `x` component of a given particle `p`, you might do something like\n",
        "\n",
        "```python\n",
        "p['x'] = domain * np.random.random()\n",
        "```"
      ]
    },
    {
      "cell_type": "code",
      "execution_count": 16,
      "metadata": {
        "id": "1a0mysMjMXLk"
      },
      "outputs": [],
      "source": [
        "@njit\n",
        "def create_n_random_particles(n, m, domain=1):\n",
        "    '''\n",
        "    Creates `n` particles with mass `m` with random coordinates\n",
        "    between 0 and `domain`\n",
        "    '''\n",
        "    parts = np.zeros((n), dtype=particle_dtype)\n",
        "\n",
        "    for p in parts:\n",
        "        p['x'] = domain * np.random.random()\n",
        "        p['y'] = domain * np.random.random()\n",
        "        p['z'] = domain * np.random.random()\n",
        "        p['m'] = m\n",
        "        p['phi'] = 0.\n",
        "    \n",
        "    return parts   #parts is an array of particles"
      ]
    },
    {
      "cell_type": "code",
      "execution_count": 17,
      "metadata": {
        "id": "WULgBfsjMXLk"
      },
      "outputs": [],
      "source": [
        "# test it\n",
        "parts = create_n_random_particles(1000, .001, 1)"
      ]
    },
    {
      "cell_type": "markdown",
      "metadata": {
        "id": "4qSU2vHcMXLk"
      },
      "source": [
        "### Exercise 2\n",
        "\n",
        "Write a JITted function `distance` to calculate the distance between two particles of dtype `particle_dtype`\n",
        "\n",
        "Here's the `distance` method from the `Particle` class as a reference:\n",
        "\n",
        "```python\n",
        "def distance(self, other):\n",
        "        return ((self.x - other.x)**2 + \n",
        "                (self.y - other.y)**2 + \n",
        "                (self.z - other.z)**2)**.5\n",
        "```"
      ]
    },
    {
      "cell_type": "code",
      "execution_count": 20,
      "metadata": {
        "id": "4eI7Q8I8MXLl"
      },
      "outputs": [],
      "source": [
        "@njit\n",
        "def distance(part1, part2):\n",
        "    '''calculate the distance between two particles'''\n",
        "    return ((part1['x'] - part2['x'])**2 + \n",
        "            (part1['y'] - part2['y'])**2 + \n",
        "            (part1['z'] - part2['z'])**2)**.5"
      ]
    },
    {
      "cell_type": "code",
      "execution_count": 21,
      "metadata": {
        "id": "EYYe4TlvMXLl",
        "colab": {
          "base_uri": "https://localhost:8080/"
        },
        "outputId": "b091e467-d0d5-4ccc-ef85-3105c8491bc3"
      },
      "outputs": [
        {
          "output_type": "execute_result",
          "data": {
            "text/plain": [
              "0.9620777449427435"
            ]
          },
          "metadata": {},
          "execution_count": 21
        }
      ],
      "source": [
        "# test it\n",
        "distance(parts[0], parts[1])"
      ]
    },
    {
      "cell_type": "markdown",
      "metadata": {
        "id": "nxW9cFGwMXLl"
      },
      "source": [
        "### Exercise 3\n",
        "Modify the original `direct_sum` function (copied below for reference) to instead work a Numpy array of particles.  Loop over each element in the array and calculate its total potential.\n",
        "\n",
        "```python\n",
        "def direct_sum(particles):\n",
        "    \"\"\"\n",
        "    Calculate the potential at each particle\n",
        "    using direct summation method.\n",
        "\n",
        "    Arguments:\n",
        "        particles: the list of particles\n",
        "\n",
        "    \"\"\"\n",
        "    for i, target in enumerate(particles):\n",
        "        for source in (particles[:i] + particles[i+1:]):\n",
        "            r = target.distance(source)\n",
        "            target.phi += source.m / r"
      ]
    },
    {
      "cell_type": "code",
      "execution_count": 22,
      "metadata": {
        "id": "wTqnO7OZMXLl"
      },
      "outputs": [],
      "source": [
        "@njit\n",
        "def direct_sum_np(particles):\n",
        "    indexes = np.arange(len(particles))\n",
        "    for i, target in enumerate(particles):\n",
        "        for source in particles[indexes != i]:\n",
        "            r = distance(target, source)\n",
        "            target['phi'] += source['m'] / r"
      ]
    },
    {
      "cell_type": "markdown",
      "metadata": {
        "id": "76d1709a-f7dc-4bcc-9220-bfee6c838311"
      },
      "source": [
        "## Graph"
      ]
    },
    {
      "cell_type": "code",
      "execution_count": 24,
      "metadata": {
        "id": "8a2155d0-425c-4837-9b19-e43b584f72e1",
        "outputId": "ed942beb-672a-49fc-9ad2-68aee2d06c51",
        "colab": {
          "base_uri": "https://localhost:8080/"
        }
      },
      "outputs": [
        {
          "output_type": "stream",
          "name": "stderr",
          "text": [
            "11it [02:09, 11.79s/it]\n"
          ]
        }
      ],
      "source": [
        "from tqdm import tqdm\n",
        "t_arr = np.zeros(11)\n",
        "t_arr_np = np.zeros(11)\n",
        "size_arr = [2**i for i in range(1,12)]\n",
        "for i, size in tqdm(enumerate(size_arr)):\n",
        "    parts = [Particle(m=1./size) for i in range(size)]\n",
        "    parts_np = create_n_random_particles(size, 1./size, 1)\n",
        "    \n",
        "    time = %timeit -o -q -r 5 -n 5 direct_sum(parts)\n",
        "    t_arr[i] = time.best\n",
        "    \n",
        "    time = %timeit -o -q -r 5 -n 5 direct_sum_np(parts_np)\n",
        "    t_arr_np[i] = time.best"
      ]
    },
    {
      "cell_type": "code",
      "execution_count": 31,
      "metadata": {
        "id": "833d91c5-ca2b-4c3c-a120-16aa77d647b0",
        "outputId": "24025611-f346-4e48-888c-3d645ae0479a",
        "colab": {
          "base_uri": "https://localhost:8080/",
          "height": 518
        }
      },
      "outputs": [
        {
          "output_type": "display_data",
          "data": {
            "image/png": "[encoded data removed]",
            "text/plain": [
              "<Figure size 1008x576 with 1 Axes>"
            ]
          },
          "metadata": {
            "needs_background": "light"
          }
        }
      ],
      "source": [
        "plt.figure(figsize=(14, 8))\n",
        "plt.plot(size_arr, t_arr,    label='Plain' )\n",
        "plt.plot(size_arr, t_arr_np, label='Jitted'  )\n",
        "plt.legend()\n",
        "plt.xlabel('Number of particles',fontsize=20)\n",
        "plt.ylabel('Computation time',fontsize=20)\n",
        "plt.xticks(fontsize=20)\n",
        "plt.yticks(fontsize=20)\n",
        "plt.xscale('log')\n",
        "plt.yscale('log')\n",
        "plt.show()"
      ]
    },
    {
      "cell_type": "code",
      "source": [
        "plt.figure(figsize=(14, 8))\n",
        "plt.plot(size_arr, t_arr/t_arr_np,    label='Plain/Jitted' )\n",
        "plt.xlabel('Number of particles',fontsize=20)\n",
        "plt.ylabel('Plain/Jitted comp. time',fontsize=20)\n",
        "plt.xticks(fontsize=20)\n",
        "plt.yticks(fontsize=20)\n",
        "plt.show()"
      ],
      "metadata": {
        "colab": {
          "base_uri": "https://localhost:8080/",
          "height": 515
        },
        "id": "n16YA9yypkc4",
        "outputId": "9cf8ab16-91cb-48ed-8f85-8c5be3a642e8"
      },
      "execution_count": 30,
      "outputs": [
        {
          "output_type": "display_data",
          "data": {
            "image/png": "[encoded data removed]",
            "text/plain": [
              "<Figure size 1008x576 with 1 Axes>"
            ]
          },
          "metadata": {
            "needs_background": "light"
          }
        }
      ]
    }
  ]
}