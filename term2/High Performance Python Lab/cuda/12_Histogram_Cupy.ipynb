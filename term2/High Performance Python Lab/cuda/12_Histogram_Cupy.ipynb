{
  "nbformat": 4,
  "nbformat_minor": 0,
  "metadata": {
    "colab": {
      "name": "Task 12. Histogram CUPY.ipynb",
      "provenance": []
    },
    "kernelspec": {
      "name": "python3",
      "display_name": "Python 3"
    },
    "language_info": {
      "name": "python"
    },
    "accelerator": "GPU"
  },
  "cells": [
    {
      "cell_type": "markdown",
      "metadata": {
        "id": "dISsquenplv8"
      },
      "source": [
        "## Task 12. Histogram\n",
        "\n",
        "\n",
        "<u>By using <i><strong>CuPy</strong></i>:</u>\n",
        "* Implement the suggested function:\n",
        "$$\n",
        " f(x) = (z^2(x) + z^3(x) - 200 \\,\\, z^4(x) )\\,\\,\\sin(\\,\\,100000\\,\\,(x + 0.5)\\,\\,),\n",
        " \\\\\n",
        " \\text{where    }\\:\\:\\: z(x) = \\sin(3\\,\\,x)-0.5\n",
        "$$\n",
        "* Plot function on the $x$ interval $[0,\\,\\, 1]$. Number of points = 10000000.\n",
        "* Get minimal and maximal values of function on the interval $[0,\\,\\, 1]$: $f_{min}$ and $f_{max}$.\n",
        "* Divide $y=f(x), \\: (x \\in [0,\\,\\, 1]) \\:$ interval $[f_{min}, f_{max}]$ into $10$ $y=f(x)$ subintervals of length $\\delta$ equal to $0.1 \\,\\, (f_{max}-f_{min})$: $[f_{min},\\,\\, f_{min} + \\delta],\\,\\, [f_{min}+ \\delta,\\,\\, f_{min} + 2 \\,\\, \\delta],\\,\\, \\dots,\\,\\, [f_{max}- \\delta,\\,\\, f_{max}]$.\n",
        "* Compute number of $y=f(x), \\: (x \\in [0,\\,\\, 1]) \\:$ values in each subinterval. Use $\\operatorname{cp.sum(\\dots)}$\n",
        "* Plot histogram. <strong>[Hint: how to represent the histogram](https://cdn.datamentor.io/wp-content/uploads/2017/11/r-histogram.png)</strong>\n",
        "\n",
        "<strong >Hint about function $f(x)$ appearance:</strong>\n",
        "    ![Hint](Hint.png)"
      ]
    },
    {
      "cell_type": "code",
      "source": [
        "pip install cupy-cuda111"
      ],
      "metadata": {
        "colab": {
          "base_uri": "https://localhost:8080/"
        },
        "id": "tqaH8Yzgpc1w",
        "outputId": "5bad15c3-5190-409c-958d-e4656ba2da65"
      },
      "execution_count": 6,
      "outputs": [
        {
          "output_type": "stream",
          "name": "stdout",
          "text": [
            "Requirement already satisfied: cupy-cuda111 in /usr/local/lib/python3.7/dist-packages (10.0.0)\n",
            "Requirement already satisfied: numpy<1.24,>=1.18 in /usr/local/lib/python3.7/dist-packages (from cupy-cuda111) (1.19.5)\n",
            "Requirement already satisfied: fastrlock>=0.5 in /usr/local/lib/python3.7/dist-packages (from cupy-cuda111) (0.8)\n"
          ]
        }
      ]
    },
    {
      "cell_type": "code",
      "execution_count": 2,
      "metadata": {
        "id": "0SbsE3bDpQo4"
      },
      "outputs": [],
      "source": [
        "import numpy as np\n",
        "import cupy as cp\n",
        "import matplotlib.pyplot as plt"
      ]
    },
    {
      "cell_type": "markdown",
      "source": [
        "* Implement the suggested function:\n",
        "$$\n",
        " f(x) = (z^2(x) + z^3(x) - 200 \\,\\, z^4(x) )\\,\\,\\sin(\\,\\,100000\\,\\,(x + 0.5)\\,\\,),\n",
        " \\\\\n",
        " \\text{where    }\\:\\:\\: z(x) = \\sin(3\\,\\,x)-0.5\n",
        "$$"
      ],
      "metadata": {
        "id": "xcC9z6IWqR7E"
      }
    },
    {
      "cell_type": "code",
      "source": [
        "def f(x):\n",
        "    z = cp.sin(3*x) - 0.5\n",
        "    return (z**2 + z**3 - 200 * z**4) * cp.sin(100000 * (x + 0.5))"
      ],
      "metadata": {
        "id": "zfXfo6I4pZy2"
      },
      "execution_count": 3,
      "outputs": []
    },
    {
      "cell_type": "markdown",
      "source": [
        "* Plot function on the $x$ interval $[0,\\,\\, 1]$. Number of points = 10000000."
      ],
      "metadata": {
        "id": "u4Jg8iofqVfH"
      }
    },
    {
      "cell_type": "code",
      "source": [
        "l = cp.linspace(0, 1, num=10_000_000)\n",
        "f_l=f(l)\n",
        "plt.figure(figsize=(13, 9))\n",
        "plt.plot(l.get(), f_l.get())\n",
        "plt.show()"
      ],
      "metadata": {
        "colab": {
          "base_uri": "https://localhost:8080/",
          "height": 537
        },
        "id": "TMrUJlOQqI-v",
        "outputId": "83fc824d-52bc-47df-e8f3-3f524b422a06"
      },
      "execution_count": 5,
      "outputs": [
        {
          "output_type": "display_data",
          "data": {
            "image/png": "[encoded data removed]",
            "text/plain": [
              "<Figure size 936x648 with 1 Axes>"
            ]
          },
          "metadata": {
            "needs_background": "light"
          }
        }
      ]
    },
    {
      "cell_type": "markdown",
      "source": [
        "* Get minimal and maximal values of function on the interval $[0,\\,\\, 1]$: $f_{min}$ and $f_{max}$."
      ],
      "metadata": {
        "id": "gcFCu7_kqruZ"
      }
    },
    {
      "cell_type": "code",
      "source": [
        "f_l_min = float(f_l.min())\n",
        "f_l_max = float(f_l.max())"
      ],
      "metadata": {
        "id": "Jp7zf914qI2I"
      },
      "execution_count": 6,
      "outputs": []
    },
    {
      "cell_type": "markdown",
      "source": [
        "* Divide $y=f(x), \\: (x \\in [0,\\,\\, 1]) \\:$ interval $[f_{min}, f_{max}]$ into $10$ $y=f(x)$ subintervals of length $\\delta$ equal to $0.1 \\,\\, (f_{max}-f_{min})$: $[f_{min},\\,\\, f_{min} + \\delta],\\,\\, [f_{min}+ \\delta,\\,\\, f_{min} + 2 \\,\\, \\delta],\\,\\, \\dots,\\,\\, [f_{max}- \\delta,\\,\\, f_{max}]$."
      ],
      "metadata": {
        "id": "TmxYHlQMquss"
      }
    },
    {
      "cell_type": "code",
      "source": [
        "delta = 0.1 * (f_l_max - f_l_min)\n",
        "print(f'delta = {delta}')\n",
        "subintervals_arr=cp.empty((10,2))\n",
        "for i in range(10):\n",
        "    subintervals_arr[i]=cp.array([f_l_min+delta*i,f_l_min+delta*(i+1)])"
      ],
      "metadata": {
        "colab": {
          "base_uri": "https://localhost:8080/"
        },
        "id": "MzdXXvJEqyIq",
        "outputId": "36317c18-61aa-4b08-eb97-f15a331443ef"
      },
      "execution_count": 13,
      "outputs": [
        {
          "output_type": "stream",
          "name": "stdout",
          "text": [
            "delta = 2.4740456960239334\n"
          ]
        }
      ]
    },
    {
      "cell_type": "code",
      "source": [
        "subintervals_arr"
      ],
      "metadata": {
        "colab": {
          "base_uri": "https://localhost:8080/"
        },
        "id": "ivIUr8WP_DEY",
        "outputId": "82455757-95b1-403c-f886-7eb64c6d7a8d"
      },
      "execution_count": 14,
      "outputs": [
        {
          "output_type": "execute_result",
          "data": {
            "text/plain": [
              "array([[-1.23655447e+01, -9.89149897e+00],\n",
              "       [-9.89149897e+00, -7.41745327e+00],\n",
              "       [-7.41745327e+00, -4.94340758e+00],\n",
              "       [-4.94340758e+00, -2.46936188e+00],\n",
              "       [-2.46936188e+00,  4.68381395e-03],\n",
              "       [ 4.68381395e-03,  2.47872951e+00],\n",
              "       [ 2.47872951e+00,  4.95277521e+00],\n",
              "       [ 4.95277521e+00,  7.42682090e+00],\n",
              "       [ 7.42682090e+00,  9.90086660e+00],\n",
              "       [ 9.90086660e+00,  1.23749123e+01]])"
            ]
          },
          "metadata": {},
          "execution_count": 14
        }
      ]
    },
    {
      "cell_type": "markdown",
      "source": [
        "* Compute number of $y=f(x), \\: (x \\in [0,\\,\\, 1]) \\:$ values in each subinterval. Use $\\operatorname{cp.sum(\\dots)}$"
      ],
      "metadata": {
        "id": "HAaFgdUqqxom"
      }
    },
    {
      "cell_type": "code",
      "source": [
        "sum_arr = cp.empty(10)\n",
        "for i in range(10):\n",
        "    sum_arr[i]=cp.sum(cp.logical_and(f_l >= subintervals_arr[i,0], f_l <= subintervals_arr[i,1]))"
      ],
      "metadata": {
        "id": "lYyOJthPqIr_"
      },
      "execution_count": 16,
      "outputs": []
    },
    {
      "cell_type": "markdown",
      "source": [
        "* Plot histogram. <strong>[Hint: how to represent the histogram](https://cdn.datamentor.io/wp-content/uploads/2017/11/r-histogram.png)</strong>"
      ],
      "metadata": {
        "id": "MG6kUaaVqygG"
      }
    },
    {
      "cell_type": "code",
      "source": [
        "plt.figure(figsize=(13, 9))\n",
        "plt.bar(range(1, 11), sum_arr.get())\n",
        "plt.title('Histogram of sums')\n",
        "plt.xlabel('Subinterval index')\n",
        "plt.ylabel('Number of points in the subinterval');\n",
        "plt.show()"
      ],
      "metadata": {
        "colab": {
          "base_uri": "https://localhost:8080/",
          "height": 567
        },
        "id": "nW3Nk8HPq1sM",
        "outputId": "28c18129-c6bb-4b15-bfad-02ca0eaa53e7"
      },
      "execution_count": 17,
      "outputs": [
        {
          "output_type": "display_data",
          "data": {
            "image/png": "[encoded data removed]",
            "text/plain": [
              "<Figure size 936x648 with 1 Axes>"
            ]
          },
          "metadata": {
            "needs_background": "light"
          }
        }
      ]
    },
    {
      "cell_type": "markdown",
      "source": [
        "Computation time"
      ],
      "metadata": {
        "id": "pBTAyppUtjK_"
      }
    },
    {
      "cell_type": "code",
      "source": [
        "test_arr_np = np.random.rand(10_000_000)\n",
        "test_arr_cp = cp.random.rand(10_000_000)\n",
        "\n",
        "time_np = %timeit -o -r 3 -n 1000 np.sum(test_arr_np)\n",
        "time_np = time_np.best\n",
        "\n",
        "time_cp = %timeit -o -r 3 -n 1000 np.sum(test_arr_cp)\n",
        "time_cp = time_cp.best"
      ],
      "metadata": {
        "colab": {
          "base_uri": "https://localhost:8080/"
        },
        "id": "w5Yu34R4tlME",
        "outputId": "1a1c26c4-d820-46f1-a034-4d476e7a5385"
      },
      "execution_count": 20,
      "outputs": [
        {
          "output_type": "stream",
          "name": "stdout",
          "text": [
            "1000 loops, best of 3: 8.04 ms per loop\n",
            "The slowest run took 315.98 times longer than the fastest. This could mean that an intermediate result is being cached.\n",
            "1000 loops, best of 3: 30.3 µs per loop\n"
          ]
        }
      ]
    },
    {
      "cell_type": "code",
      "source": [
        "print(f'time_np = {time_np}, time_cp = {time_cp}, time_np/time_cp = {time_np/time_cp}')"
      ],
      "metadata": {
        "colab": {
          "base_uri": "https://localhost:8080/"
        },
        "id": "CPecDRvCuShS",
        "outputId": "223c1510-4870-4115-f700-1d3617c315be"
      },
      "execution_count": 21,
      "outputs": [
        {
          "output_type": "stream",
          "name": "stdout",
          "text": [
            "time_np = 0.008040394924999987, time_cp = 3.0326775000048654e-05, time_np/time_cp = 265.1252869778302\n"
          ]
        }
      ]
    }
  ]
}