{
  "metadata": {
    "kernelspec": {
      "language": "python",
      "display_name": "Python 3",
      "name": "python3"
    },
    "language_info": {
      "name": "python",
      "version": "3.7.12",
      "mimetype": "text/x-python",
      "codemirror_mode": {
        "name": "ipython",
        "version": 3
      },
      "pygments_lexer": "ipython3",
      "nbconvert_exporter": "python",
      "file_extension": ".py"
    },
    "colab": {
      "name": "Vsevolod_Avilkin_hw2_part2.ipynb",
      "provenance": []
    },
    "accelerator": "GPU",
    "widgets": {
      "application/vnd.jupyter.widget-state+json": {
        "2d82d04305f94cdcafee1ba312923177": {
          "model_module": "@jupyter-widgets/controls",
          "model_name": "HBoxModel",
          "model_module_version": "1.5.0",
          "state": {
            "_view_name": "HBoxView",
            "_dom_classes": [],
            "_model_name": "HBoxModel",
            "_view_module": "@jupyter-widgets/controls",
            "_model_module_version": "1.5.0",
            "_view_count": null,
            "_view_module_version": "1.5.0",
            "box_style": "",
            "layout": "IPY_MODEL_85bf2436bbfc43cdb1c11812270add38",
            "_model_module": "@jupyter-widgets/controls",
            "children": [
              "IPY_MODEL_9d3b4a0e07f74d05ab715b9ea9ac2ac0",
              "IPY_MODEL_7a834b6c8a61464f9663c287c8cd874c",
              "IPY_MODEL_74a1741220714d77ad1b9619853c7a6f"
            ]
          }
        },
        "85bf2436bbfc43cdb1c11812270add38": {
          "model_module": "@jupyter-widgets/base",
          "model_name": "LayoutModel",
          "model_module_version": "1.2.0",
          "state": {
            "_view_name": "LayoutView",
            "grid_template_rows": null,
            "right": null,
            "justify_content": null,
            "_view_module": "@jupyter-widgets/base",
            "overflow": null,
            "_model_module_version": "1.2.0",
            "_view_count": null,
            "flex_flow": null,
            "width": null,
            "min_width": null,
            "border": null,
            "align_items": null,
            "bottom": null,
            "_model_module": "@jupyter-widgets/base",
            "top": null,
            "grid_column": null,
            "overflow_y": null,
            "overflow_x": null,
            "grid_auto_flow": null,
            "grid_area": null,
            "grid_template_columns": null,
            "flex": null,
            "_model_name": "LayoutModel",
            "justify_items": null,
            "grid_row": null,
            "max_height": null,
            "align_content": null,
            "visibility": null,
            "align_self": null,
            "height": null,
            "min_height": null,
            "padding": null,
            "grid_auto_rows": null,
            "grid_gap": null,
            "max_width": null,
            "order": null,
            "_view_module_version": "1.2.0",
            "grid_template_areas": null,
            "object_position": null,
            "object_fit": null,
            "grid_auto_columns": null,
            "margin": null,
            "display": null,
            "left": null
          }
        },
        "9d3b4a0e07f74d05ab715b9ea9ac2ac0": {
          "model_module": "@jupyter-widgets/controls",
          "model_name": "HTMLModel",
          "model_module_version": "1.5.0",
          "state": {
            "_view_name": "HTMLView",
            "style": "IPY_MODEL_85f967baf9a748e8bc45df015ef73f43",
            "_dom_classes": [],
            "description": "",
            "_model_name": "HTMLModel",
            "placeholder": "​",
            "_view_module": "@jupyter-widgets/controls",
            "_model_module_version": "1.5.0",
            "value": "",
            "_view_count": null,
            "_view_module_version": "1.5.0",
            "description_tooltip": null,
            "_model_module": "@jupyter-widgets/controls",
            "layout": "IPY_MODEL_c5d25f3e14164e45bcb4cddf2bef1e1a"
          }
        },
        "7a834b6c8a61464f9663c287c8cd874c": {
          "model_module": "@jupyter-widgets/controls",
          "model_name": "FloatProgressModel",
          "model_module_version": "1.5.0",
          "state": {
            "_view_name": "ProgressView",
            "style": "IPY_MODEL_f58e15e211f64021a7df075b1cd467c3",
            "_dom_classes": [],
            "description": "",
            "_model_name": "FloatProgressModel",
            "bar_style": "success",
            "max": 170498071,
            "_view_module": "@jupyter-widgets/controls",
            "_model_module_version": "1.5.0",
            "value": 170498071,
            "_view_count": null,
            "_view_module_version": "1.5.0",
            "orientation": "horizontal",
            "min": 0,
            "description_tooltip": null,
            "_model_module": "@jupyter-widgets/controls",
            "layout": "IPY_MODEL_4aa38eb480454d6cbd674026106f56db"
          }
        },
        "74a1741220714d77ad1b9619853c7a6f": {
          "model_module": "@jupyter-widgets/controls",
          "model_name": "HTMLModel",
          "model_module_version": "1.5.0",
          "state": {
            "_view_name": "HTMLView",
            "style": "IPY_MODEL_c8eaf5a2e480467c816cea6db346709c",
            "_dom_classes": [],
            "description": "",
            "_model_name": "HTMLModel",
            "placeholder": "​",
            "_view_module": "@jupyter-widgets/controls",
            "_model_module_version": "1.5.0",
            "value": " 170499072/? [00:08&lt;00:00, 19992096.36it/s]",
            "_view_count": null,
            "_view_module_version": "1.5.0",
            "description_tooltip": null,
            "_model_module": "@jupyter-widgets/controls",
            "layout": "IPY_MODEL_c03e1ffca2744f46b2585719e177322a"
          }
        },
        "85f967baf9a748e8bc45df015ef73f43": {
          "model_module": "@jupyter-widgets/controls",
          "model_name": "DescriptionStyleModel",
          "model_module_version": "1.5.0",
          "state": {
            "_view_name": "StyleView",
            "_model_name": "DescriptionStyleModel",
            "description_width": "",
            "_view_module": "@jupyter-widgets/base",
            "_model_module_version": "1.5.0",
            "_view_count": null,
            "_view_module_version": "1.2.0",
            "_model_module": "@jupyter-widgets/controls"
          }
        },
        "c5d25f3e14164e45bcb4cddf2bef1e1a": {
          "model_module": "@jupyter-widgets/base",
          "model_name": "LayoutModel",
          "model_module_version": "1.2.0",
          "state": {
            "_view_name": "LayoutView",
            "grid_template_rows": null,
            "right": null,
            "justify_content": null,
            "_view_module": "@jupyter-widgets/base",
            "overflow": null,
            "_model_module_version": "1.2.0",
            "_view_count": null,
            "flex_flow": null,
            "width": null,
            "min_width": null,
            "border": null,
            "align_items": null,
            "bottom": null,
            "_model_module": "@jupyter-widgets/base",
            "top": null,
            "grid_column": null,
            "overflow_y": null,
            "overflow_x": null,
            "grid_auto_flow": null,
            "grid_area": null,
            "grid_template_columns": null,
            "flex": null,
            "_model_name": "LayoutModel",
            "justify_items": null,
            "grid_row": null,
            "max_height": null,
            "align_content": null,
            "visibility": null,
            "align_self": null,
            "height": null,
            "min_height": null,
            "padding": null,
            "grid_auto_rows": null,
            "grid_gap": null,
            "max_width": null,
            "order": null,
            "_view_module_version": "1.2.0",
            "grid_template_areas": null,
            "object_position": null,
            "object_fit": null,
            "grid_auto_columns": null,
            "margin": null,
            "display": null,
            "left": null
          }
        },
        "f58e15e211f64021a7df075b1cd467c3": {
          "model_module": "@jupyter-widgets/controls",
          "model_name": "ProgressStyleModel",
          "model_module_version": "1.5.0",
          "state": {
            "_view_name": "StyleView",
            "_model_name": "ProgressStyleModel",
            "description_width": "",
            "_view_module": "@jupyter-widgets/base",
            "_model_module_version": "1.5.0",
            "_view_count": null,
            "_view_module_version": "1.2.0",
            "bar_color": null,
            "_model_module": "@jupyter-widgets/controls"
          }
        },
        "4aa38eb480454d6cbd674026106f56db": {
          "model_module": "@jupyter-widgets/base",
          "model_name": "LayoutModel",
          "model_module_version": "1.2.0",
          "state": {
            "_view_name": "LayoutView",
            "grid_template_rows": null,
            "right": null,
            "justify_content": null,
            "_view_module": "@jupyter-widgets/base",
            "overflow": null,
            "_model_module_version": "1.2.0",
            "_view_count": null,
            "flex_flow": null,
            "width": null,
            "min_width": null,
            "border": null,
            "align_items": null,
            "bottom": null,
            "_model_module": "@jupyter-widgets/base",
            "top": null,
            "grid_column": null,
            "overflow_y": null,
            "overflow_x": null,
            "grid_auto_flow": null,
            "grid_area": null,
            "grid_template_columns": null,
            "flex": null,
            "_model_name": "LayoutModel",
            "justify_items": null,
            "grid_row": null,
            "max_height": null,
            "align_content": null,
            "visibility": null,
            "align_self": null,
            "height": null,
            "min_height": null,
            "padding": null,
            "grid_auto_rows": null,
            "grid_gap": null,
            "max_width": null,
            "order": null,
            "_view_module_version": "1.2.0",
            "grid_template_areas": null,
            "object_position": null,
            "object_fit": null,
            "grid_auto_columns": null,
            "margin": null,
            "display": null,
            "left": null
          }
        },
        "c8eaf5a2e480467c816cea6db346709c": {
          "model_module": "@jupyter-widgets/controls",
          "model_name": "DescriptionStyleModel",
          "model_module_version": "1.5.0",
          "state": {
            "_view_name": "StyleView",
            "_model_name": "DescriptionStyleModel",
            "description_width": "",
            "_view_module": "@jupyter-widgets/base",
            "_model_module_version": "1.5.0",
            "_view_count": null,
            "_view_module_version": "1.2.0",
            "_model_module": "@jupyter-widgets/controls"
          }
        },
        "c03e1ffca2744f46b2585719e177322a": {
          "model_module": "@jupyter-widgets/base",
          "model_name": "LayoutModel",
          "model_module_version": "1.2.0",
          "state": {
            "_view_name": "LayoutView",
            "grid_template_rows": null,
            "right": null,
            "justify_content": null,
            "_view_module": "@jupyter-widgets/base",
            "overflow": null,
            "_model_module_version": "1.2.0",
            "_view_count": null,
            "flex_flow": null,
            "width": null,
            "min_width": null,
            "border": null,
            "align_items": null,
            "bottom": null,
            "_model_module": "@jupyter-widgets/base",
            "top": null,
            "grid_column": null,
            "overflow_y": null,
            "overflow_x": null,
            "grid_auto_flow": null,
            "grid_area": null,
            "grid_template_columns": null,
            "flex": null,
            "_model_name": "LayoutModel",
            "justify_items": null,
            "grid_row": null,
            "max_height": null,
            "align_content": null,
            "visibility": null,
            "align_self": null,
            "height": null,
            "min_height": null,
            "padding": null,
            "grid_auto_rows": null,
            "grid_gap": null,
            "max_width": null,
            "order": null,
            "_view_module_version": "1.2.0",
            "grid_template_areas": null,
            "object_position": null,
            "object_fit": null,
            "grid_auto_columns": null,
            "margin": null,
            "display": null,
            "left": null
          }
        }
      }
    }
  },
  "nbformat_minor": 0,
  "nbformat": 4,
  "cells": [
    {
      "cell_type": "markdown",
      "source": [
        "# Home Assignment No. 2 - part two\n",
        "\n",
        "To solve this task, you will write a lot of code to try several deep learning approaches.\n",
        "* You are **HIGHLY RECOMMENDED** to read relevant documentation, e.g. for [python](https://docs.python.org/3/), [numpy](https://docs.scipy.org/doc/numpy/reference/), [matlpotlib](https://matplotlib.org/) and [pytorch](https://pytorch.org/). Also remember that seminars, lecture slides, [Google](http://google.com) and [StackOverflow](https://stackoverflow.com/) are your close friends during this course (and, probably, the whole life?).\n",
        "\n",
        "* If you want an easy life, you have to use **BUILT-IN METHODS** of `pytorch` and `torchvision` libraries instead of writing tons of your own code. There exists a class/method for almost everything you can imagine (related to this homework).\n",
        "\n",
        "* You have to write **CODE** directly inside specified places marked by comments: **BEGIN/END Solution**. Do not create new cells.\n",
        "\n",
        "* In some problems you are asked to provide a short discussion of the results. For that find the specific place marked via **Your text answer: \\<write your answer\\>**.\n",
        "\n",
        "* For every separate problem or subproblem (if specified) you can get only 0 points or maximal points for this problem. There are **NO INTERMEDIATE scores**. So make sure that you did everything required in the task.\n",
        "\n",
        "* Your **SOLUTION** notebook **MUST BE REPRODUCIBLE**, i.e., if the reviewer decides to restart the notebook and run all cells, after all the computation he will obtain exactly the same solution (with all the corresponding plots) as in your uploaded notebook. For this purpose, we suggest to fix random `seed`, i.e., to use `torch.manual_seed(...)` and `np.random.seed(...)`.\n",
        "\n",
        "* Your code must be clear to the reviewer. For this purpose, try to include necessary comments inside the code. But remember: **GOOD CODE MUST BE SELF-EXPLANATORY** without any additional comments.\n",
        "\n",
        "* Remember to use **GPU** computations in `pytorch`. For this, you have to write `model.cuda()`, `tensor.cuda()` to put your model/tensor to GPU. If you do not want to have an easy life, you may compute everything on **CPU** (default).\n",
        "\n",
        "* If you have **multiple** GPUs available, you may call `torch.cuda.set_device(DEVICE_ID)` to specify the particular  GPU device to be used. Also, you are allowed to use `torch.nn.DataParallel(...)` to compute on multiple GPUs but a **single Google Colab GPU is enough for each task**.\n"
      ],
      "metadata": {
        "id": "bWEEBnVC-Irv"
      }
    },
    {
      "cell_type": "markdown",
      "source": [
        "## Task 4. Toy Deep Learning. (3 points)\n",
        "\n",
        "-  **(1 pt.)** Activation functions; **(subtask 6.1)**\n",
        "-  **(2 pt.)** MNIST classification.  **(subtask 6.2)**\n",
        "\n",
        "\n",
        "\n",
        "### Subproblem 4.1  Activation functions. \n",
        "Plot the following [activation functions](https://pytorch.org/docs/master/nn.html#non-linear-activation-functions) using their PyTorch implementation and their derivatives using [autograd](https://pytorch.org/docs/stable/autograd.html) functionality `grad()`:\n",
        "   \n",
        "**4.1.1) Plot `ReLU`, `ELU` ($\\alpha = 1$), `Softplus` ($\\beta = 1$) and `Sign`, `Sigmoid`, `Softsign`, `Tanh`.**\n"
      ],
      "metadata": {
        "id": "ddR3sf3P82Ht"
      }
    },
    {
      "cell_type": "code",
      "source": [
        "%matplotlib inline\n",
        "import torch.nn.functional as F\n",
        "import matplotlib.pyplot as plt\n",
        "import torch\n",
        "\n",
        "x = torch.arange(-2, 2, .01, requires_grad=True)\n",
        "x_np = x.detach().numpy()\n",
        "x.sum().backward() # to create x.grad\n",
        "\n",
        "f, axes = plt.subplots(2, 2, sharex=True, figsize=(14, 5))\n",
        "axes[0, 0].set_title('Values')\n",
        "axes[0, 1].set_title('Derivatives')\n",
        "\n",
        "names = []\n",
        "\n",
        "for i, function_set in (0, (('ReLU', F.relu), ('ELU', F.elu), ('Softplus', F.softplus))), \\\n",
        "                       (1, (('Sign', torch.sign), ('Sigmoid', torch.sigmoid), ('Softsign', F.softsign), ('Tanh', torch.tanh))):\n",
        "    for function_name, activation in function_set:\n",
        "        ### BEGIN Solution (do not delete this comment)\n",
        "\n",
        "        y = activation(x)\n",
        "        axes[i, 0].plot(x_np, y.data, label=function_name)\n",
        "        x.grad.zero_()\n",
        "        y.sum().backward()\n",
        "\n",
        "        axes[i, 1].plot(x_np, x.grad.data, label=function_name)\n",
        "\n",
        "\n",
        "        ### END Solution (do not delete this comment)\n",
        "\n",
        "    axes[i, 0].legend()\n",
        "    axes[i, 1].legend()\n",
        "print('EXPECTED OUTPUT FORMAT')\n",
        "plt.tight_layout()\n",
        "plt.show()"
      ],
      "metadata": {
        "ExecuteTime": {
          "end_time": "2022-03-06T22:33:08.229884Z",
          "start_time": "2022-03-06T22:33:07.617078Z"
        },
        "colab": {
          "base_uri": "https://localhost:8080/",
          "height": 387
        },
        "id": "Z4NlHycA4nju",
        "outputId": "06cc792c-d066-4616-a8e3-5d059611b3d9"
      },
      "execution_count": 1,
      "outputs": [
        {
          "output_type": "stream",
          "name": "stdout",
          "text": [
            "EXPECTED OUTPUT FORMAT\n"
          ]
        },
        {
          "output_type": "display_data",
          "data": {
            "image/png": "[encoded data removed]",
            "text/plain": [
              "<Figure size 1008x360 with 4 Axes>"
            ]
          },
          "metadata": {
            "needs_background": "light"
          }
        }
      ]
    },
    {
      "cell_type": "markdown",
      "source": [
        "**4.1.2) Which of these functions may be, and which - definitely, are a poor choise as an activation function in a neural network? Why? Do not forget that output of the current layer servers as an input for the following one. Imagine a situation where we have many layers, what happens with the activation values?**\n",
        "\n",
        "\n",
        "\n",
        "\n",
        "\n"
      ],
      "metadata": {
        "id": "_misNcjO8wXF"
      }
    },
    {
      "cell_type": "markdown",
      "source": [
        "**Your text answer (do not delete this comment)**:\n",
        "*   ReLU ReLU(x<0) = 0: may be a poor choice because of \"dying ReLU problem\" but may be a good choice for big NN due to sparse activation\n",
        "*   ELU may be a poor choice because the gradient around x=0 is not steep, so ELU(x) for x>0 and x<0 does no have a distinct difference . Also has an \"exploding gradient problem\"\n",
        "*   Softplus is a smooth approximation to the ReLU function. Doesn't have a  \"dying ReLU problem\" but is harder to compute\n",
        "*   Sign definitely a bad choice because we can't compare activations equal to 1 one to each other and stacking doesn't work\n",
        "*   Sigmoid : may be a poor choice because small gradient at the ends of [-2,2] interval causes slow learning rate (\"vanishing gradient problem\") \n",
        "*   Tanh is basically a scaled sigmoid function, has the same advantages and disadvantages, but gradient is steeper"
      ],
      "metadata": {
        "id": "dutch-alfred"
      }
    },
    {
      "cell_type": "markdown",
      "source": [
        "### Task 4.2 MNIST classification. \n",
        "\n",
        "At one of the seminars we have discussed an MLP (Multilayer perceptron) with one hidden layer, logistic activation functions and softmax. In this task, you will need to:\n",
        "\n",
        "1. Implement the MLP modules, including the Softmax cross entropy between `logits` and `labels` using numpy.\n",
        "\n",
        "2.  Train your numpy realization of MLP to classify MNIST from `sklearn.datasets()`. The required accuracy on validation is `> 90%`.\n"
      ],
      "metadata": {
        "id": "sW9OYyIw8wz4"
      }
    },
    {
      "cell_type": "code",
      "source": [
        "import numpy as np\n",
        "import pandas as pd\n",
        "import matplotlib.pyplot as plt\n",
        "\n",
        "from sklearn.datasets import load_digits\n",
        "from sklearn.model_selection import train_test_split\n",
        "from sklearn.metrics import confusion_matrix, accuracy_score"
      ],
      "metadata": {
        "ExecuteTime": {
          "end_time": "2022-03-06T19:45:49.295975Z",
          "start_time": "2022-03-06T19:45:49.278968Z"
        },
        "id": "RKxe88YT_p9P",
        "execution": {
          "iopub.status.busy": "2022-03-06T23:46:32.783714Z",
          "iopub.execute_input": "2022-03-06T23:46:32.78455Z",
          "iopub.status.idle": "2022-03-06T23:46:34.078857Z",
          "shell.execute_reply.started": "2022-03-06T23:46:32.784503Z",
          "shell.execute_reply": "2022-03-06T23:46:34.078083Z"
        },
        "trusted": true
      },
      "execution_count": 2,
      "outputs": []
    },
    {
      "cell_type": "code",
      "source": [
        "# fetch the dataset.\n",
        "digits, targets = load_digits(return_X_y=True)\n",
        "digits = digits.astype(np.float32) / 255\n",
        "\n",
        "digits_train, digits_test, targets_train, targets_test = train_test_split(digits, targets, random_state=0)\n",
        "\n",
        "train_size = digits_train.shape[0]\n",
        "test_size = digits_test.shape[0]\n",
        "\n",
        "input_size = 8*8\n",
        "classes_n = 10"
      ],
      "metadata": {
        "ExecuteTime": {
          "end_time": "2022-03-06T19:45:50.13163Z",
          "start_time": "2022-03-06T19:45:50.039639Z"
        },
        "id": "E7_2lHue_r0x",
        "execution": {
          "iopub.status.busy": "2022-03-06T23:46:34.080403Z",
          "iopub.execute_input": "2022-03-06T23:46:34.081486Z",
          "iopub.status.idle": "2022-03-06T23:46:34.173335Z",
          "shell.execute_reply.started": "2022-03-06T23:46:34.081446Z",
          "shell.execute_reply": "2022-03-06T23:46:34.172575Z"
        },
        "trusted": true
      },
      "execution_count": 3,
      "outputs": []
    },
    {
      "cell_type": "code",
      "source": [
        "N = 10\n",
        "\n",
        "sample_idx = np.random.choice(1797, N, replace=False)\n",
        "digits_sample = digits[sample_idx]\n",
        "targets_sample = targets[sample_idx]\n",
        "f, ax  = plt.subplots(1,10, figsize=(10, 5))\n",
        "\n",
        "for i in range(N):\n",
        "    ax[i].imshow(digits_sample[i].reshape(8,8))\n",
        "    ax[i].set_title('label: '+str(targets_sample[i]))\n"
      ],
      "metadata": {
        "ExecuteTime": {
          "end_time": "2022-03-06T19:45:51.310872Z",
          "start_time": "2022-03-06T19:45:50.631454Z"
        },
        "id": "feWQtoKtn1vV",
        "outputId": "f93ed07b-5c5a-45bf-edde-55aa741c403c",
        "execution": {
          "iopub.status.busy": "2022-03-06T23:46:34.174575Z",
          "iopub.execute_input": "2022-03-06T23:46:34.17491Z",
          "iopub.status.idle": "2022-03-06T23:46:34.987765Z",
          "shell.execute_reply.started": "2022-03-06T23:46:34.17487Z",
          "shell.execute_reply": "2022-03-06T23:46:34.98705Z"
        },
        "trusted": true,
        "colab": {
          "base_uri": "https://localhost:8080/",
          "height": 111
        }
      },
      "execution_count": 4,
      "outputs": [
        {
          "output_type": "display_data",
          "data": {
            "image/png": "[encoded data removed]",
            "text/plain": [
              "<Figure size 720x360 with 10 Axes>"
            ]
          },
          "metadata": {
            "needs_background": "light"
          }
        }
      ]
    },
    {
      "cell_type": "markdown",
      "source": [
        "A short recap on what we are going to achieve here.\n",
        "<br>\n",
        "1. Forward pass:\n",
        "$$\n",
        "h_1 = X\\theta_1+\\beta_1\n",
        "$$\n",
        "\n",
        "$$\n",
        "O_1 = sig(h_1)\n",
        "$$\n",
        "\n",
        "$$\n",
        "h_2 = O_1\\theta_2+\\beta_2\n",
        "$$\n",
        "$$\n",
        "O_2 = softmax(h_2)\n",
        "$$\n",
        "$$\n",
        "Loss = CrossEntropy(O_2, true \\space labels)\n",
        "$$\n",
        "\n",
        "2. Compute gradients: \n",
        "\n",
        "To update weights first we need to compute loss gradients with respect to $\\theta_1$ and $\\theta_2$ and then update both $\\theta$ and $\\beta$.\n",
        "\n",
        "$$\n",
        "\\frac{ \\partial{loss} }{\\partial{\\theta_2}} = \\frac{ \\partial{loss} }{\\partial{O_2}}\\frac{ \\partial{O_2} }{\\partial{h_2}}\\frac{ \\partial{h_2} }{\\partial{\\theta_2}}\n",
        "$$\n",
        "Note, that $\\frac{ \\partial{h_2} }{\\partial{\\theta_2}}=O_1$, so we can cache this value during forward pass to speed up our computation.\n",
        "$$\n",
        "\\frac{ \\partial{loss} }{\\partial{\\theta_1}} = \\frac{ \\partial{loss} }{\\partial{O_2}}\\frac{ \\partial{O_2} }{\\partial{h_2}}\\frac{ \\partial{h_2} }{\\partial{O_1}}\\frac{ \\partial{O_1} }{\\partial{h_1}}\\frac{ \\partial{h_1} }{\\partial{\\theta_1}}\n",
        "$$\n",
        "Note, that $\\frac{ \\partial{h_1} }{\\partial{\\theta_1}}=X$.\n",
        "\n",
        "Since we are using sigmoid avtivation function here and\n",
        "$$\n",
        "\\frac{ \\partial{sig} }{\\partial{h}} = sig(h)(1 - sig(h))\n",
        "$$\n",
        "It also makes sense to cache sig(h) during forward pass.\n",
        "\n",
        "3. Update weights:\n",
        "\n",
        "$\\theta:= \\theta -  \\frac{ \\partial{loss} }{\\partial{\\theta}}\\alpha$, where $\\alpha$ is some learning rate.\n",
        "\n",
        "Note, it was not shown here how to update and compute $\\beta$ but you can do it!"
      ],
      "metadata": {
        "id": "Pj6EctS6yTJK"
      }
    },
    {
      "cell_type": "markdown",
      "source": [
        "**4.2.1) Implement the MLP with backprop**\n",
        "\n",
        "Here you should implement an MLP class and its constituents including forward and backward propagation methods."
      ],
      "metadata": {
        "id": "CaBenjDI_x6k"
      }
    },
    {
      "cell_type": "code",
      "source": [
        "\n",
        "class Linear:\n",
        "    def __init__(self, input_size, output_size):\n",
        "        # Trainable parameters of the layer and their gradients\n",
        "        self.thetas = np.random.randn(input_size, output_size) # the weight matrix of the layer (W)\n",
        "        self.thetas_grads = np.empty_like(self.thetas) # gradient w.r.t. the weight matrix of the layer\n",
        "        self.bias = np.random.randn(output_size) # bias terms of the layer (b)\n",
        "        self.bias_grads = np.empty_like(self.bias) # gradient w.r.t. bias terms of the linear layer\n",
        "\n",
        "    def forward(self, x): \n",
        "        # keep x for backward computation\n",
        "        self.x = x\n",
        "        output = np.matmul(x, self.thetas) + self.bias\n",
        "        return output\n",
        "    \n",
        "    def backward(self, output_grad, learning_rate):\n",
        "        \"\"\"\n",
        "        Calculate and return gradient of the loss w.r.t. the input of linear layer given the input x and the gradient \n",
        "        w.r.t output of linear layer. You should also calculate and update gradients of layer parameters.\n",
        "        :param x: np.array, input tensor for linear layer;\n",
        "        :param output_grad: np.array, grad tensor w.r.t output of linear layer;\n",
        "        :return: np.array, grad w.r.t input of linear layer\n",
        "        \"\"\"\n",
        "        \n",
        "        ### BEGIN Solution (do not delete this comment)\n",
        "\n",
        "        # calculate input_grad value\n",
        "        input_grad = np.matmul(output_grad, self.thetas.T)\n",
        "        # update thetas_grads\n",
        "        self.thetas_grads = np.matmul(self.x.T, output_grad)\n",
        "        # update bias_grads\n",
        "        self.bias_grads = output_grad.reshape((-1))\n",
        "\n",
        "        ### END Solution (do not delete this comment!)\n",
        "        \n",
        "        return input_grad\n",
        "\n",
        "    def step(self, learning_rate):\n",
        "        self.thetas -= self.thetas_grads * learning_rate\n",
        "        self.bias -= self.bias_grads * learning_rate\n",
        "\n",
        "class LogisticActivation:\n",
        "    def __init__(self):\n",
        "        # the layer has no parameters\n",
        "        pass \n",
        "        \n",
        "    def sig(self, x):\n",
        "        return 1/(1 + np.exp(-x))\n",
        "\n",
        "    def forward(self, x):\n",
        "        # keep o for backward computation\n",
        "        self.o = self.sig(x)\n",
        "        return self.o \n",
        "\n",
        "\n",
        "    def backward(self,  output_grad, learning_rate=None):\n",
        "        \"\"\"\n",
        "        Calculate and return the gradient of the loss w.r.t. the input\n",
        "        of logistic non-linearity (given input x and the gradient \n",
        "        w.r.t output of logistic non-linearity).\n",
        "        \n",
        "        :param x: np.array, input tensor for logistic non-linearity;\n",
        "        :param output_grad: np.array, grad tensor w.r.t output of logistic non-linearity;\n",
        "        :return: np.array, grad w.r.t input of logistic non-linearity\n",
        "        \n",
        "        \"\"\"\n",
        "        \n",
        "        ### BEGIN Solution (do not delete this comment!)\n",
        "\n",
        "        sigmoid = self.o\n",
        "        input_grad = sigmoid * (1 - sigmoid) * output_grad\n",
        "\n",
        "        ### END Solution (do not delete this comment!)\n",
        "        \n",
        "        return input_grad\n",
        "\n",
        "\n",
        "class MLP:\n",
        "    def __init__(self, input_size, hidden_layer_size, output_size):\n",
        "        self.linear1 = Linear(input_size, hidden_layer_size)\n",
        "        self.activation1 = LogisticActivation()\n",
        "        self.linear2 = Linear(hidden_layer_size, output_size)\n",
        "        \n",
        "    def forward(self, x):\n",
        "        h1 = self.linear1.forward(x)\n",
        "        h1a = self.activation1.forward(h1)\n",
        "        out = self.linear2.forward(h1a)\n",
        "        return out\n",
        "\n",
        "    def backward(self, output_grad, learning_rate):\n",
        "        \"\"\"\n",
        "        Calculate and return the gradient of the loss w.r.t. the input of MLP given the input and the gradient \n",
        "        w.r.t output of MLP. You should also update gradients of paramerters of MLP layers.\n",
        "        Hint - you should chain backward operations of modules you have already implemented. You may also\n",
        "        need to calculate intermediate forward results.\n",
        "        \n",
        "        :param x: np.array, input tensor for MLP;\n",
        "        :param output_grad: np.array, grad tensor w.r.t output of MLP;\n",
        "        :return: np.array, grad w.r.t input of MLP\n",
        "        \"\"\"\n",
        " \n",
        "        ### BEGIN Solution (do not delete this comment!)\n",
        "\n",
        "        # output gradient for linear2 layer\n",
        "        out_grad_linear2 = self.linear2.backward(output_grad = output_grad, learning_rate = 0)\n",
        "        # output gradient for activation function\n",
        "        out_grad_activation1 = self.activation1.backward(output_grad = out_grad_linear2, learning_rate = 0)\n",
        "        # output gradient for linear1 layer\n",
        "        out = self.linear1.backward(output_grad = out_grad_activation1, learning_rate = 0)\n",
        "        # update weights\n",
        "        self.linear1.step(learning_rate = learning_rate)\n",
        "        self.linear2.step(learning_rate = learning_rate)\n",
        "        \n",
        "        ### END Solution (do not delete this comment!)\n",
        "        \n",
        "\n",
        "        return  out\n"
      ],
      "metadata": {
        "ExecuteTime": {
          "end_time": "2022-03-06T19:48:19.679186Z",
          "start_time": "2022-03-06T19:48:19.65618Z"
        },
        "id": "ffpXAKqQ_vfg",
        "execution": {
          "iopub.status.busy": "2022-03-06T23:46:35.22389Z",
          "iopub.execute_input": "2022-03-06T23:46:35.224364Z",
          "iopub.status.idle": "2022-03-06T23:46:35.242161Z",
          "shell.execute_reply.started": "2022-03-06T23:46:35.224327Z",
          "shell.execute_reply": "2022-03-06T23:46:35.241188Z"
        },
        "trusted": true
      },
      "execution_count": 5,
      "outputs": []
    },
    {
      "cell_type": "code",
      "source": [
        "def softmax_crossentropy_with_logits(logits, reference_answers):\n",
        "    \n",
        "    ### BEGIN Solution (do not delete this comment!)\n",
        "    \n",
        "    correct_logits_idx = (range(logits.shape[0]), reference_answers)\n",
        "    correct_logits = logits[correct_logits_idx]\n",
        " \n",
        "    loss = (np.log(np.exp(logits).sum(axis=1)) - correct_logits).mean()\n",
        "    \n",
        "    ### END Solution (do not delete this comment!)\n",
        "    \n",
        "    return loss\n",
        "\n",
        "def grad_softmax_crossentropy_with_logits(logits, reference_answers):\n",
        "    \n",
        "    ### BEGIN Solution (do not delete this comment!)\n",
        "\n",
        "    targ_val = np.zeros_like(logits)\n",
        "    targ_val[:, reference_answers] = 1\n",
        "    \n",
        "    grad = (np.exp(logits) / np.exp(logits).sum(axis = 1)) - targ_val\n",
        "  \n",
        "    ### END Solution (do not delete this comment!)\n",
        "\n",
        "    return grad"
      ],
      "metadata": {
        "ExecuteTime": {
          "end_time": "2022-03-06T19:57:04.49253Z",
          "start_time": "2022-03-06T19:57:04.480533Z"
        },
        "id": "07DUqp86_0To",
        "execution": {
          "iopub.status.busy": "2022-03-06T23:46:36.512313Z",
          "iopub.execute_input": "2022-03-06T23:46:36.512785Z",
          "iopub.status.idle": "2022-03-06T23:46:36.519551Z",
          "shell.execute_reply.started": "2022-03-06T23:46:36.512748Z",
          "shell.execute_reply": "2022-03-06T23:46:36.518576Z"
        },
        "trusted": true
      },
      "execution_count": 6,
      "outputs": []
    },
    {
      "cell_type": "code",
      "source": [
        "np.random.seed(42)\n",
        "\n",
        "mlp = MLP(input_size=input_size, hidden_layer_size=100, output_size=classes_n)\n",
        "\n",
        "epochs_n = 100\n",
        "learning_curve = [0] * epochs_n\n",
        "test_curve = [0] * epochs_n\n",
        "\n",
        "x_train = digits_train\n",
        "x_test = digits_test\n",
        "y_train = targets_train\n",
        "y_test = targets_test\n",
        "\n",
        "learning_rate = 1e-2\n",
        "\n",
        "for epoch in range(epochs_n):\n",
        "    \n",
        "    y_pred = []\n",
        "\n",
        "    for sample_i in range(train_size):\n",
        "        x = x_train[sample_i].reshape((1, -1))\n",
        "        target = np.array([y_train[sample_i]])\n",
        "        logits = mlp.forward(x)\n",
        "\n",
        "        ### BEGIN Solution (do not delete this comment!)\n",
        "        \n",
        "        mlp.linear1.thetas_grads = 0\n",
        "        mlp.linear2.thetas_grads = 0\n",
        "        mlp.linear1.bias_grads = 0\n",
        "        mlp.linear2.bias_grads = 0\n",
        "\n",
        "        # ... perform forward pass and compute the loss\n",
        "        logits = mlp.forward(x)\n",
        "        loss = softmax_crossentropy_with_logits(logits, target)\n",
        "\n",
        "        # ... compute the gradients w.r.t. the input of softmax layer\n",
        "        grad = grad_softmax_crossentropy_with_logits(logits, target)\n",
        "\n",
        "        # ... perform backward pass\n",
        "        # ... and update the weights with weight -= grad * learning_rate\n",
        "        mlp.backward(output_grad = grad, learning_rate = learning_rate)\n",
        "\n",
        "        ### END Solution (do not delete this comment!)\n",
        "\n",
        "        y_pred.extend(logits.argmax(1))\n",
        "\n",
        "    if epoch % 10 == 0:\n",
        "        \n",
        "        y_pred_test = []\n",
        "\n",
        "        for sample_i in range(test_size):\n",
        "            x = x_test[sample_i].reshape((1, -1))\n",
        "            target = np.array([y_test[sample_i]])\n",
        "            \n",
        "            logits = mlp.forward(x)\n",
        "            y_pred_test.extend(logits.argmax(1))\n",
        "\n",
        "        print('Starting epoch {}'.format(epoch), \\\n",
        "              ', Loss : {:.3}'.format(loss), \\\n",
        "              ', Accuracy on train: {:.3}'.format(accuracy_score(y_train, y_pred)), \\\n",
        "              ', Accuracy on test: {:.3}'.format(accuracy_score(y_test, y_pred_test)) )"
      ],
      "metadata": {
        "ExecuteTime": {
          "end_time": "2022-03-06T19:54:11.373744Z",
          "start_time": "2022-03-06T19:53:50.466199Z"
        },
        "scrolled": true,
        "execution": {
          "iopub.status.busy": "2022-03-06T23:46:39.755563Z",
          "iopub.execute_input": "2022-03-06T23:46:39.756435Z",
          "iopub.status.idle": "2022-03-06T23:47:03.474833Z",
          "shell.execute_reply.started": "2022-03-06T23:46:39.756388Z",
          "shell.execute_reply": "2022-03-06T23:47:03.473995Z"
        },
        "trusted": true,
        "colab": {
          "base_uri": "https://localhost:8080/"
        },
        "id": "7BwYpEw34nj-",
        "outputId": "eab620bb-45fd-453f-d9a9-a93329cd3b71"
      },
      "execution_count": 7,
      "outputs": [
        {
          "output_type": "stream",
          "name": "stdout",
          "text": [
            "Starting epoch 0 , Loss : 2.71 , Accuracy on train: 0.103 , Accuracy on test: 0.0667\n",
            "Starting epoch 10 , Loss : 2.15 , Accuracy on train: 0.625 , Accuracy on test: 0.649\n",
            "Starting epoch 20 , Loss : 1.55 , Accuracy on train: 0.821 , Accuracy on test: 0.807\n",
            "Starting epoch 30 , Loss : 1.07 , Accuracy on train: 0.875 , Accuracy on test: 0.871\n",
            "Starting epoch 40 , Loss : 0.742 , Accuracy on train: 0.9 , Accuracy on test: 0.889\n",
            "Starting epoch 50 , Loss : 0.534 , Accuracy on train: 0.911 , Accuracy on test: 0.904\n",
            "Starting epoch 60 , Loss : 0.399 , Accuracy on train: 0.92 , Accuracy on test: 0.924\n",
            "Starting epoch 70 , Loss : 0.308 , Accuracy on train: 0.927 , Accuracy on test: 0.931\n",
            "Starting epoch 80 , Loss : 0.245 , Accuracy on train: 0.929 , Accuracy on test: 0.931\n",
            "Starting epoch 90 , Loss : 0.198 , Accuracy on train: 0.936 , Accuracy on test: 0.933\n"
          ]
        }
      ]
    },
    {
      "cell_type": "markdown",
      "source": [
        "**4.2.2) Print the confusion matrix between your predictions and true values.**"
      ],
      "metadata": {
        "id": "JvJtij8LOQ0e"
      }
    },
    {
      "cell_type": "code",
      "source": [
        "# BEGIN Solution (do not delete this comment!)\n",
        "\n",
        "true = y_test \n",
        "pred = mlp.forward(x_test) \n",
        "\n",
        "confusion_matrix(y_true = true, y_pred = np.argmax(pred, axis=1))\n",
        "\n",
        "# END Solution (do not delete this comment!)"
      ],
      "metadata": {
        "ExecuteTime": {
          "end_time": "2022-03-06T19:57:55.886456Z",
          "start_time": "2022-03-06T19:57:55.857452Z"
        },
        "scrolled": true,
        "colab": {
          "base_uri": "https://localhost:8080/"
        },
        "id": "7r1J7qKd4nkA",
        "outputId": "0b685be9-3c51-4be6-f0c0-0b243b61f2cc"
      },
      "execution_count": 8,
      "outputs": [
        {
          "output_type": "execute_result",
          "data": {
            "text/plain": [
              "array([[37,  0,  0,  0,  0,  0,  0,  0,  0,  0],\n",
              "       [ 0, 39,  0,  0,  0,  0,  2,  0,  0,  2],\n",
              "       [ 0,  1, 41,  1,  0,  0,  0,  1,  0,  0],\n",
              "       [ 0,  0,  0, 43,  0,  0,  0,  0,  1,  1],\n",
              "       [ 0,  0,  0,  0, 37,  0,  0,  1,  0,  0],\n",
              "       [ 0,  0,  0,  0,  0, 46,  0,  0,  0,  2],\n",
              "       [ 0,  1,  0,  0,  0,  0, 51,  0,  0,  0],\n",
              "       [ 0,  0,  0,  0,  0,  0,  0, 48,  0,  0],\n",
              "       [ 0,  4,  1,  0,  0,  1,  0,  1, 41,  0],\n",
              "       [ 0,  0,  0,  4,  0,  2,  0,  0,  1, 40]])"
            ]
          },
          "metadata": {},
          "execution_count": 8
        }
      ]
    },
    {
      "cell_type": "markdown",
      "source": [
        "## Task 5. CIFAR-10 Classification (10 points)\n",
        "**From now on we will be using pytorch for all the tasks.**\n",
        "\n",
        "We will create a 10-class classifier on the popular [CIFAR-10](https://pytorch.org/vision/stable/datasets.html#cifar) dataset.\n",
        "\n",
        "1. **(1 pt.)**  Load the dataset. Prepare dataloaders (train, test). Visualize images. (**Subproblem 5.1**)\n",
        "\n",
        "2. **(2 pt.)**  Prepare the training procedure. Train a simple linear classifier `clf_lr`. (**Subproblem 5.2**)\n",
        "\n",
        "3. **(2 pt.)**  Define, train and evaluate a sequential fully-connected classifier `clf_mlp`. (**Subproblem 5.3**)\n",
        "\n",
        "4. **(3 pt.)**  Define, train and evaluate a convolutional + fully-connected classifier `clf_cnn`. (**Subproblem 5.4**)\n",
        "\n",
        "5. **(2 pt.)**  Define, train and evaluate a deep neural network classifier `clf` from [torchvision.models](https://pytorch.org/vision/stable/models.html). (**Subproblem 5.5**)\n",
        "\n",
        "To get points for subtasks 3-5, it is **mandatory** to succesfully complete preparation subtasks 1, 2."
      ],
      "metadata": {
        "id": "MkSdyrpn8xdE"
      }
    },
    {
      "cell_type": "code",
      "source": [
        "### BEGIN Solution (do not delete this comment!)\n",
        "\n",
        "import torchvision\n",
        "import torchvision.transforms as transforms\n",
        "import torch.nn as nn\n",
        "import torch.optim as optim\n",
        "from torchvision.utils import make_grid\n",
        "\n",
        "from tqdm import tqdm\n",
        "import matplotlib.pyplot as plt\n",
        "import numpy as np\n",
        "import torch\n",
        "\n",
        "### END Solution (do not delete this comment!)"
      ],
      "metadata": {
        "ExecuteTime": {
          "end_time": "2022-03-06T22:54:51.825931Z",
          "start_time": "2022-03-06T22:54:51.807937Z"
        },
        "id": "J3LhGoo0OQ0h",
        "execution": {
          "iopub.status.busy": "2022-03-06T23:11:20.049881Z",
          "iopub.execute_input": "2022-03-06T23:11:20.050169Z",
          "iopub.status.idle": "2022-03-06T23:11:20.056031Z",
          "shell.execute_reply.started": "2022-03-06T23:11:20.050119Z",
          "shell.execute_reply": "2022-03-06T23:11:20.05522Z"
        },
        "trusted": true
      },
      "execution_count": 1,
      "outputs": []
    },
    {
      "cell_type": "markdown",
      "source": [
        "### Subproblems 5.1. Dataloaders.\n",
        "\n",
        "<img width=350 src=\"https://ak.picdn.net/shutterstock/videos/1039407446/thumb/1.jpg\">\n",
        "\n",
        "**5.1.1) Here you have to load CIFAR-10 dataset. For this, you have to**\n",
        "1. Create two composite [transform](https://pytorch.org/vision/stable/transforms.html#compositions-of-transforms) operations (`train_transform`, `test_transform`) to augment/normalize the data (random crops, rotations, etc.):\n",
        "- On the train set, you are free to compose any transforms you want. It is not mandatory to use any transforms (except for `ToTensor`), but without proper data augmentation you will probably struggle to train classifier in the following tasks.\n",
        "- On the test set, we may use only `Normalization` and `ToTensor`. If you use normalization, make sure it is the same on both train and test parts.\n",
        "2. Load the train and test parts (`train_set`, `test_set`) of the [CIFAR-10 dataset](https://pytorch.org/vision/stable/datasets.html#cifar) which use the transforms that you prepared.\n",
        "3. Prepare train and test [dataloaders](https://pytorch.org/docs/stable/data.html) (`train_loader`, `test_loader`) which load the respective datasets. Use some batch size $\\in[8, 128]$."
      ],
      "metadata": {
        "id": "S5NnGwPmOQ0h"
      }
    },
    {
      "cell_type": "code",
      "source": [
        "### BEGIN Solution (do not delete this comment)\n",
        "\n",
        "# >>> your solution here <<<\n",
        "\n",
        "batch_size = 32\n",
        "\n",
        "train_transform = transforms.Compose([\n",
        "    transforms.RandomHorizontalFlip(), \n",
        "    transforms.RandomRotation(10),\n",
        "    transforms.ToTensor(), \n",
        "    transforms.Normalize((0.5, 0.5, 0.5), (0.5, 0.5, 0.5))\n",
        "    ])\n",
        "test_transform = transforms.Compose([\n",
        "    transforms.ToTensor(), \n",
        "    transforms.Normalize((0.5, 0.5, 0.5), (0.5, 0.5, 0.5))\n",
        "    ])\n",
        "\n",
        "train_set = torchvision.datasets.CIFAR10(root='./data', train=True, download=True, transform=train_transform)\n",
        "train_loader = torch.utils.data.DataLoader(train_set, batch_size=batch_size, shuffle=True, num_workers=2)\n",
        "\n",
        "test_set = torchvision.datasets.CIFAR10(root='./data', train=False, download=True, transform=test_transform)\n",
        "test_loader = torch.utils.data.DataLoader(test_set, batch_size=batch_size, shuffle=False, num_workers=2)\n",
        "\n",
        "### END Solution (do not delete this comment)\n",
        "\n",
        "classes = ('plane', 'car', 'bird', 'cat', 'deer', 'dog', 'frog', 'horse', 'ship', 'truck')\n",
        "\n",
        "print('Train size', len(train_set))\n",
        "print('Test size', len(test_set))"
      ],
      "metadata": {
        "execution": {
          "iopub.status.busy": "2022-03-07T00:08:25.477908Z",
          "iopub.execute_input": "2022-03-07T00:08:25.478184Z",
          "iopub.status.idle": "2022-03-07T00:08:27.083955Z",
          "shell.execute_reply.started": "2022-03-07T00:08:25.478144Z",
          "shell.execute_reply": "2022-03-07T00:08:27.083208Z"
        },
        "trusted": true,
        "colab": {
          "base_uri": "https://localhost:8080/",
          "height": 141,
          "referenced_widgets": [
            "2d82d04305f94cdcafee1ba312923177",
            "85bf2436bbfc43cdb1c11812270add38",
            "9d3b4a0e07f74d05ab715b9ea9ac2ac0",
            "7a834b6c8a61464f9663c287c8cd874c",
            "74a1741220714d77ad1b9619853c7a6f",
            "85f967baf9a748e8bc45df015ef73f43",
            "c5d25f3e14164e45bcb4cddf2bef1e1a",
            "f58e15e211f64021a7df075b1cd467c3",
            "4aa38eb480454d6cbd674026106f56db",
            "c8eaf5a2e480467c816cea6db346709c",
            "c03e1ffca2744f46b2585719e177322a"
          ]
        },
        "id": "DU7Futqh4nkC",
        "outputId": "14964c8b-16be-4745-d037-faa7af2554a2"
      },
      "execution_count": 2,
      "outputs": [
        {
          "output_type": "stream",
          "name": "stdout",
          "text": [
            "Downloading https://www.cs.toronto.edu/~kriz/cifar-10-python.tar.gz to ./data/cifar-10-python.tar.gz\n"
          ]
        },
        {
          "output_type": "display_data",
          "data": {
            "application/vnd.jupyter.widget-view+json": {
              "model_id": "2d82d04305f94cdcafee1ba312923177",
              "version_minor": 0,
              "version_major": 2
            },
            "text/plain": [
              "  0%|          | 0/170498071 [00:00<?, ?it/s]"
            ]
          },
          "metadata": {}
        },
        {
          "output_type": "stream",
          "name": "stdout",
          "text": [
            "Extracting ./data/cifar-10-python.tar.gz to ./data\n",
            "Files already downloaded and verified\n",
            "Train size 50000\n",
            "Test size 10000\n"
          ]
        }
      ]
    },
    {
      "cell_type": "markdown",
      "source": [
        "**5.1.2) Now write a function** which takes a dataloader and plots a **random batch** of images with their **true labels**. If the pre-processing in your dataloaders contains normalization, you **must** perform inverse normalization in order to make the colors look natural. You also have to remove the ticks/labels of axes from each subplot and assign a title to each subplot based on the image's class. Visualizing images helps to check that the preprocessing you do is meaningful."
      ],
      "metadata": {
        "id": "sHGvPXXUOQ0j"
      }
    },
    {
      "cell_type": "code",
      "source": [
        "def plot_random_images(loader):\n",
        "    # BEGIN Solution (do not delete this comment!)\n",
        "    \n",
        "    #get images\n",
        "    dataiter = iter(loader)\n",
        "    images, labels = dataiter.next()\n",
        "    #plot data\n",
        "    fig, axs = plt.subplots(1, 10, figsize=(15,3))\n",
        "    for i, image, label in zip(range(10),images, labels):\n",
        "        image = image / 2 + 0.5     # unnormalize\n",
        "        npimg = image.numpy()\n",
        "        axs[i].imshow(np.transpose(npimg, (1, 2, 0)))\n",
        "        axs[i].set_title(classes[label] )\n",
        "        axs[i].set_axis_off()\n",
        "    plt.show()\n",
        "    \n",
        "    # END Solution (do not delete this comment!)"
      ],
      "metadata": {
        "ExecuteTime": {
          "end_time": "2022-03-06T20:59:10.393995Z",
          "start_time": "2022-03-06T20:59:10.383999Z"
        },
        "id": "JXiD7NlkOQ0j",
        "execution": {
          "iopub.status.busy": "2022-03-07T00:08:58.502823Z",
          "iopub.execute_input": "2022-03-07T00:08:58.503706Z",
          "iopub.status.idle": "2022-03-07T00:08:58.511748Z",
          "shell.execute_reply.started": "2022-03-07T00:08:58.503655Z",
          "shell.execute_reply": "2022-03-07T00:08:58.510547Z"
        },
        "trusted": true
      },
      "execution_count": 4,
      "outputs": []
    },
    {
      "cell_type": "markdown",
      "source": [
        "**5.1.3) Plot random train and test images.**"
      ],
      "metadata": {
        "id": "K_ibsnfOOQ0k"
      }
    },
    {
      "cell_type": "code",
      "source": [
        "print('Train (augmented) images.')\n",
        "plot_random_images(train_loader)"
      ],
      "metadata": {
        "ExecuteTime": {
          "end_time": "2022-03-06T20:56:38.215094Z",
          "start_time": "2022-03-06T20:56:31.002002Z"
        },
        "execution": {
          "iopub.status.busy": "2022-03-07T00:09:01.626866Z",
          "iopub.execute_input": "2022-03-07T00:09:01.627122Z",
          "iopub.status.idle": "2022-03-07T00:09:02.205432Z",
          "shell.execute_reply.started": "2022-03-07T00:09:01.627095Z",
          "shell.execute_reply": "2022-03-07T00:09:02.204621Z"
        },
        "trusted": true,
        "colab": {
          "base_uri": "https://localhost:8080/",
          "height": 136
        },
        "id": "Edv5KQty4nkE",
        "outputId": "d0b38865-b732-4414-e78c-20f39e4b2d5a"
      },
      "execution_count": 5,
      "outputs": [
        {
          "output_type": "stream",
          "name": "stdout",
          "text": [
            "Train (augmented) images.\n"
          ]
        },
        {
          "output_type": "display_data",
          "data": {
            "image/png": "[encoded data removed]",
            "text/plain": [
              "<Figure size 1080x216 with 10 Axes>"
            ]
          },
          "metadata": {
            "needs_background": "light"
          }
        }
      ]
    },
    {
      "cell_type": "code",
      "source": [
        "print('Test images (no augmentation).')\n",
        "plot_random_images(test_loader)"
      ],
      "metadata": {
        "ExecuteTime": {
          "end_time": "2022-03-06T20:58:39.948251Z",
          "start_time": "2022-03-06T20:58:35.029338Z"
        },
        "id": "GoIZHjxjOQ0o",
        "outputId": "97eb4331-6a56-4f17-bf76-f4b0542918ec",
        "execution": {
          "iopub.status.busy": "2022-03-07T00:09:05.059919Z",
          "iopub.execute_input": "2022-03-07T00:09:05.060219Z",
          "iopub.status.idle": "2022-03-07T00:09:05.602702Z",
          "shell.execute_reply.started": "2022-03-07T00:09:05.060184Z",
          "shell.execute_reply": "2022-03-07T00:09:05.601865Z"
        },
        "trusted": true,
        "colab": {
          "base_uri": "https://localhost:8080/",
          "height": 136
        }
      },
      "execution_count": 6,
      "outputs": [
        {
          "output_type": "stream",
          "name": "stdout",
          "text": [
            "Test images (no augmentation).\n"
          ]
        },
        {
          "output_type": "display_data",
          "data": {
            "image/png": "[encoded data removed]",
            "text/plain": [
              "<Figure size 1080x216 with 10 Axes>"
            ]
          },
          "metadata": {
            "needs_background": "light"
          }
        }
      ]
    },
    {
      "cell_type": "markdown",
      "source": [
        "### Subtask 5.2. Training procedure + linear classification ($\\geq$38%)\n",
        "**5.2.1) Now we are ready to write the code for training & evaluation. You have to prepare 2 following procedures:**\n",
        "1. `epoch_train` has to perform 1 training epoch. It should iterate the given `loader`. For each batch it should compute the loss of the `clf` model by `criterion` and perform the gradient step by using the model optimizer `opt`. The function should return **2 values** -- average loss on batches during training and average accuracy of prediction.\n",
        "2. `epoch_test` has to perform 1 evaluation epoch. It should do the same as `epoch_train` but without performing optimization of `clf` model.\n",
        "\n",
        "At the beginning of `epoch_train` and `epoch_test` it is necessary to call `clf.train(True)` and `clf.eval()` respectively. This will change the behaviour of dropout/batchnorm layers to the one required during the procedure (training/evaluation). For more details, see this [post](https://stackoverflow.com/questions/51433378/what-does-model-train-do-in-pytorch)."
      ],
      "metadata": {
        "id": "FT-QHX13OQ0r"
      }
    },
    {
      "cell_type": "code",
      "source": [
        "def epoch_train(loader, clf, criterion, opt):\n",
        "    # BEGIN Solution (do not delete this comment!)\n",
        "    \n",
        "    clf.train(True)\n",
        "    train_total_loss = 0.0\n",
        "    train_total_acc = 0.0\n",
        "    total = batch_size*len(loader) # number of images\n",
        "\n",
        "    for batch, labels in loader: #iterate loader\n",
        "        \n",
        "        batch, labels = batch.to('cuda'), labels.to('cuda')\n",
        "        \n",
        "        # zero the parameter gradients        \n",
        "        opt.zero_grad()\n",
        "        \n",
        "        # forward + backward + optimize\n",
        "        outputs = clf(batch)\n",
        "        loss = criterion(outputs, labels)\n",
        "        loss.backward()\n",
        "        opt.step()\n",
        "\n",
        "        #statistics\n",
        "        train_total_loss += loss.item() # for average loss\n",
        "        train_total_acc += torch.sum(labels == outputs.argmax(dim=-1))        \n",
        "    \n",
        "    train_average_loss = train_total_loss / len(loader)\n",
        "    train_average_acc = train_total_acc / total\n",
        "    \n",
        "    return train_average_loss, train_average_acc  \n",
        "       \n",
        "    # END Solution (do not delete this comment!)\n",
        "\n",
        "def epoch_test(loader, clf, criterion):\n",
        "    # BEGIN Solution (do not delete this comment!)\n",
        "\n",
        "    clf.eval()\n",
        "    test_total_loss = 0.0\n",
        "    test_total_acc = 0.0\n",
        "    total = batch_size*len(loader) # number of images\n",
        "\n",
        "    for batch, labels in loader: #iterate loader\n",
        "\n",
        "        batch, labels = batch.to('cuda'), labels.to('cuda')\n",
        "        \n",
        "        # forward + backward + optimize\n",
        "        outputs = clf(batch)\n",
        "        loss = criterion(outputs, labels)\n",
        "        loss.backward()\n",
        "        \n",
        "        #statistics     \n",
        "        test_total_loss += loss.item()\n",
        "        test_total_acc += torch.sum(labels == outputs.argmax(dim=-1))\n",
        "\n",
        "    test_average_loss = test_total_loss / len(loader)\n",
        "    test_average_acc = test_total_acc / total\n",
        "    \n",
        "    return test_average_loss, test_average_acc\n",
        "\n",
        "    # END Solution (do not delete this comment!)\n",
        "\n",
        "# The function which you are going to use for model training\n",
        "def train(train_loader, test_loader, clf, criterion, opt, n_epochs=50):\n",
        "    for epoch in tqdm(range(n_epochs)):\n",
        "        train_loss, train_acc = epoch_train(train_loader, clf, criterion, opt)\n",
        "        test_loss, test_acc = epoch_test(test_loader, clf, criterion)\n",
        "\n",
        "        print(f'[Epoch {epoch + 1}] train loss: {train_loss:.3f}; train acc: {train_acc:.2f}; ' + \n",
        "              f'test loss: {test_loss:.3f}; test acc: {test_acc:.2f}')"
      ],
      "metadata": {
        "ExecuteTime": {
          "end_time": "2022-03-06T22:53:28.561869Z",
          "start_time": "2022-03-06T22:53:28.537876Z"
        },
        "id": "OfdKh_QJOQ0t",
        "execution": {
          "iopub.status.busy": "2022-03-07T00:12:04.146589Z",
          "iopub.execute_input": "2022-03-07T00:12:04.147223Z",
          "iopub.status.idle": "2022-03-07T00:12:04.159919Z",
          "shell.execute_reply.started": "2022-03-07T00:12:04.147184Z",
          "shell.execute_reply": "2022-03-07T00:12:04.159115Z"
        },
        "trusted": true
      },
      "execution_count": 5,
      "outputs": []
    },
    {
      "cell_type": "code",
      "source": [
        "class LINEAR(nn.Module):\n",
        "    def __init__(self, num_classes=10):\n",
        "        super(LINEAR, self).__init__()\n",
        "        self.layers = nn.Sequential(\n",
        "            nn.Flatten(),\n",
        "            nn.Linear(32 * 32 * 3, num_classes)\n",
        "        )\n",
        "        \n",
        "    def forward(self, x):\n",
        "        return self.layers(x)\n",
        "    \n",
        "clf_lr = LINEAR(num_classes=10).cuda()\n",
        "print('Number of weights:', np.sum([np.prod(p.shape) for p in clf_lr.parameters()]))"
      ],
      "metadata": {
        "ExecuteTime": {
          "end_time": "2022-03-06T22:54:57.351734Z",
          "start_time": "2022-03-06T22:54:57.30775Z"
        },
        "id": "ZtTVkDikOQ0u",
        "outputId": "055b7e77-3ab8-4b8a-9896-6a4e819951cd",
        "execution": {
          "iopub.status.busy": "2022-03-07T00:02:36.786289Z",
          "iopub.execute_input": "2022-03-07T00:02:36.786813Z",
          "iopub.status.idle": "2022-03-07T00:02:36.798667Z",
          "shell.execute_reply.started": "2022-03-07T00:02:36.786775Z",
          "shell.execute_reply": "2022-03-07T00:02:36.7977Z"
        },
        "trusted": true,
        "colab": {
          "base_uri": "https://localhost:8080/"
        }
      },
      "execution_count": 8,
      "outputs": [
        {
          "output_type": "stream",
          "name": "stdout",
          "text": [
            "Number of weights: 30730\n"
          ]
        }
      ]
    },
    {
      "cell_type": "markdown",
      "source": [
        "**5.2.2) Define the optimizer (use [SGD](https://pytorch.org/docs/stable/generated/torch.optim.SGD.html#torch.optim.SGD)) and the training criterion. As the training criterion for classification, please use the [CrossEntropy](https://pytorch.org/docs/stable/generated/torch.nn.CrossEntropyLoss.html).**"
      ],
      "metadata": {
        "id": "yAD7HzSPOQ0v"
      }
    },
    {
      "cell_type": "code",
      "source": [
        "# BEGIN Solution (do not delete this comment!)\n",
        "\n",
        "# >>> your solution here <<<\n",
        "\n",
        "opt = optim.SGD(clf_lr.parameters(), lr=1e-3, momentum=0.9)\n",
        "criterion = torch.nn.CrossEntropyLoss()\n",
        "\n",
        "# END Solution (do not delete this comment!)"
      ],
      "metadata": {
        "id": "YJPV7CmGOQ0v",
        "execution": {
          "iopub.status.busy": "2022-03-07T00:13:17.606869Z",
          "iopub.execute_input": "2022-03-07T00:13:17.607269Z",
          "iopub.status.idle": "2022-03-07T00:13:17.612464Z",
          "shell.execute_reply.started": "2022-03-07T00:13:17.607232Z",
          "shell.execute_reply": "2022-03-07T00:13:17.611328Z"
        },
        "trusted": true
      },
      "execution_count": 9,
      "outputs": []
    },
    {
      "cell_type": "markdown",
      "source": [
        "Now train your linear classifier. It is mandatory to achieve the **final test accuracy $\\geq$38%**. If you do not achieve this accuracy, try changing optimizer parameters (learning rate, momentum, weight decay), train data augmentation (subtask 8.1), batch size, number of training epochs."
      ],
      "metadata": {
        "id": "xiMFjX66OQ0w"
      }
    },
    {
      "cell_type": "code",
      "source": [
        "train(train_loader, test_loader, clf_lr, criterion, opt, n_epochs=20)"
      ],
      "metadata": {
        "id": "3YiCrwQuOQ0w",
        "outputId": "8c8d98b7-7c2b-4677-9c1c-1003c23bb866",
        "execution": {
          "iopub.status.busy": "2022-03-07T00:13:20.388888Z",
          "iopub.execute_input": "2022-03-07T00:13:20.389182Z",
          "iopub.status.idle": "2022-03-07T00:19:25.59876Z",
          "shell.execute_reply.started": "2022-03-07T00:13:20.389148Z",
          "shell.execute_reply": "2022-03-07T00:19:25.597943Z"
        },
        "trusted": true,
        "colab": {
          "base_uri": "https://localhost:8080/"
        }
      },
      "execution_count": 10,
      "outputs": [
        {
          "metadata": {
            "tags": null
          },
          "name": "stderr",
          "output_type": "stream",
          "text": [
            "  5%|▌         | 1/20 [00:26<08:26, 26.65s/it]"
          ]
        },
        {
          "metadata": {
            "tags": null
          },
          "name": "stdout",
          "output_type": "stream",
          "text": [
            "[Epoch 1] train loss: 1.841; train acc: 0.36; test loss: 1.804; test acc: 0.38\n"
          ]
        },
        {
          "metadata": {
            "tags": null
          },
          "name": "stderr",
          "output_type": "stream",
          "text": [
            "\r 10%|█         | 2/20 [00:54<08:10, 27.26s/it]"
          ]
        },
        {
          "metadata": {
            "tags": null
          },
          "name": "stdout",
          "output_type": "stream",
          "text": [
            "[Epoch 2] train loss: 1.779; train acc: 0.39; test loss: 1.762; test acc: 0.39\n"
          ]
        },
        {
          "metadata": {
            "tags": null
          },
          "name": "stderr",
          "output_type": "stream",
          "text": [
            "\r 15%|█▌        | 3/20 [01:22<07:48, 27.58s/it]"
          ]
        },
        {
          "metadata": {
            "tags": null
          },
          "name": "stdout",
          "output_type": "stream",
          "text": [
            "[Epoch 3] train loss: 1.766; train acc: 0.39; test loss: 1.757; test acc: 0.38\n"
          ]
        },
        {
          "metadata": {
            "tags": null
          },
          "name": "stderr",
          "output_type": "stream",
          "text": [
            "\r 20%|██        | 4/20 [01:49<07:20, 27.53s/it]"
          ]
        },
        {
          "metadata": {
            "tags": null
          },
          "name": "stdout",
          "output_type": "stream",
          "text": [
            "[Epoch 4] train loss: 1.758; train acc: 0.39; test loss: 1.754; test acc: 0.40\n"
          ]
        },
        {
          "metadata": {
            "tags": null
          },
          "name": "stderr",
          "output_type": "stream",
          "text": [
            "\r 25%|██▌       | 5/20 [02:17<06:53, 27.58s/it]"
          ]
        },
        {
          "metadata": {
            "tags": null
          },
          "name": "stdout",
          "output_type": "stream",
          "text": [
            "[Epoch 5] train loss: 1.753; train acc: 0.40; test loss: 1.749; test acc: 0.40\n"
          ]
        },
        {
          "metadata": {
            "tags": null
          },
          "name": "stderr",
          "output_type": "stream",
          "text": [
            "\r 30%|███       | 6/20 [02:45<06:27, 27.67s/it]"
          ]
        },
        {
          "metadata": {
            "tags": null
          },
          "name": "stdout",
          "output_type": "stream",
          "text": [
            "[Epoch 6] train loss: 1.749; train acc: 0.40; test loss: 1.748; test acc: 0.40\n"
          ]
        },
        {
          "output_type": "stream",
          "name": "stderr",
          "text": [
            "\r 35%|███▌      | 7/20 [03:17<06:18, 29.12s/it]"
          ]
        },
        {
          "output_type": "stream",
          "name": "stdout",
          "text": [
            "[Epoch 7] train loss: 1.744; train acc: 0.40; test loss: 1.742; test acc: 0.40\n"
          ]
        },
        {
          "output_type": "stream",
          "name": "stderr",
          "text": [
            "\r 40%|████      | 8/20 [03:44<05:43, 28.62s/it]"
          ]
        },
        {
          "output_type": "stream",
          "name": "stdout",
          "text": [
            "[Epoch 8] train loss: 1.745; train acc: 0.40; test loss: 1.736; test acc: 0.40\n"
          ]
        },
        {
          "output_type": "stream",
          "name": "stderr",
          "text": [
            "\r 45%|████▌     | 9/20 [04:12<05:10, 28.21s/it]"
          ]
        },
        {
          "output_type": "stream",
          "name": "stdout",
          "text": [
            "[Epoch 9] train loss: 1.741; train acc: 0.40; test loss: 1.728; test acc: 0.40\n"
          ]
        },
        {
          "output_type": "stream",
          "name": "stderr",
          "text": [
            "\r 50%|█████     | 10/20 [04:39<04:40, 28.06s/it]"
          ]
        },
        {
          "output_type": "stream",
          "name": "stdout",
          "text": [
            "[Epoch 10] train loss: 1.742; train acc: 0.40; test loss: 1.734; test acc: 0.40\n"
          ]
        },
        {
          "output_type": "stream",
          "name": "stderr",
          "text": [
            "\r 55%|█████▌    | 11/20 [05:07<04:11, 28.00s/it]"
          ]
        },
        {
          "output_type": "stream",
          "name": "stdout",
          "text": [
            "[Epoch 11] train loss: 1.741; train acc: 0.40; test loss: 1.739; test acc: 0.40\n"
          ]
        },
        {
          "output_type": "stream",
          "name": "stderr",
          "text": [
            "\r 60%|██████    | 12/20 [05:35<03:43, 27.89s/it]"
          ]
        },
        {
          "output_type": "stream",
          "name": "stdout",
          "text": [
            "[Epoch 12] train loss: 1.738; train acc: 0.40; test loss: 1.740; test acc: 0.40\n"
          ]
        },
        {
          "output_type": "stream",
          "name": "stderr",
          "text": [
            "\r 65%|██████▌   | 13/20 [06:02<03:13, 27.68s/it]"
          ]
        },
        {
          "output_type": "stream",
          "name": "stdout",
          "text": [
            "[Epoch 13] train loss: 1.739; train acc: 0.40; test loss: 1.737; test acc: 0.40\n"
          ]
        },
        {
          "output_type": "stream",
          "name": "stderr",
          "text": [
            "\r 70%|███████   | 14/20 [06:30<02:45, 27.61s/it]"
          ]
        },
        {
          "output_type": "stream",
          "name": "stdout",
          "text": [
            "[Epoch 14] train loss: 1.738; train acc: 0.40; test loss: 1.748; test acc: 0.40\n"
          ]
        },
        {
          "output_type": "stream",
          "name": "stderr",
          "text": [
            "\r 75%|███████▌  | 15/20 [06:57<02:18, 27.65s/it]"
          ]
        },
        {
          "output_type": "stream",
          "name": "stdout",
          "text": [
            "[Epoch 15] train loss: 1.740; train acc: 0.40; test loss: 1.726; test acc: 0.40\n"
          ]
        },
        {
          "output_type": "stream",
          "name": "stderr",
          "text": [
            "\r 80%|████████  | 16/20 [07:25<01:50, 27.59s/it]"
          ]
        },
        {
          "output_type": "stream",
          "name": "stdout",
          "text": [
            "[Epoch 16] train loss: 1.736; train acc: 0.40; test loss: 1.732; test acc: 0.40\n"
          ]
        },
        {
          "output_type": "stream",
          "name": "stderr",
          "text": [
            "\r 85%|████████▌ | 17/20 [07:53<01:22, 27.65s/it]"
          ]
        },
        {
          "output_type": "stream",
          "name": "stdout",
          "text": [
            "[Epoch 17] train loss: 1.738; train acc: 0.40; test loss: 1.737; test acc: 0.40\n"
          ]
        },
        {
          "output_type": "stream",
          "name": "stderr",
          "text": [
            "\r 90%|█████████ | 18/20 [08:20<00:55, 27.52s/it]"
          ]
        },
        {
          "output_type": "stream",
          "name": "stdout",
          "text": [
            "[Epoch 18] train loss: 1.736; train acc: 0.40; test loss: 1.751; test acc: 0.39\n"
          ]
        },
        {
          "output_type": "stream",
          "name": "stderr",
          "text": [
            "\r 95%|█████████▌| 19/20 [08:47<00:27, 27.38s/it]"
          ]
        },
        {
          "output_type": "stream",
          "name": "stdout",
          "text": [
            "[Epoch 19] train loss: 1.733; train acc: 0.41; test loss: 1.739; test acc: 0.40\n"
          ]
        },
        {
          "output_type": "stream",
          "name": "stderr",
          "text": [
            "100%|██████████| 20/20 [09:14<00:00, 27.73s/it]"
          ]
        },
        {
          "output_type": "stream",
          "name": "stdout",
          "text": [
            "[Epoch 20] train loss: 1.735; train acc: 0.40; test loss: 1.724; test acc: 0.41\n"
          ]
        },
        {
          "output_type": "stream",
          "name": "stderr",
          "text": [
            "\n"
          ]
        }
      ]
    },
    {
      "cell_type": "markdown",
      "source": [
        "**5.2.3)** Explain which steps you have conducted (which architectures, optimizers, data augmentations, etc. you have tested) to obtain the final result. What were the most important changes in **hyperparameters** which helped to achieve the high score?"
      ],
      "metadata": {
        "id": "hfZwZ9reOQ0x"
      }
    },
    {
      "cell_type": "markdown",
      "source": [
        "**Your text answer:** \n",
        "\n",
        "the most important changes were learning rate and additional transformations in train_transform. Bigger learning rate ang lesser amount of transformations didn't give high enough accuracy"
      ],
      "metadata": {
        "id": "duykeAAUOQ0x"
      }
    },
    {
      "cell_type": "markdown",
      "source": [
        "### Subtask 5.3. Fully-connected classifier  ($\\geq$63%)\n",
        "**5.3.1)** Linear classifiers are doomed to provide poor performance on most image datasets. We make a step further and define a **multilayer perceptron** to classify CIFAR-10 images. You have to build a **sequential fully-connected network** satisfying the following requirements:\n",
        "1. $\\geq 2$ hidden fully-connected (linear) layers;\n",
        "2. The network has ReLU activations;\n",
        "3. There is $\\geq 1$ Dropout layer in network;\n",
        "4. There is $\\geq 1$ BatchNorm1d layer layer in network;\n",
        "\n",
        "**A toy image** of a fully-connected neural network.\n",
        "\n",
        "<img width=450 src=\"https://www.researchgate.net/profile/Vikas-Ramachandra-2/publication/323467511/figure/fig3/AS:599172503834624@1519865265479/Figure-A-general-fully-connected-DNN-for-classification.png\">\n",
        "\n",
        "Note your network's input shape is `BATCH_SIZE x 3 x 32 x 32`, so you have to reshape the input tensor before feeding it to fully-connected layers. This can be done manually during `.forward()` or you may use `Flatten()` layer for this."
      ],
      "metadata": {
        "id": "5JsRQhFmOQ0x"
      }
    },
    {
      "cell_type": "code",
      "source": [
        "class MLP(nn.Module):\n",
        "    def __init__(self, num_classes=10):\n",
        "        super(MLP, self).__init__()\n",
        "        self.layers = nn.Sequential(\n",
        "            # BEGIN Solution (do not delete this comment!)\n",
        "\n",
        "            nn.Flatten(),\n",
        "            \n",
        "            nn.Linear(32 * 32 * 3, 2048),\n",
        "            nn.BatchNorm1d(2048),\n",
        "            nn.ReLU(),\n",
        "            \n",
        "            nn.Dropout(0.5),\n",
        "            \n",
        "            nn.Linear(2048, 1024),\n",
        "            nn.BatchNorm1d(1024),\n",
        "            nn.ReLU(),\n",
        "            \n",
        "            nn.Linear(1024, 512),\n",
        "            nn.BatchNorm1d(512),\n",
        "            nn.ReLU(),\n",
        "            \n",
        "            nn.Linear(512, 256),\n",
        "            nn.BatchNorm1d(256),\n",
        "            nn.ReLU(),\n",
        "\n",
        "            nn.Dropout(0.5),\n",
        "            \n",
        "            nn.Linear(256, 128),\n",
        "            nn.BatchNorm1d(128),\n",
        "            nn.ReLU(),\n",
        "            \n",
        "            nn.Linear(128, 64),\n",
        "            nn.BatchNorm1d(64),\n",
        "            nn.ReLU(),\n",
        "            \n",
        "            nn.Linear(64, 32),\n",
        "            nn.BatchNorm1d(32),\n",
        "            nn.ReLU(),\n",
        "\n",
        "            nn.Linear(32, 16),\n",
        "            nn.BatchNorm1d(16),\n",
        "            nn.ReLU(),\n",
        "            \n",
        "            nn.Linear(16, 10),\n",
        "\n",
        "            # END Solution (do not delete this comment!)\n",
        "        )\n",
        "        \n",
        "    def forward(self, x):\n",
        "        return self.layers(x)\n",
        "    \n",
        "clf_mlp = MLP(num_classes=10).cuda()\n",
        "print('Number of weights:', np.sum([np.prod(p.shape) for p in clf_mlp.parameters()]))\n",
        "\n",
        "# Check that the output size of the network is BATCH_SIZE x NUM_CLASSES\n",
        "X = next(iter(train_loader))[0].cuda()\n",
        "with torch.no_grad():\n",
        "    clf_X = clf_mlp(X)\n",
        "    assert len(clf_X) == len(X)\n",
        "    assert clf_X.shape[1] == 10"
      ],
      "metadata": {
        "id": "EuT8uJNlOQ0y",
        "outputId": "dec1e8b9-8f57-4736-b3a6-d6029c281bb0",
        "colab": {
          "base_uri": "https://localhost:8080/"
        }
      },
      "execution_count": 3,
      "outputs": [
        {
          "output_type": "stream",
          "name": "stdout",
          "text": [
            "Number of weights: 9099898\n"
          ]
        }
      ]
    },
    {
      "cell_type": "markdown",
      "source": [
        "**5.3.2) Now define the optimizer, criterion and train the network.** To obtain the points for this task, you must achieve **final test accuracy $\\geq$63%**.\n",
        "\n",
        "If you struggle to achieve this accuracy, try changing the architecture (stack more/less layers, make layers bigger/smaller, add more/less dropout, batchnorm layers), optimizer parameters, train data augmentation (subtask 5.1), batch size, number of training epochs, etc. SGD optimizer might not perform really well, so consider using [more advanced optimizers](https://pytorch.org/docs/stable/optim.html), e.g., `Adam`, `Adamax`, etc. Do not be afraid to stack more layers: it is ok if your net has millions of weights."
      ],
      "metadata": {
        "id": "uNcO2V2xOQ0y"
      }
    },
    {
      "cell_type": "code",
      "source": [
        "# BEGIN Solution (do not delete this comment!)\n",
        "\n",
        "# >>> your solution here <<<\n",
        "\n",
        "opt = torch.optim.Adam(clf_mlp.parameters(), lr=1e-4)\n",
        "criterion = torch.nn.CrossEntropyLoss()\n",
        "\n",
        "# END Solution (do not delete this comment!)\n",
        "\n",
        "train(train_loader, test_loader, clf_mlp, criterion, opt, n_epochs=100)"
      ],
      "metadata": {
        "id": "GoeiMUQmOQ0z",
        "outputId": "c3141ffe-8d02-4bce-e988-3e86ffc20f1b",
        "colab": {
          "base_uri": "https://localhost:8080/"
        }
      },
      "execution_count": 6,
      "outputs": [
        {
          "output_type": "stream",
          "name": "stderr",
          "text": [
            "  1%|          | 1/100 [00:37<1:02:41, 37.99s/it]"
          ]
        },
        {
          "output_type": "stream",
          "name": "stdout",
          "text": [
            "[Epoch 1] train loss: 2.118; train acc: 0.24; test loss: 1.894; test acc: 0.36\n"
          ]
        },
        {
          "output_type": "stream",
          "name": "stderr",
          "text": [
            "\r  2%|▏         | 2/100 [01:15<1:01:47, 37.83s/it]"
          ]
        },
        {
          "output_type": "stream",
          "name": "stdout",
          "text": [
            "[Epoch 2] train loss: 1.883; train acc: 0.35; test loss: 1.719; test acc: 0.41\n"
          ]
        },
        {
          "output_type": "stream",
          "name": "stderr",
          "text": [
            "\r  3%|▎         | 3/100 [01:53<1:00:59, 37.73s/it]"
          ]
        },
        {
          "output_type": "stream",
          "name": "stdout",
          "text": [
            "[Epoch 3] train loss: 1.770; train acc: 0.38; test loss: 1.624; test acc: 0.44\n"
          ]
        },
        {
          "output_type": "stream",
          "name": "stderr",
          "text": [
            "\r  4%|▍         | 4/100 [02:30<1:00:16, 37.67s/it]"
          ]
        },
        {
          "output_type": "stream",
          "name": "stdout",
          "text": [
            "[Epoch 4] train loss: 1.698; train acc: 0.40; test loss: 1.542; test acc: 0.46\n"
          ]
        },
        {
          "output_type": "stream",
          "name": "stderr",
          "text": [
            "\r  5%|▌         | 5/100 [03:08<59:28, 37.56s/it]  "
          ]
        },
        {
          "output_type": "stream",
          "name": "stdout",
          "text": [
            "[Epoch 5] train loss: 1.648; train acc: 0.42; test loss: 1.492; test acc: 0.48\n"
          ]
        },
        {
          "output_type": "stream",
          "name": "stderr",
          "text": [
            "\r  6%|▌         | 6/100 [03:45<58:45, 37.51s/it]"
          ]
        },
        {
          "output_type": "stream",
          "name": "stdout",
          "text": [
            "[Epoch 6] train loss: 1.602; train acc: 0.44; test loss: 1.466; test acc: 0.50\n"
          ]
        },
        {
          "output_type": "stream",
          "name": "stderr",
          "text": [
            "\r  7%|▋         | 7/100 [04:22<57:56, 37.38s/it]"
          ]
        },
        {
          "output_type": "stream",
          "name": "stdout",
          "text": [
            "[Epoch 7] train loss: 1.567; train acc: 0.45; test loss: 1.428; test acc: 0.50\n"
          ]
        },
        {
          "output_type": "stream",
          "name": "stderr",
          "text": [
            "\r  8%|▊         | 8/100 [05:00<57:28, 37.48s/it]"
          ]
        },
        {
          "output_type": "stream",
          "name": "stdout",
          "text": [
            "[Epoch 8] train loss: 1.544; train acc: 0.46; test loss: 1.406; test acc: 0.51\n"
          ]
        },
        {
          "output_type": "stream",
          "name": "stderr",
          "text": [
            "\r  9%|▉         | 9/100 [05:38<56:56, 37.54s/it]"
          ]
        },
        {
          "output_type": "stream",
          "name": "stdout",
          "text": [
            "[Epoch 9] train loss: 1.516; train acc: 0.47; test loss: 1.382; test acc: 0.51\n"
          ]
        },
        {
          "output_type": "stream",
          "name": "stderr",
          "text": [
            "\r 10%|█         | 10/100 [06:16<56:31, 37.69s/it]"
          ]
        },
        {
          "output_type": "stream",
          "name": "stdout",
          "text": [
            "[Epoch 10] train loss: 1.494; train acc: 0.48; test loss: 1.349; test acc: 0.52\n"
          ]
        },
        {
          "output_type": "stream",
          "name": "stderr",
          "text": [
            "\r 11%|█         | 11/100 [06:53<55:57, 37.72s/it]"
          ]
        },
        {
          "output_type": "stream",
          "name": "stdout",
          "text": [
            "[Epoch 11] train loss: 1.476; train acc: 0.48; test loss: 1.341; test acc: 0.53\n"
          ]
        },
        {
          "output_type": "stream",
          "name": "stderr",
          "text": [
            "\r 12%|█▏        | 12/100 [07:31<55:21, 37.75s/it]"
          ]
        },
        {
          "output_type": "stream",
          "name": "stdout",
          "text": [
            "[Epoch 12] train loss: 1.455; train acc: 0.49; test loss: 1.331; test acc: 0.53\n"
          ]
        },
        {
          "output_type": "stream",
          "name": "stderr",
          "text": [
            "\r 13%|█▎        | 13/100 [08:09<54:32, 37.62s/it]"
          ]
        },
        {
          "output_type": "stream",
          "name": "stdout",
          "text": [
            "[Epoch 13] train loss: 1.440; train acc: 0.49; test loss: 1.315; test acc: 0.54\n"
          ]
        },
        {
          "output_type": "stream",
          "name": "stderr",
          "text": [
            "\r 14%|█▍        | 14/100 [08:46<53:47, 37.53s/it]"
          ]
        },
        {
          "output_type": "stream",
          "name": "stdout",
          "text": [
            "[Epoch 14] train loss: 1.426; train acc: 0.50; test loss: 1.298; test acc: 0.54\n"
          ]
        },
        {
          "output_type": "stream",
          "name": "stderr",
          "text": [
            "\r 15%|█▌        | 15/100 [09:23<53:02, 37.44s/it]"
          ]
        },
        {
          "output_type": "stream",
          "name": "stdout",
          "text": [
            "[Epoch 15] train loss: 1.407; train acc: 0.50; test loss: 1.292; test acc: 0.55\n"
          ]
        },
        {
          "output_type": "stream",
          "name": "stderr",
          "text": [
            "\r 16%|█▌        | 16/100 [10:01<52:24, 37.44s/it]"
          ]
        },
        {
          "output_type": "stream",
          "name": "stdout",
          "text": [
            "[Epoch 16] train loss: 1.398; train acc: 0.51; test loss: 1.277; test acc: 0.55\n"
          ]
        },
        {
          "output_type": "stream",
          "name": "stderr",
          "text": [
            "\r 17%|█▋        | 17/100 [10:38<51:42, 37.38s/it]"
          ]
        },
        {
          "output_type": "stream",
          "name": "stdout",
          "text": [
            "[Epoch 17] train loss: 1.386; train acc: 0.51; test loss: 1.270; test acc: 0.55\n"
          ]
        },
        {
          "output_type": "stream",
          "name": "stderr",
          "text": [
            "\r 18%|█▊        | 18/100 [11:15<50:57, 37.28s/it]"
          ]
        },
        {
          "output_type": "stream",
          "name": "stdout",
          "text": [
            "[Epoch 18] train loss: 1.374; train acc: 0.52; test loss: 1.269; test acc: 0.56\n"
          ]
        },
        {
          "output_type": "stream",
          "name": "stderr",
          "text": [
            "\r 19%|█▉        | 19/100 [11:52<50:06, 37.12s/it]"
          ]
        },
        {
          "output_type": "stream",
          "name": "stdout",
          "text": [
            "[Epoch 19] train loss: 1.366; train acc: 0.52; test loss: 1.259; test acc: 0.56\n"
          ]
        },
        {
          "output_type": "stream",
          "name": "stderr",
          "text": [
            "\r 20%|██        | 20/100 [12:29<49:26, 37.08s/it]"
          ]
        },
        {
          "output_type": "stream",
          "name": "stdout",
          "text": [
            "[Epoch 20] train loss: 1.350; train acc: 0.53; test loss: 1.236; test acc: 0.56\n"
          ]
        },
        {
          "output_type": "stream",
          "name": "stderr",
          "text": [
            "\r 21%|██        | 21/100 [13:06<48:52, 37.12s/it]"
          ]
        },
        {
          "output_type": "stream",
          "name": "stdout",
          "text": [
            "[Epoch 21] train loss: 1.337; train acc: 0.53; test loss: 1.233; test acc: 0.57\n"
          ]
        },
        {
          "output_type": "stream",
          "name": "stderr",
          "text": [
            "\r 22%|██▏       | 22/100 [13:43<48:13, 37.10s/it]"
          ]
        },
        {
          "output_type": "stream",
          "name": "stdout",
          "text": [
            "[Epoch 22] train loss: 1.326; train acc: 0.53; test loss: 1.235; test acc: 0.56\n"
          ]
        },
        {
          "output_type": "stream",
          "name": "stderr",
          "text": [
            "\r 23%|██▎       | 23/100 [14:20<47:32, 37.05s/it]"
          ]
        },
        {
          "output_type": "stream",
          "name": "stdout",
          "text": [
            "[Epoch 23] train loss: 1.312; train acc: 0.54; test loss: 1.217; test acc: 0.57\n"
          ]
        },
        {
          "output_type": "stream",
          "name": "stderr",
          "text": [
            "\r 24%|██▍       | 24/100 [14:57<46:54, 37.03s/it]"
          ]
        },
        {
          "output_type": "stream",
          "name": "stdout",
          "text": [
            "[Epoch 24] train loss: 1.309; train acc: 0.54; test loss: 1.212; test acc: 0.57\n"
          ]
        },
        {
          "output_type": "stream",
          "name": "stderr",
          "text": [
            "\r 25%|██▌       | 25/100 [15:34<46:16, 37.01s/it]"
          ]
        },
        {
          "output_type": "stream",
          "name": "stdout",
          "text": [
            "[Epoch 25] train loss: 1.299; train acc: 0.54; test loss: 1.220; test acc: 0.57\n"
          ]
        },
        {
          "output_type": "stream",
          "name": "stderr",
          "text": [
            "\r 26%|██▌       | 26/100 [16:11<45:54, 37.22s/it]"
          ]
        },
        {
          "output_type": "stream",
          "name": "stdout",
          "text": [
            "[Epoch 26] train loss: 1.290; train acc: 0.54; test loss: 1.203; test acc: 0.58\n"
          ]
        },
        {
          "output_type": "stream",
          "name": "stderr",
          "text": [
            "\r 27%|██▋       | 27/100 [16:49<45:18, 37.24s/it]"
          ]
        },
        {
          "output_type": "stream",
          "name": "stdout",
          "text": [
            "[Epoch 27] train loss: 1.278; train acc: 0.55; test loss: 1.192; test acc: 0.58\n"
          ]
        },
        {
          "output_type": "stream",
          "name": "stderr",
          "text": [
            "\r 28%|██▊       | 28/100 [17:25<44:27, 37.05s/it]"
          ]
        },
        {
          "output_type": "stream",
          "name": "stdout",
          "text": [
            "[Epoch 28] train loss: 1.271; train acc: 0.55; test loss: 1.191; test acc: 0.58\n"
          ]
        },
        {
          "output_type": "stream",
          "name": "stderr",
          "text": [
            "\r 29%|██▉       | 29/100 [18:02<43:40, 36.91s/it]"
          ]
        },
        {
          "output_type": "stream",
          "name": "stdout",
          "text": [
            "[Epoch 29] train loss: 1.261; train acc: 0.56; test loss: 1.182; test acc: 0.58\n"
          ]
        },
        {
          "output_type": "stream",
          "name": "stderr",
          "text": [
            "\r 30%|███       | 30/100 [18:39<43:04, 36.93s/it]"
          ]
        },
        {
          "output_type": "stream",
          "name": "stdout",
          "text": [
            "[Epoch 30] train loss: 1.257; train acc: 0.56; test loss: 1.185; test acc: 0.59\n"
          ]
        },
        {
          "output_type": "stream",
          "name": "stderr",
          "text": [
            "\r 31%|███       | 31/100 [19:16<42:26, 36.91s/it]"
          ]
        },
        {
          "output_type": "stream",
          "name": "stdout",
          "text": [
            "[Epoch 31] train loss: 1.245; train acc: 0.56; test loss: 1.173; test acc: 0.58\n"
          ]
        },
        {
          "output_type": "stream",
          "name": "stderr",
          "text": [
            "\r 32%|███▏      | 32/100 [19:53<41:52, 36.95s/it]"
          ]
        },
        {
          "output_type": "stream",
          "name": "stdout",
          "text": [
            "[Epoch 32] train loss: 1.233; train acc: 0.57; test loss: 1.171; test acc: 0.59\n"
          ]
        },
        {
          "output_type": "stream",
          "name": "stderr",
          "text": [
            "\r 33%|███▎      | 33/100 [20:30<41:15, 36.95s/it]"
          ]
        },
        {
          "output_type": "stream",
          "name": "stdout",
          "text": [
            "[Epoch 33] train loss: 1.229; train acc: 0.57; test loss: 1.182; test acc: 0.58\n"
          ]
        },
        {
          "output_type": "stream",
          "name": "stderr",
          "text": [
            "\r 34%|███▍      | 34/100 [21:08<41:04, 37.34s/it]"
          ]
        },
        {
          "output_type": "stream",
          "name": "stdout",
          "text": [
            "[Epoch 34] train loss: 1.222; train acc: 0.57; test loss: 1.162; test acc: 0.59\n"
          ]
        },
        {
          "output_type": "stream",
          "name": "stderr",
          "text": [
            "\r 35%|███▌      | 35/100 [21:45<40:26, 37.34s/it]"
          ]
        },
        {
          "output_type": "stream",
          "name": "stdout",
          "text": [
            "[Epoch 35] train loss: 1.210; train acc: 0.58; test loss: 1.160; test acc: 0.59\n"
          ]
        },
        {
          "output_type": "stream",
          "name": "stderr",
          "text": [
            "\r 36%|███▌      | 36/100 [22:22<39:39, 37.17s/it]"
          ]
        },
        {
          "output_type": "stream",
          "name": "stdout",
          "text": [
            "[Epoch 36] train loss: 1.209; train acc: 0.58; test loss: 1.161; test acc: 0.59\n"
          ]
        },
        {
          "output_type": "stream",
          "name": "stderr",
          "text": [
            "\r 37%|███▋      | 37/100 [22:59<38:54, 37.06s/it]"
          ]
        },
        {
          "output_type": "stream",
          "name": "stdout",
          "text": [
            "[Epoch 37] train loss: 1.199; train acc: 0.58; test loss: 1.155; test acc: 0.59\n"
          ]
        },
        {
          "output_type": "stream",
          "name": "stderr",
          "text": [
            "\r 38%|███▊      | 38/100 [23:36<38:17, 37.06s/it]"
          ]
        },
        {
          "output_type": "stream",
          "name": "stdout",
          "text": [
            "[Epoch 38] train loss: 1.194; train acc: 0.58; test loss: 1.151; test acc: 0.59\n"
          ]
        },
        {
          "output_type": "stream",
          "name": "stderr",
          "text": [
            "\r 39%|███▉      | 39/100 [24:14<37:48, 37.19s/it]"
          ]
        },
        {
          "output_type": "stream",
          "name": "stdout",
          "text": [
            "[Epoch 39] train loss: 1.180; train acc: 0.59; test loss: 1.152; test acc: 0.59\n"
          ]
        },
        {
          "output_type": "stream",
          "name": "stderr",
          "text": [
            "\r 40%|████      | 40/100 [24:51<37:11, 37.19s/it]"
          ]
        },
        {
          "output_type": "stream",
          "name": "stdout",
          "text": [
            "[Epoch 40] train loss: 1.175; train acc: 0.59; test loss: 1.150; test acc: 0.59\n"
          ]
        },
        {
          "output_type": "stream",
          "name": "stderr",
          "text": [
            "\r 41%|████      | 41/100 [25:28<36:27, 37.08s/it]"
          ]
        },
        {
          "output_type": "stream",
          "name": "stdout",
          "text": [
            "[Epoch 41] train loss: 1.170; train acc: 0.59; test loss: 1.146; test acc: 0.60\n"
          ]
        },
        {
          "output_type": "stream",
          "name": "stderr",
          "text": [
            "\r 42%|████▏     | 42/100 [26:05<35:55, 37.17s/it]"
          ]
        },
        {
          "output_type": "stream",
          "name": "stdout",
          "text": [
            "[Epoch 42] train loss: 1.166; train acc: 0.59; test loss: 1.130; test acc: 0.60\n"
          ]
        },
        {
          "output_type": "stream",
          "name": "stderr",
          "text": [
            "\r 43%|████▎     | 43/100 [26:42<35:15, 37.11s/it]"
          ]
        },
        {
          "output_type": "stream",
          "name": "stdout",
          "text": [
            "[Epoch 43] train loss: 1.157; train acc: 0.59; test loss: 1.133; test acc: 0.60\n"
          ]
        },
        {
          "output_type": "stream",
          "name": "stderr",
          "text": [
            "\r 44%|████▍     | 44/100 [27:19<34:31, 36.98s/it]"
          ]
        },
        {
          "output_type": "stream",
          "name": "stdout",
          "text": [
            "[Epoch 44] train loss: 1.150; train acc: 0.59; test loss: 1.138; test acc: 0.59\n"
          ]
        },
        {
          "output_type": "stream",
          "name": "stderr",
          "text": [
            "\r 45%|████▌     | 45/100 [27:55<33:40, 36.74s/it]"
          ]
        },
        {
          "output_type": "stream",
          "name": "stdout",
          "text": [
            "[Epoch 45] train loss: 1.141; train acc: 0.60; test loss: 1.133; test acc: 0.60\n"
          ]
        },
        {
          "output_type": "stream",
          "name": "stderr",
          "text": [
            "\r 46%|████▌     | 46/100 [28:31<33:04, 36.74s/it]"
          ]
        },
        {
          "output_type": "stream",
          "name": "stdout",
          "text": [
            "[Epoch 46] train loss: 1.133; train acc: 0.61; test loss: 1.122; test acc: 0.60\n"
          ]
        },
        {
          "output_type": "stream",
          "name": "stderr",
          "text": [
            "\r 47%|████▋     | 47/100 [29:08<32:30, 36.80s/it]"
          ]
        },
        {
          "output_type": "stream",
          "name": "stdout",
          "text": [
            "[Epoch 47] train loss: 1.122; train acc: 0.61; test loss: 1.127; test acc: 0.60\n"
          ]
        },
        {
          "output_type": "stream",
          "name": "stderr",
          "text": [
            "\r 48%|████▊     | 48/100 [29:45<31:49, 36.72s/it]"
          ]
        },
        {
          "output_type": "stream",
          "name": "stdout",
          "text": [
            "[Epoch 48] train loss: 1.123; train acc: 0.61; test loss: 1.118; test acc: 0.61\n"
          ]
        },
        {
          "output_type": "stream",
          "name": "stderr",
          "text": [
            "\r 49%|████▉     | 49/100 [30:21<31:10, 36.67s/it]"
          ]
        },
        {
          "output_type": "stream",
          "name": "stdout",
          "text": [
            "[Epoch 49] train loss: 1.114; train acc: 0.61; test loss: 1.123; test acc: 0.60\n"
          ]
        },
        {
          "output_type": "stream",
          "name": "stderr",
          "text": [
            "\r 50%|█████     | 50/100 [30:58<30:35, 36.70s/it]"
          ]
        },
        {
          "output_type": "stream",
          "name": "stdout",
          "text": [
            "[Epoch 50] train loss: 1.113; train acc: 0.61; test loss: 1.110; test acc: 0.60\n"
          ]
        },
        {
          "output_type": "stream",
          "name": "stderr",
          "text": [
            "\r 51%|█████     | 51/100 [31:35<29:55, 36.65s/it]"
          ]
        },
        {
          "output_type": "stream",
          "name": "stdout",
          "text": [
            "[Epoch 51] train loss: 1.101; train acc: 0.61; test loss: 1.120; test acc: 0.61\n"
          ]
        },
        {
          "output_type": "stream",
          "name": "stderr",
          "text": [
            "\r 52%|█████▏    | 52/100 [32:11<29:18, 36.64s/it]"
          ]
        },
        {
          "output_type": "stream",
          "name": "stdout",
          "text": [
            "[Epoch 52] train loss: 1.093; train acc: 0.62; test loss: 1.112; test acc: 0.61\n"
          ]
        },
        {
          "output_type": "stream",
          "name": "stderr",
          "text": [
            "\r 53%|█████▎    | 53/100 [32:48<28:34, 36.49s/it]"
          ]
        },
        {
          "output_type": "stream",
          "name": "stdout",
          "text": [
            "[Epoch 53] train loss: 1.093; train acc: 0.62; test loss: 1.119; test acc: 0.60\n"
          ]
        },
        {
          "output_type": "stream",
          "name": "stderr",
          "text": [
            "\r 54%|█████▍    | 54/100 [33:24<27:58, 36.48s/it]"
          ]
        },
        {
          "output_type": "stream",
          "name": "stdout",
          "text": [
            "[Epoch 54] train loss: 1.082; train acc: 0.62; test loss: 1.111; test acc: 0.61\n"
          ]
        },
        {
          "output_type": "stream",
          "name": "stderr",
          "text": [
            "\r 55%|█████▌    | 55/100 [34:01<27:33, 36.74s/it]"
          ]
        },
        {
          "output_type": "stream",
          "name": "stdout",
          "text": [
            "[Epoch 55] train loss: 1.075; train acc: 0.62; test loss: 1.096; test acc: 0.61\n"
          ]
        },
        {
          "output_type": "stream",
          "name": "stderr",
          "text": [
            "\r 56%|█████▌    | 56/100 [34:38<26:57, 36.75s/it]"
          ]
        },
        {
          "output_type": "stream",
          "name": "stdout",
          "text": [
            "[Epoch 56] train loss: 1.069; train acc: 0.63; test loss: 1.106; test acc: 0.61\n"
          ]
        },
        {
          "output_type": "stream",
          "name": "stderr",
          "text": [
            "\r 57%|█████▋    | 57/100 [35:14<26:13, 36.60s/it]"
          ]
        },
        {
          "output_type": "stream",
          "name": "stdout",
          "text": [
            "[Epoch 57] train loss: 1.062; train acc: 0.63; test loss: 1.101; test acc: 0.61\n"
          ]
        },
        {
          "output_type": "stream",
          "name": "stderr",
          "text": [
            "\r 58%|█████▊    | 58/100 [35:51<25:43, 36.74s/it]"
          ]
        },
        {
          "output_type": "stream",
          "name": "stdout",
          "text": [
            "[Epoch 58] train loss: 1.065; train acc: 0.63; test loss: 1.095; test acc: 0.61\n"
          ]
        },
        {
          "output_type": "stream",
          "name": "stderr",
          "text": [
            "\r 59%|█████▉    | 59/100 [36:28<24:58, 36.54s/it]"
          ]
        },
        {
          "output_type": "stream",
          "name": "stdout",
          "text": [
            "[Epoch 59] train loss: 1.045; train acc: 0.63; test loss: 1.105; test acc: 0.61\n"
          ]
        },
        {
          "output_type": "stream",
          "name": "stderr",
          "text": [
            "\r 60%|██████    | 60/100 [37:03<24:14, 36.36s/it]"
          ]
        },
        {
          "output_type": "stream",
          "name": "stdout",
          "text": [
            "[Epoch 60] train loss: 1.042; train acc: 0.63; test loss: 1.101; test acc: 0.61\n"
          ]
        },
        {
          "output_type": "stream",
          "name": "stderr",
          "text": [
            "\r 61%|██████    | 61/100 [37:39<23:29, 36.14s/it]"
          ]
        },
        {
          "output_type": "stream",
          "name": "stdout",
          "text": [
            "[Epoch 61] train loss: 1.041; train acc: 0.64; test loss: 1.091; test acc: 0.61\n"
          ]
        },
        {
          "output_type": "stream",
          "name": "stderr",
          "text": [
            "\r 62%|██████▏   | 62/100 [38:15<22:50, 36.07s/it]"
          ]
        },
        {
          "output_type": "stream",
          "name": "stdout",
          "text": [
            "[Epoch 62] train loss: 1.035; train acc: 0.63; test loss: 1.092; test acc: 0.62\n"
          ]
        },
        {
          "output_type": "stream",
          "name": "stderr",
          "text": [
            "\r 63%|██████▎   | 63/100 [38:51<22:11, 35.97s/it]"
          ]
        },
        {
          "output_type": "stream",
          "name": "stdout",
          "text": [
            "[Epoch 63] train loss: 1.026; train acc: 0.64; test loss: 1.099; test acc: 0.62\n"
          ]
        },
        {
          "output_type": "stream",
          "name": "stderr",
          "text": [
            "\r 64%|██████▍   | 64/100 [39:27<21:37, 36.04s/it]"
          ]
        },
        {
          "output_type": "stream",
          "name": "stdout",
          "text": [
            "[Epoch 64] train loss: 1.020; train acc: 0.64; test loss: 1.089; test acc: 0.62\n"
          ]
        },
        {
          "output_type": "stream",
          "name": "stderr",
          "text": [
            "\r 65%|██████▌   | 65/100 [40:02<20:55, 35.86s/it]"
          ]
        },
        {
          "output_type": "stream",
          "name": "stdout",
          "text": [
            "[Epoch 65] train loss: 1.016; train acc: 0.64; test loss: 1.093; test acc: 0.61\n"
          ]
        },
        {
          "output_type": "stream",
          "name": "stderr",
          "text": [
            "\r 66%|██████▌   | 66/100 [40:38<20:16, 35.78s/it]"
          ]
        },
        {
          "output_type": "stream",
          "name": "stdout",
          "text": [
            "[Epoch 66] train loss: 1.013; train acc: 0.65; test loss: 1.087; test acc: 0.62\n"
          ]
        },
        {
          "output_type": "stream",
          "name": "stderr",
          "text": [
            "\r 67%|██████▋   | 67/100 [41:13<19:37, 35.69s/it]"
          ]
        },
        {
          "output_type": "stream",
          "name": "stdout",
          "text": [
            "[Epoch 67] train loss: 1.001; train acc: 0.65; test loss: 1.098; test acc: 0.61\n"
          ]
        },
        {
          "output_type": "stream",
          "name": "stderr",
          "text": [
            "\r 68%|██████▊   | 68/100 [41:49<19:03, 35.72s/it]"
          ]
        },
        {
          "output_type": "stream",
          "name": "stdout",
          "text": [
            "[Epoch 68] train loss: 0.994; train acc: 0.65; test loss: 1.088; test acc: 0.62\n"
          ]
        },
        {
          "output_type": "stream",
          "name": "stderr",
          "text": [
            "\r 69%|██████▉   | 69/100 [42:25<18:28, 35.74s/it]"
          ]
        },
        {
          "output_type": "stream",
          "name": "stdout",
          "text": [
            "[Epoch 69] train loss: 0.995; train acc: 0.65; test loss: 1.091; test acc: 0.62\n"
          ]
        },
        {
          "output_type": "stream",
          "name": "stderr",
          "text": [
            "\r 70%|███████   | 70/100 [43:01<17:51, 35.71s/it]"
          ]
        },
        {
          "output_type": "stream",
          "name": "stdout",
          "text": [
            "[Epoch 70] train loss: 0.987; train acc: 0.65; test loss: 1.089; test acc: 0.62\n"
          ]
        },
        {
          "output_type": "stream",
          "name": "stderr",
          "text": [
            "\r 71%|███████   | 71/100 [43:36<17:13, 35.64s/it]"
          ]
        },
        {
          "output_type": "stream",
          "name": "stdout",
          "text": [
            "[Epoch 71] train loss: 0.976; train acc: 0.66; test loss: 1.089; test acc: 0.62\n"
          ]
        },
        {
          "output_type": "stream",
          "name": "stderr",
          "text": [
            "\r 72%|███████▏  | 72/100 [44:12<16:39, 35.71s/it]"
          ]
        },
        {
          "output_type": "stream",
          "name": "stdout",
          "text": [
            "[Epoch 72] train loss: 0.973; train acc: 0.66; test loss: 1.077; test acc: 0.62\n"
          ]
        },
        {
          "output_type": "stream",
          "name": "stderr",
          "text": [
            "\r 73%|███████▎  | 73/100 [44:48<16:03, 35.70s/it]"
          ]
        },
        {
          "output_type": "stream",
          "name": "stdout",
          "text": [
            "[Epoch 73] train loss: 0.972; train acc: 0.66; test loss: 1.080; test acc: 0.62\n"
          ]
        },
        {
          "output_type": "stream",
          "name": "stderr",
          "text": [
            "\r 74%|███████▍  | 74/100 [45:23<15:28, 35.70s/it]"
          ]
        },
        {
          "output_type": "stream",
          "name": "stdout",
          "text": [
            "[Epoch 74] train loss: 0.960; train acc: 0.66; test loss: 1.082; test acc: 0.62\n"
          ]
        },
        {
          "output_type": "stream",
          "name": "stderr",
          "text": [
            "\r 75%|███████▌  | 75/100 [45:59<14:52, 35.70s/it]"
          ]
        },
        {
          "output_type": "stream",
          "name": "stdout",
          "text": [
            "[Epoch 75] train loss: 0.962; train acc: 0.66; test loss: 1.083; test acc: 0.62\n"
          ]
        },
        {
          "output_type": "stream",
          "name": "stderr",
          "text": [
            "\r 76%|███████▌  | 76/100 [46:35<14:16, 35.67s/it]"
          ]
        },
        {
          "output_type": "stream",
          "name": "stdout",
          "text": [
            "[Epoch 76] train loss: 0.951; train acc: 0.67; test loss: 1.087; test acc: 0.62\n"
          ]
        },
        {
          "output_type": "stream",
          "name": "stderr",
          "text": [
            "\r 77%|███████▋  | 77/100 [47:10<13:40, 35.66s/it]"
          ]
        },
        {
          "output_type": "stream",
          "name": "stdout",
          "text": [
            "[Epoch 77] train loss: 0.953; train acc: 0.67; test loss: 1.085; test acc: 0.62\n"
          ]
        },
        {
          "output_type": "stream",
          "name": "stderr",
          "text": [
            "\r 78%|███████▊  | 78/100 [47:46<13:02, 35.55s/it]"
          ]
        },
        {
          "output_type": "stream",
          "name": "stdout",
          "text": [
            "[Epoch 78] train loss: 0.943; train acc: 0.67; test loss: 1.089; test acc: 0.62\n"
          ]
        },
        {
          "output_type": "stream",
          "name": "stderr",
          "text": [
            "\r 79%|███████▉  | 79/100 [48:21<12:28, 35.63s/it]"
          ]
        },
        {
          "output_type": "stream",
          "name": "stdout",
          "text": [
            "[Epoch 79] train loss: 0.930; train acc: 0.67; test loss: 1.089; test acc: 0.62\n"
          ]
        },
        {
          "output_type": "stream",
          "name": "stderr",
          "text": [
            "\r 80%|████████  | 80/100 [48:57<11:54, 35.70s/it]"
          ]
        },
        {
          "output_type": "stream",
          "name": "stdout",
          "text": [
            "[Epoch 80] train loss: 0.938; train acc: 0.67; test loss: 1.078; test acc: 0.62\n"
          ]
        },
        {
          "output_type": "stream",
          "name": "stderr",
          "text": [
            "\r 81%|████████  | 81/100 [49:33<11:19, 35.78s/it]"
          ]
        },
        {
          "output_type": "stream",
          "name": "stdout",
          "text": [
            "[Epoch 81] train loss: 0.921; train acc: 0.68; test loss: 1.075; test acc: 0.63\n"
          ]
        },
        {
          "output_type": "stream",
          "name": "stderr",
          "text": [
            "\r 82%|████████▏ | 82/100 [50:09<10:42, 35.70s/it]"
          ]
        },
        {
          "output_type": "stream",
          "name": "stdout",
          "text": [
            "[Epoch 82] train loss: 0.926; train acc: 0.68; test loss: 1.077; test acc: 0.63\n"
          ]
        },
        {
          "output_type": "stream",
          "name": "stderr",
          "text": [
            "\r 83%|████████▎ | 83/100 [50:45<10:08, 35.82s/it]"
          ]
        },
        {
          "output_type": "stream",
          "name": "stdout",
          "text": [
            "[Epoch 83] train loss: 0.908; train acc: 0.68; test loss: 1.076; test acc: 0.62\n"
          ]
        },
        {
          "output_type": "stream",
          "name": "stderr",
          "text": [
            "\r 84%|████████▍ | 84/100 [51:21<09:33, 35.85s/it]"
          ]
        },
        {
          "output_type": "stream",
          "name": "stdout",
          "text": [
            "[Epoch 84] train loss: 0.910; train acc: 0.68; test loss: 1.084; test acc: 0.62\n"
          ]
        },
        {
          "output_type": "stream",
          "name": "stderr",
          "text": [
            "\r 85%|████████▌ | 85/100 [51:56<08:55, 35.72s/it]"
          ]
        },
        {
          "output_type": "stream",
          "name": "stdout",
          "text": [
            "[Epoch 85] train loss: 0.902; train acc: 0.68; test loss: 1.085; test acc: 0.62\n"
          ]
        },
        {
          "output_type": "stream",
          "name": "stderr",
          "text": [
            "\r 86%|████████▌ | 86/100 [52:32<08:18, 35.62s/it]"
          ]
        },
        {
          "output_type": "stream",
          "name": "stdout",
          "text": [
            "[Epoch 86] train loss: 0.903; train acc: 0.68; test loss: 1.089; test acc: 0.62\n"
          ]
        },
        {
          "output_type": "stream",
          "name": "stderr",
          "text": [
            "\r 87%|████████▋ | 87/100 [53:07<07:43, 35.64s/it]"
          ]
        },
        {
          "output_type": "stream",
          "name": "stdout",
          "text": [
            "[Epoch 87] train loss: 0.897; train acc: 0.69; test loss: 1.093; test acc: 0.62\n"
          ]
        },
        {
          "output_type": "stream",
          "name": "stderr",
          "text": [
            "\r 88%|████████▊ | 88/100 [53:43<07:07, 35.63s/it]"
          ]
        },
        {
          "output_type": "stream",
          "name": "stdout",
          "text": [
            "[Epoch 88] train loss: 0.889; train acc: 0.69; test loss: 1.084; test acc: 0.62\n"
          ]
        },
        {
          "output_type": "stream",
          "name": "stderr",
          "text": [
            "\r 89%|████████▉ | 89/100 [54:19<06:31, 35.63s/it]"
          ]
        },
        {
          "output_type": "stream",
          "name": "stdout",
          "text": [
            "[Epoch 89] train loss: 0.886; train acc: 0.69; test loss: 1.088; test acc: 0.62\n"
          ]
        },
        {
          "output_type": "stream",
          "name": "stderr",
          "text": [
            "\r 90%|█████████ | 90/100 [54:54<05:55, 35.57s/it]"
          ]
        },
        {
          "output_type": "stream",
          "name": "stdout",
          "text": [
            "[Epoch 90] train loss: 0.884; train acc: 0.69; test loss: 1.078; test acc: 0.62\n"
          ]
        },
        {
          "output_type": "stream",
          "name": "stderr",
          "text": [
            "\r 91%|█████████ | 91/100 [55:30<05:20, 35.59s/it]"
          ]
        },
        {
          "output_type": "stream",
          "name": "stdout",
          "text": [
            "[Epoch 91] train loss: 0.872; train acc: 0.69; test loss: 1.102; test acc: 0.62\n"
          ]
        },
        {
          "output_type": "stream",
          "name": "stderr",
          "text": [
            "\r 92%|█████████▏| 92/100 [56:06<04:45, 35.74s/it]"
          ]
        },
        {
          "output_type": "stream",
          "name": "stdout",
          "text": [
            "[Epoch 92] train loss: 0.877; train acc: 0.69; test loss: 1.086; test acc: 0.62\n"
          ]
        },
        {
          "output_type": "stream",
          "name": "stderr",
          "text": [
            "\r 93%|█████████▎| 93/100 [56:41<04:09, 35.67s/it]"
          ]
        },
        {
          "output_type": "stream",
          "name": "stdout",
          "text": [
            "[Epoch 93] train loss: 0.870; train acc: 0.69; test loss: 1.082; test acc: 0.62\n"
          ]
        },
        {
          "output_type": "stream",
          "name": "stderr",
          "text": [
            "\r 94%|█████████▍| 94/100 [57:17<03:34, 35.74s/it]"
          ]
        },
        {
          "output_type": "stream",
          "name": "stdout",
          "text": [
            "[Epoch 94] train loss: 0.861; train acc: 0.70; test loss: 1.085; test acc: 0.62\n"
          ]
        },
        {
          "output_type": "stream",
          "name": "stderr",
          "text": [
            "\r 95%|█████████▌| 95/100 [57:53<02:58, 35.67s/it]"
          ]
        },
        {
          "output_type": "stream",
          "name": "stdout",
          "text": [
            "[Epoch 95] train loss: 0.862; train acc: 0.70; test loss: 1.077; test acc: 0.63\n"
          ]
        },
        {
          "output_type": "stream",
          "name": "stderr",
          "text": [
            "\r 96%|█████████▌| 96/100 [58:28<02:22, 35.66s/it]"
          ]
        },
        {
          "output_type": "stream",
          "name": "stdout",
          "text": [
            "[Epoch 96] train loss: 0.849; train acc: 0.70; test loss: 1.094; test acc: 0.62\n"
          ]
        },
        {
          "output_type": "stream",
          "name": "stderr",
          "text": [
            "\r 97%|█████████▋| 97/100 [59:04<01:47, 35.70s/it]"
          ]
        },
        {
          "output_type": "stream",
          "name": "stdout",
          "text": [
            "[Epoch 97] train loss: 0.854; train acc: 0.70; test loss: 1.074; test acc: 0.63\n"
          ]
        },
        {
          "output_type": "stream",
          "name": "stderr",
          "text": [
            "\r 98%|█████████▊| 98/100 [59:40<01:11, 35.76s/it]"
          ]
        },
        {
          "output_type": "stream",
          "name": "stdout",
          "text": [
            "[Epoch 98] train loss: 0.839; train acc: 0.71; test loss: 1.083; test acc: 0.63\n"
          ]
        },
        {
          "output_type": "stream",
          "name": "stderr",
          "text": [
            "\r 99%|█████████▉| 99/100 [1:00:16<00:35, 35.73s/it]"
          ]
        },
        {
          "output_type": "stream",
          "name": "stdout",
          "text": [
            "[Epoch 99] train loss: 0.838; train acc: 0.71; test loss: 1.086; test acc: 0.63\n"
          ]
        },
        {
          "output_type": "stream",
          "name": "stderr",
          "text": [
            "100%|██████████| 100/100 [1:00:51<00:00, 36.52s/it]"
          ]
        },
        {
          "output_type": "stream",
          "name": "stdout",
          "text": [
            "[Epoch 100] train loss: 0.834; train acc: 0.71; test loss: 1.095; test acc: 0.62\n"
          ]
        },
        {
          "output_type": "stream",
          "name": "stderr",
          "text": [
            "\n"
          ]
        }
      ]
    },
    {
      "cell_type": "markdown",
      "source": [
        "**5.3.3)** Explain which steps you have conducted (which architectures, optimizers, data augmentations, etc. you have tested) to obtain the final result. What were the most important changes in **hyperparameters** which helped to achieve the high score?"
      ],
      "metadata": {
        "id": "g1gtQZXBOQ0z"
      }
    },
    {
      "cell_type": "markdown",
      "source": [
        "**Your text answer:** \n",
        "\n",
        "\n",
        "at last step of optimisation I increased from nn.Dropout(0.2) to nn.Dropout(0.5) and changed SGD to Adam"
      ],
      "metadata": {
        "id": "0ti-Bqa7OQ00"
      }
    },
    {
      "cell_type": "markdown",
      "source": [
        "### Subtask 5.4. CNN classifier  ($\\geq$80%)\n",
        "**5.4.1)** Multilayer perceptrons are good but on image datasets they typically perform worse than convolutional neural networks. In this subtask, you have to code a classical architecture of a neural network for classification: several fully convolutional layers (\"*features*\") followed by fully-connected (\"*classifier*\").\n",
        "1. In the *features* part, you are allowed to use `Conv2d` (conv linear), pooling (`MaxPool2d`, `AvgPool2d`), dropout, batchnorm, activations.\n",
        "2. In the *classifier* part, you are allowed use `Linear` (dense linear), dropout, batchnorm, activations.\n",
        "\n",
        "Do not be afraid to stack more layers. It is ok to consider large networks with dozens of millions of parameters. \n",
        "\n",
        "The following **example** image shows a potential variant of a network ([AlexNet](https://proceedings.neurips.cc/paper/2012/file/c399862d3b9d6b76c8436e924a68c45b-Paper.pdf) considers 1000-class classification of `3 x 224 x 224` images).\n",
        "\n",
        "<img width=550 src=\"https://www.machinelearningmastery.ru/img/0-538121-698201.png\">"
      ],
      "metadata": {
        "id": "DtzoOb5bOQ00"
      }
    },
    {
      "cell_type": "code",
      "source": [
        "class CNN(nn.Module):\n",
        "    def __init__(self, num_classes=10):\n",
        "        super(CNN, self).__init__()\n",
        "        self.features = nn.Sequential(\n",
        "            # BEGIN Solution (do not delete this comment!)\n",
        "\n",
        "            # END Solution (do not delete this comment!)\n",
        "        )\n",
        "        self.classifier = nn.Sequential(\n",
        "            # BEGIN Solution (do not delete this comment!)\n",
        "\n",
        "            # END Solution (do not delete this comment!)\n",
        "        )\n",
        "\n",
        "    def forward(self, x):\n",
        "        # BEGIN Solution (do not delete this comment!)\n",
        "\n",
        "        # END Solution (do not delete this comment!)"
      ],
      "metadata": {
        "id": "Oh4rGfqLOQ03"
      },
      "execution_count": null,
      "outputs": []
    },
    {
      "cell_type": "code",
      "source": [
        "torch.cuda.set_device(0)\n",
        "clf_cnn = CNN(num_classes=10).cuda()\n",
        "print('Number of weights:', np.sum([np.prod(p.shape) for p in clf.parameters()]))\n",
        "    \n",
        "# Check that the output size of the network is BATCH_SIZE x NUM_CLASSES\n",
        "X = next(iter(train_loader))[0].cuda()\n",
        "with torch.no_grad():\n",
        "    clf_X = clf_cnn(X)\n",
        "    assert len(clf_X) == len(X)\n",
        "    assert clf_X.shape[1] == 10"
      ],
      "metadata": {
        "id": "KGBhzrBWOQ07"
      },
      "execution_count": null,
      "outputs": []
    },
    {
      "cell_type": "markdown",
      "source": [
        "**5.4.2) Now define the optimizer, criterion and train the network.** To get the points, you must achieve the **final test accuracy $\\geq$80%**."
      ],
      "metadata": {
        "id": "uZkkfqHXOQ05"
      }
    },
    {
      "cell_type": "code",
      "source": [
        "# BEGIN Solution (do not delete this comment!)\n",
        "\n",
        "# >>> your solution here <<<\n",
        "\n",
        "opt = optim.Adamax(clf_cnn.parameters(), lr=1e-4)\n",
        "criterion = torch.nn.CrossEntropyLoss()\n",
        "\n",
        "# END Solution (do not delete this comment!)\n",
        "\n",
        "train(train_loader, test_loader, clf_cnn, criterion, opt, n_epochs=50)"
      ],
      "metadata": {
        "id": "-bsGHXHlOQ07"
      },
      "execution_count": null,
      "outputs": []
    },
    {
      "cell_type": "markdown",
      "source": [
        "**5.4.3)** Explain which steps you have conducted (which architectures, optimizers, data augmentations, etc. you have tested) to obtain the final result. What were the most important changes in **hyperparameters** which helped to achieve the high score?"
      ],
      "metadata": {
        "id": "pJMr9Cx2OQ08"
      }
    },
    {
      "cell_type": "markdown",
      "source": [
        "**Your text answer:** \\<write your answer\\>"
      ],
      "metadata": {
        "id": "Ef1EMzzHOQ09"
      }
    },
    {
      "cell_type": "markdown",
      "source": [
        "### Subtask 5.5. PyTorch classifier  ($\\geq$83%)\n",
        "**5.5.1)** After struggling to build the network manually, let us just import a pre-defined neural network architecture from `PyTorch` and train it. Take a look at the available [models](https://pytorch.org/vision/stable/models.html) of `torchvision.models`, pick the one you want and make it achieve $\\geq 83$% **test accuracy**. We recommend to consider `VGG` or `ResNet` models. You **should not** use `pretrained=True` -- you job is to train the model from scratch.\n",
        "\n",
        "An image of ResNet-34, plain and VGG-16 architectures.\n",
        "\n",
        "<img width=750 src=\"https://miro.medium.com/max/1400/1*6hF97Upuqg_LdsqWY6n_wg.png\">"
      ],
      "metadata": {
        "id": "qie1SFcfOQ09"
      }
    },
    {
      "cell_type": "code",
      "source": [
        "# BEGIN Solution (do not delete this comment!)\n",
        "\n",
        "# >>> your solution here <<<\n",
        "\n",
        "clf = torch.hub.load('pytorch/vision:v0.10.0', 'resnet18', pretrained=False).cuda()\n",
        "opt = optim.Adam(clf.parameters(), lr=1e-4)\n",
        "criterion = torch.nn.CrossEntropyLoss()\n",
        "\n",
        "# END Solution (do not delete this comment!)"
      ],
      "metadata": {
        "id": "1DwFuZHQOQ0-",
        "execution": {
          "iopub.status.busy": "2022-03-07T00:28:17.235021Z",
          "iopub.execute_input": "2022-03-07T00:28:17.235572Z",
          "iopub.status.idle": "2022-03-07T00:28:17.43381Z",
          "shell.execute_reply.started": "2022-03-07T00:28:17.235534Z",
          "shell.execute_reply": "2022-03-07T00:28:17.432927Z"
        },
        "trusted": true,
        "colab": {
          "base_uri": "https://localhost:8080/"
        },
        "outputId": "a67a21d4-8941-4496-e4ac-aa992753e1d1"
      },
      "execution_count": 11,
      "outputs": [
        {
          "output_type": "stream",
          "name": "stderr",
          "text": [
            "Downloading: \"https://github.com/pytorch/vision/archive/v0.10.0.zip\" to /root/.cache/torch/hub/v0.10.0.zip\n"
          ]
        }
      ]
    },
    {
      "cell_type": "code",
      "source": [
        "train(train_loader, test_loader, clf, criterion, opt, n_epochs=40)"
      ],
      "metadata": {
        "id": "jFke62ztOQ0-",
        "outputId": "a4d7517a-a141-46c9-b203-560b2f0ad669",
        "execution": {
          "iopub.status.busy": "2022-03-07T00:28:20.017524Z",
          "iopub.execute_input": "2022-03-07T00:28:20.017771Z"
        },
        "trusted": true,
        "colab": {
          "base_uri": "https://localhost:8080/"
        }
      },
      "execution_count": 12,
      "outputs": [
        {
          "output_type": "stream",
          "name": "stderr",
          "text": [
            "  2%|▎         | 1/40 [01:48<1:10:44, 108.85s/it]"
          ]
        },
        {
          "output_type": "stream",
          "name": "stdout",
          "text": [
            "[Epoch 1] train loss: 1.680; train acc: 0.43; test loss: 1.306; test acc: 0.52\n"
          ]
        },
        {
          "output_type": "stream",
          "name": "stderr",
          "text": [
            "\r  5%|▌         | 2/40 [03:28<1:05:40, 103.69s/it]"
          ]
        },
        {
          "output_type": "stream",
          "name": "stdout",
          "text": [
            "[Epoch 2] train loss: 1.255; train acc: 0.55; test loss: 1.141; test acc: 0.59\n"
          ]
        },
        {
          "output_type": "stream",
          "name": "stderr",
          "text": [
            "\r  8%|▊         | 3/40 [05:07<1:02:28, 101.31s/it]"
          ]
        },
        {
          "output_type": "stream",
          "name": "stdout",
          "text": [
            "[Epoch 3] train loss: 1.103; train acc: 0.61; test loss: 1.033; test acc: 0.63\n"
          ]
        },
        {
          "output_type": "stream",
          "name": "stderr",
          "text": [
            "\r 10%|█         | 4/40 [06:46<1:00:15, 100.43s/it]"
          ]
        },
        {
          "output_type": "stream",
          "name": "stdout",
          "text": [
            "[Epoch 4] train loss: 0.996; train acc: 0.65; test loss: 0.917; test acc: 0.67\n"
          ]
        },
        {
          "output_type": "stream",
          "name": "stderr",
          "text": [
            "\r 12%|█▎        | 5/40 [08:24<58:09, 99.71s/it]   "
          ]
        },
        {
          "output_type": "stream",
          "name": "stdout",
          "text": [
            "[Epoch 5] train loss: 0.908; train acc: 0.68; test loss: 0.868; test acc: 0.69\n"
          ]
        },
        {
          "output_type": "stream",
          "name": "stderr",
          "text": [
            "\r 15%|█▌        | 6/40 [10:03<56:16, 99.31s/it]"
          ]
        },
        {
          "output_type": "stream",
          "name": "stdout",
          "text": [
            "[Epoch 6] train loss: 0.833; train acc: 0.71; test loss: 0.823; test acc: 0.72\n"
          ]
        },
        {
          "output_type": "stream",
          "name": "stderr",
          "text": [
            "\r 18%|█▊        | 7/40 [11:42<54:31, 99.15s/it]"
          ]
        },
        {
          "output_type": "stream",
          "name": "stdout",
          "text": [
            "[Epoch 7] train loss: 0.779; train acc: 0.72; test loss: 0.791; test acc: 0.72\n"
          ]
        },
        {
          "output_type": "stream",
          "name": "stderr",
          "text": [
            "\r 20%|██        | 8/40 [13:20<52:43, 98.86s/it]"
          ]
        },
        {
          "output_type": "stream",
          "name": "stdout",
          "text": [
            "[Epoch 8] train loss: 0.731; train acc: 0.74; test loss: 0.798; test acc: 0.72\n"
          ]
        },
        {
          "output_type": "stream",
          "name": "stderr",
          "text": [
            "\r 22%|██▎       | 9/40 [14:58<51:00, 98.74s/it]"
          ]
        },
        {
          "output_type": "stream",
          "name": "stdout",
          "text": [
            "[Epoch 9] train loss: 0.690; train acc: 0.76; test loss: 0.762; test acc: 0.73\n"
          ]
        },
        {
          "output_type": "stream",
          "name": "stderr",
          "text": [
            "\r 25%|██▌       | 10/40 [16:38<49:26, 98.90s/it]"
          ]
        },
        {
          "output_type": "stream",
          "name": "stdout",
          "text": [
            "[Epoch 10] train loss: 0.647; train acc: 0.77; test loss: 0.765; test acc: 0.74\n"
          ]
        },
        {
          "output_type": "stream",
          "name": "stderr",
          "text": [
            "\r 28%|██▊       | 11/40 [18:16<47:46, 98.83s/it]"
          ]
        },
        {
          "output_type": "stream",
          "name": "stdout",
          "text": [
            "[Epoch 11] train loss: 0.606; train acc: 0.79; test loss: 0.746; test acc: 0.75\n"
          ]
        },
        {
          "output_type": "stream",
          "name": "stderr",
          "text": [
            "\r 30%|███       | 12/40 [20:07<47:46, 102.37s/it]"
          ]
        },
        {
          "output_type": "stream",
          "name": "stdout",
          "text": [
            "[Epoch 12] train loss: 0.572; train acc: 0.80; test loss: 0.747; test acc: 0.75\n"
          ]
        },
        {
          "output_type": "stream",
          "name": "stderr",
          "text": [
            "\r 32%|███▎      | 13/40 [21:49<46:03, 102.34s/it]"
          ]
        },
        {
          "output_type": "stream",
          "name": "stdout",
          "text": [
            "[Epoch 13] train loss: 0.539; train acc: 0.81; test loss: 0.736; test acc: 0.75\n"
          ]
        },
        {
          "output_type": "stream",
          "name": "stderr",
          "text": [
            "\r 35%|███▌      | 14/40 [23:30<44:06, 101.80s/it]"
          ]
        },
        {
          "output_type": "stream",
          "name": "stdout",
          "text": [
            "[Epoch 14] train loss: 0.514; train acc: 0.82; test loss: 0.749; test acc: 0.75\n"
          ]
        },
        {
          "output_type": "stream",
          "name": "stderr",
          "text": [
            "\r 38%|███▊      | 15/40 [25:09<42:06, 101.07s/it]"
          ]
        },
        {
          "output_type": "stream",
          "name": "stdout",
          "text": [
            "[Epoch 15] train loss: 0.482; train acc: 0.83; test loss: 0.738; test acc: 0.76\n"
          ]
        },
        {
          "output_type": "stream",
          "name": "stderr",
          "text": [
            "\r 40%|████      | 16/40 [26:52<40:39, 101.64s/it]"
          ]
        },
        {
          "output_type": "stream",
          "name": "stdout",
          "text": [
            "[Epoch 16] train loss: 0.452; train acc: 0.84; test loss: 0.739; test acc: 0.76\n"
          ]
        },
        {
          "output_type": "stream",
          "name": "stderr",
          "text": [
            "\r 42%|████▎     | 17/40 [28:31<38:36, 100.72s/it]"
          ]
        },
        {
          "output_type": "stream",
          "name": "stdout",
          "text": [
            "[Epoch 17] train loss: 0.433; train acc: 0.85; test loss: 0.720; test acc: 0.76\n"
          ]
        },
        {
          "output_type": "stream",
          "name": "stderr",
          "text": [
            "\r 45%|████▌     | 18/40 [30:09<36:39, 99.98s/it] "
          ]
        },
        {
          "output_type": "stream",
          "name": "stdout",
          "text": [
            "[Epoch 18] train loss: 0.408; train acc: 0.86; test loss: 0.745; test acc: 0.76\n"
          ]
        },
        {
          "output_type": "stream",
          "name": "stderr",
          "text": [
            "\r 48%|████▊     | 19/40 [31:48<34:52, 99.65s/it]"
          ]
        },
        {
          "output_type": "stream",
          "name": "stdout",
          "text": [
            "[Epoch 19] train loss: 0.388; train acc: 0.86; test loss: 0.745; test acc: 0.77\n"
          ]
        },
        {
          "output_type": "stream",
          "name": "stderr",
          "text": [
            "\r 50%|█████     | 20/40 [33:26<33:07, 99.36s/it]"
          ]
        },
        {
          "output_type": "stream",
          "name": "stdout",
          "text": [
            "[Epoch 20] train loss: 0.365; train acc: 0.87; test loss: 0.758; test acc: 0.76\n"
          ]
        },
        {
          "output_type": "stream",
          "name": "stderr",
          "text": [
            "\r 52%|█████▎    | 21/40 [35:04<31:19, 98.93s/it]"
          ]
        },
        {
          "output_type": "stream",
          "name": "stdout",
          "text": [
            "[Epoch 21] train loss: 0.342; train acc: 0.88; test loss: 0.762; test acc: 0.77\n"
          ]
        },
        {
          "output_type": "stream",
          "name": "stderr",
          "text": [
            "\r 55%|█████▌    | 22/40 [36:42<29:33, 98.52s/it]"
          ]
        },
        {
          "output_type": "stream",
          "name": "stdout",
          "text": [
            "[Epoch 22] train loss: 0.323; train acc: 0.89; test loss: 0.788; test acc: 0.76\n"
          ]
        },
        {
          "output_type": "stream",
          "name": "stderr",
          "text": [
            "\r 57%|█████▊    | 23/40 [38:20<27:53, 98.44s/it]"
          ]
        },
        {
          "output_type": "stream",
          "name": "stdout",
          "text": [
            "[Epoch 23] train loss: 0.310; train acc: 0.89; test loss: 0.784; test acc: 0.77\n"
          ]
        },
        {
          "output_type": "stream",
          "name": "stderr",
          "text": [
            "\r 60%|██████    | 24/40 [39:59<26:14, 98.40s/it]"
          ]
        },
        {
          "output_type": "stream",
          "name": "stdout",
          "text": [
            "[Epoch 24] train loss: 0.296; train acc: 0.90; test loss: 0.811; test acc: 0.77\n"
          ]
        },
        {
          "output_type": "stream",
          "name": "stderr",
          "text": [
            "\r 62%|██████▎   | 25/40 [41:36<24:33, 98.26s/it]"
          ]
        },
        {
          "output_type": "stream",
          "name": "stdout",
          "text": [
            "[Epoch 25] train loss: 0.282; train acc: 0.90; test loss: 0.791; test acc: 0.77\n"
          ]
        },
        {
          "output_type": "stream",
          "name": "stderr",
          "text": [
            "\r 65%|██████▌   | 26/40 [43:15<22:57, 98.36s/it]"
          ]
        },
        {
          "output_type": "stream",
          "name": "stdout",
          "text": [
            "[Epoch 26] train loss: 0.267; train acc: 0.90; test loss: 0.807; test acc: 0.77\n"
          ]
        },
        {
          "output_type": "stream",
          "name": "stderr",
          "text": [
            "\r 68%|██████▊   | 27/40 [44:53<21:17, 98.27s/it]"
          ]
        },
        {
          "output_type": "stream",
          "name": "stdout",
          "text": [
            "[Epoch 27] train loss: 0.256; train acc: 0.91; test loss: 0.812; test acc: 0.77\n"
          ]
        },
        {
          "output_type": "stream",
          "name": "stderr",
          "text": [
            "\r 70%|███████   | 28/40 [46:31<19:37, 98.15s/it]"
          ]
        },
        {
          "output_type": "stream",
          "name": "stdout",
          "text": [
            "[Epoch 28] train loss: 0.250; train acc: 0.91; test loss: 0.826; test acc: 0.77\n"
          ]
        },
        {
          "output_type": "stream",
          "name": "stderr",
          "text": [
            "\r 72%|███████▎  | 29/40 [48:09<17:59, 98.16s/it]"
          ]
        },
        {
          "output_type": "stream",
          "name": "stdout",
          "text": [
            "[Epoch 29] train loss: 0.233; train acc: 0.92; test loss: 0.799; test acc: 0.78\n"
          ]
        },
        {
          "output_type": "stream",
          "name": "stderr",
          "text": [
            "\r 75%|███████▌  | 30/40 [49:47<16:21, 98.11s/it]"
          ]
        },
        {
          "output_type": "stream",
          "name": "stdout",
          "text": [
            "[Epoch 30] train loss: 0.220; train acc: 0.92; test loss: 0.839; test acc: 0.77\n"
          ]
        },
        {
          "output_type": "stream",
          "name": "stderr",
          "text": [
            "\r 78%|███████▊  | 31/40 [51:25<14:42, 98.02s/it]"
          ]
        },
        {
          "output_type": "stream",
          "name": "stdout",
          "text": [
            "[Epoch 31] train loss: 0.219; train acc: 0.92; test loss: 0.853; test acc: 0.77\n"
          ]
        },
        {
          "output_type": "stream",
          "name": "stderr",
          "text": [
            "\r 80%|████████  | 32/40 [53:03<13:04, 98.12s/it]"
          ]
        },
        {
          "output_type": "stream",
          "name": "stdout",
          "text": [
            "[Epoch 32] train loss: 0.201; train acc: 0.93; test loss: 0.863; test acc: 0.77\n"
          ]
        },
        {
          "output_type": "stream",
          "name": "stderr",
          "text": [
            "\r 82%|████████▎ | 33/40 [54:41<11:26, 98.02s/it]"
          ]
        },
        {
          "output_type": "stream",
          "name": "stdout",
          "text": [
            "[Epoch 33] train loss: 0.202; train acc: 0.93; test loss: 0.879; test acc: 0.77\n"
          ]
        },
        {
          "output_type": "stream",
          "name": "stderr",
          "text": [
            "\r 85%|████████▌ | 34/40 [56:19<09:47, 97.86s/it]"
          ]
        },
        {
          "output_type": "stream",
          "name": "stdout",
          "text": [
            "[Epoch 34] train loss: 0.194; train acc: 0.93; test loss: 0.883; test acc: 0.77\n"
          ]
        },
        {
          "output_type": "stream",
          "name": "stderr",
          "text": [
            "\r 88%|████████▊ | 35/40 [57:56<08:09, 97.86s/it]"
          ]
        },
        {
          "output_type": "stream",
          "name": "stdout",
          "text": [
            "[Epoch 35] train loss: 0.189; train acc: 0.93; test loss: 0.871; test acc: 0.77\n"
          ]
        },
        {
          "output_type": "stream",
          "name": "stderr",
          "text": [
            "\r 90%|█████████ | 36/40 [59:34<06:31, 97.78s/it]"
          ]
        },
        {
          "output_type": "stream",
          "name": "stdout",
          "text": [
            "[Epoch 36] train loss: 0.177; train acc: 0.94; test loss: 0.888; test acc: 0.78\n"
          ]
        },
        {
          "output_type": "stream",
          "name": "stderr",
          "text": [
            "\r 92%|█████████▎| 37/40 [1:01:12<04:53, 97.80s/it]"
          ]
        },
        {
          "output_type": "stream",
          "name": "stdout",
          "text": [
            "[Epoch 37] train loss: 0.174; train acc: 0.94; test loss: 0.888; test acc: 0.77\n"
          ]
        },
        {
          "output_type": "stream",
          "name": "stderr",
          "text": [
            "\r 95%|█████████▌| 38/40 [1:02:50<03:15, 97.74s/it]"
          ]
        },
        {
          "output_type": "stream",
          "name": "stdout",
          "text": [
            "[Epoch 38] train loss: 0.166; train acc: 0.94; test loss: 0.931; test acc: 0.77\n"
          ]
        },
        {
          "output_type": "stream",
          "name": "stderr",
          "text": [
            "\r 98%|█████████▊| 39/40 [1:04:28<01:37, 97.87s/it]"
          ]
        },
        {
          "output_type": "stream",
          "name": "stdout",
          "text": [
            "[Epoch 39] train loss: 0.160; train acc: 0.94; test loss: 0.933; test acc: 0.77\n"
          ]
        },
        {
          "output_type": "stream",
          "name": "stderr",
          "text": [
            "100%|██████████| 40/40 [1:06:05<00:00, 99.14s/it]"
          ]
        },
        {
          "output_type": "stream",
          "name": "stdout",
          "text": [
            "[Epoch 40] train loss: 0.159; train acc: 0.94; test loss: 0.911; test acc: 0.77\n"
          ]
        },
        {
          "output_type": "stream",
          "name": "stderr",
          "text": [
            "\n"
          ]
        }
      ]
    }
  ]
}