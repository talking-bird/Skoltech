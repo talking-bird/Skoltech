{
 "cells": [
  {
   "cell_type": "markdown",
   "id": "af15007e",
   "metadata": {
    "id": "approved-psychology"
   },
   "source": [
    "# Home Assignment No. 2 - part one\n",
    "\n",
    "To solve this task, you will write a lot of code to try several machine learning methods for classification and regression.\n",
    "* You are **HIGHLY RECOMMENDED** to read relevant documentation, e.g. for [python](https://docs.python.org/3/), [numpy](https://docs.scipy.org/doc/numpy/reference/), [matlpotlib](https://matplotlib.org/) and [sklearn](https://scikit-learn.org/stable/). Also remember that seminars, lecture slides, [Google](http://google.com) and [StackOverflow](https://stackoverflow.com/) are your close friends during this course (and, probably, whole life?).\n",
    "\n",
    "* If you want an easy life, you have to use **BUILT-IN METHODS** of `sklearn` library instead of writing tons of your own code. There exists a class/method for almost everything you can imagine (related to this homework).\n",
    "\n",
    "* You have to write **CODE** directly inside specified places marked by comments: **BEGIN/END Solution**. Do not create new cells.\n",
    "\n",
    "* In some problems you are asked to provide a short discussion of the results. For that find the specific place marked via **Your text answer: \\<write your answer\\>**.\n",
    "\n",
    "* For every separate problem or subproblem (if specified) you can get only 0 points or maximal points for this problem. There are **NO INTERMEDIATE scores**. So make sure that you did everything required in the task.\n",
    "\n",
    "* Your **SOLUTION** notebook **MUST BE REPRODUCIBLE**, i.e., if the reviewer decides to restart the notebook and run all cells, after all the computation he will obtain exactly the same solution (with all the corresponding plots) as in your uploaded notebook. For this purpose, we suggest fixing random `seed` or (better) define `random_state=` inside every algorithm that uses some pseudorandomness.\n",
    "\n",
    "* Your code must be clear to the reviewer. For this purpose, try to include necessary comments inside the code. But remember: **GOOD CODE MUST BE SELF-EXPLANATORY** without any additional comments.\n",
    "\n",
    "* Many `sklearn` algorithms support multithreading (Ensemble Methods, Cross-Validation, etc.). Check if the particular algorithm has `n_jobs` parameters and set it to `-1` to use all the cores.\n"
   ]
  },
  {
   "cell_type": "code",
   "execution_count": 1,
   "id": "ea37c86c",
   "metadata": {
    "ExecuteTime": {
     "end_time": "2022-03-06T13:01:18.450218Z",
     "start_time": "2022-03-06T13:01:16.308768Z"
    },
    "id": "cooperative-spokesman"
   },
   "outputs": [],
   "source": [
    "import numpy as np\n",
    "import sklearn\n",
    "from sklearn.model_selection import train_test_split\n",
    "import pandas as pd\n",
    "import matplotlib.pyplot as plt\n",
    "from sklearn.model_selection import cross_val_score\n",
    "%matplotlib inline"
   ]
  },
  {
   "cell_type": "code",
   "execution_count": 2,
   "id": "189f8726",
   "metadata": {
    "ExecuteTime": {
     "end_time": "2022-03-06T13:01:18.481224Z",
     "start_time": "2022-03-06T13:01:18.468214Z"
    },
    "id": "noted-bridal"
   },
   "outputs": [],
   "source": [
    "import warnings\n",
    "warnings.filterwarnings(\"ignore\")"
   ]
  },
  {
   "cell_type": "markdown",
   "id": "9260daf9",
   "metadata": {
    "id": "guilty-contamination"
   },
   "source": [
    "## Task 1. Model and feature selection problem (3 points)\n",
    "\n",
    "Your goal in this task is to predict the price (```price_doc```) given some characteristics of a house. In order to do that, you will demonstrate your abilities in data preprocessing, finding feature importances, applying different ML models."
   ]
  },
  {
   "cell_type": "markdown",
   "id": "6ae55732",
   "metadata": {
    "heading_collapsed": true,
    "id": "friendly-review"
   },
   "source": [
    "### Subproblem 1.1. Data preprocessing and feauture importances (1 point)\n",
    "\n",
    "The goal of this subproblem is to prepare the data for further usage. Complete all of the following subtasks:"
   ]
  },
  {
   "cell_type": "markdown",
   "id": "47b082aa",
   "metadata": {
    "hidden": true,
    "id": "rational-reggae"
   },
   "source": [
    "**1.1.1) load the dataset**"
   ]
  },
  {
   "cell_type": "code",
   "execution_count": 3,
   "id": "eee2a8e5",
   "metadata": {
    "ExecuteTime": {
     "end_time": "2022-03-06T13:01:19.901758Z",
     "start_time": "2022-03-06T13:01:18.498218Z"
    },
    "hidden": true,
    "id": "nutritional-phoenix"
   },
   "outputs": [
    {
     "data": {
      "text/html": [
       "<div>\n",
       "<style scoped>\n",
       "    .dataframe tbody tr th:only-of-type {\n",
       "        vertical-align: middle;\n",
       "    }\n",
       "\n",
       "    .dataframe tbody tr th {\n",
       "        vertical-align: top;\n",
       "    }\n",
       "\n",
       "    .dataframe thead th {\n",
       "        text-align: right;\n",
       "    }\n",
       "</style>\n",
       "<table border=\"1\" class=\"dataframe\">\n",
       "  <thead>\n",
       "    <tr style=\"text-align: right;\">\n",
       "      <th></th>\n",
       "      <th>timestamp</th>\n",
       "      <th>full_sq</th>\n",
       "      <th>life_sq</th>\n",
       "      <th>floor</th>\n",
       "      <th>max_floor</th>\n",
       "      <th>material</th>\n",
       "      <th>build_year</th>\n",
       "      <th>num_room</th>\n",
       "      <th>kitch_sq</th>\n",
       "      <th>state</th>\n",
       "      <th>...</th>\n",
       "      <th>provision_retail_space_modern_sqm</th>\n",
       "      <th>turnover_catering_per_cap</th>\n",
       "      <th>theaters_viewers_per_1000_cap</th>\n",
       "      <th>seats_theather_rfmin_per_100000_cap</th>\n",
       "      <th>museum_visitis_per_100_cap</th>\n",
       "      <th>bandwidth_sports</th>\n",
       "      <th>population_reg_sports_share</th>\n",
       "      <th>students_reg_sports_share</th>\n",
       "      <th>apartment_build</th>\n",
       "      <th>apartment_fund_sqm</th>\n",
       "    </tr>\n",
       "  </thead>\n",
       "  <tbody>\n",
       "    <tr>\n",
       "      <th>0</th>\n",
       "      <td>2011-08-20</td>\n",
       "      <td>43</td>\n",
       "      <td>27.0</td>\n",
       "      <td>4.0</td>\n",
       "      <td>NaN</td>\n",
       "      <td>NaN</td>\n",
       "      <td>NaN</td>\n",
       "      <td>NaN</td>\n",
       "      <td>NaN</td>\n",
       "      <td>NaN</td>\n",
       "      <td>...</td>\n",
       "      <td>271.0</td>\n",
       "      <td>6943.0</td>\n",
       "      <td>565.0</td>\n",
       "      <td>0.45356</td>\n",
       "      <td>1240.0</td>\n",
       "      <td>269768.0</td>\n",
       "      <td>22.37</td>\n",
       "      <td>64.12</td>\n",
       "      <td>23587.0</td>\n",
       "      <td>230310.0</td>\n",
       "    </tr>\n",
       "    <tr>\n",
       "      <th>1</th>\n",
       "      <td>2011-08-23</td>\n",
       "      <td>34</td>\n",
       "      <td>19.0</td>\n",
       "      <td>3.0</td>\n",
       "      <td>NaN</td>\n",
       "      <td>NaN</td>\n",
       "      <td>NaN</td>\n",
       "      <td>NaN</td>\n",
       "      <td>NaN</td>\n",
       "      <td>NaN</td>\n",
       "      <td>...</td>\n",
       "      <td>271.0</td>\n",
       "      <td>6943.0</td>\n",
       "      <td>565.0</td>\n",
       "      <td>0.45356</td>\n",
       "      <td>1240.0</td>\n",
       "      <td>269768.0</td>\n",
       "      <td>22.37</td>\n",
       "      <td>64.12</td>\n",
       "      <td>23587.0</td>\n",
       "      <td>230310.0</td>\n",
       "    </tr>\n",
       "    <tr>\n",
       "      <th>2</th>\n",
       "      <td>2011-08-27</td>\n",
       "      <td>43</td>\n",
       "      <td>29.0</td>\n",
       "      <td>2.0</td>\n",
       "      <td>NaN</td>\n",
       "      <td>NaN</td>\n",
       "      <td>NaN</td>\n",
       "      <td>NaN</td>\n",
       "      <td>NaN</td>\n",
       "      <td>NaN</td>\n",
       "      <td>...</td>\n",
       "      <td>271.0</td>\n",
       "      <td>6943.0</td>\n",
       "      <td>565.0</td>\n",
       "      <td>0.45356</td>\n",
       "      <td>1240.0</td>\n",
       "      <td>269768.0</td>\n",
       "      <td>22.37</td>\n",
       "      <td>64.12</td>\n",
       "      <td>23587.0</td>\n",
       "      <td>230310.0</td>\n",
       "    </tr>\n",
       "    <tr>\n",
       "      <th>3</th>\n",
       "      <td>2011-09-01</td>\n",
       "      <td>89</td>\n",
       "      <td>50.0</td>\n",
       "      <td>9.0</td>\n",
       "      <td>NaN</td>\n",
       "      <td>NaN</td>\n",
       "      <td>NaN</td>\n",
       "      <td>NaN</td>\n",
       "      <td>NaN</td>\n",
       "      <td>NaN</td>\n",
       "      <td>...</td>\n",
       "      <td>271.0</td>\n",
       "      <td>6943.0</td>\n",
       "      <td>565.0</td>\n",
       "      <td>0.45356</td>\n",
       "      <td>1240.0</td>\n",
       "      <td>269768.0</td>\n",
       "      <td>22.37</td>\n",
       "      <td>64.12</td>\n",
       "      <td>23587.0</td>\n",
       "      <td>230310.0</td>\n",
       "    </tr>\n",
       "    <tr>\n",
       "      <th>4</th>\n",
       "      <td>2011-09-05</td>\n",
       "      <td>77</td>\n",
       "      <td>77.0</td>\n",
       "      <td>4.0</td>\n",
       "      <td>NaN</td>\n",
       "      <td>NaN</td>\n",
       "      <td>NaN</td>\n",
       "      <td>NaN</td>\n",
       "      <td>NaN</td>\n",
       "      <td>NaN</td>\n",
       "      <td>...</td>\n",
       "      <td>271.0</td>\n",
       "      <td>6943.0</td>\n",
       "      <td>565.0</td>\n",
       "      <td>0.45356</td>\n",
       "      <td>1240.0</td>\n",
       "      <td>269768.0</td>\n",
       "      <td>22.37</td>\n",
       "      <td>64.12</td>\n",
       "      <td>23587.0</td>\n",
       "      <td>230310.0</td>\n",
       "    </tr>\n",
       "    <tr>\n",
       "      <th>...</th>\n",
       "      <td>...</td>\n",
       "      <td>...</td>\n",
       "      <td>...</td>\n",
       "      <td>...</td>\n",
       "      <td>...</td>\n",
       "      <td>...</td>\n",
       "      <td>...</td>\n",
       "      <td>...</td>\n",
       "      <td>...</td>\n",
       "      <td>...</td>\n",
       "      <td>...</td>\n",
       "      <td>...</td>\n",
       "      <td>...</td>\n",
       "      <td>...</td>\n",
       "      <td>...</td>\n",
       "      <td>...</td>\n",
       "      <td>...</td>\n",
       "      <td>...</td>\n",
       "      <td>...</td>\n",
       "      <td>...</td>\n",
       "      <td>...</td>\n",
       "    </tr>\n",
       "    <tr>\n",
       "      <th>30466</th>\n",
       "      <td>2015-06-30</td>\n",
       "      <td>44</td>\n",
       "      <td>27.0</td>\n",
       "      <td>7.0</td>\n",
       "      <td>9.0</td>\n",
       "      <td>1.0</td>\n",
       "      <td>1975.0</td>\n",
       "      <td>2.0</td>\n",
       "      <td>6.0</td>\n",
       "      <td>3.0</td>\n",
       "      <td>...</td>\n",
       "      <td>NaN</td>\n",
       "      <td>10805.0</td>\n",
       "      <td>NaN</td>\n",
       "      <td>0.45888</td>\n",
       "      <td>NaN</td>\n",
       "      <td>463938.0</td>\n",
       "      <td>NaN</td>\n",
       "      <td>NaN</td>\n",
       "      <td>NaN</td>\n",
       "      <td>234576.9</td>\n",
       "    </tr>\n",
       "    <tr>\n",
       "      <th>30467</th>\n",
       "      <td>2015-06-30</td>\n",
       "      <td>86</td>\n",
       "      <td>59.0</td>\n",
       "      <td>3.0</td>\n",
       "      <td>9.0</td>\n",
       "      <td>2.0</td>\n",
       "      <td>1935.0</td>\n",
       "      <td>4.0</td>\n",
       "      <td>10.0</td>\n",
       "      <td>3.0</td>\n",
       "      <td>...</td>\n",
       "      <td>NaN</td>\n",
       "      <td>10805.0</td>\n",
       "      <td>NaN</td>\n",
       "      <td>0.45888</td>\n",
       "      <td>NaN</td>\n",
       "      <td>463938.0</td>\n",
       "      <td>NaN</td>\n",
       "      <td>NaN</td>\n",
       "      <td>NaN</td>\n",
       "      <td>234576.9</td>\n",
       "    </tr>\n",
       "    <tr>\n",
       "      <th>30468</th>\n",
       "      <td>2015-06-30</td>\n",
       "      <td>45</td>\n",
       "      <td>NaN</td>\n",
       "      <td>10.0</td>\n",
       "      <td>20.0</td>\n",
       "      <td>1.0</td>\n",
       "      <td>NaN</td>\n",
       "      <td>1.0</td>\n",
       "      <td>1.0</td>\n",
       "      <td>1.0</td>\n",
       "      <td>...</td>\n",
       "      <td>NaN</td>\n",
       "      <td>10805.0</td>\n",
       "      <td>NaN</td>\n",
       "      <td>0.45888</td>\n",
       "      <td>NaN</td>\n",
       "      <td>463938.0</td>\n",
       "      <td>NaN</td>\n",
       "      <td>NaN</td>\n",
       "      <td>NaN</td>\n",
       "      <td>234576.9</td>\n",
       "    </tr>\n",
       "    <tr>\n",
       "      <th>30469</th>\n",
       "      <td>2015-06-30</td>\n",
       "      <td>64</td>\n",
       "      <td>32.0</td>\n",
       "      <td>5.0</td>\n",
       "      <td>15.0</td>\n",
       "      <td>1.0</td>\n",
       "      <td>2003.0</td>\n",
       "      <td>2.0</td>\n",
       "      <td>11.0</td>\n",
       "      <td>2.0</td>\n",
       "      <td>...</td>\n",
       "      <td>NaN</td>\n",
       "      <td>10805.0</td>\n",
       "      <td>NaN</td>\n",
       "      <td>0.45888</td>\n",
       "      <td>NaN</td>\n",
       "      <td>463938.0</td>\n",
       "      <td>NaN</td>\n",
       "      <td>NaN</td>\n",
       "      <td>NaN</td>\n",
       "      <td>234576.9</td>\n",
       "    </tr>\n",
       "    <tr>\n",
       "      <th>30470</th>\n",
       "      <td>2015-06-30</td>\n",
       "      <td>43</td>\n",
       "      <td>28.0</td>\n",
       "      <td>1.0</td>\n",
       "      <td>9.0</td>\n",
       "      <td>1.0</td>\n",
       "      <td>1968.0</td>\n",
       "      <td>2.0</td>\n",
       "      <td>6.0</td>\n",
       "      <td>2.0</td>\n",
       "      <td>...</td>\n",
       "      <td>NaN</td>\n",
       "      <td>10805.0</td>\n",
       "      <td>NaN</td>\n",
       "      <td>0.45888</td>\n",
       "      <td>NaN</td>\n",
       "      <td>463938.0</td>\n",
       "      <td>NaN</td>\n",
       "      <td>NaN</td>\n",
       "      <td>NaN</td>\n",
       "      <td>234576.9</td>\n",
       "    </tr>\n",
       "  </tbody>\n",
       "</table>\n",
       "<p>30471 rows × 390 columns</p>\n",
       "</div>"
      ],
      "text/plain": [
       "        timestamp  full_sq  life_sq  floor  max_floor  material  build_year  \\\n",
       "0      2011-08-20       43     27.0    4.0        NaN       NaN         NaN   \n",
       "1      2011-08-23       34     19.0    3.0        NaN       NaN         NaN   \n",
       "2      2011-08-27       43     29.0    2.0        NaN       NaN         NaN   \n",
       "3      2011-09-01       89     50.0    9.0        NaN       NaN         NaN   \n",
       "4      2011-09-05       77     77.0    4.0        NaN       NaN         NaN   \n",
       "...           ...      ...      ...    ...        ...       ...         ...   \n",
       "30466  2015-06-30       44     27.0    7.0        9.0       1.0      1975.0   \n",
       "30467  2015-06-30       86     59.0    3.0        9.0       2.0      1935.0   \n",
       "30468  2015-06-30       45      NaN   10.0       20.0       1.0         NaN   \n",
       "30469  2015-06-30       64     32.0    5.0       15.0       1.0      2003.0   \n",
       "30470  2015-06-30       43     28.0    1.0        9.0       1.0      1968.0   \n",
       "\n",
       "       num_room  kitch_sq  state  ... provision_retail_space_modern_sqm  \\\n",
       "0           NaN       NaN    NaN  ...                             271.0   \n",
       "1           NaN       NaN    NaN  ...                             271.0   \n",
       "2           NaN       NaN    NaN  ...                             271.0   \n",
       "3           NaN       NaN    NaN  ...                             271.0   \n",
       "4           NaN       NaN    NaN  ...                             271.0   \n",
       "...         ...       ...    ...  ...                               ...   \n",
       "30466       2.0       6.0    3.0  ...                               NaN   \n",
       "30467       4.0      10.0    3.0  ...                               NaN   \n",
       "30468       1.0       1.0    1.0  ...                               NaN   \n",
       "30469       2.0      11.0    2.0  ...                               NaN   \n",
       "30470       2.0       6.0    2.0  ...                               NaN   \n",
       "\n",
       "      turnover_catering_per_cap  theaters_viewers_per_1000_cap  \\\n",
       "0                        6943.0                          565.0   \n",
       "1                        6943.0                          565.0   \n",
       "2                        6943.0                          565.0   \n",
       "3                        6943.0                          565.0   \n",
       "4                        6943.0                          565.0   \n",
       "...                         ...                            ...   \n",
       "30466                   10805.0                            NaN   \n",
       "30467                   10805.0                            NaN   \n",
       "30468                   10805.0                            NaN   \n",
       "30469                   10805.0                            NaN   \n",
       "30470                   10805.0                            NaN   \n",
       "\n",
       "       seats_theather_rfmin_per_100000_cap  museum_visitis_per_100_cap  \\\n",
       "0                                  0.45356                      1240.0   \n",
       "1                                  0.45356                      1240.0   \n",
       "2                                  0.45356                      1240.0   \n",
       "3                                  0.45356                      1240.0   \n",
       "4                                  0.45356                      1240.0   \n",
       "...                                    ...                         ...   \n",
       "30466                              0.45888                         NaN   \n",
       "30467                              0.45888                         NaN   \n",
       "30468                              0.45888                         NaN   \n",
       "30469                              0.45888                         NaN   \n",
       "30470                              0.45888                         NaN   \n",
       "\n",
       "       bandwidth_sports  population_reg_sports_share  \\\n",
       "0              269768.0                        22.37   \n",
       "1              269768.0                        22.37   \n",
       "2              269768.0                        22.37   \n",
       "3              269768.0                        22.37   \n",
       "4              269768.0                        22.37   \n",
       "...                 ...                          ...   \n",
       "30466          463938.0                          NaN   \n",
       "30467          463938.0                          NaN   \n",
       "30468          463938.0                          NaN   \n",
       "30469          463938.0                          NaN   \n",
       "30470          463938.0                          NaN   \n",
       "\n",
       "       students_reg_sports_share  apartment_build  apartment_fund_sqm  \n",
       "0                          64.12          23587.0            230310.0  \n",
       "1                          64.12          23587.0            230310.0  \n",
       "2                          64.12          23587.0            230310.0  \n",
       "3                          64.12          23587.0            230310.0  \n",
       "4                          64.12          23587.0            230310.0  \n",
       "...                          ...              ...                 ...  \n",
       "30466                        NaN              NaN            234576.9  \n",
       "30467                        NaN              NaN            234576.9  \n",
       "30468                        NaN              NaN            234576.9  \n",
       "30469                        NaN              NaN            234576.9  \n",
       "30470                        NaN              NaN            234576.9  \n",
       "\n",
       "[30471 rows x 390 columns]"
      ]
     },
     "execution_count": 3,
     "metadata": {},
     "output_type": "execute_result"
    }
   ],
   "source": [
    "### BEGIN Solution (do not delete this comment)\n",
    "df = pd.read_csv(\"data_fs.csv\", sep=',')\n",
    "df\n",
    "### END Solution (do not delete this comment)"
   ]
  },
  {
   "cell_type": "markdown",
   "id": "93109f47",
   "metadata": {
    "hidden": true,
    "id": "objective-working"
   },
   "source": [
    "**1.1.2) preprocess the dataset by dropping the ```timestamp``` feature, filling ```NaN```s with 0, converting the categorical variables into dummy variables**"
   ]
  },
  {
   "cell_type": "code",
   "execution_count": 4,
   "id": "aedc7ab3",
   "metadata": {
    "ExecuteTime": {
     "end_time": "2022-03-06T13:01:20.233721Z",
     "start_time": "2022-03-06T13:01:19.949795Z"
    },
    "hidden": true,
    "id": "another-keyboard"
   },
   "outputs": [
    {
     "data": {
      "text/html": [
       "<div>\n",
       "<style scoped>\n",
       "    .dataframe tbody tr th:only-of-type {\n",
       "        vertical-align: middle;\n",
       "    }\n",
       "\n",
       "    .dataframe tbody tr th {\n",
       "        vertical-align: top;\n",
       "    }\n",
       "\n",
       "    .dataframe thead th {\n",
       "        text-align: right;\n",
       "    }\n",
       "</style>\n",
       "<table border=\"1\" class=\"dataframe\">\n",
       "  <thead>\n",
       "    <tr style=\"text-align: right;\">\n",
       "      <th></th>\n",
       "      <th>full_sq</th>\n",
       "      <th>life_sq</th>\n",
       "      <th>floor</th>\n",
       "      <th>max_floor</th>\n",
       "      <th>material</th>\n",
       "      <th>build_year</th>\n",
       "      <th>num_room</th>\n",
       "      <th>kitch_sq</th>\n",
       "      <th>state</th>\n",
       "      <th>area_m</th>\n",
       "      <th>...</th>\n",
       "      <th>child_on_acc_pre_school_3,013</th>\n",
       "      <th>child_on_acc_pre_school_7,311</th>\n",
       "      <th>modern_education_share_0</th>\n",
       "      <th>modern_education_share_90,92</th>\n",
       "      <th>modern_education_share_93,08</th>\n",
       "      <th>modern_education_share_95,4918</th>\n",
       "      <th>old_education_build_share_0</th>\n",
       "      <th>old_education_build_share_23,14</th>\n",
       "      <th>old_education_build_share_25,47</th>\n",
       "      <th>old_education_build_share_8,2517</th>\n",
       "    </tr>\n",
       "  </thead>\n",
       "  <tbody>\n",
       "    <tr>\n",
       "      <th>0</th>\n",
       "      <td>43</td>\n",
       "      <td>27.0</td>\n",
       "      <td>4.0</td>\n",
       "      <td>0.0</td>\n",
       "      <td>0.0</td>\n",
       "      <td>0.0</td>\n",
       "      <td>0.0</td>\n",
       "      <td>0.0</td>\n",
       "      <td>0.0</td>\n",
       "      <td>6.407578e+06</td>\n",
       "      <td>...</td>\n",
       "      <td>0</td>\n",
       "      <td>0</td>\n",
       "      <td>1</td>\n",
       "      <td>0</td>\n",
       "      <td>0</td>\n",
       "      <td>0</td>\n",
       "      <td>1</td>\n",
       "      <td>0</td>\n",
       "      <td>0</td>\n",
       "      <td>0</td>\n",
       "    </tr>\n",
       "    <tr>\n",
       "      <th>1</th>\n",
       "      <td>34</td>\n",
       "      <td>19.0</td>\n",
       "      <td>3.0</td>\n",
       "      <td>0.0</td>\n",
       "      <td>0.0</td>\n",
       "      <td>0.0</td>\n",
       "      <td>0.0</td>\n",
       "      <td>0.0</td>\n",
       "      <td>0.0</td>\n",
       "      <td>9.589337e+06</td>\n",
       "      <td>...</td>\n",
       "      <td>0</td>\n",
       "      <td>0</td>\n",
       "      <td>1</td>\n",
       "      <td>0</td>\n",
       "      <td>0</td>\n",
       "      <td>0</td>\n",
       "      <td>1</td>\n",
       "      <td>0</td>\n",
       "      <td>0</td>\n",
       "      <td>0</td>\n",
       "    </tr>\n",
       "    <tr>\n",
       "      <th>2</th>\n",
       "      <td>43</td>\n",
       "      <td>29.0</td>\n",
       "      <td>2.0</td>\n",
       "      <td>0.0</td>\n",
       "      <td>0.0</td>\n",
       "      <td>0.0</td>\n",
       "      <td>0.0</td>\n",
       "      <td>0.0</td>\n",
       "      <td>0.0</td>\n",
       "      <td>4.808270e+06</td>\n",
       "      <td>...</td>\n",
       "      <td>0</td>\n",
       "      <td>0</td>\n",
       "      <td>1</td>\n",
       "      <td>0</td>\n",
       "      <td>0</td>\n",
       "      <td>0</td>\n",
       "      <td>1</td>\n",
       "      <td>0</td>\n",
       "      <td>0</td>\n",
       "      <td>0</td>\n",
       "    </tr>\n",
       "    <tr>\n",
       "      <th>3</th>\n",
       "      <td>89</td>\n",
       "      <td>50.0</td>\n",
       "      <td>9.0</td>\n",
       "      <td>0.0</td>\n",
       "      <td>0.0</td>\n",
       "      <td>0.0</td>\n",
       "      <td>0.0</td>\n",
       "      <td>0.0</td>\n",
       "      <td>0.0</td>\n",
       "      <td>1.258354e+07</td>\n",
       "      <td>...</td>\n",
       "      <td>0</td>\n",
       "      <td>0</td>\n",
       "      <td>1</td>\n",
       "      <td>0</td>\n",
       "      <td>0</td>\n",
       "      <td>0</td>\n",
       "      <td>1</td>\n",
       "      <td>0</td>\n",
       "      <td>0</td>\n",
       "      <td>0</td>\n",
       "    </tr>\n",
       "    <tr>\n",
       "      <th>4</th>\n",
       "      <td>77</td>\n",
       "      <td>77.0</td>\n",
       "      <td>4.0</td>\n",
       "      <td>0.0</td>\n",
       "      <td>0.0</td>\n",
       "      <td>0.0</td>\n",
       "      <td>0.0</td>\n",
       "      <td>0.0</td>\n",
       "      <td>0.0</td>\n",
       "      <td>8.398461e+06</td>\n",
       "      <td>...</td>\n",
       "      <td>0</td>\n",
       "      <td>0</td>\n",
       "      <td>1</td>\n",
       "      <td>0</td>\n",
       "      <td>0</td>\n",
       "      <td>0</td>\n",
       "      <td>1</td>\n",
       "      <td>0</td>\n",
       "      <td>0</td>\n",
       "      <td>0</td>\n",
       "    </tr>\n",
       "    <tr>\n",
       "      <th>...</th>\n",
       "      <td>...</td>\n",
       "      <td>...</td>\n",
       "      <td>...</td>\n",
       "      <td>...</td>\n",
       "      <td>...</td>\n",
       "      <td>...</td>\n",
       "      <td>...</td>\n",
       "      <td>...</td>\n",
       "      <td>...</td>\n",
       "      <td>...</td>\n",
       "      <td>...</td>\n",
       "      <td>...</td>\n",
       "      <td>...</td>\n",
       "      <td>...</td>\n",
       "      <td>...</td>\n",
       "      <td>...</td>\n",
       "      <td>...</td>\n",
       "      <td>...</td>\n",
       "      <td>...</td>\n",
       "      <td>...</td>\n",
       "      <td>...</td>\n",
       "    </tr>\n",
       "    <tr>\n",
       "      <th>30466</th>\n",
       "      <td>44</td>\n",
       "      <td>27.0</td>\n",
       "      <td>7.0</td>\n",
       "      <td>9.0</td>\n",
       "      <td>1.0</td>\n",
       "      <td>1975.0</td>\n",
       "      <td>2.0</td>\n",
       "      <td>6.0</td>\n",
       "      <td>3.0</td>\n",
       "      <td>1.005305e+07</td>\n",
       "      <td>...</td>\n",
       "      <td>0</td>\n",
       "      <td>0</td>\n",
       "      <td>0</td>\n",
       "      <td>0</td>\n",
       "      <td>0</td>\n",
       "      <td>1</td>\n",
       "      <td>0</td>\n",
       "      <td>0</td>\n",
       "      <td>0</td>\n",
       "      <td>1</td>\n",
       "    </tr>\n",
       "    <tr>\n",
       "      <th>30467</th>\n",
       "      <td>86</td>\n",
       "      <td>59.0</td>\n",
       "      <td>3.0</td>\n",
       "      <td>9.0</td>\n",
       "      <td>2.0</td>\n",
       "      <td>1935.0</td>\n",
       "      <td>4.0</td>\n",
       "      <td>10.0</td>\n",
       "      <td>3.0</td>\n",
       "      <td>7.307411e+06</td>\n",
       "      <td>...</td>\n",
       "      <td>0</td>\n",
       "      <td>0</td>\n",
       "      <td>0</td>\n",
       "      <td>0</td>\n",
       "      <td>0</td>\n",
       "      <td>1</td>\n",
       "      <td>0</td>\n",
       "      <td>0</td>\n",
       "      <td>0</td>\n",
       "      <td>1</td>\n",
       "    </tr>\n",
       "    <tr>\n",
       "      <th>30468</th>\n",
       "      <td>45</td>\n",
       "      <td>0.0</td>\n",
       "      <td>10.0</td>\n",
       "      <td>20.0</td>\n",
       "      <td>1.0</td>\n",
       "      <td>0.0</td>\n",
       "      <td>1.0</td>\n",
       "      <td>1.0</td>\n",
       "      <td>1.0</td>\n",
       "      <td>2.553630e+07</td>\n",
       "      <td>...</td>\n",
       "      <td>0</td>\n",
       "      <td>0</td>\n",
       "      <td>0</td>\n",
       "      <td>0</td>\n",
       "      <td>0</td>\n",
       "      <td>1</td>\n",
       "      <td>0</td>\n",
       "      <td>0</td>\n",
       "      <td>0</td>\n",
       "      <td>1</td>\n",
       "    </tr>\n",
       "    <tr>\n",
       "      <th>30469</th>\n",
       "      <td>64</td>\n",
       "      <td>32.0</td>\n",
       "      <td>5.0</td>\n",
       "      <td>15.0</td>\n",
       "      <td>1.0</td>\n",
       "      <td>2003.0</td>\n",
       "      <td>2.0</td>\n",
       "      <td>11.0</td>\n",
       "      <td>2.0</td>\n",
       "      <td>6.050065e+06</td>\n",
       "      <td>...</td>\n",
       "      <td>0</td>\n",
       "      <td>0</td>\n",
       "      <td>0</td>\n",
       "      <td>0</td>\n",
       "      <td>0</td>\n",
       "      <td>1</td>\n",
       "      <td>0</td>\n",
       "      <td>0</td>\n",
       "      <td>0</td>\n",
       "      <td>1</td>\n",
       "    </tr>\n",
       "    <tr>\n",
       "      <th>30470</th>\n",
       "      <td>43</td>\n",
       "      <td>28.0</td>\n",
       "      <td>1.0</td>\n",
       "      <td>9.0</td>\n",
       "      <td>1.0</td>\n",
       "      <td>1968.0</td>\n",
       "      <td>2.0</td>\n",
       "      <td>6.0</td>\n",
       "      <td>2.0</td>\n",
       "      <td>4.395333e+06</td>\n",
       "      <td>...</td>\n",
       "      <td>0</td>\n",
       "      <td>0</td>\n",
       "      <td>0</td>\n",
       "      <td>0</td>\n",
       "      <td>0</td>\n",
       "      <td>1</td>\n",
       "      <td>0</td>\n",
       "      <td>0</td>\n",
       "      <td>0</td>\n",
       "      <td>1</td>\n",
       "    </tr>\n",
       "  </tbody>\n",
       "</table>\n",
       "<p>30471 rows × 561 columns</p>\n",
       "</div>"
      ],
      "text/plain": [
       "       full_sq  life_sq  floor  max_floor  material  build_year  num_room  \\\n",
       "0           43     27.0    4.0        0.0       0.0         0.0       0.0   \n",
       "1           34     19.0    3.0        0.0       0.0         0.0       0.0   \n",
       "2           43     29.0    2.0        0.0       0.0         0.0       0.0   \n",
       "3           89     50.0    9.0        0.0       0.0         0.0       0.0   \n",
       "4           77     77.0    4.0        0.0       0.0         0.0       0.0   \n",
       "...        ...      ...    ...        ...       ...         ...       ...   \n",
       "30466       44     27.0    7.0        9.0       1.0      1975.0       2.0   \n",
       "30467       86     59.0    3.0        9.0       2.0      1935.0       4.0   \n",
       "30468       45      0.0   10.0       20.0       1.0         0.0       1.0   \n",
       "30469       64     32.0    5.0       15.0       1.0      2003.0       2.0   \n",
       "30470       43     28.0    1.0        9.0       1.0      1968.0       2.0   \n",
       "\n",
       "       kitch_sq  state        area_m  ...  child_on_acc_pre_school_3,013  \\\n",
       "0           0.0    0.0  6.407578e+06  ...                              0   \n",
       "1           0.0    0.0  9.589337e+06  ...                              0   \n",
       "2           0.0    0.0  4.808270e+06  ...                              0   \n",
       "3           0.0    0.0  1.258354e+07  ...                              0   \n",
       "4           0.0    0.0  8.398461e+06  ...                              0   \n",
       "...         ...    ...           ...  ...                            ...   \n",
       "30466       6.0    3.0  1.005305e+07  ...                              0   \n",
       "30467      10.0    3.0  7.307411e+06  ...                              0   \n",
       "30468       1.0    1.0  2.553630e+07  ...                              0   \n",
       "30469      11.0    2.0  6.050065e+06  ...                              0   \n",
       "30470       6.0    2.0  4.395333e+06  ...                              0   \n",
       "\n",
       "       child_on_acc_pre_school_7,311  modern_education_share_0  \\\n",
       "0                                  0                         1   \n",
       "1                                  0                         1   \n",
       "2                                  0                         1   \n",
       "3                                  0                         1   \n",
       "4                                  0                         1   \n",
       "...                              ...                       ...   \n",
       "30466                              0                         0   \n",
       "30467                              0                         0   \n",
       "30468                              0                         0   \n",
       "30469                              0                         0   \n",
       "30470                              0                         0   \n",
       "\n",
       "       modern_education_share_90,92  modern_education_share_93,08  \\\n",
       "0                                 0                             0   \n",
       "1                                 0                             0   \n",
       "2                                 0                             0   \n",
       "3                                 0                             0   \n",
       "4                                 0                             0   \n",
       "...                             ...                           ...   \n",
       "30466                             0                             0   \n",
       "30467                             0                             0   \n",
       "30468                             0                             0   \n",
       "30469                             0                             0   \n",
       "30470                             0                             0   \n",
       "\n",
       "       modern_education_share_95,4918  old_education_build_share_0  \\\n",
       "0                                   0                            1   \n",
       "1                                   0                            1   \n",
       "2                                   0                            1   \n",
       "3                                   0                            1   \n",
       "4                                   0                            1   \n",
       "...                               ...                          ...   \n",
       "30466                               1                            0   \n",
       "30467                               1                            0   \n",
       "30468                               1                            0   \n",
       "30469                               1                            0   \n",
       "30470                               1                            0   \n",
       "\n",
       "       old_education_build_share_23,14  old_education_build_share_25,47  \\\n",
       "0                                    0                                0   \n",
       "1                                    0                                0   \n",
       "2                                    0                                0   \n",
       "3                                    0                                0   \n",
       "4                                    0                                0   \n",
       "...                                ...                              ...   \n",
       "30466                                0                                0   \n",
       "30467                                0                                0   \n",
       "30468                                0                                0   \n",
       "30469                                0                                0   \n",
       "30470                                0                                0   \n",
       "\n",
       "       old_education_build_share_8,2517  \n",
       "0                                     0  \n",
       "1                                     0  \n",
       "2                                     0  \n",
       "3                                     0  \n",
       "4                                     0  \n",
       "...                                 ...  \n",
       "30466                                 1  \n",
       "30467                                 1  \n",
       "30468                                 1  \n",
       "30469                                 1  \n",
       "30470                                 1  \n",
       "\n",
       "[30471 rows x 561 columns]"
      ]
     },
     "execution_count": 4,
     "metadata": {},
     "output_type": "execute_result"
    }
   ],
   "source": [
    "### BEGIN Solution (do not delete this comment)\n",
    "df0 = df.drop(columns='timestamp')\n",
    "df1 = df0.fillna(value=0)\n",
    "df2 = pd.get_dummies(df1)\n",
    "df2\n",
    "### END Solution (do not delete this comment)"
   ]
  },
  {
   "cell_type": "markdown",
   "id": "204b26ce",
   "metadata": {
    "hidden": true,
    "id": "dress-shanghai"
   },
   "source": [
    "**1.1.3) define ```x_train```, ```x_test```, ```y_train```, ```y_test```. The train-test split should be 70:30**\n"
   ]
  },
  {
   "cell_type": "code",
   "execution_count": 5,
   "id": "2205b9dc",
   "metadata": {
    "ExecuteTime": {
     "end_time": "2022-03-06T13:01:20.620730Z",
     "start_time": "2022-03-06T13:01:20.371716Z"
    },
    "hidden": true,
    "id": "outdoor-runner"
   },
   "outputs": [],
   "source": [
    "### BEGIN Solution (do not delete this comment)\n",
    "y = df2.price_doc\n",
    "X = df2.drop(columns='price_doc')\n",
    "X_train, X_test, y_train, y_test = train_test_split(X,y,train_size=0.7,random_state=0xC0FFEE)\n",
    "### END Solution (do not delete this comment)"
   ]
  },
  {
   "cell_type": "markdown",
   "id": "599bbda5",
   "metadata": {
    "hidden": true,
    "id": "engaging-ready"
   },
   "source": [
    "\n",
    "**1.1.4) plot the histogram of y values. Note that the mean of these values is very high and the distribution of the values is far from normal. Create ```y_train_log``` and ```y_test_log``` by applying $log_{y}$. Now plot the new histogram of the obtained values. You should use these log values for the next subtasks.**   "
   ]
  },
  {
   "cell_type": "code",
   "execution_count": 6,
   "id": "15f20b45",
   "metadata": {
    "ExecuteTime": {
     "end_time": "2022-03-06T13:01:21.401446Z",
     "start_time": "2022-03-06T13:01:20.823620Z"
    },
    "hidden": true
   },
   "outputs": [
    {
     "data": {
      "image/png": "[encoded data removed]",
      "text/plain": [
       "<Figure size 432x288 with 1 Axes>"
      ]
     },
     "metadata": {
      "needs_background": "light"
     },
     "output_type": "display_data"
    },
    {
     "data": {
      "image/png": "[encoded data removed]",
      "text/plain": [
       "<Figure size 432x288 with 1 Axes>"
      ]
     },
     "metadata": {
      "needs_background": "light"
     },
     "output_type": "display_data"
    }
   ],
   "source": [
    "### BEGIN Solution (do not delete this comment)\n",
    "y_train_log = np.log(y_train)\n",
    "y_test_log = np.log(y_test)\n",
    "for y in [y_train,y_train_log]:\n",
    "    plt.hist(y,bins=100)\n",
    "    plt.title('price_doc')\n",
    "    plt.grid()\n",
    "    plt.show()\n",
    "### END Solution (do not delete this comment)"
   ]
  },
  {
   "cell_type": "markdown",
   "id": "38af70b5",
   "metadata": {
    "hidden": true,
    "id": "noticed-drunk"
   },
   "source": [
    "**1.1.5) print the number of features in the created ```x_train``` and ```x_test``` datasets. Answer the question: do you think all of these features are relevant for the adequate price prediction?**\n"
   ]
  },
  {
   "cell_type": "code",
   "execution_count": 7,
   "id": "555ce1d8",
   "metadata": {
    "ExecuteTime": {
     "end_time": "2022-03-06T13:01:21.573401Z",
     "start_time": "2022-03-06T13:01:21.561385Z"
    },
    "colab": {
     "base_uri": "https://localhost:8080/"
    },
    "hidden": true,
    "id": "strategic-spending",
    "outputId": "60227791-3f62-4d31-cbcd-a5a8aada6763"
   },
   "outputs": [
    {
     "name": "stdout",
     "output_type": "stream",
     "text": [
      "number of features  in X_train is 560\n",
      "number of features  in X_test is 560\n"
     ]
    }
   ],
   "source": [
    "### BEGIN Solution (do not delete this comment)\n",
    "print(f\"number of features  in X_train is {X_train.shape[1]}\")\n",
    "print(f\"number of features  in X_test is {X_test.shape[1]}\")\n",
    "### END Solution (do not delete this comment)"
   ]
  },
  {
   "cell_type": "markdown",
   "id": "7c798e41",
   "metadata": {
    "hidden": true,
    "id": "restricted-anchor"
   },
   "source": [
    "**Your text answer (do not delete this comment)**:\\\n",
    "I don't think all of this features are relevant for the adequate price prediction"
   ]
  },
  {
   "cell_type": "markdown",
   "id": "b5c8a1c8",
   "metadata": {
    "hidden": true,
    "id": "endangered-mineral"
   },
   "source": [
    "**1.1.6) use random forest to find the importance of the features. Plot the histogram of the importances.**"
   ]
  },
  {
   "cell_type": "code",
   "execution_count": 8,
   "id": "c62d259c",
   "metadata": {
    "ExecuteTime": {
     "end_time": "2022-03-06T13:02:53.384454Z",
     "start_time": "2022-03-06T13:01:22.207879Z"
    },
    "hidden": true
   },
   "outputs": [
    {
     "data": {
      "image/png": "[encoded data removed]",
      "text/plain": [
       "<Figure size 432x288 with 1 Axes>"
      ]
     },
     "metadata": {
      "needs_background": "light"
     },
     "output_type": "display_data"
    }
   ],
   "source": [
    "### BEGIN Solution (do not delete this comment)\n",
    "from sklearn.ensemble import RandomForestRegressor\n",
    "forest_reg = RandomForestRegressor(random_state=0xC0FFEE, n_jobs =-1)\n",
    "forest_reg.fit(X_train,y_train_log)\n",
    "importances = forest_reg.feature_importances_\n",
    "\n",
    "plt.hist(importances,bins=100)\n",
    "plt.show()\n",
    "### END Solution (do not delete this comment)"
   ]
  },
  {
   "cell_type": "markdown",
   "id": "9c703a23",
   "metadata": {
    "hidden": true,
    "id": "ethical-firmware"
   },
   "source": [
    "**1.1.7) print the names of the 20 most important features**"
   ]
  },
  {
   "cell_type": "code",
   "execution_count": 9,
   "id": "f15e6065",
   "metadata": {
    "ExecuteTime": {
     "end_time": "2022-03-06T13:02:53.807098Z",
     "start_time": "2022-03-06T13:02:53.543037Z"
    },
    "colab": {
     "base_uri": "https://localhost:8080/"
    },
    "hidden": true,
    "id": "amazing-marriage",
    "outputId": "53ab5987-aa41-43f6-816e-37580d1cff79"
   },
   "outputs": [
    {
     "name": "stdout",
     "output_type": "stream",
     "text": [
      "['eurrub' 'workplaces_km' 'additional_education_km' 'ttk_km' 'floor'\n",
      " 'big_road1_km' 'micex' 'public_healthcare_km' 'cafe_count_5000'\n",
      " 'exhibition_km' 'brent' 'kindergarten_km' 'micex_cbi_tr' 'metro_km_avto'\n",
      " 'cafe_count_5000_price_2500' 'cafe_count_3000' 'sport_count_3000'\n",
      " 'cafe_count_2000' 'num_room' 'full_sq']\n"
     ]
    },
    {
     "data": {
      "image/png": "[encoded data removed]",
      "text/plain": [
       "<Figure size 1296x720 with 1 Axes>"
      ]
     },
     "metadata": {
      "needs_background": "light"
     },
     "output_type": "display_data"
    }
   ],
   "source": [
    "### BEGIN Solution (do not delete this comment)\n",
    "importance_num = forest_reg.feature_importances_/np.sum(forest_reg.feature_importances_)\n",
    "importance = np.column_stack((importance_num, X_train.columns))\n",
    "importance = importance[np.argsort(importance[:,0])]\n",
    "\n",
    "plt.figure(figsize=(18,10))\n",
    "plt.title(\"{} Feature Importances\".format(type(forest_reg).__name__), fontsize=20)\n",
    "plt.xlabel(\"Relative Importance\", fontsize=20)\n",
    "plt.barh(importance[-20:,1],importance[-20:,0])\n",
    "\n",
    "top20features = importance[-20:,1]\n",
    "print(top20features)\n",
    "### END Solution (do not delete this comment)"
   ]
  },
  {
   "cell_type": "markdown",
   "id": "ea2e000b",
   "metadata": {
    "hidden": true,
    "id": "threaded-ivory"
   },
   "source": [
    "<br>"
   ]
  },
  {
   "cell_type": "markdown",
   "id": "3e385937",
   "metadata": {
    "heading_collapsed": true,
    "id": "little-toddler"
   },
   "source": [
    "### Subproblem 1.2. Training models on the most important features (1 point)"
   ]
  },
  {
   "cell_type": "markdown",
   "id": "af0398d0",
   "metadata": {
    "hidden": true,
    "id": "vietnamese-patrick"
   },
   "source": [
    "In this subproblem, you will train several ML models on the found 20 most important features: train **Linear Regression**,  **Ridge regression**, **Random forest**,  **DecisionTree** and evaluate their performance using the Root Mean Squared Logarithmic Error (RMSLE) on both train/test sets. \n",
    "\n",
    "You will have to repeat the same actions in the next tasks too, so we recommend to implement\n",
    "a dedicated function for comparisons, which\n",
    "1. on input takes a training dataset `(X_train, y_train)` and a test sample `(X_test, y_test)`;\n",
    "2. it trains **all of the listed models** on the `(X_train, y_train)` sample;\n",
    "3. it computes and returns a table with the RMSLE score of each fitted model on the train and test datasets."
   ]
  },
  {
   "cell_type": "markdown",
   "id": "835cd800",
   "metadata": {
    "hidden": true,
    "id": "stupid-principle"
   },
   "source": [
    "**1.2.1) Implement the function described above**"
   ]
  },
  {
   "cell_type": "code",
   "execution_count": 10,
   "id": "cad7c56e",
   "metadata": {
    "ExecuteTime": {
     "end_time": "2022-03-06T13:02:53.980232Z",
     "start_time": "2022-03-06T13:02:53.952121Z"
    },
    "hidden": true,
    "id": "paperback-uniform"
   },
   "outputs": [],
   "source": [
    "### BEGIN Solution (do not delete this comment)\n",
    "from sklearn.linear_model import LinearRegression, Ridge, Lasso\n",
    "from sklearn.ensemble import RandomForestRegressor\n",
    "from sklearn.tree import DecisionTreeRegressor\n",
    "\n",
    "from sklearn.metrics import mean_squared_log_error as msle\n",
    "def comparison(X_train, y_train, X_test, y_test):\n",
    "    LR = LinearRegression()\n",
    "    lasso = Lasso(random_state = 0xC0FFEE)\n",
    "    ridge = Ridge(random_state = 0xC0FFEE)\n",
    "    RFR = RandomForestRegressor(random_state = 0xC0FFEE, n_jobs =-1)\n",
    "    dtree = DecisionTreeRegressor(random_state = 0xC0FFEE)\n",
    "    dictionary = {'Methods': ['Linear Regression','Lasso','Ridge','Dtree','RFR'], 'Train error': [0]*5, 'Test error': [0]*5 }\n",
    "    for i,clf in enumerate([LR,lasso, ridge, dtree, RFR]):\n",
    "        clf.fit(X_train,y_train)\n",
    "        \n",
    "        y_test_pred = clf.predict(X_test)\n",
    "        dictionary['Test error'][i] = msle(y_test,y_test_pred, squared=True)\n",
    "        \n",
    "        y_train_pred = clf.predict(X_train)\n",
    "        dictionary['Train error'][i] = msle(y_train,y_train_pred,squared=True)\n",
    "        \n",
    "    return pd.DataFrame(dictionary)\n",
    "### END Solution (do not delete this comment)"
   ]
  },
  {
   "cell_type": "markdown",
   "id": "506a6c75",
   "metadata": {
    "hidden": true,
    "id": "demographic-honolulu"
   },
   "source": [
    "**1.2.2) Apply the implemented function to our dataset (use only the 20 most important features)**"
   ]
  },
  {
   "cell_type": "code",
   "execution_count": 11,
   "id": "babd9524",
   "metadata": {
    "ExecuteTime": {
     "end_time": "2022-03-06T13:03:00.366302Z",
     "start_time": "2022-03-06T13:02:54.139250Z"
    },
    "hidden": true
   },
   "outputs": [
    {
     "data": {
      "text/html": [
       "<div>\n",
       "<style scoped>\n",
       "    .dataframe tbody tr th:only-of-type {\n",
       "        vertical-align: middle;\n",
       "    }\n",
       "\n",
       "    .dataframe tbody tr th {\n",
       "        vertical-align: top;\n",
       "    }\n",
       "\n",
       "    .dataframe thead th {\n",
       "        text-align: right;\n",
       "    }\n",
       "</style>\n",
       "<table border=\"1\" class=\"dataframe\">\n",
       "  <thead>\n",
       "    <tr style=\"text-align: right;\">\n",
       "      <th></th>\n",
       "      <th>Methods</th>\n",
       "      <th>Train error</th>\n",
       "      <th>Test error</th>\n",
       "    </tr>\n",
       "  </thead>\n",
       "  <tbody>\n",
       "    <tr>\n",
       "      <th>0</th>\n",
       "      <td>Linear Regression</td>\n",
       "      <td>1.030271e-03</td>\n",
       "      <td>0.001089</td>\n",
       "    </tr>\n",
       "    <tr>\n",
       "      <th>1</th>\n",
       "      <td>Lasso</td>\n",
       "      <td>1.201120e-03</td>\n",
       "      <td>0.001240</td>\n",
       "    </tr>\n",
       "    <tr>\n",
       "      <th>2</th>\n",
       "      <td>Ridge</td>\n",
       "      <td>1.030270e-03</td>\n",
       "      <td>0.001089</td>\n",
       "    </tr>\n",
       "    <tr>\n",
       "      <th>3</th>\n",
       "      <td>Dtree</td>\n",
       "      <td>1.360209e-09</td>\n",
       "      <td>0.001748</td>\n",
       "    </tr>\n",
       "    <tr>\n",
       "      <th>4</th>\n",
       "      <td>RFR</td>\n",
       "      <td>1.235163e-04</td>\n",
       "      <td>0.000910</td>\n",
       "    </tr>\n",
       "  </tbody>\n",
       "</table>\n",
       "</div>"
      ],
      "text/plain": [
       "             Methods   Train error  Test error\n",
       "0  Linear Regression  1.030271e-03    0.001089\n",
       "1              Lasso  1.201120e-03    0.001240\n",
       "2              Ridge  1.030270e-03    0.001089\n",
       "3              Dtree  1.360209e-09    0.001748\n",
       "4                RFR  1.235163e-04    0.000910"
      ]
     },
     "execution_count": 11,
     "metadata": {},
     "output_type": "execute_result"
    }
   ],
   "source": [
    "### BEGIN Solution\n",
    "X_train_top20 = X_train.loc[:,top20features]\n",
    "X_test_top20 = X_test.loc[:,top20features]\n",
    "df = comparison(X_train_top20, y_train_log, X_test_top20, y_test_log)\n",
    "df\n",
    "### END Solution"
   ]
  },
  {
   "cell_type": "markdown",
   "id": "4460bd96",
   "metadata": {
    "hidden": true,
    "id": "6lSOGA4-7RSx"
   },
   "source": [
    "<br>"
   ]
  },
  {
   "cell_type": "markdown",
   "id": "3e1d47ec",
   "metadata": {
    "id": "stock-jewel"
   },
   "source": [
    "### Subproblem 1.3. Forward-backward methods (1 point)\n",
    "In the subproblems above, we have relied on the feature importances found by the random forest method. The main goal of this subproblem is to find feature importances by applying the forward-backward methods: the main idea is to add or remove features and compute how this removal influences the value of the loss function or some other criteria.\n",
    "\n",
    "The decision about adding or deleting a feature may be made based on:\n",
    "\n",
    "- AIC\n",
    "- BIC\n",
    "- validation error\n",
    "- Mallows $C_p$\n",
    "- sklearn's `estimator.score()`"
   ]
  },
  {
   "cell_type": "markdown",
   "id": "f8c97919",
   "metadata": {
    "id": "southern-closer"
   },
   "source": [
    "In subtasks, 1.3.1 - 1.3.3, implement the following greedy feature selection algorithm with early stopping using the mean of the RMSLE scores achieved on the 3-fold cross-validation. Please bear in mind that **the lower** RMSLE (`mean_squared_log_error`) is, **the higher the model \"quality\" is** and look up `cross_val_score(...)` peculiarities in [scikit's manual](https://scikit-learn.org/stable/documentation.html) for more information.\n",
    "\n",
    "```python\n",
    "# Initialize with an empty list of features.\n",
    "list_of_best_features = []\n",
    "\n",
    "while round < n_rounds:\n",
    "    round = round + 1\n",
    "    \n",
    "    if no_more_features:\n",
    "        # end loop\n",
    "\n",
    "    # Iterate over currently *unused* features and use $k$-fold \n",
    "    # . `cross_val_score` to measure model \"quality\".\n",
    "    compute_quality_with_each_new_unused_feature(...)\n",
    "\n",
    "    # **Add** the feature that gives the highest \"quality\" of the model.\n",
    "    pick_and_add_the_best_feature(...)\n",
    "\n",
    "    if model_quality_has_increased_since_last_round:\n",
    "        round = 0\n",
    "\n",
    "return list_of_best_features\n",
    "```"
   ]
  },
  {
   "cell_type": "markdown",
   "id": "a734466d",
   "metadata": {
    "id": "suffering-italy"
   },
   "source": [
    "**1.3.1) In the cell below, you have to implement a function that would iterate over a list of features and use $k$-fold `cross_val_score` to measure the model's \"quality\".** "
   ]
  },
  {
   "cell_type": "code",
   "execution_count": 13,
   "id": "7e558f69",
   "metadata": {
    "ExecuteTime": {
     "end_time": "2022-03-06T13:03:00.696425Z",
     "start_time": "2022-03-06T13:03:00.681359Z"
    },
    "scrolled": true
   },
   "outputs": [],
   "source": [
    "# sorted(sklearn.metrics.SCORERS.keys())"
   ]
  },
  {
   "cell_type": "code",
   "execution_count": 14,
   "id": "b9f64383",
   "metadata": {
    "ExecuteTime": {
     "end_time": "2022-03-06T13:03:00.869991Z",
     "start_time": "2022-03-06T13:03:00.854979Z"
    },
    "id": "caroline-state"
   },
   "outputs": [],
   "source": [
    "from sklearn.metrics import make_scorer\n",
    "\n",
    "\n",
    "def selection_step(model, X, y, used_features=(), cv=3):\n",
    "    \"\"\"\n",
    "    Parameters\n",
    "    ==========\n",
    "        X: ndarray - training inputs\n",
    "        y: ndarray - training targets\n",
    "        used_features: - list of features\n",
    "        cv: int - number of folds\n",
    "\n",
    "    Returns\n",
    "    =======\n",
    "        scores - dictionary of scores\n",
    "    \"\"\"\n",
    "\n",
    "    scores = {}\n",
    "\n",
    "    # BEGIN Solution\n",
    "    unused_features = list(X.drop(columns=used_features).columns)\n",
    "    for feature in unused_features:\n",
    "        scores[feature] = (np.mean(cross_val_score(\n",
    "            model, X.loc[:, used_features + [feature]], y, cv=cv,\n",
    "            n_jobs=-1, scoring='neg_root_mean_squared_error')))\n",
    "\n",
    "    # END Solution\n",
    "\n",
    "    return scores"
   ]
  },
  {
   "cell_type": "markdown",
   "id": "a9781013",
   "metadata": {
    "id": "laughing-patio"
   },
   "source": [
    "**1.3.2) Implement a forward greedy feature selection function (the one described in the pseudocode in subtask 1 above) that would**\n",
    "\n",
    "**- compute the model's \"quality\" over the currently *unused* features**\n",
    "\n",
    "**- find the feature, which has given the best score and add it to the list of the currently *used* features**\n",
    "\n",
    "**- if the model's quality has increased since the last round, add this feature to the list of the best features and  print the best score and the current best features list**\n",
    "\n",
    "**Do not forget to implement the early stopping.**"
   ]
  },
  {
   "cell_type": "code",
   "execution_count": 15,
   "id": "b12487bc",
   "metadata": {
    "ExecuteTime": {
     "end_time": "2022-03-06T13:03:01.027335Z",
     "start_time": "2022-03-06T13:03:01.013263Z"
    },
    "id": "pressed-worse"
   },
   "outputs": [],
   "source": [
    "def forward_steps(X, y, n_rounds, model):\n",
    "    \"\"\"\n",
    "    Parameters\n",
    "    ==========\n",
    "        X: ndarray - training inputs\n",
    "        y: ndarray - training targets\n",
    "        n_rounds: int - early stop when score doesn't increase n_rounds\n",
    "        model: sklearn model\n",
    "\n",
    "    Returns\n",
    "    =======\n",
    "        feat_best_list - list of features\n",
    "    \"\"\"\n",
    "\n",
    "    feat_best_list = []\n",
    "\n",
    "    # BEGIN Solution\n",
    "    best_quality = -np.infty\n",
    "    Round = 0\n",
    "\n",
    "    all_features = list(X.columns)\n",
    "    used_features = []\n",
    "    unused_features = all_features\n",
    "\n",
    "    while Round < n_rounds:\n",
    "        Round += 1\n",
    "\n",
    "        if len(unused_features) == 0:\n",
    "            break\n",
    "\n",
    "        scores = selection_step(model, X, y, used_features, cv=3)\n",
    "\n",
    "        new_feature = max(scores, key=lambda i: scores[i])\n",
    "        new_quality = scores[new_feature]\n",
    "        \n",
    "        used_features.append(new_feature)\n",
    "        unused_features.remove(new_feature)\n",
    "\n",
    "        if new_quality > best_quality:\n",
    "            feat_best_list.append(new_feature)\n",
    "            best_quality = new_quality\n",
    "            print(f\"best_quality = {best_quality}\")\n",
    "            Round = 0\n",
    "\n",
    "    # END Solution\n",
    "\n",
    "    return feat_best_list"
   ]
  },
  {
   "cell_type": "markdown",
   "id": "ce9314ca",
   "metadata": {
    "id": "geographic-holly"
   },
   "source": [
    "**1.3.3) Use the function implemented above + DecisionTreeRegressor to get the best features according to this algorithm. (HINT: Use ```n_rounds = 2```)**"
   ]
  },
  {
   "cell_type": "code",
   "execution_count": 16,
   "id": "4224f263",
   "metadata": {
    "ExecuteTime": {
     "end_time": "2022-03-06T13:13:46.664294Z",
     "start_time": "2022-03-06T13:03:01.169294Z"
    },
    "colab": {
     "base_uri": "https://localhost:8080/"
    },
    "id": "hazardous-retirement",
    "outputId": "81502f2d-f6fa-4497-d569-58605bfff430"
   },
   "outputs": [
    {
     "name": "stdout",
     "output_type": "stream",
     "text": [
      "best_quality = -0.5227548498060216\n",
      "best_quality = -0.5005419000968402\n",
      "best_quality = -0.4965919641920604\n",
      "best_quality = -0.49491421346379655\n",
      "best_quality = -0.4933489956817529\n",
      "best_quality = -0.49251810588181577\n",
      "best_quality = -0.49168001104438686\n",
      "best_quality = -0.49101826071101223\n",
      "best_quality = -0.49050688717870045\n",
      "best_quality = -0.49002159756336905\n",
      "best_quality = -0.4894863291392415\n",
      "best_quality = -0.4892679838355356\n",
      "best_quality = -0.48906685054025095\n",
      "best_quality = -0.48899231968028783\n",
      "best_quality = -0.4888308873356384\n",
      "best_quality = -0.4886285021687134\n",
      "best_quality = -0.48858088960850027\n",
      "best_quality = -0.4884933852786231\n",
      "best_quality = -0.4883983230336981\n",
      "best_quality = -0.4883096826071484\n",
      "best_quality = -0.48823977181768363\n",
      "best_quality = -0.48812451103343624\n",
      "best_quality = -0.48810355806627803\n",
      "['full_sq', 'ecology_no data', 'sub_area_Nekrasovka', 'sub_area_Poselenie Vnukovskoe', 'modern_education_share_0', 'sub_area_Poselenie Novofedorovskoe', 'sub_area_Hamovniki', 'sub_area_Poselenie Filimonkovskoe', 'sub_area_Ivanovskoe', 'sub_area_Vojkovskoe', 'sub_area_Zapadnoe Degunino', 'sub_area_Solncevo', 'sub_area_Poselenie Moskovskij', 'sub_area_Horoshevskoe', 'sub_area_Poselenie Shherbinka', 'sub_area_Nagatinskij Zaton', 'sub_area_Birjulevo Zapadnoe', 'sub_area_Poselenie Pervomajskoe', 'sub_area_Juzhnoportovoe', 'sub_area_Poselenie Rogovskoe', \"sub_area_Sokol'niki\", \"sub_area_Zamoskvorech'e\", 'sub_area_Poselenie Voronovskoe']\n"
     ]
    }
   ],
   "source": [
    "### BEGIN Solution\n",
    "DTR = DecisionTreeRegressor(random_state = 0xC0FFEE)\n",
    "feat_best_list = forward_steps(X_train, y_train_log, n_rounds=2, model=DTR)\n",
    "print(feat_best_list)\n",
    "### END Solution"
   ]
  },
  {
   "cell_type": "markdown",
   "id": "6ccdb011",
   "metadata": {
    "id": "contrary-packet"
   },
   "source": [
    "**1.3.4) Use Linear Regression, Ridge regression, Random forest and DecisionTree to get the RMSLE scores using these features. Remember the function you wrote earlier.**"
   ]
  },
  {
   "cell_type": "code",
   "execution_count": 17,
   "id": "81df8966",
   "metadata": {
    "ExecuteTime": {
     "end_time": "2022-03-06T13:13:47.662998Z",
     "start_time": "2022-03-06T13:13:46.949226Z"
    }
   },
   "outputs": [
    {
     "data": {
      "text/html": [
       "<div>\n",
       "<style scoped>\n",
       "    .dataframe tbody tr th:only-of-type {\n",
       "        vertical-align: middle;\n",
       "    }\n",
       "\n",
       "    .dataframe tbody tr th {\n",
       "        vertical-align: top;\n",
       "    }\n",
       "\n",
       "    .dataframe thead th {\n",
       "        text-align: right;\n",
       "    }\n",
       "</style>\n",
       "<table border=\"1\" class=\"dataframe\">\n",
       "  <thead>\n",
       "    <tr style=\"text-align: right;\">\n",
       "      <th></th>\n",
       "      <th>Methods</th>\n",
       "      <th>Train error</th>\n",
       "      <th>Test error</th>\n",
       "    </tr>\n",
       "  </thead>\n",
       "  <tbody>\n",
       "    <tr>\n",
       "      <th>0</th>\n",
       "      <td>Linear Regression</td>\n",
       "      <td>0.001106</td>\n",
       "      <td>0.001153</td>\n",
       "    </tr>\n",
       "    <tr>\n",
       "      <th>1</th>\n",
       "      <td>Lasso</td>\n",
       "      <td>0.001256</td>\n",
       "      <td>0.001302</td>\n",
       "    </tr>\n",
       "    <tr>\n",
       "      <th>2</th>\n",
       "      <td>Ridge</td>\n",
       "      <td>0.001106</td>\n",
       "      <td>0.001152</td>\n",
       "    </tr>\n",
       "    <tr>\n",
       "      <th>3</th>\n",
       "      <td>Dtree</td>\n",
       "      <td>0.000811</td>\n",
       "      <td>0.001002</td>\n",
       "    </tr>\n",
       "    <tr>\n",
       "      <th>4</th>\n",
       "      <td>RFR</td>\n",
       "      <td>0.000817</td>\n",
       "      <td>0.000984</td>\n",
       "    </tr>\n",
       "  </tbody>\n",
       "</table>\n",
       "</div>"
      ],
      "text/plain": [
       "             Methods  Train error  Test error\n",
       "0  Linear Regression     0.001106    0.001153\n",
       "1              Lasso     0.001256    0.001302\n",
       "2              Ridge     0.001106    0.001152\n",
       "3              Dtree     0.000811    0.001002\n",
       "4                RFR     0.000817    0.000984"
      ]
     },
     "execution_count": 17,
     "metadata": {},
     "output_type": "execute_result"
    }
   ],
   "source": [
    "### BEGIN Solution\n",
    "df = comparison(X_train.loc[:,feat_best_list], y_train_log, X_test.loc[:,feat_best_list], y_test_log)\n",
    "df\n",
    "### END Solution"
   ]
  },
  {
   "cell_type": "markdown",
   "id": "f9a7d607",
   "metadata": {
    "id": "individual-rendering"
   },
   "source": [
    "## Task 2. Multi-Class Classification Strategies (1 point)\n",
    "In this task, you will deal with the multiclass classification problem for the Glass Classification Data. Let's load the dataset."
   ]
  },
  {
   "cell_type": "code",
   "execution_count": 20,
   "id": "5822ab50",
   "metadata": {
    "ExecuteTime": {
     "end_time": "2022-03-06T15:06:11.462938Z",
     "start_time": "2022-03-06T15:06:11.432934Z"
    },
    "colab": {
     "base_uri": "https://localhost:8080/",
     "height": 142
    },
    "id": "technical-trader",
    "outputId": "91043ffe-6127-441b-a6ae-58f111768d40"
   },
   "outputs": [
    {
     "data": {
      "text/html": [
       "<div>\n",
       "<style scoped>\n",
       "    .dataframe tbody tr th:only-of-type {\n",
       "        vertical-align: middle;\n",
       "    }\n",
       "\n",
       "    .dataframe tbody tr th {\n",
       "        vertical-align: top;\n",
       "    }\n",
       "\n",
       "    .dataframe thead th {\n",
       "        text-align: right;\n",
       "    }\n",
       "</style>\n",
       "<table border=\"1\" class=\"dataframe\">\n",
       "  <thead>\n",
       "    <tr style=\"text-align: right;\">\n",
       "      <th></th>\n",
       "      <th>RI</th>\n",
       "      <th>Na</th>\n",
       "      <th>Mg</th>\n",
       "      <th>Al</th>\n",
       "      <th>Si</th>\n",
       "      <th>K</th>\n",
       "      <th>Ca</th>\n",
       "      <th>Ba</th>\n",
       "      <th>Fe</th>\n",
       "      <th>Type</th>\n",
       "    </tr>\n",
       "  </thead>\n",
       "  <tbody>\n",
       "    <tr>\n",
       "      <th>52</th>\n",
       "      <td>1.51808</td>\n",
       "      <td>13.43</td>\n",
       "      <td>2.87</td>\n",
       "      <td>1.19</td>\n",
       "      <td>72.84</td>\n",
       "      <td>0.55</td>\n",
       "      <td>9.03</td>\n",
       "      <td>0.0</td>\n",
       "      <td>0.0</td>\n",
       "      <td>1</td>\n",
       "    </tr>\n",
       "    <tr>\n",
       "      <th>72</th>\n",
       "      <td>1.51593</td>\n",
       "      <td>13.09</td>\n",
       "      <td>3.59</td>\n",
       "      <td>1.52</td>\n",
       "      <td>73.10</td>\n",
       "      <td>0.67</td>\n",
       "      <td>7.83</td>\n",
       "      <td>0.0</td>\n",
       "      <td>0.0</td>\n",
       "      <td>2</td>\n",
       "    </tr>\n",
       "    <tr>\n",
       "      <th>132</th>\n",
       "      <td>1.51813</td>\n",
       "      <td>13.43</td>\n",
       "      <td>3.98</td>\n",
       "      <td>1.18</td>\n",
       "      <td>72.49</td>\n",
       "      <td>0.58</td>\n",
       "      <td>8.15</td>\n",
       "      <td>0.0</td>\n",
       "      <td>0.0</td>\n",
       "      <td>2</td>\n",
       "    </tr>\n",
       "  </tbody>\n",
       "</table>\n",
       "</div>"
      ],
      "text/plain": [
       "          RI     Na    Mg    Al     Si     K    Ca   Ba   Fe  Type\n",
       "52   1.51808  13.43  2.87  1.19  72.84  0.55  9.03  0.0  0.0     1\n",
       "72   1.51593  13.09  3.59  1.52  73.10  0.67  7.83  0.0  0.0     2\n",
       "132  1.51813  13.43  3.98  1.18  72.49  0.58  8.15  0.0  0.0     2"
      ]
     },
     "execution_count": 20,
     "metadata": {},
     "output_type": "execute_result"
    }
   ],
   "source": [
    "data = pd.read_csv('glass.csv')\n",
    "X, y = data.drop('Type', axis=1), data.Type\n",
    "data.sample(3)"
   ]
  },
  {
   "cell_type": "markdown",
   "id": "1389de12",
   "metadata": {
    "id": "flying-region"
   },
   "source": [
    "The features of each glass object correspond to the fraction of the particular chemical element in the object. The target variable corresponds to the type of glass (6 classes).\n",
    "\n",
    "In this problem, you have to empirically compare the time complexity and performance of several multiclass labeling strategies for different algorithms. You must consider the following algorithms:\n",
    "* Single Decision Tree (depth 7)\n",
    "* Medium Random Forest (100 trees of depth 3)\n",
    "* KNearestNeighbors (5 neighbors)\n",
    "* Logistic Regression\n",
    "\n",
    "Note that all these algorithms by default support **multiclass labeling**. Nevertheless, we want you to compare this approach with **OneVSRest** and **OneVSOne** approaches applied to these algorithms. More precisely, for every pair (algorithm, approach) you are to perform a 5-fold cross-validation on the data and output the validation score and the computation time in the **table** form. Please note that you also have to choose the metric to optimize during CV (e.g. accuracy, balanced accuracy) on your own. \n",
    "\n",
    "After that, you are to answer the following questions:\n",
    "* Which metric did you choose to optimize during cross-validation and why? Explain\n",
    "* For which algorithms the usage of OneVSRest/OneVSOne approach provides significantly better performance without a significant increase in computation time?"
   ]
  },
  {
   "cell_type": "code",
   "execution_count": 36,
   "id": "5eb256ff",
   "metadata": {
    "ExecuteTime": {
     "end_time": "2022-03-06T16:02:56.677893Z",
     "start_time": "2022-03-06T16:02:39.097840Z"
    },
    "scrolled": true
   },
   "outputs": [
    {
     "name": "stdout",
     "output_type": "stream",
     "text": [
      "Cross Validation Scores (CV=5)\n"
     ]
    },
    {
     "data": {
      "text/html": [
       "<div>\n",
       "<style scoped>\n",
       "    .dataframe tbody tr th:only-of-type {\n",
       "        vertical-align: middle;\n",
       "    }\n",
       "\n",
       "    .dataframe tbody tr th {\n",
       "        vertical-align: top;\n",
       "    }\n",
       "\n",
       "    .dataframe thead th {\n",
       "        text-align: right;\n",
       "    }\n",
       "</style>\n",
       "<table border=\"1\" class=\"dataframe\">\n",
       "  <thead>\n",
       "    <tr style=\"text-align: right;\">\n",
       "      <th></th>\n",
       "      <th>Method</th>\n",
       "      <th>Logistic</th>\n",
       "      <th>Random Forest</th>\n",
       "      <th>K Nearest Neighbors</th>\n",
       "      <th>Decision Tree</th>\n",
       "    </tr>\n",
       "  </thead>\n",
       "  <tbody>\n",
       "    <tr>\n",
       "      <th>0</th>\n",
       "      <td>Multiclass</td>\n",
       "      <td>-1.814507</td>\n",
       "      <td>-2.159911</td>\n",
       "      <td>-2.176966</td>\n",
       "      <td>-2.211960</td>\n",
       "    </tr>\n",
       "    <tr>\n",
       "      <th>1</th>\n",
       "      <td>OneVsRest</td>\n",
       "      <td>-2.079623</td>\n",
       "      <td>-1.774086</td>\n",
       "      <td>-1.926135</td>\n",
       "      <td>-3.784496</td>\n",
       "    </tr>\n",
       "    <tr>\n",
       "      <th>2</th>\n",
       "      <td>OneVsOne</td>\n",
       "      <td>-1.991141</td>\n",
       "      <td>-1.874529</td>\n",
       "      <td>-2.312182</td>\n",
       "      <td>-2.388704</td>\n",
       "    </tr>\n",
       "  </tbody>\n",
       "</table>\n",
       "</div>"
      ],
      "text/plain": [
       "       Method  Logistic  Random Forest  K Nearest Neighbors  Decision Tree\n",
       "0  Multiclass -1.814507      -2.159911            -2.176966      -2.211960\n",
       "1   OneVsRest -2.079623      -1.774086            -1.926135      -3.784496\n",
       "2    OneVsOne -1.991141      -1.874529            -2.312182      -2.388704"
      ]
     },
     "metadata": {},
     "output_type": "display_data"
    },
    {
     "name": "stdout",
     "output_type": "stream",
     "text": [
      "Training Duration (CV=5)\n"
     ]
    },
    {
     "data": {
      "text/html": [
       "<div>\n",
       "<style scoped>\n",
       "    .dataframe tbody tr th:only-of-type {\n",
       "        vertical-align: middle;\n",
       "    }\n",
       "\n",
       "    .dataframe tbody tr th {\n",
       "        vertical-align: top;\n",
       "    }\n",
       "\n",
       "    .dataframe thead th {\n",
       "        text-align: right;\n",
       "    }\n",
       "</style>\n",
       "<table border=\"1\" class=\"dataframe\">\n",
       "  <thead>\n",
       "    <tr style=\"text-align: right;\">\n",
       "      <th></th>\n",
       "      <th>Method</th>\n",
       "      <th>Logistic</th>\n",
       "      <th>Random Forest</th>\n",
       "      <th>K Nearest Neighbors</th>\n",
       "      <th>Decision Tree</th>\n",
       "    </tr>\n",
       "  </thead>\n",
       "  <tbody>\n",
       "    <tr>\n",
       "      <th>0</th>\n",
       "      <td>Multiclass</td>\n",
       "      <td>0.197507</td>\n",
       "      <td>0.559794</td>\n",
       "      <td>0.071996</td>\n",
       "      <td>0.017998</td>\n",
       "    </tr>\n",
       "    <tr>\n",
       "      <th>1</th>\n",
       "      <td>OneVsRest</td>\n",
       "      <td>0.632446</td>\n",
       "      <td>3.643611</td>\n",
       "      <td>0.326706</td>\n",
       "      <td>0.103953</td>\n",
       "    </tr>\n",
       "    <tr>\n",
       "      <th>2</th>\n",
       "      <td>OneVsOne</td>\n",
       "      <td>1.499001</td>\n",
       "      <td>9.074016</td>\n",
       "      <td>1.335059</td>\n",
       "      <td>0.084972</td>\n",
       "    </tr>\n",
       "  </tbody>\n",
       "</table>\n",
       "</div>"
      ],
      "text/plain": [
       "       Method  Logistic  Random Forest  K Nearest Neighbors  Decision Tree\n",
       "0  Multiclass  0.197507       0.559794             0.071996       0.017998\n",
       "1   OneVsRest  0.632446       3.643611             0.326706       0.103953\n",
       "2    OneVsOne  1.499001       9.074016             1.335059       0.084972"
      ]
     },
     "metadata": {},
     "output_type": "display_data"
    }
   ],
   "source": [
    "### BEGIN Solution (do not delete this comment)\n",
    "import time \n",
    "import copy\n",
    "from IPython.display import display\n",
    "\n",
    "from sklearn.tree import DecisionTreeClassifier\n",
    "from sklearn.ensemble import RandomForestClassifier\n",
    "from sklearn.neighbors import KNeighborsClassifier\n",
    "from sklearn.linear_model import LogisticRegression\n",
    "\n",
    "from sklearn.multiclass import OneVsRestClassifier, OneVsOneClassifier\n",
    "\n",
    "DtreeC = DecisionTreeClassifier( max_depth = 7, random_state=0x0C0FFEE )\n",
    "RforestC = RandomForestClassifier( n_estimators=100, max_depth=3,random_state=0x0C0FFEE, n_jobs=-1 )\n",
    "Knn = KNeighborsClassifier ( n_neighbors=5, n_jobs=-1 )\n",
    "LR = LogisticRegression (random_state=0x0C0FFEE, n_jobs=-1 )\n",
    "\n",
    "model_names = ['Logistic','Random Forest','K Nearest Neighbors','Decision Tree']\n",
    "models = [ LR, RforestC, Knn, DtreeC ]\n",
    "results = {'Method':['Multiclass','OneVsRest','OneVsOne'],\n",
    "         model_names[0]:[0]*3,\n",
    "         model_names[1]:[0]*3,\n",
    "         model_names[2]:[0]*3,\n",
    "         model_names[3]:[0]*3 }\n",
    "duration = copy.deepcopy(results)\n",
    "\n",
    "for model,model_name in zip(models, model_names):\n",
    "    \n",
    "    start = time.time()\n",
    "    results[model_name][0] = np.mean( cross_val_score(model,X,y,scoring='neg_mean_squared_error', cv = 5) )\n",
    "    end = time.time()\n",
    "    duration[model_name][0] = end-start\n",
    "      \n",
    "    start = time.time()\n",
    "    ovr = OneVsRestClassifier(model)\n",
    "    results[model_name][1] = np.mean( cross_val_score(ovr,X,y,scoring='neg_mean_squared_error', cv = 5) )\n",
    "    end = time.time()\n",
    "    duration[model_name][1] = end-start\n",
    "        \n",
    "    start = time.time()\n",
    "    ovo = OneVsOneClassifier(model)\n",
    "    results[model_name][2] = np.mean( cross_val_score(ovo,X,y,scoring='neg_mean_squared_error', cv = 5) )\n",
    "    end = time.time()\n",
    "    duration[model_name][2] = end-start\n",
    "    \n",
    "df_results = pd.DataFrame(data = results)\n",
    "df_duration = pd.DataFrame(data = duration)\n",
    "print(\"Cross Validation Scores (CV=5)\")\n",
    "display(df_results)\n",
    "print(\"Training Duration (CV=5)\")\n",
    "display(df_duration)\n",
    "### END Solution (do not delete this comment)"
   ]
  },
  {
   "cell_type": "markdown",
   "id": "9928db63",
   "metadata": {
    "id": "married-preserve"
   },
   "source": [
    "**Which metric did you choose to optimize during cross validation and why? Explain**"
   ]
  },
  {
   "cell_type": "markdown",
   "id": "b884c341",
   "metadata": {
    "id": "dutch-alfred"
   },
   "source": [
    "**Your text answer (do not delete this comment)**:\n",
    "\n",
    "I chose neg_mean_squared_error because we need to predict floating numbers and prediction doesn't have to match exactly with true value"
   ]
  },
  {
   "cell_type": "markdown",
   "id": "9745db20",
   "metadata": {
    "id": "elect-jerusalem"
   },
   "source": [
    "**For which algorithms the usage of OneVSRest/OneVSOne approach provides significantly better performance without a significant increase in computation time?**"
   ]
  },
  {
   "cell_type": "markdown",
   "id": "ed7fde14",
   "metadata": {
    "id": "CH04Ord57RS4"
   },
   "source": [
    "**Your text answer (do not delete this comment)**:\n",
    "\n",
    "For neg_mean_squared_error only Random Forest and K Nearest Neighbors got increase in accuracy but the also got significant increase in computation time (5-7 times)  "
   ]
  },
  {
   "cell_type": "markdown",
   "id": "6c334228",
   "metadata": {
    "id": "electric-matthew"
   },
   "source": [
    "# Task 3. Stacking (2 points)"
   ]
  },
  {
   "cell_type": "markdown",
   "id": "35b0da52",
   "metadata": {
    "id": "third-liverpool"
   },
   "source": [
    "Stacking is an ensembling approach, which combines several algorithms (base models) to get better results. This is achieved by **a)** training the base models (any ML models) on the initial train data (or parts of the train data, see the paragraph below), **b)** training the meta-model (also an ML model) on the predictions of those base models.\n",
    "\n",
    "One of the main problems of stacking is overfitting. To avoid it, when evaluating the performance of the meta-model on the train set, the training data is divided into $ n $ folds, $ (n-1) $ of which are used for training the base models. The $ n $ -th fold is used for the overall prediction (calculating the meta-factor) in the following manner: the predictions on the $ n $ -th fold are made by the base models (already trained on the rest of the dataset), then these predictions on the $ n $ -th fold are fed as inputs to the meta-model.\n",
    "\n",
    "When evaluating the performance of the meta-model on the test set, there can be used various approaches$.^{[1]}$ For example, in order, to obtain meta-factors for the test data, the base classifiers can be retrained on the entire training set, since the problem of overfitting does not arise here. In other words, if we want to calculate the factors for the test set, we can safely use the training set to train the base classifiers (once again, as it is said in the paragraph above, if we want to calculate factors for the training set, then it is necessary to ensure that the classifier does not predict for those objects on which it has been trained).  \n",
    "\n",
    "You can read more details about stacking [blockpost](https://blog.statsbot.co/ensemble-learning-d1dcd548e936), [kaggle ensemble guide](https://mlwave.com/kaggle-ensembling-guide/).\n",
    "\n",
    "P.S. Stacking and Blending are two similar approaches to combining classifiers (ensembling). The difference is that Stacking uses out-of-fold predictions for the train set, and Blending uses a validation set to train the next layer ([source](quora.com/What-are-examples-of-blending-and-stacking-in-Machine-Learning)). Because they are so similar you can use any of them. \n",
    "\n",
    "[1] http://www.machinelearning.ru/wiki/images/5/56/Guschin2015Stacking.pdf  "
   ]
  },
  {
   "cell_type": "markdown",
   "id": "cd69c6a9",
   "metadata": {
    "id": "recognized-guest"
   },
   "source": [
    "**Your task will be:**\n",
    "\n",
    "* Complete the ```meta_classfier``` function\n",
    "* Choose 6 different base models (base models can be any models that you know, and can differ between each other by different hyperparameters, models of ml, features e.t.c) and train them.\n",
    "* Report individual accuracy on the test set for each of the models.\n",
    "* Train the metaclassifier (in this case, once again, it is just an ML model) on the original dataset's features, report score on test.\n",
    "* Train the metaclassifier on the base models using $n$-fold cross-validation, as described above. Report the training score of the meta-classifier on the $ n $-th fold. Retrain the base models on the whole training set. Report the test score (accuracy) of the meta-classifier in this case.\n",
    "* Does stacking help to gain a better score?"
   ]
  },
  {
   "cell_type": "markdown",
   "id": "50a4ccad",
   "metadata": {
    "id": "incident-ceremony"
   },
   "source": [
    "For this task we will use the dataset fetch_covertype from [sklearn](https://scikit-learn.org/stable/modules/generated/sklearn.datasets.fetch_covtype.html#sklearn.datasets.fetch_covtype). Split it train-test - 60/40.\n",
    "More details about this dataset you can find [here](https://archive.ics.uci.edu/ml/datasets/Covertype)"
   ]
  },
  {
   "cell_type": "code",
   "execution_count": 41,
   "id": "4f7029bb",
   "metadata": {
    "ExecuteTime": {
     "end_time": "2022-03-07T05:14:44.307627Z",
     "start_time": "2022-03-07T05:14:43.652230Z"
    },
    "id": "banner-input"
   },
   "outputs": [],
   "source": [
    "from sklearn import datasets\n",
    "fc = sklearn.datasets.fetch_covtype()"
   ]
  },
  {
   "cell_type": "markdown",
   "id": "49199573",
   "metadata": {
    "id": "collected-flash"
   },
   "source": [
    "Write meta classifier function."
   ]
  },
  {
   "cell_type": "code",
   "execution_count": 42,
   "id": "c70e16b9",
   "metadata": {
    "ExecuteTime": {
     "end_time": "2022-03-07T05:15:03.010450Z",
     "start_time": "2022-03-07T05:15:02.993441Z"
    }
   },
   "outputs": [],
   "source": [
    "cv = 7\n",
    "nrows = X_train.shape[0]\n",
    "nrows_in_fold = nrows // cv\n",
    "ind = [range(i * nrows_in_fold, (i + 1) * nrows_in_fold) for i in range(cv)]\n",
    "ind[-1] = range((cv - 1) * nrows_in_fold, nrows)"
   ]
  },
  {
   "cell_type": "code",
   "execution_count": 53,
   "id": "ea957a55",
   "metadata": {
    "ExecuteTime": {
     "end_time": "2022-03-07T05:20:56.387611Z",
     "start_time": "2022-03-07T05:20:56.370604Z"
    }
   },
   "outputs": [
    {
     "data": {
      "text/plain": [
       "(348607, 54)"
      ]
     },
     "execution_count": 53,
     "metadata": {},
     "output_type": "execute_result"
    }
   ],
   "source": [
    "X_train.shape"
   ]
  },
  {
   "cell_type": "code",
   "execution_count": 47,
   "id": "3173c068",
   "metadata": {
    "ExecuteTime": {
     "end_time": "2022-03-07T05:17:42.516737Z",
     "start_time": "2022-03-07T05:17:42.509741Z"
    }
   },
   "outputs": [
    {
     "data": {
      "text/plain": [
       "(348607,)"
      ]
     },
     "execution_count": 47,
     "metadata": {},
     "output_type": "execute_result"
    }
   ],
   "source": [
    "y_train.shape"
   ]
  },
  {
   "cell_type": "code",
   "execution_count": 49,
   "id": "0c95fa7b",
   "metadata": {
    "ExecuteTime": {
     "end_time": "2022-03-07T05:18:23.510277Z",
     "start_time": "2022-03-07T05:18:23.499295Z"
    }
   },
   "outputs": [],
   "source": [
    "assert X_train.shape[0] == y_train.shape[0]\n",
    "L_train = y_train.shape[0]// cv\n",
    "L_test = L_train + y_train.shape[0] % cv\n",
    "assert L_test+L_train*(cv-1) == y_train.shape[0]"
   ]
  },
  {
   "cell_type": "code",
   "execution_count": 50,
   "id": "312f9239",
   "metadata": {
    "ExecuteTime": {
     "end_time": "2022-03-07T05:18:29.962752Z",
     "start_time": "2022-03-07T05:18:29.947756Z"
    }
   },
   "outputs": [
    {
     "data": {
      "text/plain": [
       "49801"
      ]
     },
     "execution_count": 50,
     "metadata": {},
     "output_type": "execute_result"
    }
   ],
   "source": [
    "L_train"
   ]
  },
  {
   "cell_type": "code",
   "execution_count": 52,
   "id": "a13a5096",
   "metadata": {
    "ExecuteTime": {
     "end_time": "2022-03-07T05:19:01.623972Z",
     "start_time": "2022-03-07T05:19:01.603968Z"
    }
   },
   "outputs": [
    {
     "data": {
      "text/plain": [
       "49801.0"
      ]
     },
     "execution_count": 52,
     "metadata": {},
     "output_type": "execute_result"
    }
   ],
   "source": [
    "348607/7. "
   ]
  },
  {
   "cell_type": "code",
   "execution_count": 72,
   "id": "983e04a3",
   "metadata": {
    "ExecuteTime": {
     "end_time": "2022-03-07T05:57:02.254558Z",
     "start_time": "2022-03-07T05:57:02.232564Z"
    },
    "id": "brilliant-greensboro"
   },
   "outputs": [],
   "source": [
    "def meta_classifier(base_clfs, final_classifier, X_train, X_test, y_train, cv):\n",
    "    \"\"\"\n",
    "    Meta classifier prediction using stacking. \n",
    "    Input:\n",
    "    :param base_clfs: list,  base classifiers which will be stacked together.\n",
    "    :param final_classifier: estimator, a classifier which will be used to combine the base estimators. \n",
    "    :param X_train: numpy array or pandas table, train set.\n",
    "    :param y_train: numpy array or pandas table, target for train set.\n",
    "    :param X_test: numpy array or pandas table, test set.\n",
    "    :param cv: number of cross-validation folds.\n",
    "    \n",
    "    Output:\n",
    "    :param y_pred: numpy array or pandas table, prediction of meta classifier using stacking on test set.\n",
    "    :param final_classifier(optional): estimator, trained final_calssifier.\n",
    "    \n",
    "    \n",
    "    More details https://scikit-learn.org/stable/modules/generated/sklearn.ensemble.StackingClassifier.html\n",
    "    \n",
    "    \"\"\"\n",
    "    ### BEGIN Solution (do not delete this comment)\n",
    "    cv = len(base_clfs)+1\n",
    "    #split\n",
    "    assert X_train.shape[0] == y_train.shape[0]\n",
    "    L_train = y_train.shape[0]// cv\n",
    "    L_test = L_train + y_train.shape[0] % cv\n",
    "    assert L_test+L_train*(cv-1) == y_train.shape[0]\n",
    "\n",
    "    X_train_meta = np.empty((L_train,len(base_clfs)))\n",
    "    \n",
    "    X_test_local = X_train[(cv-1)*L_train:]\n",
    "    y_test_local = y_train[(cv-1)*L_train:]\n",
    "\n",
    "    assert len(X_test_local) == L_test\n",
    "    \n",
    "    \n",
    "    for i,clf in enumerate(base_clfs):\n",
    "        X_train_local = X_train[i*L_train:(i+1)*L_train]\n",
    "        assert len(X_train_local) == L_train\n",
    "        y_train_local = y_train[i*L_train:(i+1)*L_train]\n",
    "\n",
    "        clf.fit(X_train_local,y_train_local)\n",
    "        X_train_meta[:,i] = clf.predict(X_test_local)\n",
    "        \n",
    "    final_classifier.fit(X_train_meta, y_train_local)\n",
    "    meta_train_score = accuracy_score(y_train_local, final_classifier.predict(X_train_meta))\n",
    "    print(\"training score of the meta-classifier on the {}-th fold: {}\".format(cv,meta_train_score))\n",
    "    \n",
    "    # retraining base_clfs on the whole dataset\n",
    "    X_train_meta2 = np.empty((X_train.shape[0],len(base_clfs)))    \n",
    "    for i,clf in enumerate(base_clfs):\n",
    "        clf.fit(X_train,y_train)\n",
    "        X_train_meta2[:,i] = clf.predict(X_test)\n",
    "        \n",
    "    y_pred = final_classifier.predict(X_train_meta2)\n",
    "            \n",
    "    \n",
    "    ### END Solution (do not delete this comment)\n",
    "    return y_pred, final_classifier"
   ]
  },
  {
   "cell_type": "markdown",
   "id": "7d2e3487",
   "metadata": {
    "id": "vfZmdicwORxq"
   },
   "source": [
    "### Subproblem 3.1 (1 point)"
   ]
  },
  {
   "cell_type": "markdown",
   "id": "afc4b0dc",
   "metadata": {
    "id": "incredible-wichita"
   },
   "source": [
    "**3.1.1) Chose 6 different base models (base models can be any models that you know,and can differ with each other by different hyperparameters,  models of ml, features e.t.c) and train them.**"
   ]
  },
  {
   "cell_type": "code",
   "execution_count": 56,
   "id": "116dbfc8",
   "metadata": {
    "ExecuteTime": {
     "end_time": "2022-03-07T05:40:21.588990Z",
     "start_time": "2022-03-07T05:38:40.669548Z"
    },
    "colab": {
     "base_uri": "https://localhost:8080/"
    },
    "id": "cleared-supply",
    "outputId": "6c3af77e-4cc3-41cf-85e1-c179b6332f02"
   },
   "outputs": [],
   "source": [
    "### BEGIN Solution (do not delete this comment)\n",
    "X = fc['data'] \n",
    "y = fc['target']\n",
    "X_train, X_test, y_train, y_test = train_test_split(X,y,train_size=0.6, shuffle=True, random_state=0xC0FFEE)\n",
    "\n",
    "from sklearn.tree import DecisionTreeClassifier\n",
    "from sklearn.ensemble import RandomForestClassifier\n",
    "from sklearn.linear_model import LogisticRegression\n",
    "from sklearn.naive_bayes import GaussianNB\n",
    "\n",
    "clf1 = DecisionTreeClassifier( max_depth = 7, random_state=0x0C0FFEE )\n",
    "clf2 = RandomForestClassifier( n_estimators=100, max_depth=3,random_state=0x0C0FFEE, n_jobs=-1 )\n",
    "clf3 = DecisionTreeClassifier( max_depth = 20, random_state=0x0C0FFEE )\n",
    "clf4 = RandomForestClassifier( n_estimators=400, max_depth=5,random_state=0x0C0FFEE, n_jobs=-1 )\n",
    "clf5 = LogisticRegression(n_jobs=-1)\n",
    "clf6 = GaussianNB()\n",
    "clfs = [clf1,clf2,clf3,clf4,clf5,clf6]\n",
    "for clf in clfs:\n",
    "    clf.fit(X_train, y_train)\n",
    "    \n",
    "### END Solution (do not delete this comment)"
   ]
  },
  {
   "cell_type": "markdown",
   "id": "a67394ba",
   "metadata": {
    "id": "streaming-crowd"
   },
   "source": [
    "**3.1.2) Report individual scores on test set. As a score use accuracy.**"
   ]
  },
  {
   "cell_type": "code",
   "execution_count": 57,
   "id": "4175971b",
   "metadata": {
    "ExecuteTime": {
     "end_time": "2022-03-07T05:40:28.580352Z",
     "start_time": "2022-03-07T05:40:21.746939Z"
    },
    "colab": {
     "base_uri": "https://localhost:8080/"
    },
    "id": "standing-breakdown",
    "outputId": "34a2ebd2-6a1c-40c4-afec-d5cab639cd46",
    "scrolled": true
   },
   "outputs": [
    {
     "name": "stdout",
     "output_type": "stream",
     "text": [
      "clf1    :DecisionTreeClassifier                       0.728     \n",
      "clf2    :RandomForestClassifier                       0.658     \n",
      "clf3    :DecisionTreeClassifier                       0.9006    \n",
      "clf4    :RandomForestClassifier                       0.6796    \n",
      "clf5    :LogisticRegression                           0.6237    \n",
      "clf6    :GaussianNB                                   0.4609    \n"
     ]
    }
   ],
   "source": [
    "### BEGIN Solution (do not delete this comment)\n",
    "from sklearn.metrics import accuracy_score\n",
    "\n",
    "accuracy = [0]*len(clfs)\n",
    "for i,clf in enumerate(clfs):\n",
    "    y_pred = clf.predict(X_test)\n",
    "    accuracy[i] = accuracy_score(y_true=y_test, y_pred=y_pred)\n",
    "    print('clf{:<5}:{:<45}{:<10.4}'.format(i+1,type(clf).__name__,accuracy[i]))\n",
    "\n",
    "### END Solution (do not delete this comment)"
   ]
  },
  {
   "cell_type": "markdown",
   "id": "01d7eb95",
   "metadata": {
    "id": "8CsZdyGPOj6E"
   },
   "source": [
    "### Subproblem 3.2 (1 point)"
   ]
  },
  {
   "cell_type": "markdown",
   "id": "7d2762be",
   "metadata": {
    "id": "adolescent-street"
   },
   "source": [
    "**3.2.1) Train metaclassifier (in this case, once again, it is just an ML model) on original dataset's features. And report score on test.**"
   ]
  },
  {
   "cell_type": "code",
   "execution_count": 40,
   "id": "5142c50e",
   "metadata": {
    "ExecuteTime": {
     "end_time": "2022-03-06T16:16:35.650164Z",
     "start_time": "2022-03-06T16:16:29.530537Z"
    },
    "id": "lesbian-fields"
   },
   "outputs": [
    {
     "name": "stdout",
     "output_type": "stream",
     "text": [
      "meta_clf:DecisionTreeClassifier                       0.9006    \n"
     ]
    }
   ],
   "source": [
    "### BEGIN Solution (do not delete this comment)\n",
    "meta_clf = DecisionTreeClassifier( max_depth = 20, random_state=0x0C0FFEE ) #the same as clf3\n",
    "meta_clf.fit(X_train, y_train)\n",
    "meta_y_pred = meta_clf.predict(X_test)\n",
    "meta_accuracy = accuracy_score(y_true=y_test, y_pred=meta_y_pred)\n",
    "print('{:<8}:{:<45}{:<10.4}'.format('meta_clf',type(meta_clf).__name__,meta_accuracy))\n",
    "### END Solution (do not delete this comment)"
   ]
  },
  {
   "cell_type": "markdown",
   "id": "76e534e7",
   "metadata": {
    "id": "horizontal-wallace"
   },
   "source": [
    "**3.2.2) Train the metaclassifier on the base models using $n$-fold cross-validation, as described above. Report the training score of the meta-classifier on the $ n $-th fold. Retrain the base models on the whole training set. Report the test score (accuracy) of the meta-classifier in this case.**"
   ]
  },
  {
   "cell_type": "code",
   "execution_count": 73,
   "id": "d894ba89",
   "metadata": {
    "ExecuteTime": {
     "end_time": "2022-03-07T05:57:22.415307Z",
     "start_time": "2022-03-07T05:57:05.206684Z"
    },
    "collapsed": true,
    "id": "renewable-concrete"
   },
   "outputs": [
    {
     "name": "stdout",
     "output_type": "stream",
     "text": [
      "training score of the meta-classifier on the 7-th fold: 0.49436758298026146\n"
     ]
    },
    {
     "ename": "ValueError",
     "evalue": "could not broadcast input array from shape (232405,) into shape (348607,)",
     "output_type": "error",
     "traceback": [
      "\u001b[1;31m---------------------------------------------------------------------------\u001b[0m",
      "\u001b[1;31mValueError\u001b[0m                                Traceback (most recent call last)",
      "\u001b[1;32m~\\AppData\\Local\\Temp/ipykernel_12216/1331364991.py\u001b[0m in \u001b[0;36m<module>\u001b[1;34m\u001b[0m\n\u001b[0;32m      1\u001b[0m \u001b[1;31m### BEGIN Solution (do not delete this comment)\u001b[0m\u001b[1;33m\u001b[0m\u001b[1;33m\u001b[0m\u001b[0m\n\u001b[0;32m      2\u001b[0m \u001b[1;33m\u001b[0m\u001b[0m\n\u001b[1;32m----> 3\u001b[1;33m \u001b[0my_pred\u001b[0m\u001b[1;33m,\u001b[0m \u001b[0m_\u001b[0m \u001b[1;33m=\u001b[0m \u001b[0mmeta_classifier\u001b[0m\u001b[1;33m(\u001b[0m\u001b[0mclfs\u001b[0m\u001b[1;33m,\u001b[0m \u001b[0mmeta_clf\u001b[0m\u001b[1;33m,\u001b[0m \u001b[0mX_train\u001b[0m\u001b[1;33m,\u001b[0m \u001b[0mX_test\u001b[0m\u001b[1;33m,\u001b[0m \u001b[0my_train\u001b[0m\u001b[1;33m,\u001b[0m  \u001b[1;36m7\u001b[0m\u001b[1;33m)\u001b[0m\u001b[1;33m\u001b[0m\u001b[1;33m\u001b[0m\u001b[0m\n\u001b[0m\u001b[0;32m      4\u001b[0m \u001b[0mprint\u001b[0m\u001b[1;33m(\u001b[0m\u001b[1;34mf'Metaclassifier score for retrained models: {accuracy_score(y_test, y_pred)}'\u001b[0m\u001b[1;33m)\u001b[0m\u001b[1;33m\u001b[0m\u001b[1;33m\u001b[0m\u001b[0m\n\u001b[0;32m      5\u001b[0m \u001b[1;33m\u001b[0m\u001b[0m\n",
      "\u001b[1;32m~\\AppData\\Local\\Temp/ipykernel_12216/1946470641.py\u001b[0m in \u001b[0;36mmeta_classifier\u001b[1;34m(base_clfs, final_classifier, X_train, X_test, y_train, cv)\u001b[0m\n\u001b[0;32m     50\u001b[0m     \u001b[1;32mfor\u001b[0m \u001b[0mi\u001b[0m\u001b[1;33m,\u001b[0m\u001b[0mclf\u001b[0m \u001b[1;32min\u001b[0m \u001b[0menumerate\u001b[0m\u001b[1;33m(\u001b[0m\u001b[0mbase_clfs\u001b[0m\u001b[1;33m)\u001b[0m\u001b[1;33m:\u001b[0m\u001b[1;33m\u001b[0m\u001b[1;33m\u001b[0m\u001b[0m\n\u001b[0;32m     51\u001b[0m         \u001b[0mclf\u001b[0m\u001b[1;33m.\u001b[0m\u001b[0mfit\u001b[0m\u001b[1;33m(\u001b[0m\u001b[0mX_train\u001b[0m\u001b[1;33m,\u001b[0m\u001b[0my_train\u001b[0m\u001b[1;33m)\u001b[0m\u001b[1;33m\u001b[0m\u001b[1;33m\u001b[0m\u001b[0m\n\u001b[1;32m---> 52\u001b[1;33m         \u001b[0mX_train_meta2\u001b[0m\u001b[1;33m[\u001b[0m\u001b[1;33m:\u001b[0m\u001b[1;33m,\u001b[0m\u001b[0mi\u001b[0m\u001b[1;33m]\u001b[0m \u001b[1;33m=\u001b[0m \u001b[0mclf\u001b[0m\u001b[1;33m.\u001b[0m\u001b[0mpredict\u001b[0m\u001b[1;33m(\u001b[0m\u001b[0mX_test\u001b[0m\u001b[1;33m)\u001b[0m\u001b[1;33m\u001b[0m\u001b[1;33m\u001b[0m\u001b[0m\n\u001b[0m\u001b[0;32m     53\u001b[0m \u001b[1;33m\u001b[0m\u001b[0m\n\u001b[0;32m     54\u001b[0m     \u001b[0my_pred\u001b[0m \u001b[1;33m=\u001b[0m \u001b[0mfinal_classifier\u001b[0m\u001b[1;33m.\u001b[0m\u001b[0mpredict\u001b[0m\u001b[1;33m(\u001b[0m\u001b[0mX_train_meta2\u001b[0m\u001b[1;33m)\u001b[0m\u001b[1;33m\u001b[0m\u001b[1;33m\u001b[0m\u001b[0m\n",
      "\u001b[1;31mValueError\u001b[0m: could not broadcast input array from shape (232405,) into shape (348607,)"
     ]
    }
   ],
   "source": [
    "### BEGIN Solution (do not delete this comment)\n",
    "\n",
    "y_pred, _ = meta_classifier(clfs, meta_clf, X_train, X_test, y_train,  7)\n",
    "print(f'Metaclassifier score for retrained models: {accuracy_score(y_test, y_pred)}')\n",
    "\n",
    "### END Solution (do not delete this comment)"
   ]
  },
  {
   "cell_type": "markdown",
   "id": "6358d2df",
   "metadata": {
    "id": "printable-premium"
   },
   "source": [
    "**3.2.3) Report score(accuracy) on test.**"
   ]
  },
  {
   "cell_type": "code",
   "execution_count": null,
   "id": "0d031d40",
   "metadata": {
    "id": "auburn-easter"
   },
   "outputs": [],
   "source": [
    "### BEGIN Solution (do not delete this comment)\n",
    "\n",
    "### END Solution (do not delete this comment)"
   ]
  },
  {
   "cell_type": "markdown",
   "id": "5bc151b5",
   "metadata": {
    "id": "premier-scout"
   },
   "source": [
    "**3.2.4) Does stacking helped to gain a better score?**"
   ]
  },
  {
   "cell_type": "markdown",
   "id": "d085ef69",
   "metadata": {
    "id": "vSV5hJFR7RS-"
   },
   "source": [
    "**Your text answer (do not delete this comment)**:\n",
    "\n",
    "\\<write your answer\\>"
   ]
  },
  {
   "cell_type": "code",
   "execution_count": null,
   "id": "ed87454c",
   "metadata": {
    "id": "offensive-parts"
   },
   "outputs": [],
   "source": []
  }
 ],
 "metadata": {
  "colab": {
   "name": "ML_HW_2.ipynb",
   "provenance": []
  },
  "kernelspec": {
   "display_name": "Python 3 (ipykernel)",
   "language": "python",
   "name": "python3"
  },
  "language_info": {
   "codemirror_mode": {
    "name": "ipython",
    "version": 3
   },
   "file_extension": ".py",
   "mimetype": "text/x-python",
   "name": "python",
   "nbconvert_exporter": "python",
   "pygments_lexer": "ipython3",
   "version": "3.9.7"
  },
  "notify_time": "5",
  "varInspector": {
   "cols": {
    "lenName": 16,
    "lenType": 16,
    "lenVar": 40
   },
   "kernels_config": {
    "python": {
     "delete_cmd_postfix": "",
     "delete_cmd_prefix": "del ",
     "library": "var_list.py",
     "varRefreshCmd": "print(var_dic_list())"
    },
    "r": {
     "delete_cmd_postfix": ") ",
     "delete_cmd_prefix": "rm(",
     "library": "var_list.r",
     "varRefreshCmd": "cat(var_dic_list()) "
    }
   },
   "types_to_exclude": [
    "module",
    "function",
    "builtin_function_or_method",
    "instance",
    "_Feature"
   ],
   "window_display": false
  }
 },
 "nbformat": 4,
 "nbformat_minor": 5
}
